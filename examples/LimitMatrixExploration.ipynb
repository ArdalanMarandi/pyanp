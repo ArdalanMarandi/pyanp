{
 "cells": [
  {
   "cell_type": "markdown",
   "metadata": {},
   "source": [
    "# Checking limit matrix ideas\n",
    "Here I check if the calculus formula and the identity at sinks are the same.  Spolier, they are not.  This is very interesting, because the standard theory suggests to use the identity at sinks formula, and yet that changes the structure of the model.  The calculus type calculation does not do that."
   ]
  },
  {
   "cell_type": "code",
   "execution_count": 81,
   "metadata": {},
   "outputs": [],
   "source": [
    "import sys\n",
    "sys.path.insert(0, \"../\")\n",
    "from pyanp.limitmatrix import *\n",
    "import numpy as np\n",
    "from copy import deepcopy\n",
    "from pprint import pprint"
   ]
  },
  {
   "cell_type": "markdown",
   "metadata": {},
   "source": [
    "# First example"
   ]
  },
  {
   "cell_type": "code",
   "execution_count": 93,
   "metadata": {},
   "outputs": [],
   "source": [
    "mat1 = np.array([\n",
    "    [1.,2.,0, 0],\n",
    "    [3.,2.,0, 0],\n",
    "    [5.,8.,0,0],\n",
    "    [1.,1.,0,0]\n",
    "])\n",
    "normalize(mat1, inplace=True)"
   ]
  },
  {
   "cell_type": "code",
   "execution_count": 94,
   "metadata": {},
   "outputs": [
    {
     "data": {
      "text/plain": [
       "array([[0.1       , 0.15384615, 0.        , 0.        ],\n",
       "       [0.3       , 0.15384615, 0.        , 0.        ],\n",
       "       [0.5       , 0.61538462, 0.        , 0.        ],\n",
       "       [0.1       , 0.07692308, 0.        , 0.        ]])"
      ]
     },
     "execution_count": 94,
     "metadata": {},
     "output_type": "execute_result"
    }
   ],
   "source": [
    "mat1"
   ]
  },
  {
   "cell_type": "code",
   "execution_count": 100,
   "metadata": {},
   "outputs": [
    {
     "data": {
      "text/plain": [
       "(6.646935890075139, 6.64693589007514)"
      ]
     },
     "execution_count": 100,
     "metadata": {},
     "output_type": "execute_result"
    }
   ],
   "source": [
    "lm1=calculus(mat1)\n",
    "# In order to compare them, I will look at the ratio of the last two elements\n",
    "lm1[2,0]/lm1[3,0] , lm1[2,1]/lm1[3,1]"
   ]
  },
  {
   "cell_type": "code",
   "execution_count": 101,
   "metadata": {},
   "outputs": [
    {
     "data": {
      "text/plain": [
       "array([[0.1       , 0.15384615, 0.        , 0.        ],\n",
       "       [0.3       , 0.15384615, 0.        , 0.        ],\n",
       "       [0.5       , 0.61538462, 1.        , 0.        ],\n",
       "       [0.1       , 0.07692308, 0.        , 1.        ]])"
      ]
     },
     "execution_count": 101,
     "metadata": {},
     "output_type": "execute_result"
    }
   ],
   "source": [
    "mat1a = deepcopy(mat1)\n",
    "mat1a[3,3]=1\n",
    "mat1a[2,2]=1\n",
    "mat1a"
   ]
  },
  {
   "cell_type": "code",
   "execution_count": 102,
   "metadata": {},
   "outputs": [],
   "source": [
    "lm1a=calculus(mat1a)"
   ]
  },
  {
   "cell_type": "code",
   "execution_count": 103,
   "metadata": {},
   "outputs": [
    {
     "name": "stdout",
     "output_type": "stream",
     "text": [
      "[[3.40003196e-239 2.75898958e-239 0.00000000e+000 0.00000000e+000]\n",
      " [5.38002967e-239 4.36567831e-239 0.00000000e+000 0.00000000e+000]\n",
      " [8.49462366e-001 8.81720430e-001 1.00000000e+000 0.00000000e+000]\n",
      " [1.50537634e-001 1.18279570e-001 0.00000000e+000 1.00000000e+000]]\n"
     ]
    }
   ],
   "source": [
    "print(lm1a)"
   ]
  },
  {
   "cell_type": "code",
   "execution_count": 104,
   "metadata": {},
   "outputs": [
    {
     "data": {
      "text/plain": [
       "(5.642857142857143, 7.454545454545453, 6.548701298701298, 6.485748612530019)"
      ]
     },
     "execution_count": 104,
     "metadata": {},
     "output_type": "execute_result"
    }
   ],
   "source": [
    "a, b = lm1a[2,0]/lm1a[3,0] , lm1a[2,1]/lm1a[3,1]\n",
    "a, b, (a+b)/2, (a*b)**(0.5)"
   ]
  },
  {
   "cell_type": "markdown",
   "metadata": {},
   "source": [
    "The ratios of the last two element do not match, and since the columns themselves do not match, I go ahead and take the arithmetic and geometric mean.  None of the values for this identity at sinks form matches the calculus type ratios from a few cells up"
   ]
  },
  {
   "cell_type": "markdown",
   "metadata": {},
   "source": [
    "# Matrix 2\n",
    "Same analysis, we have 2 sinks/alternatives just larger matrices"
   ]
  },
  {
   "cell_type": "code",
   "execution_count": 109,
   "metadata": {},
   "outputs": [
    {
     "data": {
      "text/plain": [
       "array([[2.16876200e-01, 2.08317616e-01, 5.04309754e-05, 9.90572803e-02,\n",
       "        0.00000000e+00, 0.00000000e+00],\n",
       "       [9.68663679e-02, 9.99360532e-02, 1.74945597e-01, 1.76539761e-01,\n",
       "        0.00000000e+00, 0.00000000e+00],\n",
       "       [1.06327308e-01, 2.53951285e-01, 1.20759366e-02, 2.19674273e-01,\n",
       "        0.00000000e+00, 0.00000000e+00],\n",
       "       [7.30095426e-02, 5.72908881e-02, 3.53070113e-01, 3.17244541e-01,\n",
       "        0.00000000e+00, 0.00000000e+00],\n",
       "       [4.55774389e-01, 2.58719965e-01, 3.74983115e-02, 1.27960430e-02,\n",
       "        0.00000000e+00, 0.00000000e+00],\n",
       "       [5.11461923e-02, 1.21784192e-01, 4.22359611e-01, 1.74688101e-01,\n",
       "        0.00000000e+00, 0.00000000e+00]])"
      ]
     },
     "execution_count": 109,
     "metadata": {},
     "output_type": "execute_result"
    }
   ],
   "source": [
    "np.random.seed(1)\n",
    "mat2 = np.random.rand(6,6)\n",
    "mat2[:,4]=0\n",
    "mat2[:,5]=0\n",
    "normalize(mat2)"
   ]
  },
  {
   "cell_type": "code",
   "execution_count": 110,
   "metadata": {},
   "outputs": [
    {
     "name": "stdout",
     "output_type": "stream",
     "text": [
      "[[0.12385727 0.12385727 0.12385727 0.12385727 0.         0.        ]\n",
      " [0.14431263 0.14431263 0.14431263 0.14431263 0.         0.        ]\n",
      " [0.1696395  0.1696395  0.1696395  0.1696395  0.         0.        ]\n",
      " [0.22019525 0.22019525 0.22019525 0.22019525 0.         0.        ]\n",
      " [0.14530818 0.14530818 0.14530818 0.14530818 0.         0.        ]\n",
      " [0.19668716 0.19668716 0.19668716 0.19668716 0.         0.        ]]\n"
     ]
    },
    {
     "data": {
      "text/plain": [
       "1.353586329606328"
      ]
     },
     "execution_count": 110,
     "metadata": {},
     "output_type": "execute_result"
    }
   ],
   "source": [
    "lm2 = calculus(mat2)\n",
    "print(lm2)\n",
    "lm2[5,0]/lm2[4,0]"
   ]
  },
  {
   "cell_type": "code",
   "execution_count": 111,
   "metadata": {},
   "outputs": [
    {
     "name": "stdout",
     "output_type": "stream",
     "text": [
      "[[2.16876200e-01 2.08317616e-01 5.04309754e-05 9.90572803e-02\n",
      "  0.00000000e+00 0.00000000e+00]\n",
      " [9.68663679e-02 9.99360532e-02 1.74945597e-01 1.76539761e-01\n",
      "  0.00000000e+00 0.00000000e+00]\n",
      " [1.06327308e-01 2.53951285e-01 1.20759366e-02 2.19674273e-01\n",
      "  0.00000000e+00 0.00000000e+00]\n",
      " [7.30095426e-02 5.72908881e-02 3.53070113e-01 3.17244541e-01\n",
      "  0.00000000e+00 0.00000000e+00]\n",
      " [4.55774389e-01 2.58719965e-01 3.74983115e-02 1.27960430e-02\n",
      "  1.00000000e+00 0.00000000e+00]\n",
      " [5.11461923e-02 1.21784192e-01 4.22359611e-01 1.74688101e-01\n",
      "  0.00000000e+00 1.00000000e+00]]\n"
     ]
    }
   ],
   "source": [
    "mat2a = deepcopy(mat2)\n",
    "mat2a[4,4]=mat2a[5,5]=1\n",
    "normalize(mat2a, inplace=True)\n",
    "print(mat2a)"
   ]
  },
  {
   "cell_type": "code",
   "execution_count": 112,
   "metadata": {},
   "outputs": [
    {
     "data": {
      "text/plain": [
       "(0.39344975427446277,\n",
       " 0.8215047624221458,\n",
       " 0.6074772583483042,\n",
       " 0.5685251506400523)"
      ]
     },
     "execution_count": 112,
     "metadata": {},
     "output_type": "execute_result"
    }
   ],
   "source": [
    "lm2a = calculus(mat2a)\n",
    "a,b =lm2a[5,0]/lm2a[4,0], lm2a[5,1]/lm2a[4,1]\n",
    "a, b, (a+b)/2, (a*b)**(0.5)"
   ]
  },
  {
   "cell_type": "code",
   "execution_count": 116,
   "metadata": {},
   "outputs": [
    {
     "name": "stdout",
     "output_type": "stream",
     "text": [
      "[[0.      0.      0.      0.      0.      0.     ]\n",
      " [0.      0.      0.      0.      0.      0.     ]\n",
      " [0.      0.      0.      0.      0.      0.     ]\n",
      " [0.      0.      0.      0.      0.      0.     ]\n",
      " [0.71764 0.549   0.25972 0.34838 1.      0.     ]\n",
      " [0.28236 0.451   0.74028 0.65162 0.      1.     ]]\n"
     ]
    }
   ],
   "source": [
    "print(lm2a.round(5))"
   ]
  },
  {
   "cell_type": "code",
   "execution_count": 114,
   "metadata": {},
   "outputs": [
    {
     "data": {
      "text/plain": [
       "1.1336519586924982"
      ]
     },
     "execution_count": 114,
     "metadata": {},
     "output_type": "execute_result"
    }
   ],
   "source": [
    "col = lm2a[:,0]+lm2a[:,1]+lm2a[:,2]+lm2a[:,3]\n",
    "col /= 4\n",
    "col = col.round(5)\n",
    "col[-1]/col[-2]"
   ]
  },
  {
   "cell_type": "code",
   "execution_count": 115,
   "metadata": {},
   "outputs": [
    {
     "data": {
      "text/plain": [
       "1.1457240173064531"
      ]
     },
     "execution_count": 115,
     "metadata": {},
     "output_type": "execute_result"
    }
   ],
   "source": [
    "col = lm2a[:,0]*lm2a[:,1]*lm2a[:,2]*lm2a[:,3]\n",
    "col = col ** (0.25)\n",
    "col = col.round(5)\n",
    "col[-1]/col[-2]"
   ]
  },
  {
   "cell_type": "markdown",
   "metadata": {},
   "source": [
    "Another example where they do not match.  Even weirder, look at how different the columns are in the limit matrix!"
   ]
  },
  {
   "cell_type": "code",
   "execution_count": 118,
   "metadata": {},
   "outputs": [
    {
     "data": {
      "text/plain": [
       "array([[0.     , 0.     , 0.     , 0.     , 0.     , 0.     ],\n",
       "       [0.     , 0.     , 0.     , 0.     , 0.     , 0.     ],\n",
       "       [0.     , 0.     , 0.     , 0.     , 0.     , 0.     ],\n",
       "       [0.     , 0.     , 0.     , 0.     , 0.     , 0.     ],\n",
       "       [0.71764, 0.549  , 0.25972, 0.34838, 1.     , 0.     ],\n",
       "       [0.28236, 0.451  , 0.74028, 0.65162, 0.     , 1.     ]])"
      ]
     },
     "execution_count": 118,
     "metadata": {},
     "output_type": "execute_result"
    }
   ],
   "source": [
    "np.matmul(mat2a, lm2a).round(5)"
   ]
  },
  {
   "cell_type": "markdown",
   "metadata": {},
   "source": [
    "Note that the matrix has indeed converged, for any who doubt :)"
   ]
  },
  {
   "cell_type": "code",
   "execution_count": null,
   "metadata": {},
   "outputs": [],
   "source": []
  }
 ],
 "metadata": {
  "kernelspec": {
   "display_name": "Python 3",
   "language": "python",
   "name": "python3"
  },
  "language_info": {
   "codemirror_mode": {
    "name": "ipython",
    "version": 3
   },
   "file_extension": ".py",
   "mimetype": "text/x-python",
   "name": "python",
   "nbconvert_exporter": "python",
   "pygments_lexer": "ipython3",
   "version": "3.6.5"
  },
  "toc": {
   "base_numbering": 1,
   "nav_menu": {},
   "number_sections": true,
   "sideBar": true,
   "skip_h1_title": false,
   "title_cell": "Table of Contents",
   "title_sidebar": "Contents",
   "toc_cell": false,
   "toc_position": {},
   "toc_section_display": true,
   "toc_window_display": false
  }
 },
 "nbformat": 4,
 "nbformat_minor": 2
}
