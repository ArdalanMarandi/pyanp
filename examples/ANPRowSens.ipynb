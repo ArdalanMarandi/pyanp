{
 "cells": [
  {
   "cell_type": "markdown",
   "metadata": {},
   "source": [
    "# ANP row sensitivity calculations in `pyanp`"
   ]
  },
  {
   "cell_type": "markdown",
   "metadata": {},
   "source": [
    "## First we import"
   ]
  },
  {
   "cell_type": "code",
   "execution_count": 1,
   "metadata": {},
   "outputs": [],
   "source": [
    "import pandas as pd\n",
    "import numpy as np\n",
    "import sys\n",
    "sys.path.insert(0, \"../\")\n",
    "from pyanp import rowsens"
   ]
  },
  {
   "cell_type": "code",
   "execution_count": 2,
   "metadata": {},
   "outputs": [
    {
     "name": "stdout",
     "output_type": "stream",
     "text": [
      "Populating the interactive namespace from numpy and matplotlib\n"
     ]
    }
   ],
   "source": [
    "%pylab inline"
   ]
  },
  {
   "cell_type": "code",
   "execution_count": 3,
   "metadata": {},
   "outputs": [],
   "source": [
    "pylab.rcParams['figure.figsize'] = (12, 7.5)"
   ]
  },
  {
   "cell_type": "code",
   "execution_count": 4,
   "metadata": {},
   "outputs": [],
   "source": [
    "np.set_printoptions(suppress=True, precision=4)"
   ]
  },
  {
   "cell_type": "markdown",
   "metadata": {},
   "source": [
    "# First calculations"
   ]
  },
  {
   "cell_type": "markdown",
   "metadata": {},
   "source": [
    "## Read in matrix from an Excel sheet"
   ]
  },
  {
   "cell_type": "code",
   "execution_count": 5,
   "metadata": {},
   "outputs": [
    {
     "data": {
      "text/plain": [
       "array([[0.5 , 0.1 , 0.  , 0.  ],\n",
       "       [0.2 , 0.6 , 0.  , 0.  ],\n",
       "       [0.1 , 0.05, 0.75, 0.1 ],\n",
       "       [0.2 , 0.25, 0.25, 0.9 ]])"
      ]
     },
     "metadata": {},
     "output_type": "display_data"
    }
   ],
   "source": [
    "# CSV/sheet sheet with no headers, handle this way\n",
    "mat4 = rowsens.get_matrix(\"supermatrix4x4.csv\")\n",
    "display(mat4)"
   ]
  },
  {
   "cell_type": "code",
   "execution_count": 6,
   "metadata": {},
   "outputs": [
    {
     "data": {
      "text/plain": [
       "array([[0.5 , 0.1 , 0.  , 0.  ],\n",
       "       [0.2 , 0.6 , 0.  , 0.  ],\n",
       "       [0.1 , 0.05, 0.75, 0.1 ],\n",
       "       [0.2 , 0.25, 0.25, 0.9 ]])"
      ]
     },
     "metadata": {},
     "output_type": "display_data"
    }
   ],
   "source": [
    "# Excel sheet with headers, handle same way\n",
    "mat4 = rowsens.get_matrix(\"supermatrix4x4-headers.csv\")\n",
    "display(mat4)"
   ]
  },
  {
   "cell_type": "code",
   "execution_count": 7,
   "metadata": {},
   "outputs": [
    {
     "data": {
      "text/plain": [
       "array([[0.5 , 0.1 , 0.  , 0.  ],\n",
       "       [0.2 , 0.6 , 0.  , 0.  ],\n",
       "       [0.1 , 0.05, 0.75, 0.1 ],\n",
       "       [0.2 , 0.25, 0.25, 0.9 ]])"
      ]
     },
     "execution_count": 7,
     "metadata": {},
     "output_type": "execute_result"
    }
   ],
   "source": [
    "#Directly inputting the same matrix\n",
    "mat4 = np.array([[0.5 , 0.1 , 0.  , 0.  ],\n",
    "       [0.2 , 0.6 , 0.  , 0.  ],\n",
    "       [0.1 , 0.05, 0.75, 0.1 ],\n",
    "       [0.2 , 0.25, 0.25, 0.9 ]])\n",
    "mat4"
   ]
  },
  {
   "cell_type": "markdown",
   "metadata": {},
   "source": [
    "## Calculate row adjust matrix"
   ]
  },
  {
   "cell_type": "code",
   "execution_count": 8,
   "metadata": {},
   "outputs": [
    {
     "data": {
      "text/plain": [
       "array([[0.5 , 0.1 , 0.  , 0.  ],\n",
       "       [0.2 , 0.6 , 0.  , 0.  ],\n",
       "       [0.1 , 0.05, 0.75, 0.1 ],\n",
       "       [0.2 , 0.25, 0.25, 0.9 ]])"
      ]
     },
     "execution_count": 8,
     "metadata": {},
     "output_type": "execute_result"
    }
   ],
   "source": [
    "rowsens.row_adjust(mat=mat4, row=1, p=0.5, p0mode=0.5)"
   ]
  },
  {
   "cell_type": "code",
   "execution_count": 9,
   "metadata": {},
   "outputs": [
    {
     "data": {
      "text/plain": [
       "array([[0.1   , 0.02  , 0.    , 0.    ],\n",
       "       [0.36  , 0.6533, 0.    , 0.    ],\n",
       "       [0.18  , 0.0544, 0.75  , 0.1   ],\n",
       "       [0.36  , 0.2722, 0.25  , 0.9   ]])"
      ]
     },
     "execution_count": 9,
     "metadata": {},
     "output_type": "execute_result"
    }
   ],
   "source": [
    "rowsens.row_adjust(mat=mat4, row=0, p=0.1, p0mode=0.5)"
   ]
  },
  {
   "cell_type": "code",
   "execution_count": 10,
   "metadata": {},
   "outputs": [
    {
     "data": {
      "text/plain": [
       "array([[0.1   , 0.02  , 0.    , 0.    ],\n",
       "       [0.36  , 0.6533, 0.    , 0.    ],\n",
       "       [0.18  , 0.0544, 0.75  , 0.1   ],\n",
       "       [0.36  , 0.2722, 0.25  , 0.9   ]])"
      ]
     },
     "execution_count": 10,
     "metadata": {},
     "output_type": "execute_result"
    }
   ],
   "source": [
    "rowsens.row_adjust(mat=mat4, row=0, p=0.1, p0mode=0.5)"
   ]
  },
  {
   "cell_type": "code",
   "execution_count": 11,
   "metadata": {},
   "outputs": [
    {
     "data": {
      "text/plain": [
       "array([[0.1 , 0.02, 0.  , 0.  ],\n",
       "       [0.6 , 0.68, 0.  , 0.  ],\n",
       "       [0.1 , 0.05, 0.75, 0.1 ],\n",
       "       [0.2 , 0.25, 0.25, 0.9 ]])"
      ]
     },
     "execution_count": 11,
     "metadata": {},
     "output_type": "execute_result"
    }
   ],
   "source": [
    "rowsens.row_adjust(mat=mat4, row=0, p=0.1, p0mode=0.5, cluster_nodes=(0,1))"
   ]
  },
  {
   "cell_type": "code",
   "execution_count": 12,
   "metadata": {},
   "outputs": [
    {
     "data": {
      "text/plain": [
       "array([[0.76  , 0.7125, 0.    , 0.    ],\n",
       "       [0.0267, 0.0346, 0.    , 0.    ],\n",
       "       [0.0133, 0.0029, 0.75  , 0.1   ],\n",
       "       [0.2   , 0.25  , 0.25  , 0.9   ]])"
      ]
     },
     "execution_count": 12,
     "metadata": {},
     "output_type": "execute_result"
    }
   ],
   "source": [
    "rowsens.row_adjust(mat=mat4, row=0, p=0.95, cluster_nodes=(0,1,2))"
   ]
  },
  {
   "cell_type": "code",
   "execution_count": 13,
   "metadata": {},
   "outputs": [
    {
     "data": {
      "text/plain": [
       "array([[0.1788, 0.076 , 0.    , 0.    ],\n",
       "       [0.3285, 0.616 , 0.    , 0.    ],\n",
       "       [0.1642, 0.0513, 0.75  , 0.1   ],\n",
       "       [0.3285, 0.2567, 0.25  , 0.9   ]])"
      ]
     },
     "execution_count": 13,
     "metadata": {},
     "output_type": "execute_result"
    }
   ],
   "source": [
    "rowsens.row_adjust(mat=mat4, row=0, p=0.1, p0mode=0)"
   ]
  },
  {
   "cell_type": "code",
   "execution_count": 14,
   "metadata": {},
   "outputs": [
    {
     "data": {
      "text/plain": [
       "array([[0.1109, 0.0692, 0.    , 0.    ],\n",
       "       [0.5891, 0.6308, 0.    , 0.    ],\n",
       "       [0.1   , 0.05  , 0.75  , 0.1   ],\n",
       "       [0.2   , 0.25  , 0.25  , 0.9   ]])"
      ]
     },
     "execution_count": 14,
     "metadata": {},
     "output_type": "execute_result"
    }
   ],
   "source": [
    "rowsens.row_adjust(mat=mat4, row=0, p=0.1, p0mode=0, cluster_nodes=(0,1))"
   ]
  },
  {
   "cell_type": "markdown",
   "metadata": {},
   "source": [
    "## Calculate row adjusted priorities"
   ]
  },
  {
   "cell_type": "code",
   "execution_count": 15,
   "metadata": {},
   "outputs": [
    {
     "data": {
      "text/plain": [
       "array([[0.5 , 0.1 , 0.1 , 0.2 ],\n",
       "       [0.2 , 0.6 , 0.3 , 0.2 ],\n",
       "       [0.1 , 0.05, 0.3 , 0.1 ],\n",
       "       [0.2 , 0.25, 0.3 , 0.5 ]])"
      ]
     },
     "metadata": {},
     "output_type": "display_data"
    },
    {
     "data": {
      "text/plain": [
       "array([[0.2209, 0.2209, 0.2209, 0.2209],\n",
       "       [0.3505, 0.3505, 0.3505, 0.3505],\n",
       "       [0.1031, 0.1031, 0.1031, 0.1031],\n",
       "       [0.3255, 0.3255, 0.3255, 0.3255]])"
      ]
     },
     "metadata": {},
     "output_type": "display_data"
    },
    {
     "data": {
      "text/plain": [
       "array([0.2209, 0.3505, 0.1031, 0.3255])"
      ]
     },
     "metadata": {},
     "output_type": "display_data"
    }
   ],
   "source": [
    "mat42 = rowsens.get_matrix(\"supermatrix4x4-2.csv\")\n",
    "# Go ahead and show me the actual priorities\n",
    "display(mat42)\n",
    "display(rowsens.calculus(mat42))\n",
    "display(rowsens.priority(mat42))"
   ]
  },
  {
   "cell_type": "code",
   "execution_count": 16,
   "metadata": {},
   "outputs": [
    {
     "data": {
      "text/plain": [
       "array([[0.5 , 0.1 , 0.1 , 0.2 ],\n",
       "       [0.2 , 0.6 , 0.3 , 0.2 ],\n",
       "       [0.1 , 0.05, 0.3 , 0.1 ],\n",
       "       [0.2 , 0.25, 0.3 , 0.5 ]])"
      ]
     },
     "execution_count": 16,
     "metadata": {},
     "output_type": "execute_result"
    }
   ],
   "source": [
    "rowsens.row_adjust(mat=mat42, row=1, p=0.5, p0mode=0.5)"
   ]
  },
  {
   "cell_type": "code",
   "execution_count": 17,
   "metadata": {},
   "outputs": [
    {
     "data": {
      "text/plain": [
       "array([0.0308, 0.3479, 0.0947, 0.3364])"
      ]
     },
     "execution_count": 17,
     "metadata": {},
     "output_type": "execute_result"
    }
   ],
   "source": [
    "rowsens.row_adjust_priority(mat=mat42, row=0, p=0.1, p0mode=0.5)"
   ]
  },
  {
   "cell_type": "code",
   "execution_count": 18,
   "metadata": {},
   "outputs": [
    {
     "data": {
      "text/plain": [
       "array([0.1158, 0.3511, 0.0998, 0.3282])"
      ]
     },
     "execution_count": 18,
     "metadata": {},
     "output_type": "execute_result"
    }
   ],
   "source": [
    "rowsens.row_adjust_priority(mat=mat42, row=0, p=0.1, p0mode=0)"
   ]
  },
  {
   "cell_type": "markdown",
   "metadata": {},
   "source": [
    "## Row sensitivity table"
   ]
  },
  {
   "cell_type": "code",
   "execution_count": 30,
   "metadata": {},
   "outputs": [
    {
     "data": {
      "text/html": [
       "<div>\n",
       "<style scoped>\n",
       "    .dataframe tbody tr th:only-of-type {\n",
       "        vertical-align: middle;\n",
       "    }\n",
       "\n",
       "    .dataframe tbody tr th {\n",
       "        vertical-align: top;\n",
       "    }\n",
       "\n",
       "    .dataframe thead th {\n",
       "        text-align: right;\n",
       "    }\n",
       "</style>\n",
       "<table border=\"1\" class=\"dataframe\">\n",
       "  <thead>\n",
       "    <tr style=\"text-align: right;\">\n",
       "      <th></th>\n",
       "      <th>x</th>\n",
       "      <th>Node 1</th>\n",
       "      <th>Node 2</th>\n",
       "      <th>Node 3</th>\n",
       "    </tr>\n",
       "  </thead>\n",
       "  <tbody>\n",
       "    <tr>\n",
       "      <th>0</th>\n",
       "      <td>0.05</td>\n",
       "      <td>0.446071</td>\n",
       "      <td>0.120199</td>\n",
       "      <td>0.433730</td>\n",
       "    </tr>\n",
       "    <tr>\n",
       "      <th>1</th>\n",
       "      <td>0.25</td>\n",
       "      <td>0.447966</td>\n",
       "      <td>0.125667</td>\n",
       "      <td>0.426366</td>\n",
       "    </tr>\n",
       "    <tr>\n",
       "      <th>2</th>\n",
       "      <td>0.45</td>\n",
       "      <td>0.449553</td>\n",
       "      <td>0.131009</td>\n",
       "      <td>0.419438</td>\n",
       "    </tr>\n",
       "    <tr>\n",
       "      <th>3</th>\n",
       "      <td>0.55</td>\n",
       "      <td>0.443208</td>\n",
       "      <td>0.140904</td>\n",
       "      <td>0.415887</td>\n",
       "    </tr>\n",
       "    <tr>\n",
       "      <th>4</th>\n",
       "      <td>0.75</td>\n",
       "      <td>0.420877</td>\n",
       "      <td>0.170626</td>\n",
       "      <td>0.408498</td>\n",
       "    </tr>\n",
       "    <tr>\n",
       "      <th>5</th>\n",
       "      <td>0.95</td>\n",
       "      <td>0.403701</td>\n",
       "      <td>0.194678</td>\n",
       "      <td>0.401620</td>\n",
       "    </tr>\n",
       "  </tbody>\n",
       "</table>\n",
       "</div>"
      ],
      "text/plain": [
       "      x    Node 1    Node 2    Node 3\n",
       "0  0.05  0.446071  0.120199  0.433730\n",
       "1  0.25  0.447966  0.125667  0.426366\n",
       "2  0.45  0.449553  0.131009  0.419438\n",
       "3  0.55  0.443208  0.140904  0.415887\n",
       "4  0.75  0.420877  0.170626  0.408498\n",
       "5  0.95  0.403701  0.194678  0.401620"
      ]
     },
     "execution_count": 30,
     "metadata": {},
     "output_type": "execute_result"
    }
   ],
   "source": [
    "rowsens.influence_table(mat=mat42, row=0, p0mode=0.5, pvals=[0.05, 0.25, 0.45, 0.55, 0.75, 0.95], graph=False)"
   ]
  },
  {
   "cell_type": "code",
   "execution_count": 35,
   "metadata": {},
   "outputs": [
    {
     "data": {
      "text/plain": [
       "Node 1    (0.20151466567508464, 0.4455831568563379)\n",
       "Node 2     (0.2772381012245286, 0.1338053437448815)\n",
       "Node 3       (0.2303361586922446, 0.41952169846835)\n",
       "dtype: object"
      ]
     },
     "execution_count": 35,
     "metadata": {},
     "output_type": "execute_result"
    }
   ],
   "source": [
    "info = rowsens.influence_table(mat=mat42, row=0, p0mode=0, pvals=[0.05, 0.25, 0.45, 0.55, 0.75, 0.95], graph=False, return_p0vals=True)\n",
    "info[1]"
   ]
  },
  {
   "cell_type": "code",
   "execution_count": 24,
   "metadata": {},
   "outputs": [
    {
     "data": {
      "text/html": [
       "<div>\n",
       "<style scoped>\n",
       "    .dataframe tbody tr th:only-of-type {\n",
       "        vertical-align: middle;\n",
       "    }\n",
       "\n",
       "    .dataframe tbody tr th {\n",
       "        vertical-align: top;\n",
       "    }\n",
       "\n",
       "    .dataframe thead th {\n",
       "        text-align: right;\n",
       "    }\n",
       "</style>\n",
       "<table border=\"1\" class=\"dataframe\">\n",
       "  <thead>\n",
       "    <tr style=\"text-align: right;\">\n",
       "      <th></th>\n",
       "      <th>x</th>\n",
       "      <th>Node 1</th>\n",
       "      <th>Node 2</th>\n",
       "      <th>Node 3</th>\n",
       "    </tr>\n",
       "  </thead>\n",
       "  <tbody>\n",
       "    <tr>\n",
       "      <th>0</th>\n",
       "      <td>0.05</td>\n",
       "      <td>0.453185</td>\n",
       "      <td>0.123807</td>\n",
       "      <td>0.428478</td>\n",
       "    </tr>\n",
       "    <tr>\n",
       "      <th>1</th>\n",
       "      <td>0.25</td>\n",
       "      <td>0.443151</td>\n",
       "      <td>0.131877</td>\n",
       "      <td>0.418545</td>\n",
       "    </tr>\n",
       "    <tr>\n",
       "      <th>2</th>\n",
       "      <td>0.45</td>\n",
       "      <td>0.418755</td>\n",
       "      <td>0.146036</td>\n",
       "      <td>0.425080</td>\n",
       "    </tr>\n",
       "    <tr>\n",
       "      <th>3</th>\n",
       "      <td>0.55</td>\n",
       "      <td>0.408400</td>\n",
       "      <td>0.153547</td>\n",
       "      <td>0.427585</td>\n",
       "    </tr>\n",
       "    <tr>\n",
       "      <th>4</th>\n",
       "      <td>0.75</td>\n",
       "      <td>0.390719</td>\n",
       "      <td>0.167489</td>\n",
       "      <td>0.431441</td>\n",
       "    </tr>\n",
       "    <tr>\n",
       "      <th>5</th>\n",
       "      <td>0.95</td>\n",
       "      <td>0.376333</td>\n",
       "      <td>0.180082</td>\n",
       "      <td>0.434094</td>\n",
       "    </tr>\n",
       "  </tbody>\n",
       "</table>\n",
       "</div>"
      ],
      "text/plain": [
       "      x    Node 1    Node 2    Node 3\n",
       "0  0.05  0.453185  0.123807  0.428478\n",
       "1  0.25  0.443151  0.131877  0.418545\n",
       "2  0.45  0.418755  0.146036  0.425080\n",
       "3  0.55  0.408400  0.153547  0.427585\n",
       "4  0.75  0.390719  0.167489  0.431441\n",
       "5  0.95  0.376333  0.180082  0.434094"
      ]
     },
     "execution_count": 24,
     "metadata": {},
     "output_type": "execute_result"
    }
   ],
   "source": [
    "# Let's do it with smart p0 instead\n",
    "rowsens.influence_table(mat=mat42, row=0, p0mode=0, pvals=[0.05, 0.25, 0.45, 0.55, 0.75, 0.95], graph=False)"
   ]
  },
  {
   "cell_type": "code",
   "execution_count": 26,
   "metadata": {},
   "outputs": [
    {
     "data": {
      "text/plain": [
       "Node 1    (0.20151466567508464, 0.4455831568563379)\n",
       "Node 2     (0.2772381012245286, 0.1338053437448815)\n",
       "Node 3       (0.2303361586922446, 0.41952169846835)\n",
       "dtype: object"
      ]
     },
     "execution_count": 26,
     "metadata": {},
     "output_type": "execute_result"
    }
   ],
   "source": [
    "rowsens.influence_table(mat=mat42, row=0, p0mode=0, pvals=[0.05, 0.25, 0.45, 0.55, 0.75, 0.95], graph=False, return_p0vals=True)[1]"
   ]
  },
  {
   "cell_type": "markdown",
   "metadata": {},
   "source": [
    "## Row sensitivity graph"
   ]
  },
  {
   "cell_type": "code",
   "execution_count": 38,
   "metadata": {},
   "outputs": [
    {
     "data": {
      "image/png": "[encoded data removed]",
      "text/plain": [
       "<Figure size 864x540 with 1 Axes>"
      ]
     },
     "metadata": {},
     "output_type": "display_data"
    }
   ],
   "source": [
    "rowsens.influence_table(mat=mat42, row=0, p0mode=None)"
   ]
  },
  {
   "cell_type": "code",
   "execution_count": 39,
   "metadata": {},
   "outputs": [
    {
     "data": {
      "image/png": "[encoded data removed]",
      "text/plain": [
       "<Figure size 864x540 with 1 Axes>"
      ]
     },
     "metadata": {},
     "output_type": "display_data"
    }
   ],
   "source": [
    "rowsens.influence_table(mat=mat42, row=0, p0mode=0.5)"
   ]
  },
  {
   "cell_type": "code",
   "execution_count": null,
   "metadata": {},
   "outputs": [],
   "source": []
  }
 ],
 "metadata": {
  "kernelspec": {
   "display_name": "Python 3",
   "language": "python",
   "name": "python3"
  },
  "language_info": {
   "codemirror_mode": {
    "name": "ipython",
    "version": 3
   },
   "file_extension": ".py",
   "mimetype": "text/x-python",
   "name": "python",
   "nbconvert_exporter": "python",
   "pygments_lexer": "ipython3",
   "version": "3.6.5"
  },
  "toc": {
   "base_numbering": 1,
   "nav_menu": {},
   "number_sections": true,
   "sideBar": true,
   "skip_h1_title": false,
   "title_cell": "Table of Contents",
   "title_sidebar": "Contents",
   "toc_cell": false,
   "toc_position": {},
   "toc_section_display": true,
   "toc_window_display": false
  }
 },
 "nbformat": 4,
 "nbformat_minor": 2
}
