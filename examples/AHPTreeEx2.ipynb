{
 "cells": [
  {
   "cell_type": "markdown",
   "metadata": {},
   "source": [
    "# Using AHPTree from `pyanp` example 2"
   ]
  },
  {
   "cell_type": "markdown",
   "metadata": {},
   "source": [
    "## First we import"
   ]
  },
  {
   "cell_type": "code",
   "execution_count": 1,
   "metadata": {},
   "outputs": [],
   "source": [
    "import pandas as pd\n",
    "import pyanp.ahptree as ahptree"
   ]
  },
  {
   "cell_type": "code",
   "execution_count": 2,
   "metadata": {},
   "outputs": [
    {
     "name": "stdout",
     "output_type": "stream",
     "text": [
      "Populating the interactive namespace from numpy and matplotlib\n"
     ]
    }
   ],
   "source": [
    "%pylab inline\n",
    "from IPython.display import HTML"
   ]
  },
  {
   "cell_type": "code",
   "execution_count": 3,
   "metadata": {},
   "outputs": [],
   "source": [
    "pylab.rcParams['figure.figsize'] = (12, 7.5)"
   ]
  },
  {
   "cell_type": "markdown",
   "metadata": {},
   "source": [
    "# Example model "
   ]
  },
  {
   "cell_type": "markdown",
   "metadata": {},
   "source": [
    "## Read in the data and verify it looks right"
   ]
  },
  {
   "cell_type": "code",
   "execution_count": 4,
   "metadata": {},
   "outputs": [],
   "source": [
    "excel_file = 'AHPTreeData2.xlsx'\n",
    "ahp = ahptree.ahptree_fromdf(excel_file)"
   ]
  },
  {
   "cell_type": "code",
   "execution_count": 5,
   "metadata": {},
   "outputs": [
    {
     "data": {
      "text/html": [
       "<ul>\n",
       "\t<li><b>Node:</b>Goal\n",
       "\t\t<ul>\n",
       "\t\t\t<li>sample_user\n",
       "\t\t\t[[1.         5.         3.         7.         6.         6.\n",
       "\t\t\t  0.33333333 0.25      ]\n",
       "\t\t\t [0.2        1.         0.33333333 5.         3.         3.\n",
       "\t\t\t  0.2        0.14285714]\n",
       "\t\t\t [0.33333333 3.         1.         6.         3.         4.\n",
       "\t\t\t  6.         0.2       ]\n",
       "\t\t\t [0.14285714 0.2        0.16666667 1.         0.33333333 0.25\n",
       "\t\t\t  0.14285714 0.125     ]\n",
       "\t\t\t [0.16666667 0.33333333 0.33333333 3.         1.         0.5\n",
       "\t\t\t  0.2        0.16666667]\n",
       "\t\t\t [0.16666667 0.33333333 0.25       4.         2.         1.\n",
       "\t\t\t  0.2        0.16666667]\n",
       "\t\t\t [3.         5.         0.16666667 7.         5.         5.\n",
       "\t\t\t  1.         0.5       ]\n",
       "\t\t\t [4.         7.         5.         8.         6.         6.\n",
       "\t\t\t  2.         1.        ]]\n",
       "\t\t</ul>\t<ul>\n",
       "\t\t<li><b>Node:</b>A\n",
       "\t\t\t<ul><li>AltScores=\n",
       "\t\t\t\tAlt1    0.0\n",
       "\t\t\t\tAlt2    0.0\n",
       "\t\t\t\tAlt3    0.0\n",
       "\t\t\t\tdtype: float64\n",
       "\t\t\t</ul>\n",
       "\t\t<li><b>Node:</b>B\n",
       "\t\t\t<ul><li>AltScores=\n",
       "\t\t\t\tAlt1    0.0\n",
       "\t\t\t\tAlt2    0.0\n",
       "\t\t\t\tAlt3    0.0\n",
       "\t\t\t\tdtype: float64\n",
       "\t\t\t</ul>\n",
       "\t\t<li><b>Node:</b>C\n",
       "\t\t\t<ul><li>AltScores=\n",
       "\t\t\t\tAlt1    0.0\n",
       "\t\t\t\tAlt2    0.0\n",
       "\t\t\t\tAlt3    0.0\n",
       "\t\t\t\tdtype: float64\n",
       "\t\t\t</ul>\n",
       "\t\t<li><b>Node:</b>D\n",
       "\t\t\t<ul><li>AltScores=\n",
       "\t\t\t\tAlt1    0.0\n",
       "\t\t\t\tAlt2    0.0\n",
       "\t\t\t\tAlt3    0.0\n",
       "\t\t\t\tdtype: float64\n",
       "\t\t\t</ul>\n",
       "\t\t<li><b>Node:</b>E\n",
       "\t\t\t<ul><li>AltScores=\n",
       "\t\t\t\tAlt1    0.0\n",
       "\t\t\t\tAlt2    0.0\n",
       "\t\t\t\tAlt3    0.0\n",
       "\t\t\t\tdtype: float64\n",
       "\t\t\t</ul>\n",
       "\t\t<li><b>Node:</b>F\n",
       "\t\t\t<ul><li>AltScores=\n",
       "\t\t\t\tAlt1    0.0\n",
       "\t\t\t\tAlt2    0.0\n",
       "\t\t\t\tAlt3    0.0\n",
       "\t\t\t\tdtype: float64\n",
       "\t\t\t</ul>\n",
       "\t\t<li><b>Node:</b>G\n",
       "\t\t\t<ul><li>AltScores=\n",
       "\t\t\t\tAlt1    0.0\n",
       "\t\t\t\tAlt2    0.0\n",
       "\t\t\t\tAlt3    0.0\n",
       "\t\t\t\tdtype: float64\n",
       "\t\t\t</ul>\n",
       "\t\t<li><b>Node:</b>H\n",
       "\t\t\t<ul><li>AltScores=\n",
       "\t\t\t\tAlt1    0.0\n",
       "\t\t\t\tAlt2    0.0\n",
       "\t\t\t\tAlt3    0.0\n",
       "\t\t\t\tdtype: float64\n",
       "\t\t\t</ul>\n",
       "</ul>\n",
       "\n",
       "</ul>"
      ],
      "text/plain": [
       "<pyanp.ahptree.AHPTree at 0x7f9a3f1263c8>"
      ]
     },
     "execution_count": 5,
     "metadata": {},
     "output_type": "execute_result"
    }
   ],
   "source": [
    "ahp"
   ]
  },
  {
   "cell_type": "markdown",
   "metadata": {},
   "source": [
    "## Look at global priorities"
   ]
  },
  {
   "cell_type": "code",
   "execution_count": 6,
   "metadata": {},
   "outputs": [
    {
     "data": {
      "text/plain": [
       "<matplotlib.axes._subplots.AxesSubplot at 0x7f9a3f0f3e10>"
      ]
     },
     "execution_count": 6,
     "metadata": {},
     "output_type": "execute_result"
    },
    {
     "data": {
      "image/png": "[encoded data removed]",
      "text/plain": [
       "<Figure size 864x540 with 1 Axes>"
      ]
     },
     "metadata": {},
     "output_type": "display_data"
    }
   ],
   "source": [
    "gs = ahp.global_priority_table()\n",
    "gs.plot(kind=\"bar\")"
   ]
  },
  {
   "cell_type": "code",
   "execution_count": 7,
   "metadata": {},
   "outputs": [
    {
     "data": {
      "text/html": [
       "<div>\n",
       "<style scoped>\n",
       "    .dataframe tbody tr th:only-of-type {\n",
       "        vertical-align: middle;\n",
       "    }\n",
       "\n",
       "    .dataframe tbody tr th {\n",
       "        vertical-align: top;\n",
       "    }\n",
       "\n",
       "    .dataframe thead th {\n",
       "        text-align: right;\n",
       "    }\n",
       "</style>\n",
       "<table border=\"1\" class=\"dataframe\">\n",
       "  <thead>\n",
       "    <tr style=\"text-align: right;\">\n",
       "      <th></th>\n",
       "      <th>Group</th>\n",
       "      <th>sample_user</th>\n",
       "    </tr>\n",
       "  </thead>\n",
       "  <tbody>\n",
       "    <tr>\n",
       "      <th>Goal</th>\n",
       "      <td>1.000000</td>\n",
       "      <td>1.000000</td>\n",
       "    </tr>\n",
       "    <tr>\n",
       "      <th>A</th>\n",
       "      <td>0.173017</td>\n",
       "      <td>0.173017</td>\n",
       "    </tr>\n",
       "    <tr>\n",
       "      <th>B</th>\n",
       "      <td>0.053976</td>\n",
       "      <td>0.053976</td>\n",
       "    </tr>\n",
       "    <tr>\n",
       "      <th>C</th>\n",
       "      <td>0.188110</td>\n",
       "      <td>0.188110</td>\n",
       "    </tr>\n",
       "    <tr>\n",
       "      <th>D</th>\n",
       "      <td>0.017508</td>\n",
       "      <td>0.017508</td>\n",
       "    </tr>\n",
       "    <tr>\n",
       "      <th>E</th>\n",
       "      <td>0.031044</td>\n",
       "      <td>0.031044</td>\n",
       "    </tr>\n",
       "    <tr>\n",
       "      <th>F</th>\n",
       "      <td>0.036322</td>\n",
       "      <td>0.036322</td>\n",
       "    </tr>\n",
       "    <tr>\n",
       "      <th>G</th>\n",
       "      <td>0.166834</td>\n",
       "      <td>0.166834</td>\n",
       "    </tr>\n",
       "    <tr>\n",
       "      <th>H</th>\n",
       "      <td>0.333189</td>\n",
       "      <td>0.333189</td>\n",
       "    </tr>\n",
       "  </tbody>\n",
       "</table>\n",
       "</div>"
      ],
      "text/plain": [
       "         Group  sample_user\n",
       "Goal  1.000000     1.000000\n",
       "A     0.173017     0.173017\n",
       "B     0.053976     0.053976\n",
       "C     0.188110     0.188110\n",
       "D     0.017508     0.017508\n",
       "E     0.031044     0.031044\n",
       "F     0.036322     0.036322\n",
       "G     0.166834     0.166834\n",
       "H     0.333189     0.333189"
      ]
     },
     "execution_count": 7,
     "metadata": {},
     "output_type": "execute_result"
    }
   ],
   "source": [
    "gs"
   ]
  },
  {
   "cell_type": "code",
   "execution_count": 8,
   "metadata": {},
   "outputs": [
    {
     "data": {
      "text/plain": [
       "<matplotlib.axes._subplots.AxesSubplot at 0x7f9a3afc6ef0>"
      ]
     },
     "execution_count": 8,
     "metadata": {},
     "output_type": "execute_result"
    },
    {
     "data": {
      "image/png": "[encoded data removed]",
      "text/plain": [
       "<Figure size 864x540 with 1 Axes>"
      ]
     },
     "metadata": {},
     "output_type": "display_data"
    }
   ],
   "source": [
    "altscores = ahp.priority_table()\n",
    "altscores.plot(kind=\"bar\")"
   ]
  },
  {
   "cell_type": "code",
   "execution_count": 9,
   "metadata": {},
   "outputs": [
    {
     "data": {
      "text/html": [
       "<div>\n",
       "<style scoped>\n",
       "    .dataframe tbody tr th:only-of-type {\n",
       "        vertical-align: middle;\n",
       "    }\n",
       "\n",
       "    .dataframe tbody tr th {\n",
       "        vertical-align: top;\n",
       "    }\n",
       "\n",
       "    .dataframe thead th {\n",
       "        text-align: right;\n",
       "    }\n",
       "</style>\n",
       "<table border=\"1\" class=\"dataframe\">\n",
       "  <thead>\n",
       "    <tr style=\"text-align: right;\">\n",
       "      <th></th>\n",
       "      <th>Group</th>\n",
       "      <th>sample_user</th>\n",
       "    </tr>\n",
       "  </thead>\n",
       "  <tbody>\n",
       "    <tr>\n",
       "      <th>Alt1</th>\n",
       "      <td>0.395913</td>\n",
       "      <td>0.333333</td>\n",
       "    </tr>\n",
       "    <tr>\n",
       "      <th>Alt2</th>\n",
       "      <td>0.340719</td>\n",
       "      <td>0.333333</td>\n",
       "    </tr>\n",
       "    <tr>\n",
       "      <th>Alt3</th>\n",
       "      <td>0.263368</td>\n",
       "      <td>0.333333</td>\n",
       "    </tr>\n",
       "  </tbody>\n",
       "</table>\n",
       "</div>"
      ],
      "text/plain": [
       "         Group  sample_user\n",
       "Alt1  0.395913     0.333333\n",
       "Alt2  0.340719     0.333333\n",
       "Alt3  0.263368     0.333333"
      ]
     },
     "execution_count": 9,
     "metadata": {},
     "output_type": "execute_result"
    }
   ],
   "source": [
    "altscores"
   ]
  },
  {
   "cell_type": "code",
   "execution_count": 10,
   "metadata": {
    "scrolled": false
   },
   "outputs": [
    {
     "data": {
      "text/html": [
       "<table border=\"1\" class=\"dataframe\">  <thead>    <tr style=\"text-align: right;\">      <th></th>      <th>Group</th>      <th>sample_user</th>    </tr>  </thead>  <tbody>    <tr>      <th>Goal</th>      <td>0.170295</td>      <td>0.170295</td>    </tr>  </tbody></table>"
      ],
      "text/plain": [
       "<IPython.core.display.HTML object>"
      ]
     },
     "metadata": {},
     "output_type": "display_data"
    },
    {
     "data": {
      "image/png": "[encoded data removed]",
      "text/plain": [
       "<Figure size 864x540 with 1 Axes>"
      ]
     },
     "metadata": {},
     "output_type": "display_data"
    }
   ],
   "source": [
    "allincons = ahp.incond_std_table()\n",
    "display(HTML(allincons.to_html().replace('\\n','')))\n",
    "allincons.plot(kind=\"bar\")\n",
    "plt.show()"
   ]
  },
  {
   "cell_type": "code",
   "execution_count": null,
   "metadata": {},
   "outputs": [],
   "source": []
  }
 ],
 "metadata": {
  "kernelspec": {
   "display_name": "Python 3",
   "language": "python",
   "name": "python3"
  },
  "language_info": {
   "codemirror_mode": {
    "name": "ipython",
    "version": 3
   },
   "file_extension": ".py",
   "mimetype": "text/x-python",
   "name": "python",
   "nbconvert_exporter": "python",
   "pygments_lexer": "ipython3",
   "version": "3.6.5"
  },
  "toc": {
   "base_numbering": 1,
   "nav_menu": {},
   "number_sections": true,
   "sideBar": true,
   "skip_h1_title": false,
   "title_cell": "Table of Contents",
   "title_sidebar": "Contents",
   "toc_cell": false,
   "toc_position": {},
   "toc_section_display": true,
   "toc_window_display": false
  }
 },
 "nbformat": 4,
 "nbformat_minor": 2
}
