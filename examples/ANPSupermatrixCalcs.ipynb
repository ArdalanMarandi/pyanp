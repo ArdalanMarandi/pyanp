{
 "cells": [
  {
   "cell_type": "markdown",
   "metadata": {},
   "source": [
    "# Limit matrix calculations from `pyanp`"
   ]
  },
  {
   "cell_type": "markdown",
   "metadata": {},
   "source": [
    "## First we import"
   ]
  },
  {
   "cell_type": "code",
   "execution_count": 1,
   "metadata": {},
   "outputs": [],
   "source": [
    "import pandas as pd\n",
    "import numpy as np\n",
    "import sys\n",
    "import os\n",
    "sys.path.insert(0, \"../\")\n",
    "import pyanp.limitmatrix as lm"
   ]
  },
  {
   "cell_type": "code",
   "execution_count": 2,
   "metadata": {},
   "outputs": [
    {
     "name": "stdout",
     "output_type": "stream",
     "text": [
      "Populating the interactive namespace from numpy and matplotlib\n"
     ]
    }
   ],
   "source": [
    "%pylab inline"
   ]
  },
  {
   "cell_type": "code",
   "execution_count": 3,
   "metadata": {},
   "outputs": [],
   "source": [
    "pylab.rcParams['figure.figsize'] = (12, 7.5)"
   ]
  },
  {
   "cell_type": "markdown",
   "metadata": {},
   "source": [
    "# First calculations"
   ]
  },
  {
   "cell_type": "markdown",
   "metadata": {},
   "source": [
    "## Read in matrix from an Excel sheet"
   ]
  },
  {
   "cell_type": "code",
   "execution_count": 4,
   "metadata": {},
   "outputs": [
    {
     "data": {
      "text/plain": [
       "array([[0.5 , 0.2 , 0.  , 0.  ],\n",
       "       [0.2 , 0.3 , 0.  , 0.  ],\n",
       "       [0.1 , 0.3 , 0.75, 0.1 ],\n",
       "       [0.2 , 0.2 , 0.25, 0.9 ]])"
      ]
     },
     "metadata": {},
     "output_type": "display_data"
    }
   ],
   "source": [
    "# Excel sheet with no headers, handle this way\n",
    "matrix = lm.get_matrix(\"supermatrix1.xlsx\")\n",
    "display(matrix)"
   ]
  },
  {
   "cell_type": "code",
   "execution_count": 12,
   "metadata": {},
   "outputs": [
    {
     "data": {
      "text/plain": [
       "array([[0.5 , 0.2 , 0.  , 0.  ],\n",
       "       [0.2 , 0.3 , 0.  , 0.  ],\n",
       "       [0.1 , 0.3 , 0.75, 0.1 ],\n",
       "       [0.2 , 0.2 , 0.25, 0.9 ]])"
      ]
     },
     "metadata": {},
     "output_type": "display_data"
    }
   ],
   "source": [
    "# Excel sheet with headers, handle same way\n",
    "matrix = lm.get_matrix(\"supermatrix2.xlsx\")\n",
    "display(matrix)"
   ]
  },
  {
   "cell_type": "markdown",
   "metadata": {},
   "source": [
    "## Calculate a few limits and display the results"
   ]
  },
  {
   "cell_type": "code",
   "execution_count": 13,
   "metadata": {},
   "outputs": [
    {
     "data": {
      "text/plain": [
       "array([[2.36869812e-12, 1.46393595e-12, 0.00000000e+00, 0.00000000e+00],\n",
       "       [1.46393595e-12, 9.04762172e-13, 0.00000000e+00, 0.00000000e+00],\n",
       "       [2.85714286e-01, 2.85714286e-01, 2.85714286e-01, 2.85714286e-01],\n",
       "       [7.14285714e-01, 7.14285714e-01, 7.14285714e-01, 7.14285714e-01]])"
      ]
     },
     "metadata": {},
     "output_type": "display_data"
    }
   ],
   "source": [
    "display(lm.calculus(matrix))"
   ]
  },
  {
   "cell_type": "code",
   "execution_count": 14,
   "metadata": {},
   "outputs": [
    {
     "data": {
      "text/plain": [
       "None"
      ]
     },
     "metadata": {},
     "output_type": "display_data"
    }
   ],
   "source": [
    "# This matrix is not the matrix for a hierarchy so it returns None\n",
    "display(lm.hiearhcy_formula(matrix))"
   ]
  },
  {
   "cell_type": "code",
   "execution_count": 15,
   "metadata": {},
   "outputs": [
    {
     "data": {
      "text/plain": [
       "array([[0.  , 0.  , 0.  , 0.  , 0.  ],\n",
       "       [0.3 , 0.  , 0.  , 0.  , 0.  ],\n",
       "       [0.2 , 0.  , 0.  , 0.  , 0.  ],\n",
       "       [0.31, 0.9 , 0.2 , 0.  , 0.  ],\n",
       "       [0.19, 0.1 , 0.8 , 0.  , 0.  ]])"
      ]
     },
     "metadata": {},
     "output_type": "display_data"
    }
   ],
   "source": [
    "# Let's grab a hierarhcy matrix\n",
    "hierarhcyMatrix = np.array([\n",
    "    [0, 0, 0, 0, 0],\n",
    "    [0.6, 0, 0, 0, 0],\n",
    "    [0.4, 0, 0, 0, 0],\n",
    "    [0, 0.9, 0.2, 0, 0],\n",
    "    [0, 0.1, 0.8, 0, 0]\n",
    "])\n",
    "display(lm.hiearhcy_formula(hierarhcyMatrix))"
   ]
  },
  {
   "cell_type": "code",
   "execution_count": 16,
   "metadata": {},
   "outputs": [
    {
     "data": {
      "text/plain": [
       "array([[0.  , 0.  , 0.  , 0.  , 0.  ],\n",
       "       [0.3 , 0.  , 0.  , 0.  , 0.  ],\n",
       "       [0.2 , 0.  , 0.  , 0.  , 0.  ],\n",
       "       [0.31, 0.9 , 0.2 , 0.  , 0.  ],\n",
       "       [0.19, 0.1 , 0.8 , 0.  , 0.  ]])"
      ]
     },
     "metadata": {},
     "output_type": "display_data"
    }
   ],
   "source": [
    "# For that hierarchy, let's calculate calculus limit\n",
    "# note it does the same thing, because we check if it is a hierarchy first\n",
    "# and use that one\n",
    "display(lm.calculus(hierarhcyMatrix))"
   ]
  },
  {
   "cell_type": "code",
   "execution_count": 17,
   "metadata": {},
   "outputs": [
    {
     "data": {
      "text/plain": [
       "array([[0., 0., 0., 0., 0.],\n",
       "       [0., 0., 0., 0., 0.],\n",
       "       [0., 0., 0., 0., 0.],\n",
       "       [0., 0., 0., 0., 0.],\n",
       "       [0., 0., 0., 0., 0.]])"
      ]
     },
     "metadata": {},
     "output_type": "display_data"
    }
   ],
   "source": [
    "# If we don't use the hierarchy formula\n",
    "# the calculus limit matrix is all zeroes\n",
    "display(lm.calculus(hierarhcyMatrix, use_hierarchy_formula=False))"
   ]
  }
 ],
 "metadata": {
  "kernelspec": {
   "display_name": "Python 3",
   "language": "python",
   "name": "python3"
  },
  "language_info": {
   "codemirror_mode": {
    "name": "ipython",
    "version": 3
   },
   "file_extension": ".py",
   "mimetype": "text/x-python",
   "name": "python",
   "nbconvert_exporter": "python",
   "pygments_lexer": "ipython3",
   "version": "3.6.5"
  },
  "toc": {
   "base_numbering": 1,
   "nav_menu": {},
   "number_sections": true,
   "sideBar": true,
   "skip_h1_title": false,
   "title_cell": "Table of Contents",
   "title_sidebar": "Contents",
   "toc_cell": false,
   "toc_position": {},
   "toc_section_display": true,
   "toc_window_display": false
  }
 },
 "nbformat": 4,
 "nbformat_minor": 2
}
