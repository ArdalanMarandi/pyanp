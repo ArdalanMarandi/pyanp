{
 "cells": [
  {
   "cell_type": "markdown",
   "metadata": {},
   "source": [
    "# Creating headers for inputs for ANP\n",
    "There are so many inputs to create, it is easier to do the ANP model\n",
    "creation and connections first, and ask the model to tell you the headers\n",
    "to use."
   ]
  },
  {
   "cell_type": "code",
   "execution_count": 1,
   "metadata": {},
   "outputs": [],
   "source": [
    "import pandas as pd\n",
    "import numpy as np\n",
    "from pyanp.anp import ANPNetwork"
   ]
  },
  {
   "cell_type": "code",
   "execution_count": 2,
   "metadata": {},
   "outputs": [
    {
     "name": "stdout",
     "output_type": "stream",
     "text": [
      "Populating the interactive namespace from numpy and matplotlib\n"
     ]
    }
   ],
   "source": [
    "%pylab inline"
   ]
  },
  {
   "cell_type": "code",
   "execution_count": null,
   "metadata": {},
   "outputs": [],
   "source": []
  },
  {
   "cell_type": "code",
   "execution_count": 3,
   "metadata": {},
   "outputs": [],
   "source": [
    "anp = ANPNetwork()"
   ]
  },
  {
   "cell_type": "code",
   "execution_count": 4,
   "metadata": {},
   "outputs": [
    {
     "data": {
      "text/plain": [
       "array([[1., 1., 1., 1., 1., 1., 1., 1., 1., 1., 1., 1., 1., 1.],\n",
       "       [1., 1., 1., 1., 1., 1., 1., 1., 1., 1., 1., 1., 1., 1.],\n",
       "       [1., 1., 1., 1., 1., 1., 1., 1., 1., 1., 1., 1., 1., 1.],\n",
       "       [1., 1., 1., 1., 1., 1., 1., 1., 1., 1., 1., 1., 1., 1.],\n",
       "       [1., 1., 1., 1., 1., 1., 1., 1., 1., 1., 1., 1., 1., 1.],\n",
       "       [1., 1., 1., 1., 1., 1., 1., 1., 1., 1., 1., 1., 1., 1.],\n",
       "       [1., 1., 1., 1., 1., 1., 1., 1., 1., 1., 1., 1., 1., 1.],\n",
       "       [1., 1., 1., 1., 1., 1., 1., 1., 1., 1., 1., 1., 1., 1.],\n",
       "       [1., 1., 1., 1., 1., 1., 1., 1., 1., 1., 1., 1., 1., 1.],\n",
       "       [1., 1., 1., 1., 1., 1., 1., 1., 1., 1., 1., 1., 1., 1.],\n",
       "       [1., 1., 1., 1., 1., 1., 1., 1., 1., 1., 1., 1., 1., 1.],\n",
       "       [1., 1., 1., 1., 1., 1., 1., 1., 1., 1., 1., 1., 1., 1.],\n",
       "       [1., 1., 1., 1., 1., 1., 1., 1., 1., 1., 1., 1., 1., 1.],\n",
       "       [1., 1., 1., 1., 1., 1., 1., 1., 1., 1., 1., 1., 1., 1.]])"
      ]
     },
     "execution_count": 4,
     "metadata": {},
     "output_type": "execute_result"
    }
   ],
   "source": [
    "network = {\"cluster1\":(\"n1-1\", \"n1-2\", \"n1-3\"), \n",
    "           \"cluster2\":(\"n2-1\", \"n2-2\", \"n2-3\", \"n2-4\"),\n",
    "           \"cluster3\":(\"n3-1\", \"n3-2\", \"n3-3\"),\n",
    "           \"cluster4\":(\"n4-1\", \"n4-2\", \"n4-3\", \"n4-4\")}\n",
    "for cluster, nodes in network.items():\n",
    "    anp.add_cluster(cluster)\n",
    "    anp.add_node(cluster, nodes)\n",
    "anp.set_alts_cluster(3)\n",
    "node_connection_matrix = np.array([\n",
    "    [1., 1., 1., 1., 1., 1., 1., 1., 1., 1., 1., 1., 1., 1.],\n",
    "    [1., 1., 1., 1., 1., 1., 1., 1., 1., 1., 1., 1., 1., 1.],\n",
    "    [1., 1., 1., 1., 1., 1., 1., 1., 1., 1., 1., 1., 1., 1.],\n",
    "    [1., 1., 1., 1., 1., 1., 1., 1., 1., 1., 1., 1., 1., 1.],\n",
    "    [1., 1., 1., 1., 1., 1., 1., 1., 1., 1., 1., 1., 1., 1.],\n",
    "    [1., 1., 1., 1., 1., 1., 1., 1., 1., 1., 1., 1., 1., 1.],\n",
    "    [1., 1., 1., 1., 1., 1., 1., 1., 1., 1., 1., 1., 1., 1.],\n",
    "    [1., 1., 1., 1., 1., 1., 1., 1., 1., 1., 1., 1., 1., 1.],\n",
    "    [1., 1., 1., 1., 1., 1., 1., 1., 1., 1., 1., 1., 1., 1.],\n",
    "    [1., 1., 1., 1., 1., 1., 1., 1., 1., 1., 1., 1., 1., 1.],\n",
    "    [1., 1., 1., 1., 1., 1., 1., 1., 1., 1., 1., 1., 1., 1.],\n",
    "    [1., 1., 1., 1., 1., 1., 1., 1., 1., 1., 1., 1., 1., 1.],\n",
    "    [1., 1., 1., 1., 1., 1., 1., 1., 1., 1., 1., 1., 1., 1.],\n",
    "    [1., 1., 1., 1., 1., 1., 1., 1., 1., 1., 1., 1., 1., 1.]\n",
    "])\n",
    "anp.node_connection_matrix(node_connection_matrix)"
   ]
  },
  {
   "cell_type": "code",
   "execution_count": 5,
   "metadata": {},
   "outputs": [
    {
     "data": {
      "text/plain": [
       "['n1-1',\n",
       " 'n1-2',\n",
       " 'n1-3',\n",
       " 'n2-1',\n",
       " 'n2-2',\n",
       " 'n2-3',\n",
       " 'n2-4',\n",
       " 'n3-1',\n",
       " 'n3-2',\n",
       " 'n3-3',\n",
       " 'n4-1',\n",
       " 'n4-2',\n",
       " 'n4-3',\n",
       " 'n4-4']"
      ]
     },
     "execution_count": 5,
     "metadata": {},
     "output_type": "execute_result"
    }
   ],
   "source": [
    "anp.node_names()"
   ]
  },
  {
   "cell_type": "code",
   "execution_count": 6,
   "metadata": {},
   "outputs": [
    {
     "name": "stdout",
     "output_type": "stream",
     "text": [
      "cluster1 vs cluster2 wrt cluster1\n",
      "cluster1 vs cluster3 wrt cluster1\n",
      "cluster1 vs cluster4 wrt cluster1\n",
      "cluster2 vs cluster3 wrt cluster1\n",
      "cluster2 vs cluster4 wrt cluster1\n",
      "cluster3 vs cluster4 wrt cluster1\n",
      "cluster1 vs cluster2 wrt cluster2\n",
      "cluster1 vs cluster3 wrt cluster2\n",
      "cluster1 vs cluster4 wrt cluster2\n",
      "cluster2 vs cluster3 wrt cluster2\n",
      "cluster2 vs cluster4 wrt cluster2\n",
      "cluster3 vs cluster4 wrt cluster2\n",
      "cluster1 vs cluster2 wrt cluster3\n",
      "cluster1 vs cluster3 wrt cluster3\n",
      "cluster1 vs cluster4 wrt cluster3\n",
      "cluster2 vs cluster3 wrt cluster3\n",
      "cluster2 vs cluster4 wrt cluster3\n",
      "cluster3 vs cluster4 wrt cluster3\n",
      "cluster1 vs cluster2 wrt cluster4\n",
      "cluster1 vs cluster3 wrt cluster4\n",
      "cluster1 vs cluster4 wrt cluster4\n",
      "cluster2 vs cluster3 wrt cluster4\n",
      "cluster2 vs cluster4 wrt cluster4\n",
      "cluster3 vs cluster4 wrt cluster4\n",
      "n1-1 vs n1-2 wrt n1-1\n",
      "n1-1 vs n1-3 wrt n1-1\n",
      "n1-2 vs n1-3 wrt n1-1\n",
      "n2-1 vs n2-2 wrt n1-1\n",
      "n2-1 vs n2-3 wrt n1-1\n",
      "n2-1 vs n2-4 wrt n1-1\n",
      "n2-2 vs n2-3 wrt n1-1\n",
      "n2-2 vs n2-4 wrt n1-1\n",
      "n2-3 vs n2-4 wrt n1-1\n",
      "n3-1 vs n3-2 wrt n1-1\n",
      "n3-1 vs n3-3 wrt n1-1\n",
      "n3-2 vs n3-3 wrt n1-1\n",
      "n4-1 vs n4-2 wrt n1-1\n",
      "n4-1 vs n4-3 wrt n1-1\n",
      "n4-1 vs n4-4 wrt n1-1\n",
      "n4-2 vs n4-3 wrt n1-1\n",
      "n4-2 vs n4-4 wrt n1-1\n",
      "n4-3 vs n4-4 wrt n1-1\n",
      "n1-1 vs n1-2 wrt n1-2\n",
      "n1-1 vs n1-3 wrt n1-2\n",
      "n1-2 vs n1-3 wrt n1-2\n",
      "n2-1 vs n2-2 wrt n1-2\n",
      "n2-1 vs n2-3 wrt n1-2\n",
      "n2-1 vs n2-4 wrt n1-2\n",
      "n2-2 vs n2-3 wrt n1-2\n",
      "n2-2 vs n2-4 wrt n1-2\n",
      "n2-3 vs n2-4 wrt n1-2\n",
      "n3-1 vs n3-2 wrt n1-2\n",
      "n3-1 vs n3-3 wrt n1-2\n",
      "n3-2 vs n3-3 wrt n1-2\n",
      "n4-1 vs n4-2 wrt n1-2\n",
      "n4-1 vs n4-3 wrt n1-2\n",
      "n4-1 vs n4-4 wrt n1-2\n",
      "n4-2 vs n4-3 wrt n1-2\n",
      "n4-2 vs n4-4 wrt n1-2\n",
      "n4-3 vs n4-4 wrt n1-2\n",
      "n1-1 vs n1-2 wrt n1-3\n",
      "n1-1 vs n1-3 wrt n1-3\n",
      "n1-2 vs n1-3 wrt n1-3\n",
      "n2-1 vs n2-2 wrt n1-3\n",
      "n2-1 vs n2-3 wrt n1-3\n",
      "n2-1 vs n2-4 wrt n1-3\n",
      "n2-2 vs n2-3 wrt n1-3\n",
      "n2-2 vs n2-4 wrt n1-3\n",
      "n2-3 vs n2-4 wrt n1-3\n",
      "n3-1 vs n3-2 wrt n1-3\n",
      "n3-1 vs n3-3 wrt n1-3\n",
      "n3-2 vs n3-3 wrt n1-3\n",
      "n4-1 vs n4-2 wrt n1-3\n",
      "n4-1 vs n4-3 wrt n1-3\n",
      "n4-1 vs n4-4 wrt n1-3\n",
      "n4-2 vs n4-3 wrt n1-3\n",
      "n4-2 vs n4-4 wrt n1-3\n",
      "n4-3 vs n4-4 wrt n1-3\n",
      "n1-1 vs n1-2 wrt n2-1\n",
      "n1-1 vs n1-3 wrt n2-1\n",
      "n1-2 vs n1-3 wrt n2-1\n",
      "n2-1 vs n2-2 wrt n2-1\n",
      "n2-1 vs n2-3 wrt n2-1\n",
      "n2-1 vs n2-4 wrt n2-1\n",
      "n2-2 vs n2-3 wrt n2-1\n",
      "n2-2 vs n2-4 wrt n2-1\n",
      "n2-3 vs n2-4 wrt n2-1\n",
      "n3-1 vs n3-2 wrt n2-1\n",
      "n3-1 vs n3-3 wrt n2-1\n",
      "n3-2 vs n3-3 wrt n2-1\n",
      "n4-1 vs n4-2 wrt n2-1\n",
      "n4-1 vs n4-3 wrt n2-1\n",
      "n4-1 vs n4-4 wrt n2-1\n",
      "n4-2 vs n4-3 wrt n2-1\n",
      "n4-2 vs n4-4 wrt n2-1\n",
      "n4-3 vs n4-4 wrt n2-1\n",
      "n1-1 vs n1-2 wrt n2-2\n",
      "n1-1 vs n1-3 wrt n2-2\n",
      "n1-2 vs n1-3 wrt n2-2\n",
      "n2-1 vs n2-2 wrt n2-2\n",
      "n2-1 vs n2-3 wrt n2-2\n",
      "n2-1 vs n2-4 wrt n2-2\n",
      "n2-2 vs n2-3 wrt n2-2\n",
      "n2-2 vs n2-4 wrt n2-2\n",
      "n2-3 vs n2-4 wrt n2-2\n",
      "n3-1 vs n3-2 wrt n2-2\n",
      "n3-1 vs n3-3 wrt n2-2\n",
      "n3-2 vs n3-3 wrt n2-2\n",
      "n4-1 vs n4-2 wrt n2-2\n",
      "n4-1 vs n4-3 wrt n2-2\n",
      "n4-1 vs n4-4 wrt n2-2\n",
      "n4-2 vs n4-3 wrt n2-2\n",
      "n4-2 vs n4-4 wrt n2-2\n",
      "n4-3 vs n4-4 wrt n2-2\n",
      "n1-1 vs n1-2 wrt n2-3\n",
      "n1-1 vs n1-3 wrt n2-3\n",
      "n1-2 vs n1-3 wrt n2-3\n",
      "n2-1 vs n2-2 wrt n2-3\n",
      "n2-1 vs n2-3 wrt n2-3\n",
      "n2-1 vs n2-4 wrt n2-3\n",
      "n2-2 vs n2-3 wrt n2-3\n",
      "n2-2 vs n2-4 wrt n2-3\n",
      "n2-3 vs n2-4 wrt n2-3\n",
      "n3-1 vs n3-2 wrt n2-3\n",
      "n3-1 vs n3-3 wrt n2-3\n",
      "n3-2 vs n3-3 wrt n2-3\n",
      "n4-1 vs n4-2 wrt n2-3\n",
      "n4-1 vs n4-3 wrt n2-3\n",
      "n4-1 vs n4-4 wrt n2-3\n",
      "n4-2 vs n4-3 wrt n2-3\n",
      "n4-2 vs n4-4 wrt n2-3\n",
      "n4-3 vs n4-4 wrt n2-3\n",
      "n1-1 vs n1-2 wrt n2-4\n",
      "n1-1 vs n1-3 wrt n2-4\n",
      "n1-2 vs n1-3 wrt n2-4\n",
      "n2-1 vs n2-2 wrt n2-4\n",
      "n2-1 vs n2-3 wrt n2-4\n",
      "n2-1 vs n2-4 wrt n2-4\n",
      "n2-2 vs n2-3 wrt n2-4\n",
      "n2-2 vs n2-4 wrt n2-4\n",
      "n2-3 vs n2-4 wrt n2-4\n",
      "n3-1 vs n3-2 wrt n2-4\n",
      "n3-1 vs n3-3 wrt n2-4\n",
      "n3-2 vs n3-3 wrt n2-4\n",
      "n4-1 vs n4-2 wrt n2-4\n",
      "n4-1 vs n4-3 wrt n2-4\n",
      "n4-1 vs n4-4 wrt n2-4\n",
      "n4-2 vs n4-3 wrt n2-4\n",
      "n4-2 vs n4-4 wrt n2-4\n",
      "n4-3 vs n4-4 wrt n2-4\n",
      "n1-1 vs n1-2 wrt n3-1\n",
      "n1-1 vs n1-3 wrt n3-1\n",
      "n1-2 vs n1-3 wrt n3-1\n",
      "n2-1 vs n2-2 wrt n3-1\n",
      "n2-1 vs n2-3 wrt n3-1\n",
      "n2-1 vs n2-4 wrt n3-1\n",
      "n2-2 vs n2-3 wrt n3-1\n",
      "n2-2 vs n2-4 wrt n3-1\n",
      "n2-3 vs n2-4 wrt n3-1\n",
      "n3-1 vs n3-2 wrt n3-1\n",
      "n3-1 vs n3-3 wrt n3-1\n",
      "n3-2 vs n3-3 wrt n3-1\n",
      "n4-1 vs n4-2 wrt n3-1\n",
      "n4-1 vs n4-3 wrt n3-1\n",
      "n4-1 vs n4-4 wrt n3-1\n",
      "n4-2 vs n4-3 wrt n3-1\n",
      "n4-2 vs n4-4 wrt n3-1\n",
      "n4-3 vs n4-4 wrt n3-1\n",
      "n1-1 vs n1-2 wrt n3-2\n",
      "n1-1 vs n1-3 wrt n3-2\n",
      "n1-2 vs n1-3 wrt n3-2\n",
      "n2-1 vs n2-2 wrt n3-2\n",
      "n2-1 vs n2-3 wrt n3-2\n",
      "n2-1 vs n2-4 wrt n3-2\n",
      "n2-2 vs n2-3 wrt n3-2\n",
      "n2-2 vs n2-4 wrt n3-2\n",
      "n2-3 vs n2-4 wrt n3-2\n",
      "n3-1 vs n3-2 wrt n3-2\n",
      "n3-1 vs n3-3 wrt n3-2\n",
      "n3-2 vs n3-3 wrt n3-2\n",
      "n4-1 vs n4-2 wrt n3-2\n",
      "n4-1 vs n4-3 wrt n3-2\n",
      "n4-1 vs n4-4 wrt n3-2\n",
      "n4-2 vs n4-3 wrt n3-2\n",
      "n4-2 vs n4-4 wrt n3-2\n",
      "n4-3 vs n4-4 wrt n3-2\n",
      "n1-1 vs n1-2 wrt n3-3\n",
      "n1-1 vs n1-3 wrt n3-3\n",
      "n1-2 vs n1-3 wrt n3-3\n",
      "n2-1 vs n2-2 wrt n3-3\n",
      "n2-1 vs n2-3 wrt n3-3\n",
      "n2-1 vs n2-4 wrt n3-3\n",
      "n2-2 vs n2-3 wrt n3-3\n",
      "n2-2 vs n2-4 wrt n3-3\n",
      "n2-3 vs n2-4 wrt n3-3\n",
      "n3-1 vs n3-2 wrt n3-3\n",
      "n3-1 vs n3-3 wrt n3-3\n",
      "n3-2 vs n3-3 wrt n3-3\n",
      "n4-1 vs n4-2 wrt n3-3\n",
      "n4-1 vs n4-3 wrt n3-3\n",
      "n4-1 vs n4-4 wrt n3-3\n",
      "n4-2 vs n4-3 wrt n3-3\n",
      "n4-2 vs n4-4 wrt n3-3\n",
      "n4-3 vs n4-4 wrt n3-3\n",
      "n1-1 vs n1-2 wrt n4-1\n",
      "n1-1 vs n1-3 wrt n4-1\n",
      "n1-2 vs n1-3 wrt n4-1\n",
      "n2-1 vs n2-2 wrt n4-1\n",
      "n2-1 vs n2-3 wrt n4-1\n",
      "n2-1 vs n2-4 wrt n4-1\n",
      "n2-2 vs n2-3 wrt n4-1\n",
      "n2-2 vs n2-4 wrt n4-1\n",
      "n2-3 vs n2-4 wrt n4-1\n",
      "n3-1 vs n3-2 wrt n4-1\n",
      "n3-1 vs n3-3 wrt n4-1\n",
      "n3-2 vs n3-3 wrt n4-1\n",
      "n4-1 vs n4-2 wrt n4-1\n",
      "n4-1 vs n4-3 wrt n4-1\n",
      "n4-1 vs n4-4 wrt n4-1\n",
      "n4-2 vs n4-3 wrt n4-1\n",
      "n4-2 vs n4-4 wrt n4-1\n",
      "n4-3 vs n4-4 wrt n4-1\n",
      "n1-1 vs n1-2 wrt n4-2\n",
      "n1-1 vs n1-3 wrt n4-2\n",
      "n1-2 vs n1-3 wrt n4-2\n",
      "n2-1 vs n2-2 wrt n4-2\n",
      "n2-1 vs n2-3 wrt n4-2\n",
      "n2-1 vs n2-4 wrt n4-2\n",
      "n2-2 vs n2-3 wrt n4-2\n",
      "n2-2 vs n2-4 wrt n4-2\n",
      "n2-3 vs n2-4 wrt n4-2\n",
      "n3-1 vs n3-2 wrt n4-2\n",
      "n3-1 vs n3-3 wrt n4-2\n",
      "n3-2 vs n3-3 wrt n4-2\n",
      "n4-1 vs n4-2 wrt n4-2\n",
      "n4-1 vs n4-3 wrt n4-2\n",
      "n4-1 vs n4-4 wrt n4-2\n",
      "n4-2 vs n4-3 wrt n4-2\n",
      "n4-2 vs n4-4 wrt n4-2\n",
      "n4-3 vs n4-4 wrt n4-2\n",
      "n1-1 vs n1-2 wrt n4-3\n",
      "n1-1 vs n1-3 wrt n4-3\n",
      "n1-2 vs n1-3 wrt n4-3\n",
      "n2-1 vs n2-2 wrt n4-3\n",
      "n2-1 vs n2-3 wrt n4-3\n",
      "n2-1 vs n2-4 wrt n4-3\n",
      "n2-2 vs n2-3 wrt n4-3\n",
      "n2-2 vs n2-4 wrt n4-3\n",
      "n2-3 vs n2-4 wrt n4-3\n",
      "n3-1 vs n3-2 wrt n4-3\n",
      "n3-1 vs n3-3 wrt n4-3\n",
      "n3-2 vs n3-3 wrt n4-3\n",
      "n4-1 vs n4-2 wrt n4-3\n",
      "n4-1 vs n4-3 wrt n4-3\n",
      "n4-1 vs n4-4 wrt n4-3\n",
      "n4-2 vs n4-3 wrt n4-3\n",
      "n4-2 vs n4-4 wrt n4-3\n",
      "n4-3 vs n4-4 wrt n4-3\n",
      "n1-1 vs n1-2 wrt n4-4\n",
      "n1-1 vs n1-3 wrt n4-4\n",
      "n1-2 vs n1-3 wrt n4-4\n",
      "n2-1 vs n2-2 wrt n4-4\n",
      "n2-1 vs n2-3 wrt n4-4\n",
      "n2-1 vs n2-4 wrt n4-4\n",
      "n2-2 vs n2-3 wrt n4-4\n",
      "n2-2 vs n2-4 wrt n4-4\n",
      "n2-3 vs n2-4 wrt n4-4\n",
      "n3-1 vs n3-2 wrt n4-4\n",
      "n3-1 vs n3-3 wrt n4-4\n",
      "n3-2 vs n3-3 wrt n4-4\n",
      "n4-1 vs n4-2 wrt n4-4\n",
      "n4-1 vs n4-3 wrt n4-4\n",
      "n4-1 vs n4-4 wrt n4-4\n",
      "n4-2 vs n4-3 wrt n4-4\n",
      "n4-2 vs n4-4 wrt n4-4\n",
      "n4-3 vs n4-4 wrt n4-4\n"
     ]
    }
   ],
   "source": [
    "names = anp.data_names()\n",
    "print(\"\\n\".join(names))"
   ]
  },
  {
   "cell_type": "code",
   "execution_count": 7,
   "metadata": {},
   "outputs": [],
   "source": [
    "df = pd.read_excel(\"anp_data1.xlsx\", sheet_name=\"votes\")\n",
    "df = df.transpose()"
   ]
  },
  {
   "cell_type": "code",
   "execution_count": 8,
   "metadata": {},
   "outputs": [],
   "source": [
    "for col in df:\n",
    "    anp.import_pw_series(df[col])"
   ]
  },
  {
   "cell_type": "code",
   "execution_count": 11,
   "metadata": {},
   "outputs": [],
   "source": [
    "n=anp.node_obj(\"n1-1\")"
   ]
  },
  {
   "cell_type": "code",
   "execution_count": 12,
   "metadata": {},
   "outputs": [],
   "source": [
    "pw = n.get_node_prioritizer('n1-1')"
   ]
  },
  {
   "cell_type": "code",
   "execution_count": 13,
   "metadata": {},
   "outputs": [
    {
     "data": {
      "text/plain": [
       "array([[1.        , 0.14433757, 0.19245009],\n",
       "       [6.92820323, 1.        , 0.74535599],\n",
       "       [5.19615242, 1.34164079, 1.        ]])"
      ]
     },
     "execution_count": 13,
     "metadata": {},
     "output_type": "execute_result"
    }
   ],
   "source": [
    "pw.matrix(user_name=None)"
   ]
  },
  {
   "cell_type": "code",
   "execution_count": 14,
   "metadata": {},
   "outputs": [
    {
     "data": {
      "text/plain": [
       "<pyanp.anp.ANPCluster at 0x10ad72fd0>"
      ]
     },
     "execution_count": 14,
     "metadata": {},
     "output_type": "execute_result"
    }
   ],
   "source": [
    "anp.alts_cluster"
   ]
  },
  {
   "cell_type": "code",
   "execution_count": 15,
   "metadata": {},
   "outputs": [
    {
     "data": {
      "text/plain": [
       "<matplotlib.axes._subplots.AxesSubplot at 0x112ef1390>"
      ]
     },
     "execution_count": 15,
     "metadata": {},
     "output_type": "execute_result"
    },
    {
     "data": {
      "image/png": "[encoded data removed]",
      "text/plain": [
       "<Figure size 432x288 with 1 Axes>"
      ]
     },
     "metadata": {},
     "output_type": "display_data"
    }
   ],
   "source": [
    "anp.priority().plot(kind=\"bar\")"
   ]
  },
  {
   "cell_type": "code",
   "execution_count": 16,
   "metadata": {},
   "outputs": [
    {
     "data": {
      "text/plain": [
       "<matplotlib.axes._subplots.AxesSubplot at 0x112fa2198>"
      ]
     },
     "execution_count": 16,
     "metadata": {},
     "output_type": "execute_result"
    },
    {
     "data": {
      "image/png": "[encoded data removed]",
      "text/plain": [
       "<Figure size 432x288 with 1 Axes>"
      ]
     },
     "metadata": {},
     "output_type": "display_data"
    }
   ],
   "source": [
    "anp.priority(username=\"User 1\").plot(kind=\"bar\")"
   ]
  },
  {
   "cell_type": "code",
   "execution_count": 17,
   "metadata": {},
   "outputs": [
    {
     "data": {
      "text/plain": [
       "<matplotlib.axes._subplots.AxesSubplot at 0x112fc6470>"
      ]
     },
     "execution_count": 17,
     "metadata": {},
     "output_type": "execute_result"
    },
    {
     "data": {
      "image/png": "[encoded data removed]",
      "text/plain": [
       "<Figure size 432x288 with 1 Axes>"
      ]
     },
     "metadata": {},
     "output_type": "display_data"
    }
   ],
   "source": [
    "anp.priority(username=\"User 2\").plot(kind=\"bar\")"
   ]
  },
  {
   "cell_type": "code",
   "execution_count": null,
   "metadata": {},
   "outputs": [],
   "source": []
  }
 ],
 "metadata": {
  "kernelspec": {
   "display_name": "Python 3",
   "language": "python",
   "name": "python3"
  },
  "language_info": {
   "codemirror_mode": {
    "name": "ipython",
    "version": 3
   },
   "file_extension": ".py",
   "mimetype": "text/x-python",
   "name": "python",
   "nbconvert_exporter": "python",
   "pygments_lexer": "ipython3",
   "version": "3.6.5"
  },
  "toc": {
   "base_numbering": 1,
   "nav_menu": {},
   "number_sections": true,
   "sideBar": true,
   "skip_h1_title": false,
   "title_cell": "Table of Contents",
   "title_sidebar": "Contents",
   "toc_cell": false,
   "toc_position": {},
   "toc_section_display": true,
   "toc_window_display": false
  }
 },
 "nbformat": 4,
 "nbformat_minor": 2
}
