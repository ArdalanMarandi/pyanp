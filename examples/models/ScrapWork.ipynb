{
 "cells": [
  {
   "cell_type": "code",
   "execution_count": 1,
   "metadata": {},
   "outputs": [],
   "source": [
    "import sys\n",
    "sys.path.insert(0, \"../../\")\n",
    "from pyanp.anp import *\n",
    "from pyanp.limitmatrix import _mat_pow2 as mat_pow2, normalize\n",
    "from copy import deepcopy"
   ]
  },
  {
   "cell_type": "code",
   "execution_count": 2,
   "metadata": {},
   "outputs": [],
   "source": [
    "net = anp_from_excel(\"BigBurger.xlsx\")"
   ]
  },
  {
   "cell_type": "code",
   "execution_count": 3,
   "metadata": {},
   "outputs": [],
   "source": [
    "sm = net.scaled_supermatrix()"
   ]
  },
  {
   "cell_type": "code",
   "execution_count": 4,
   "metadata": {},
   "outputs": [],
   "source": [
    "def connection_mat(amat, add_self_loops=True, normalize_cols=True):\n",
    "    rval = deepcopy(amat)\n",
    "    for row in rval:\n",
    "        for i in range(len(row)):\n",
    "            if row[i] != 0:\n",
    "                row[i]=1\n",
    "    for i in range(len(rval)):\n",
    "        row = rval[i]\n",
    "        if len(row) > i:\n",
    "            row[i] = 1\n",
    "    if normalize:\n",
    "        normalize(rval, inplace=True)\n",
    "    return rval"
   ]
  },
  {
   "cell_type": "code",
   "execution_count": 5,
   "metadata": {},
   "outputs": [],
   "source": [
    "cm = connection_mat(sm, add_self_loops=False)"
   ]
  },
  {
   "cell_type": "code",
   "execution_count": 6,
   "metadata": {},
   "outputs": [
    {
     "data": {
      "text/plain": [
       "array([[0.00127551, 0.00127551, 0.00127551, ..., 0.00111111, 0.00510204,\n",
       "        0.00510204],\n",
       "       [0.00127551, 0.00127551, 0.00127551, ..., 0.00111111, 0.00510204,\n",
       "        0.00510204],\n",
       "       [0.00127551, 0.00127551, 0.00127551, ..., 0.00111111, 0.00510204,\n",
       "        0.00510204],\n",
       "       ...,\n",
       "       [0.00127551, 0.00127551, 0.00127551, ..., 0.00111111, 0.00510204,\n",
       "        0.00510204],\n",
       "       [0.        , 0.        , 0.        , ..., 0.        , 0.00510204,\n",
       "        0.        ],\n",
       "       [0.        , 0.        , 0.        , ..., 0.        , 0.        ,\n",
       "        0.00510204]])"
      ]
     },
     "execution_count": 6,
     "metadata": {},
     "output_type": "execute_result"
    }
   ],
   "source": [
    "np.power(cm, 2)"
   ]
  },
  {
   "cell_type": "code",
   "execution_count": 7,
   "metadata": {},
   "outputs": [],
   "source": [
    "ccm = mat_pow2(cm, 2**30-1)"
   ]
  },
  {
   "cell_type": "code",
   "execution_count": 8,
   "metadata": {},
   "outputs": [],
   "source": [
    "for row in ccm:\n",
    "    for val in row:\n",
    "        if val == 0:\n",
    "            print(\"Found non-connection\")"
   ]
  },
  {
   "cell_type": "code",
   "execution_count": 9,
   "metadata": {},
   "outputs": [],
   "source": [
    "col1=ccm[:,1]"
   ]
  },
  {
   "cell_type": "code",
   "execution_count": 10,
   "metadata": {},
   "outputs": [
    {
     "data": {
      "text/plain": [
       "(0.049789330406121345, 0.0011302730415842937, 0.02270110950207381)"
      ]
     },
     "execution_count": 10,
     "metadata": {},
     "output_type": "execute_result"
    }
   ],
   "source": [
    "max(col1), min(col1), min(col1)/max(col1)"
   ]
  },
  {
   "cell_type": "code",
   "execution_count": 11,
   "metadata": {},
   "outputs": [
    {
     "data": {
      "text/plain": [
       "array([0.03762274, 0.03762274, 0.03762274, 0.03616931, 0.03616931,\n",
       "       0.03616931, 0.03616931, 0.03200765, 0.04978933, 0.03822689,\n",
       "       0.02308986, 0.0241092 , 0.02255081, 0.02255081, 0.02255081,\n",
       "       0.02443649, 0.02443649, 0.02427678, 0.03432769, 0.02889589,\n",
       "       0.03717735, 0.0354491 , 0.0354491 , 0.03762274, 0.03762274,\n",
       "       0.03762274, 0.03762274, 0.03762274, 0.03762274, 0.03513327,\n",
       "       0.00113027, 0.00113027])"
      ]
     },
     "execution_count": 11,
     "metadata": {},
     "output_type": "execute_result"
    }
   ],
   "source": [
    "col1"
   ]
  },
  {
   "cell_type": "code",
   "execution_count": 12,
   "metadata": {},
   "outputs": [
    {
     "data": {
      "text/plain": [
       "1 McDon~    0.130246\n",
       "2 Burge~    0.048155\n",
       "3 Wendy~    0.027258\n",
       "1 White~    0.042012\n",
       "2 Blue ~    0.032221\n",
       "3 Stude~    0.033791\n",
       "4 Famil~    0.067611\n",
       "1 Price     0.043988\n",
       "2 Produ~    0.073618\n",
       "3 Locat~    0.041171\n",
       "4 Deals     0.028133\n",
       "1 Nutri~    0.042212\n",
       "2 Recyc~    0.011739\n",
       "3 Waste~    0.007827\n",
       "4 Over ~    0.008663\n",
       "1 Perso~    0.053428\n",
       "2 Food ~    0.041907\n",
       "3 Site ~    0.028196\n",
       "1 Speed~    0.033210\n",
       "2 Seati~    0.013353\n",
       "3 Parki~    0.012449\n",
       "4 Deliv~    0.012232\n",
       "5 Drive~    0.011066\n",
       "1 Subs      0.022758\n",
       "2 Chick~    0.023697\n",
       "3 Pizza     0.030650\n",
       "4 Mexic~    0.016974\n",
       "5 Chine~    0.021018\n",
       "6 Steak     0.021530\n",
       "7 Diners    0.018290\n",
       "1 Short~    0.000298\n",
       "2 Mediu~    0.000298\n",
       "dtype: float64"
      ]
     },
     "execution_count": 12,
     "metadata": {},
     "output_type": "execute_result"
    }
   ],
   "source": [
    "net.global_priority()"
   ]
  },
  {
   "cell_type": "code",
   "execution_count": 13,
   "metadata": {},
   "outputs": [],
   "source": [
    "um = net.unscaled_supermatrix()"
   ]
  },
  {
   "cell_type": "code",
   "execution_count": 14,
   "metadata": {},
   "outputs": [
    {
     "data": {
      "text/plain": [
       "array([1.        , 0.24869508, 0.07406673])"
      ]
     },
     "metadata": {},
     "output_type": "display_data"
    },
    {
     "data": {
      "text/plain": [
       "array([1.        , 0.2816174 , 0.07889908])"
      ]
     },
     "metadata": {},
     "output_type": "display_data"
    },
    {
     "data": {
      "text/plain": [
       "array([1.        , 0.2816174 , 0.07889908])"
      ]
     },
     "metadata": {},
     "output_type": "display_data"
    },
    {
     "data": {
      "text/plain": [
       "array([1.        , 0.33907389, 0.09153923])"
      ]
     },
     "metadata": {},
     "output_type": "display_data"
    },
    {
     "data": {
      "text/plain": [
       "array([1.        , 0.32899429, 0.10779244])"
      ]
     },
     "metadata": {},
     "output_type": "display_data"
    },
    {
     "data": {
      "text/plain": [
       "array([1.        , 0.29926943, 0.11917965])"
      ]
     },
     "metadata": {},
     "output_type": "display_data"
    },
    {
     "data": {
      "text/plain": [
       "array([1.        , 0.29929376, 0.11915442])"
      ]
     },
     "metadata": {},
     "output_type": "display_data"
    },
    {
     "data": {
      "text/plain": [
       "array([1.        , 0.31546671, 0.13172985])"
      ]
     },
     "metadata": {},
     "output_type": "display_data"
    },
    {
     "data": {
      "text/plain": [
       "array([1.        , 0.28591522, 0.10878844])"
      ]
     },
     "metadata": {},
     "output_type": "display_data"
    },
    {
     "data": {
      "text/plain": [
       "array([1.        , 0.21036024, 0.08829871])"
      ]
     },
     "metadata": {},
     "output_type": "display_data"
    },
    {
     "data": {
      "text/plain": [
       "array([1.        , 0.25721567, 0.11079719])"
      ]
     },
     "metadata": {},
     "output_type": "display_data"
    },
    {
     "data": {
      "text/plain": [
       "array([1.        , 0.31551499, 0.13168188])"
      ]
     },
     "metadata": {},
     "output_type": "display_data"
    },
    {
     "data": {
      "text/plain": [
       "array([1.        , 0.24663965, 0.10110694])"
      ]
     },
     "metadata": {},
     "output_type": "display_data"
    },
    {
     "data": {
      "text/plain": [
       "array([1.        , 0.25717295, 0.11080457])"
      ]
     },
     "metadata": {},
     "output_type": "display_data"
    },
    {
     "data": {
      "text/plain": [
       "array([1.       , 0.3328474, 0.1664237])"
      ]
     },
     "metadata": {},
     "output_type": "display_data"
    },
    {
     "data": {
      "text/plain": [
       "array([1.        , 0.38080705, 0.21758788])"
      ]
     },
     "metadata": {},
     "output_type": "display_data"
    },
    {
     "name": "stderr",
     "output_type": "stream",
     "text": [
      "/Users/wjadams/anaconda3/lib/python3.6/site-packages/ipykernel_launcher.py:2: RuntimeWarning: invalid value encountered in true_divide\n",
      "  \n"
     ]
    },
    {
     "data": {
      "text/plain": [
       "array([nan, nan, nan])"
      ]
     },
     "metadata": {},
     "output_type": "display_data"
    },
    {
     "data": {
      "text/plain": [
       "array([nan, nan, nan])"
      ]
     },
     "metadata": {},
     "output_type": "display_data"
    },
    {
     "data": {
      "text/plain": [
       "array([nan, nan, nan])"
      ]
     },
     "metadata": {},
     "output_type": "display_data"
    },
    {
     "data": {
      "text/plain": [
       "array([1.        , 0.00548285, 0.00300156])"
      ]
     },
     "metadata": {},
     "output_type": "display_data"
    },
    {
     "data": {
      "text/plain": [
       "array([1., 1., 1.])"
      ]
     },
     "metadata": {},
     "output_type": "display_data"
    },
    {
     "data": {
      "text/plain": [
       "array([1.        , 0.27530334, 0.15122817])"
      ]
     },
     "metadata": {},
     "output_type": "display_data"
    },
    {
     "data": {
      "text/plain": [
       "array([1.        , 0.33531043, 0.14982283])"
      ]
     },
     "metadata": {},
     "output_type": "display_data"
    },
    {
     "data": {
      "text/plain": [
       "array([1.        , 0.38078262, 0.2176256 ])"
      ]
     },
     "metadata": {},
     "output_type": "display_data"
    },
    {
     "data": {
      "text/plain": [
       "array([1.        , 0.33531043, 0.14982283])"
      ]
     },
     "metadata": {},
     "output_type": "display_data"
    },
    {
     "data": {
      "text/plain": [
       "array([1.        , 0.38078262, 0.2176256 ])"
      ]
     },
     "metadata": {},
     "output_type": "display_data"
    },
    {
     "data": {
      "text/plain": [
       "array([1.        , 0.4364557 , 0.19054852])"
      ]
     },
     "metadata": {},
     "output_type": "display_data"
    },
    {
     "data": {
      "text/plain": [
       "array([1.        , 0.40503219, 0.16484391])"
      ]
     },
     "metadata": {},
     "output_type": "display_data"
    },
    {
     "data": {
      "text/plain": [
       "array([1.        , 0.32901489, 0.10776053])"
      ]
     },
     "metadata": {},
     "output_type": "display_data"
    }
   ],
   "source": [
    "for i in range(3,len(um)):\n",
    "    display(um[0:3,i]/um[0,i])"
   ]
  },
  {
   "cell_type": "markdown",
   "metadata": {},
   "source": [
    "# Ideas\n",
    "1. Structural matrix unscaled\n",
    "2. Structural matrix scaled\n",
    "3. Structural limit matrix\n",
    "3. Structural global priorities\n",
    "4. Structural alternative priorities\n",
    "5. Cyclic node groups"
   ]
  },
  {
   "cell_type": "code",
   "execution_count": 15,
   "metadata": {},
   "outputs": [
    {
     "data": {
      "text/plain": [
       "array([[0.03762274, 0.03762274, 0.03762274, ..., 0.03762274, 0.03762274,\n",
       "        0.03762274],\n",
       "       [0.03762274, 0.03762274, 0.03762274, ..., 0.03762274, 0.03762274,\n",
       "        0.03762274],\n",
       "       [0.03762274, 0.03762274, 0.03762274, ..., 0.03762274, 0.03762274,\n",
       "        0.03762274],\n",
       "       ...,\n",
       "       [0.03513327, 0.03513327, 0.03513327, ..., 0.03513327, 0.03513327,\n",
       "        0.03513327],\n",
       "       [0.00113027, 0.00113027, 0.00113027, ..., 0.00113027, 0.00113027,\n",
       "        0.00113027],\n",
       "       [0.00113027, 0.00113027, 0.00113027, ..., 0.00113027, 0.00113027,\n",
       "        0.00113027]])"
      ]
     },
     "execution_count": 15,
     "metadata": {},
     "output_type": "execute_result"
    }
   ],
   "source": [
    "net.limit_structurematrix()"
   ]
  },
  {
   "cell_type": "code",
   "execution_count": 16,
   "metadata": {},
   "outputs": [
    {
     "data": {
      "text/plain": [
       "1 McDon~    0.037623\n",
       "2 Burge~    0.037623\n",
       "3 Wendy~    0.037623\n",
       "1 White~    0.036169\n",
       "2 Blue ~    0.036169\n",
       "3 Stude~    0.036169\n",
       "4 Famil~    0.036169\n",
       "1 Price     0.032008\n",
       "2 Produ~    0.049789\n",
       "3 Locat~    0.038227\n",
       "4 Deals     0.023090\n",
       "1 Nutri~    0.024109\n",
       "2 Recyc~    0.022551\n",
       "3 Waste~    0.022551\n",
       "4 Over ~    0.022551\n",
       "1 Perso~    0.024436\n",
       "2 Food ~    0.024436\n",
       "3 Site ~    0.024277\n",
       "1 Speed~    0.034328\n",
       "2 Seati~    0.028896\n",
       "3 Parki~    0.037177\n",
       "4 Deliv~    0.035449\n",
       "5 Drive~    0.035449\n",
       "1 Subs      0.037623\n",
       "2 Chick~    0.037623\n",
       "3 Pizza     0.037623\n",
       "4 Mexic~    0.037623\n",
       "5 Chine~    0.037623\n",
       "6 Steak     0.037623\n",
       "7 Diners    0.035133\n",
       "1 Short~    0.001130\n",
       "2 Mediu~    0.001130\n",
       "dtype: float64"
      ]
     },
     "metadata": {},
     "output_type": "display_data"
    }
   ],
   "source": [
    "gp=net.structure_global_priority()\n",
    "display(gp)"
   ]
  },
  {
   "cell_type": "code",
   "execution_count": 17,
   "metadata": {},
   "outputs": [
    {
     "data": {
      "text/plain": [
       "44.05071038085815"
      ]
     },
     "execution_count": 17,
     "metadata": {},
     "output_type": "execute_result"
    }
   ],
   "source": [
    "gp['2 Produ~']/gp['1 Short~']"
   ]
  },
  {
   "cell_type": "code",
   "execution_count": 18,
   "metadata": {},
   "outputs": [
    {
     "data": {
      "text/plain": [
       "1 McDon~    0.333333\n",
       "2 Burge~    0.333333\n",
       "3 Wendy~    0.333333\n",
       "dtype: float64"
      ]
     },
     "execution_count": 18,
     "metadata": {},
     "output_type": "execute_result"
    }
   ],
   "source": [
    "net.structure_priority()"
   ]
  },
  {
   "cell_type": "code",
   "execution_count": 19,
   "metadata": {},
   "outputs": [
    {
     "data": {
      "text/plain": [
       "'Cluster=Alts'"
      ]
     },
     "metadata": {},
     "output_type": "display_data"
    },
    {
     "data": {
      "text/plain": [
       "1 McDon~    0.333333\n",
       "2 Burge~    0.333333\n",
       "3 Wendy~    0.333333\n",
       "dtype: float64"
      ]
     },
     "metadata": {},
     "output_type": "display_data"
    },
    {
     "data": {
      "text/plain": [
       "'Cluster=Customer Group'"
      ]
     },
     "metadata": {},
     "output_type": "display_data"
    },
    {
     "data": {
      "text/plain": [
       "1 White~    0.25\n",
       "2 Blue ~    0.25\n",
       "3 Stude~    0.25\n",
       "4 Famil~    0.25\n",
       "dtype: float64"
      ]
     },
     "metadata": {},
     "output_type": "display_data"
    },
    {
     "data": {
      "text/plain": [
       "'Cluster=Marketing Mix'"
      ]
     },
     "metadata": {},
     "output_type": "display_data"
    },
    {
     "data": {
      "text/plain": [
       "1 Price     0.223652\n",
       "2 Produ~    0.347900\n",
       "3 Locat~    0.267108\n",
       "4 Deals     0.161339\n",
       "dtype: float64"
      ]
     },
     "metadata": {},
     "output_type": "display_data"
    },
    {
     "data": {
      "text/plain": [
       "'Cluster=Contemporary'"
      ]
     },
     "metadata": {},
     "output_type": "display_data"
    },
    {
     "data": {
      "text/plain": [
       "1 Nutri~    0.262737\n",
       "2 Recyc~    0.245754\n",
       "3 Waste~    0.245754\n",
       "4 Over ~    0.245754\n",
       "dtype: float64"
      ]
     },
     "metadata": {},
     "output_type": "display_data"
    },
    {
     "data": {
      "text/plain": [
       "'Cluster=Public Health'"
      ]
     },
     "metadata": {},
     "output_type": "display_data"
    },
    {
     "data": {
      "text/plain": [
       "1 Perso~    0.334061\n",
       "2 Food ~    0.334061\n",
       "3 Site ~    0.331878\n",
       "dtype: float64"
      ]
     },
     "metadata": {},
     "output_type": "display_data"
    },
    {
     "data": {
      "text/plain": [
       "'Cluster=Traits'"
      ]
     },
     "metadata": {},
     "output_type": "display_data"
    },
    {
     "data": {
      "text/plain": [
       "1 Speed~    0.200396\n",
       "2 Seati~    0.168687\n",
       "3 Parki~    0.217032\n",
       "4 Deliv~    0.206943\n",
       "5 Drive~    0.206943\n",
       "dtype: float64"
      ]
     },
     "metadata": {},
     "output_type": "display_data"
    },
    {
     "data": {
      "text/plain": [
       "'Cluster=Indirect Competitors'"
      ]
     },
     "metadata": {},
     "output_type": "display_data"
    },
    {
     "data": {
      "text/plain": [
       "1 Subs      0.144220\n",
       "2 Chick~    0.144220\n",
       "3 Pizza     0.144220\n",
       "4 Mexic~    0.144220\n",
       "5 Chine~    0.144220\n",
       "6 Steak     0.144220\n",
       "7 Diners    0.134677\n",
       "dtype: float64"
      ]
     },
     "metadata": {},
     "output_type": "display_data"
    },
    {
     "data": {
      "text/plain": [
       "'Cluster=Time Horiz'"
      ]
     },
     "metadata": {},
     "output_type": "display_data"
    },
    {
     "data": {
      "text/plain": [
       "1 Short~    0.5\n",
       "2 Mediu~    0.5\n",
       "dtype: float64"
      ]
     },
     "metadata": {},
     "output_type": "display_data"
    }
   ],
   "source": [
    "for cluster in net.cluster_names():\n",
    "    display(\"Cluster=\"+cluster)\n",
    "    display(net.structure_priority(alt_names=net.node_names(cluster=cluster)))"
   ]
  },
  {
   "cell_type": "code",
   "execution_count": 27,
   "metadata": {},
   "outputs": [
    {
     "data": {
      "text/plain": [
       "Alts                    0.432661\n",
       "Customer Group          0.554596\n",
       "Marketing Mix           0.548602\n",
       "Contemporary            0.351753\n",
       "Public Health           0.280407\n",
       "Traits                  0.656646\n",
       "Indirect Competitors    1.000000\n",
       "Time Horiz              0.008665\n",
       "dtype: float64"
      ]
     },
     "execution_count": 27,
     "metadata": {},
     "output_type": "execute_result"
    }
   ],
   "source": [
    "v=net.structure_cluster_priority()\n",
    "v/max(v)"
   ]
  },
  {
   "cell_type": "code",
   "execution_count": 28,
   "metadata": {},
   "outputs": [
    {
     "data": {
      "text/plain": [
       "Alts                    1.000000\n",
       "Customer Group          0.961368\n",
       "Marketing Mix           0.950979\n",
       "Contemporary            0.609748\n",
       "Public Health           0.648099\n",
       "Traits                  0.910615\n",
       "Indirect Competitors    0.990547\n",
       "Time Horiz              0.030042\n",
       "dtype: float64"
      ]
     },
     "execution_count": 28,
     "metadata": {},
     "output_type": "execute_result"
    }
   ],
   "source": [
    "v=net.structure_cluster_priority(mean=True)\n",
    "v/max(v)"
   ]
  },
  {
   "cell_type": "code",
   "execution_count": null,
   "metadata": {},
   "outputs": [],
   "source": []
  }
 ],
 "metadata": {
  "kernelspec": {
   "display_name": "Python 3",
   "language": "python",
   "name": "python3"
  },
  "language_info": {
   "codemirror_mode": {
    "name": "ipython",
    "version": 3
   },
   "file_extension": ".py",
   "mimetype": "text/x-python",
   "name": "python",
   "nbconvert_exporter": "python",
   "pygments_lexer": "ipython3",
   "version": "3.6.5"
  },
  "toc": {
   "base_numbering": 1,
   "nav_menu": {},
   "number_sections": true,
   "sideBar": true,
   "skip_h1_title": false,
   "title_cell": "Table of Contents",
   "title_sidebar": "Contents",
   "toc_cell": false,
   "toc_position": {},
   "toc_section_display": true,
   "toc_window_display": false
  }
 },
 "nbformat": 4,
 "nbformat_minor": 2
}
