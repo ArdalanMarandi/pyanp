{
 "cells": [
  {
   "cell_type": "markdown",
   "metadata": {
    "heading_collapsed": true
   },
   "source": [
    "# Ideas around structural analysis of networks"
   ]
  },
  {
   "cell_type": "markdown",
   "metadata": {
    "heading_collapsed": true,
    "hidden": true
   },
   "source": [
    "## Import needed modules"
   ]
  },
  {
   "cell_type": "code",
   "execution_count": 1,
   "metadata": {
    "hidden": true
   },
   "outputs": [],
   "source": [
    "import sys\n",
    "sys.path.insert(0, \"../../\")\n",
    "from pyanp.anp import *\n",
    "from pyanp.limitmatrix import _mat_pow2 as mat_pow2, normalize\n",
    "from copy import deepcopy"
   ]
  },
  {
   "cell_type": "markdown",
   "metadata": {
    "heading_collapsed": true,
    "hidden": true
   },
   "source": [
    "## Load the model"
   ]
  },
  {
   "cell_type": "code",
   "execution_count": 2,
   "metadata": {
    "hidden": true
   },
   "outputs": [],
   "source": [
    "net = anp_from_excel(\"BigBurger.xlsx\")"
   ]
  },
  {
   "cell_type": "markdown",
   "metadata": {
    "heading_collapsed": true
   },
   "source": [
    "# Some useful structural calculations"
   ]
  },
  {
   "cell_type": "markdown",
   "metadata": {
    "heading_collapsed": true,
    "hidden": true
   },
   "source": [
    "## Let's look at the structural global priorities"
   ]
  },
  {
   "cell_type": "code",
   "execution_count": 3,
   "metadata": {
    "hidden": true
   },
   "outputs": [
    {
     "data": {
      "text/plain": [
       "1 McDon~    0.767002\n",
       "2 Burge~    0.767002\n",
       "3 Wendy~    0.767002\n",
       "1 White~    0.736360\n",
       "2 Blue ~    0.736360\n",
       "3 Stude~    0.736360\n",
       "4 Famil~    0.736360\n",
       "1 Price     0.654140\n",
       "2 Produ~    1.000000\n",
       "3 Locat~    0.763283\n",
       "4 Deals     0.465970\n",
       "1 Nutri~    0.479727\n",
       "2 Recyc~    0.451670\n",
       "3 Waste~    0.451670\n",
       "4 Over ~    0.455092\n",
       "1 Perso~    0.487928\n",
       "2 Food ~    0.486239\n",
       "3 Site ~    0.486239\n",
       "1 Speed~    0.680387\n",
       "2 Seati~    0.523636\n",
       "3 Parki~    0.628794\n",
       "4 Deliv~    0.691804\n",
       "5 Drive~    0.715389\n",
       "1 Subs      0.795409\n",
       "2 Chick~    0.795409\n",
       "3 Pizza     0.795409\n",
       "4 Mexic~    0.795409\n",
       "5 Chine~    0.795409\n",
       "6 Steak     0.795409\n",
       "7 Diners    0.742777\n",
       "1 Short~    0.022189\n",
       "2 Mediu~    0.022189\n",
       "dtype: float64"
      ]
     },
     "execution_count": 3,
     "metadata": {},
     "output_type": "execute_result"
    }
   ],
   "source": [
    "gp=net.structure_global_priority()\n",
    "gp/max(gp)"
   ]
  },
  {
   "cell_type": "markdown",
   "metadata": {
    "heading_collapsed": true,
    "hidden": true
   },
   "source": [
    "## Let's consider the structural alternative priorities"
   ]
  },
  {
   "cell_type": "code",
   "execution_count": 4,
   "metadata": {
    "hidden": true
   },
   "outputs": [
    {
     "data": {
      "text/plain": [
       "1 McDon~    0.333333\n",
       "2 Burge~    0.333333\n",
       "3 Wendy~    0.333333\n",
       "dtype: float64"
      ]
     },
     "execution_count": 4,
     "metadata": {},
     "output_type": "execute_result"
    }
   ],
   "source": [
    "net.structure_priority()"
   ]
  },
  {
   "cell_type": "markdown",
   "metadata": {
    "hidden": true
   },
   "source": [
    "and now look at the priority for each cluster"
   ]
  },
  {
   "cell_type": "code",
   "execution_count": 5,
   "metadata": {
    "hidden": true
   },
   "outputs": [
    {
     "data": {
      "text/plain": [
       "'Alts'"
      ]
     },
     "metadata": {},
     "output_type": "display_data"
    },
    {
     "data": {
      "text/plain": [
       "1 McDon~    0.333333\n",
       "2 Burge~    0.333333\n",
       "3 Wendy~    0.333333\n",
       "dtype: float64"
      ]
     },
     "metadata": {},
     "output_type": "display_data"
    },
    {
     "data": {
      "text/plain": [
       "'Customer Group'"
      ]
     },
     "metadata": {},
     "output_type": "display_data"
    },
    {
     "data": {
      "text/plain": [
       "1 White~    0.25\n",
       "2 Blue ~    0.25\n",
       "3 Stude~    0.25\n",
       "4 Famil~    0.25\n",
       "dtype: float64"
      ]
     },
     "metadata": {},
     "output_type": "display_data"
    },
    {
     "data": {
      "text/plain": [
       "'Marketing Mix'"
      ]
     },
     "metadata": {},
     "output_type": "display_data"
    },
    {
     "data": {
      "text/plain": [
       "1 Price     0.226865\n",
       "2 Produ~    0.346814\n",
       "3 Locat~    0.264717\n",
       "4 Deals     0.161605\n",
       "dtype: float64"
      ]
     },
     "metadata": {},
     "output_type": "display_data"
    },
    {
     "data": {
      "text/plain": [
       "'Contemporary'"
      ]
     },
     "metadata": {},
     "output_type": "display_data"
    },
    {
     "data": {
      "text/plain": [
       "1 Nutri~    0.260982\n",
       "2 Recyc~    0.245719\n",
       "3 Waste~    0.245719\n",
       "4 Over ~    0.247580\n",
       "dtype: float64"
      ]
     },
     "metadata": {},
     "output_type": "display_data"
    },
    {
     "data": {
      "text/plain": [
       "'Public Health'"
      ]
     },
     "metadata": {},
     "output_type": "display_data"
    },
    {
     "data": {
      "text/plain": [
       "1 Perso~    0.334104\n",
       "2 Food ~    0.332948\n",
       "3 Site ~    0.332948\n",
       "dtype: float64"
      ]
     },
     "metadata": {},
     "output_type": "display_data"
    },
    {
     "data": {
      "text/plain": [
       "'Traits'"
      ]
     },
     "metadata": {},
     "output_type": "display_data"
    },
    {
     "data": {
      "text/plain": [
       "1 Speed~    0.209995\n",
       "2 Seati~    0.161616\n",
       "3 Parki~    0.194072\n",
       "4 Deliv~    0.213519\n",
       "5 Drive~    0.220798\n",
       "dtype: float64"
      ]
     },
     "metadata": {},
     "output_type": "display_data"
    },
    {
     "data": {
      "text/plain": [
       "'Indirect Competitors'"
      ]
     },
     "metadata": {},
     "output_type": "display_data"
    },
    {
     "data": {
      "text/plain": [
       "1 Subs      0.144220\n",
       "2 Chick~    0.144220\n",
       "3 Pizza     0.144220\n",
       "4 Mexic~    0.144220\n",
       "5 Chine~    0.144220\n",
       "6 Steak     0.144220\n",
       "7 Diners    0.134677\n",
       "dtype: float64"
      ]
     },
     "metadata": {},
     "output_type": "display_data"
    },
    {
     "data": {
      "text/plain": [
       "'Time Horiz'"
      ]
     },
     "metadata": {},
     "output_type": "display_data"
    },
    {
     "data": {
      "text/plain": [
       "1 Short~    0.5\n",
       "2 Mediu~    0.5\n",
       "dtype: float64"
      ]
     },
     "metadata": {},
     "output_type": "display_data"
    }
   ],
   "source": [
    "for cluster in net.cluster_names():\n",
    "    display(cluster)\n",
    "    display(net.structure_priority(alt_names=net.node_names(cluster)))"
   ]
  },
  {
   "cell_type": "markdown",
   "metadata": {
    "heading_collapsed": true,
    "hidden": true
   },
   "source": [
    "## Let's consider cluster structure priorities"
   ]
  },
  {
   "cell_type": "code",
   "execution_count": 6,
   "metadata": {
    "hidden": true
   },
   "outputs": [
    {
     "data": {
      "text/plain": [
       "Alts                    0.417209\n",
       "Customer Group          0.534055\n",
       "Marketing Mix           0.522805\n",
       "Contemporary            0.333288\n",
       "Public Health           0.264795\n",
       "Traits                  0.587466\n",
       "Indirect Competitors    1.000000\n",
       "Time Horiz              0.008046\n",
       "dtype: float64"
      ]
     },
     "execution_count": 6,
     "metadata": {},
     "output_type": "execute_result"
    }
   ],
   "source": [
    "gp=net.structure_cluster_priority()\n",
    "gp/max(gp)"
   ]
  },
  {
   "cell_type": "markdown",
   "metadata": {
    "hidden": true
   },
   "source": [
    "* `Indirect Competitors` has the most structural importance **in total**\n",
    "* `Time Horiz` is completely useless"
   ]
  },
  {
   "cell_type": "markdown",
   "metadata": {
    "heading_collapsed": true,
    "hidden": true
   },
   "source": [
    "## Now consider cluster structure priorities by average importance of the nodes within"
   ]
  },
  {
   "cell_type": "code",
   "execution_count": 7,
   "metadata": {
    "hidden": true
   },
   "outputs": [
    {
     "data": {
      "text/plain": [
       "Alts                    0.973488\n",
       "Customer Group          0.934597\n",
       "Marketing Mix           0.914909\n",
       "Contemporary            0.583253\n",
       "Public Health           0.617855\n",
       "Traits                  0.822452\n",
       "Indirect Competitors    1.000000\n",
       "Time Horiz              0.028163\n",
       "dtype: float64"
      ]
     },
     "execution_count": 7,
     "metadata": {},
     "output_type": "execute_result"
    }
   ],
   "source": [
    "gp=net.structure_cluster_priority(mean=True)\n",
    "gp/max(gp)"
   ]
  },
  {
   "cell_type": "markdown",
   "metadata": {
    "hidden": true
   },
   "source": [
    "* Now `Alts` are most important by average of the nodes\n",
    "* `Indirect Competitors` is still amazing, just not quite as"
   ]
  },
  {
   "cell_type": "markdown",
   "metadata": {
    "heading_collapsed": true
   },
   "source": [
    "# Try another simple model\n",
    "This is one I've created to have a bad structure"
   ]
  },
  {
   "cell_type": "code",
   "execution_count": 8,
   "metadata": {
    "hidden": true
   },
   "outputs": [],
   "source": [
    "net = anp_from_excel(\"model1.xlsx\")"
   ]
  },
  {
   "cell_type": "code",
   "execution_count": 9,
   "metadata": {
    "hidden": true
   },
   "outputs": [
    {
     "data": {
      "text/plain": [
       "goal1    0.342255\n",
       "goal2    0.313400\n",
       "good1    0.072757\n",
       "good2    0.119431\n",
       "dead1    0.098840\n",
       "alt1     0.025364\n",
       "alt2     0.027953\n",
       "dtype: float64"
      ]
     },
     "execution_count": 9,
     "metadata": {},
     "output_type": "execute_result"
    }
   ],
   "source": [
    "net.global_priority()"
   ]
  },
  {
   "cell_type": "code",
   "execution_count": 10,
   "metadata": {
    "hidden": true
   },
   "outputs": [
    {
     "data": {
      "text/plain": [
       "goal1    0.258264\n",
       "goal2    0.258264\n",
       "good1    0.116993\n",
       "good2    0.116993\n",
       "dead1    0.116993\n",
       "alt1     0.066247\n",
       "alt2     0.066247\n",
       "dtype: float64"
      ]
     },
     "execution_count": 10,
     "metadata": {},
     "output_type": "execute_result"
    }
   ],
   "source": [
    "net.structure_global_priority()"
   ]
  },
  {
   "cell_type": "code",
   "execution_count": 11,
   "metadata": {
    "hidden": true
   },
   "outputs": [],
   "source": [
    "a=net.scaled_structurematrix(as_df=True)"
   ]
  },
  {
   "cell_type": "code",
   "execution_count": 12,
   "metadata": {
    "hidden": true
   },
   "outputs": [
    {
     "data": {
      "text/html": [
       "<div>\n",
       "<style scoped>\n",
       "    .dataframe tbody tr th:only-of-type {\n",
       "        vertical-align: middle;\n",
       "    }\n",
       "\n",
       "    .dataframe tbody tr th {\n",
       "        vertical-align: top;\n",
       "    }\n",
       "\n",
       "    .dataframe thead th {\n",
       "        text-align: right;\n",
       "    }\n",
       "</style>\n",
       "<table border=\"1\" class=\"dataframe\">\n",
       "  <thead>\n",
       "    <tr style=\"text-align: right;\">\n",
       "      <th></th>\n",
       "      <th>goal1</th>\n",
       "      <th>goal2</th>\n",
       "      <th>good1</th>\n",
       "      <th>good2</th>\n",
       "      <th>dead1</th>\n",
       "      <th>alt1</th>\n",
       "      <th>alt2</th>\n",
       "    </tr>\n",
       "  </thead>\n",
       "  <tbody>\n",
       "    <tr>\n",
       "      <th>goal1</th>\n",
       "      <td>0.258264</td>\n",
       "      <td>0.258264</td>\n",
       "      <td>0.258264</td>\n",
       "      <td>0.258264</td>\n",
       "      <td>0.0</td>\n",
       "      <td>0.258264</td>\n",
       "      <td>0.258264</td>\n",
       "    </tr>\n",
       "    <tr>\n",
       "      <th>goal2</th>\n",
       "      <td>0.258264</td>\n",
       "      <td>0.258264</td>\n",
       "      <td>0.258264</td>\n",
       "      <td>0.258264</td>\n",
       "      <td>0.0</td>\n",
       "      <td>0.258264</td>\n",
       "      <td>0.258264</td>\n",
       "    </tr>\n",
       "    <tr>\n",
       "      <th>good1</th>\n",
       "      <td>0.116993</td>\n",
       "      <td>0.116993</td>\n",
       "      <td>0.116993</td>\n",
       "      <td>0.116993</td>\n",
       "      <td>0.0</td>\n",
       "      <td>0.116993</td>\n",
       "      <td>0.116993</td>\n",
       "    </tr>\n",
       "    <tr>\n",
       "      <th>good2</th>\n",
       "      <td>0.116993</td>\n",
       "      <td>0.116993</td>\n",
       "      <td>0.116993</td>\n",
       "      <td>0.116993</td>\n",
       "      <td>0.0</td>\n",
       "      <td>0.116993</td>\n",
       "      <td>0.116993</td>\n",
       "    </tr>\n",
       "    <tr>\n",
       "      <th>dead1</th>\n",
       "      <td>0.116993</td>\n",
       "      <td>0.116993</td>\n",
       "      <td>0.116993</td>\n",
       "      <td>0.116993</td>\n",
       "      <td>0.0</td>\n",
       "      <td>0.116993</td>\n",
       "      <td>0.116993</td>\n",
       "    </tr>\n",
       "    <tr>\n",
       "      <th>alt1</th>\n",
       "      <td>0.066247</td>\n",
       "      <td>0.066247</td>\n",
       "      <td>0.066247</td>\n",
       "      <td>0.066247</td>\n",
       "      <td>0.0</td>\n",
       "      <td>0.066247</td>\n",
       "      <td>0.066247</td>\n",
       "    </tr>\n",
       "    <tr>\n",
       "      <th>alt2</th>\n",
       "      <td>0.066247</td>\n",
       "      <td>0.066247</td>\n",
       "      <td>0.066247</td>\n",
       "      <td>0.066247</td>\n",
       "      <td>0.0</td>\n",
       "      <td>0.066247</td>\n",
       "      <td>0.066247</td>\n",
       "    </tr>\n",
       "  </tbody>\n",
       "</table>\n",
       "</div>"
      ],
      "text/plain": [
       "          goal1     goal2     good1     good2  dead1      alt1      alt2\n",
       "goal1  0.258264  0.258264  0.258264  0.258264    0.0  0.258264  0.258264\n",
       "goal2  0.258264  0.258264  0.258264  0.258264    0.0  0.258264  0.258264\n",
       "good1  0.116993  0.116993  0.116993  0.116993    0.0  0.116993  0.116993\n",
       "good2  0.116993  0.116993  0.116993  0.116993    0.0  0.116993  0.116993\n",
       "dead1  0.116993  0.116993  0.116993  0.116993    0.0  0.116993  0.116993\n",
       "alt1   0.066247  0.066247  0.066247  0.066247    0.0  0.066247  0.066247\n",
       "alt2   0.066247  0.066247  0.066247  0.066247    0.0  0.066247  0.066247"
      ]
     },
     "execution_count": 12,
     "metadata": {},
     "output_type": "execute_result"
    }
   ],
   "source": [
    "pd.DataFrame(calculus(a.values), index = a.index, columns=a.index)"
   ]
  },
  {
   "cell_type": "code",
   "execution_count": 13,
   "metadata": {
    "hidden": true
   },
   "outputs": [
    {
     "data": {
      "text/plain": [
       "Root       0.516528\n",
       "Midvale    0.350979\n",
       "Alts       0.132494\n",
       "dtype: float64"
      ]
     },
     "execution_count": 13,
     "metadata": {},
     "output_type": "execute_result"
    }
   ],
   "source": [
    "net.structure_cluster_priority()"
   ]
  },
  {
   "cell_type": "markdown",
   "metadata": {
    "heading_collapsed": true,
    "hidden": true
   },
   "source": [
    "## Weird conclusion"
   ]
  },
  {
   "cell_type": "markdown",
   "metadata": {
    "hidden": true
   },
   "source": [
    "* Why does `dead1` have priority at all in the limit?"
   ]
  },
  {
   "cell_type": "markdown",
   "metadata": {},
   "source": [
    "# Minor adjustment and see if it makes a change"
   ]
  },
  {
   "cell_type": "code",
   "execution_count": 14,
   "metadata": {},
   "outputs": [],
   "source": [
    "net = anp_from_excel(\"model1a.xlsx\")"
   ]
  },
  {
   "cell_type": "code",
   "execution_count": 15,
   "metadata": {},
   "outputs": [
    {
     "data": {
      "text/plain": [
       "goal1    0.342566\n",
       "goal2    0.339252\n",
       "good1    0.068182\n",
       "good2    0.204545\n",
       "dead1    0.000000\n",
       "alt1     0.020455\n",
       "alt2     0.025000\n",
       "dtype: float64"
      ]
     },
     "execution_count": 15,
     "metadata": {},
     "output_type": "execute_result"
    }
   ],
   "source": [
    "net.global_priority()"
   ]
  },
  {
   "cell_type": "code",
   "execution_count": 16,
   "metadata": {},
   "outputs": [
    {
     "data": {
      "text/plain": [
       "goal1    0.285714\n",
       "goal2    0.285714\n",
       "good1    0.142857\n",
       "good2    0.142857\n",
       "dead1    0.000000\n",
       "alt1     0.071429\n",
       "alt2     0.071429\n",
       "dtype: float64"
      ]
     },
     "execution_count": 16,
     "metadata": {},
     "output_type": "execute_result"
    }
   ],
   "source": [
    "net.structure_global_priority()"
   ]
  },
  {
   "cell_type": "markdown",
   "metadata": {},
   "source": [
    "# Another attempt"
   ]
  },
  {
   "cell_type": "code",
   "execution_count": 17,
   "metadata": {},
   "outputs": [
    {
     "data": {
      "text/plain": [
       "goal1    0.304424\n",
       "goal2    0.368685\n",
       "good1    0.086303\n",
       "good2    0.106970\n",
       "dead1    0.094962\n",
       "alt1     0.018914\n",
       "alt2     0.019741\n",
       "dtype: float64"
      ]
     },
     "execution_count": 17,
     "metadata": {},
     "output_type": "execute_result"
    }
   ],
   "source": [
    "net = anp_from_excel(\"model1b.xlsx\")\n",
    "net.global_priority()"
   ]
  },
  {
   "cell_type": "code",
   "execution_count": 18,
   "metadata": {},
   "outputs": [
    {
     "data": {
      "text/plain": [
       "goal1    0.230769\n",
       "goal2    0.282051\n",
       "good1    0.153846\n",
       "good2    0.102564\n",
       "dead1    0.102564\n",
       "alt1     0.064103\n",
       "alt2     0.064103\n",
       "dtype: float64"
      ]
     },
     "execution_count": 18,
     "metadata": {},
     "output_type": "execute_result"
    }
   ],
   "source": [
    "net.structure_global_priority()"
   ]
  },
  {
   "cell_type": "markdown",
   "metadata": {},
   "source": [
    "# Again"
   ]
  },
  {
   "cell_type": "code",
   "execution_count": 19,
   "metadata": {},
   "outputs": [
    {
     "data": {
      "text/plain": [
       "goal1    0.285714\n",
       "goal2    0.285714\n",
       "good1    0.142857\n",
       "good2    0.142857\n",
       "dead1    0.000000\n",
       "alt1     0.071429\n",
       "alt2     0.071429\n",
       "dtype: float64"
      ]
     },
     "execution_count": 19,
     "metadata": {},
     "output_type": "execute_result"
    }
   ],
   "source": [
    "net = anp_from_excel(\"model1aa.xlsx\")\n",
    "net.structure_global_priority()"
   ]
  },
  {
   "cell_type": "code",
   "execution_count": null,
   "metadata": {},
   "outputs": [],
   "source": []
  }
 ],
 "metadata": {
  "kernelspec": {
   "display_name": "Python 3",
   "language": "python",
   "name": "python3"
  },
  "language_info": {
   "codemirror_mode": {
    "name": "ipython",
    "version": 3
   },
   "file_extension": ".py",
   "mimetype": "text/x-python",
   "name": "python",
   "nbconvert_exporter": "python",
   "pygments_lexer": "ipython3",
   "version": "3.6.5"
  },
  "toc": {
   "base_numbering": 1,
   "nav_menu": {},
   "number_sections": true,
   "sideBar": true,
   "skip_h1_title": false,
   "title_cell": "Table of Contents",
   "title_sidebar": "Contents",
   "toc_cell": false,
   "toc_position": {},
   "toc_section_display": true,
   "toc_window_display": false
  }
 },
 "nbformat": 4,
 "nbformat_minor": 2
}
