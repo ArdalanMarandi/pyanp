{
 "cells": [
  {
   "cell_type": "markdown",
   "metadata": {},
   "source": [
    "# Initial calculation code"
   ]
  },
  {
   "cell_type": "code",
   "execution_count": null,
   "metadata": {
    "collapsed": true
   },
   "outputs": [],
   "source": [
    "import numpy as np\n",
    "\n",
    "def geom_avg(vals):\n",
    "    \"\"\"\n",
    "    Compute the geometric average of a list of values.\n",
    "    \n",
    "    The values need not be a list, but simply anything with a len() and []\n",
    "    \"\"\"\n",
    "    rval=1.0\n",
    "    count = 0\n",
    "    for val in vals:\n",
    "        val = vals[count]\n",
    "        if val != 0:\n",
    "            rval *= val\n",
    "            count+=1\n",
    "    if count != 0:\n",
    "        rval = pow(rval, 1.0/count)\n",
    "    return(rval)\n",
    "\n",
    "def geom_avg_mat(mat, coeffs = None):\n",
    "    '''\n",
    "    Computes the geometric average of the columns of a matrix.  Returns\n",
    "    an np.array of dimension [nRowsOfMat], i.e. a vector.  \n",
    "    \n",
    "    :param mat: Must be an numpy.array of shape [nRows, nCols]\n",
    "    :param coeffs:  If not None, it is a list like object with nColsOfMat elements.\n",
    "    We multiply column 0 of mat by coeffs[0], column 1 of mat by coeffs[1], etc\n",
    "    and then do the geometric average of the columns.  Essentially this weights the\n",
    "    columns.\n",
    "    '''\n",
    "    \"\"\"\n",
    "    \"\"\"\n",
    "    size = mat.shape[0]\n",
    "    rval = np.ones([size])\n",
    "    for row in range(size):\n",
    "        if np.any(coeffs):\n",
    "            theRow = mat[row,:] * np.array(coeffs)\n",
    "        else:\n",
    "            theRow = mat[row,:]\n",
    "        rval[row] = geom_avg(theRow)\n",
    "    return(rval)\n",
    "\n",
    "def bpriorities(mat, error = 1e-10):\n",
    "    \"\"\"\n",
    "    Calculates priorities using Bill's method\n",
    "    \"\"\"\n",
    "    size = mat.shape[0]\n",
    "    vec = np.ones([size])\n",
    "    diff = 1\n",
    "    count=0\n",
    "    while diff >= error and count < 100:\n",
    "        nextv = geom_avg_mat(mat, vec)\n",
    "        #nextv = nextv/max(nextv)\n",
    "        diff = max(abs(nextv - vec))\n",
    "        vec = nextv\n",
    "        count+=1\n",
    "    return(vec/sum(vec))\n",
    "\n",
    "def gm_priorities(mat):\n",
    "    '''\n",
    "    Calculates the priorities using the geometric mean method\n",
    "    :param mat: An numpy.array of dimension [size,size]\n",
    "    '''\n",
    "    rval = geom_avg_mat(mat)\n",
    "    rval = rval / sum(rval)\n",
    "    return(rval)\n",
    "\n",
    "def harker_fix(mat):\n",
    "    \"\"\"\n",
    "    Performs Harkers fix on the numpy matrix mat.  It returns a copy with the fix.\n",
    "    The function does not change the matrix mat.\n",
    "    :param mat: A numpy array\n",
    "    :return: A copy of mat with Harker's fix applied to it\n",
    "    \"\"\"\n",
    "    nrows = mat.shape[0]\n",
    "    ncols = mat.shape[1]\n",
    "    rval = mat.copy()\n",
    "    for row in range(nrows):\n",
    "        val = 1\n",
    "        for col in range(ncols):\n",
    "            if col != row and mat[row,col]==0:\n",
    "                val+=1\n",
    "        rval[row,row]=val\n",
    "    return(rval)\n",
    "\n",
    "def largest_eigen(mat, error = 1e-10, use_harker = False, initv = None):\n",
    "    '''\n",
    "    Calculates the largest eigen vector of a matrix\n",
    "    \n",
    "    :param mat: A square numpy array.\n",
    "    :return: A numpy vector that is the normalized (sum to 1) largest eigenvector.\n",
    "    '''\n",
    "    if use_harker:\n",
    "        mat = harker_fix(mat)\n",
    "    size = mat.shape[0]\n",
    "    if initv is not None:\n",
    "        vec = initv\n",
    "    else:\n",
    "        vec = np.ones([size])\n",
    "    diff = 1\n",
    "    print(vec)\n",
    "    while diff > error:\n",
    "        nextv = np.matmul(mat, vec)\n",
    "        nextv = nextv/sum(nextv)\n",
    "        diff = max(abs(nextv - vec))\n",
    "        vec = nextv\n",
    "    return(vec)\n",
    "\n",
    "def priority_error(pwmat, privec):\n",
    "    rval = 0\n",
    "    diffsum = 0\n",
    "    count = 0\n",
    "    size = pwmat.shape[0]\n",
    "    for i in range(0, size):\n",
    "        for j in range (0, size):\n",
    "            if pwmat[i,j] != 0:\n",
    "                diffsum += (pwmat[i,j] - privec[i]/privec[j])**2\n",
    "                count += 1\n",
    "    if count == 0:\n",
    "        return 0\n",
    "    else:\n",
    "        return diffsum ** (1.0/2)\n",
    "    \n",
    "def ratio_priority_error(pwmat, privec):\n",
    "    rval = 1\n",
    "    diffsum = 0\n",
    "    count = 0\n",
    "    ratio = 1\n",
    "    score = 0\n",
    "    size = pwmat.shape[0]\n",
    "    for i in range(0, size):\n",
    "        for j in range (0, size):\n",
    "            if (pwmat[i,j] >= 1) and (i != j):\n",
    "                ratio = pwmat[i,j]/(privec[i]/privec[j])\n",
    "                if ratio >= 1:\n",
    "                    score = ratio - 1\n",
    "                else:\n",
    "                    score = 1/ratio - 1\n",
    "                diffsum += score\n",
    "                count += 1\n",
    "                #print(\"ratio={} diffprod={}\".format(ratio, diffprod))\n",
    "    if count == 0:\n",
    "        return 0\n",
    "    else:\n",
    "        return diffsum * (1.0/count)\n",
    "    \n",
    "def ratio_priority_error_prod(pwmat, privec):\n",
    "    rval = 1\n",
    "    diffprod = 1\n",
    "    count = 0\n",
    "    ratio = 1\n",
    "    size = pwmat.shape[0]\n",
    "    for i in range(0, size):\n",
    "        for j in range (0, size):\n",
    "            if (pwmat[i,j] >= 1) and (i != j):\n",
    "                ratio = pwmat[i,j]/(privec[i]/privec[j])\n",
    "                diffprod *= ratio\n",
    "                count += 1\n",
    "                print(\"ratio={} diffprod={}\".format(ratio, diffprod))\n",
    "    print(diffprod)\n",
    "    if count == 0:\n",
    "        return 0\n",
    "    else:\n",
    "        return diffprod ** (1.0/count)\n",
    "    \n",
    "def ratio_mat(pv):\n",
    "    size = len(pv)\n",
    "    rval = np.identity(n=size)\n",
    "    for row in range(size):\n",
    "        for col in range(size):\n",
    "            rval[row,col]=pv[row]/pv[col]\n",
    "    return rval"
   ]
  },
  {
   "cell_type": "markdown",
   "metadata": {},
   "source": [
    "# First round of calculations"
   ]
  },
  {
   "cell_type": "markdown",
   "metadata": {},
   "source": [
    "## The matrix and largest eigen"
   ]
  },
  {
   "cell_type": "code",
   "execution_count": 2,
   "metadata": {
    "collapsed": false
   },
   "outputs": [
    {
     "data": {
      "text/plain": [
       "array([[ 1.        ,  2.        ,  0.11111111],\n",
       "       [ 0.5       ,  1.        ,  2.        ],\n",
       "       [ 9.        ,  0.5       ,  1.        ]])"
      ]
     },
     "execution_count": 2,
     "metadata": {},
     "output_type": "execute_result"
    }
   ],
   "source": [
    "mat = np.array([[1, 2, 1/9], [1/2, 1, 2], [9, 1/2, 1]])\n",
    "mat"
   ]
  },
  {
   "cell_type": "code",
   "execution_count": 3,
   "metadata": {
    "collapsed": false
   },
   "outputs": [
    {
     "name": "stdout",
     "output_type": "stream",
     "text": [
      "[ 1.  1.  1.]\n"
     ]
    },
    {
     "data": {
      "text/plain": [
       "array([ 0.18598961,  0.30706208,  0.50694832])"
      ]
     },
     "execution_count": 3,
     "metadata": {},
     "output_type": "execute_result"
    }
   ],
   "source": [
    "leigen = largest_eigen(mat, error=1e-15)\n",
    "leigen"
   ]
  },
  {
   "cell_type": "markdown",
   "metadata": {},
   "source": [
    "## Calculate the mismatch of the priority vector vs the pairwise matrix"
   ]
  },
  {
   "cell_type": "code",
   "execution_count": 4,
   "metadata": {
    "collapsed": false
   },
   "outputs": [
    {
     "data": {
      "text/plain": [
       "6.7801209182673734"
      ]
     },
     "execution_count": 4,
     "metadata": {},
     "output_type": "execute_result"
    }
   ],
   "source": [
    "priority_error(mat, leigen)"
   ]
  },
  {
   "cell_type": "markdown",
   "metadata": {},
   "source": [
    "## Check gradient of error function\n",
    "It should be all zeroes at `leigen` if that is a minimimum."
   ]
  },
  {
   "cell_type": "code",
   "execution_count": 5,
   "metadata": {
    "collapsed": true
   },
   "outputs": [],
   "source": [
    "my_error = lambda x: priority_error(mat, x)"
   ]
  },
  {
   "cell_type": "code",
   "execution_count": 6,
   "metadata": {
    "collapsed": true
   },
   "outputs": [],
   "source": [
    "from scipy.misc import derivative\n",
    "from scipy.optimize import approx_fprime, minimize"
   ]
  },
  {
   "cell_type": "code",
   "execution_count": 7,
   "metadata": {
    "collapsed": false
   },
   "outputs": [
    {
     "data": {
      "text/plain": [
       "array([ 11.36868377,   0.        ,  -4.26325641])"
      ]
     },
     "execution_count": 7,
     "metadata": {},
     "output_type": "execute_result"
    }
   ],
   "source": [
    "eps = 1e-14\n",
    "approx_fprime(leigen, my_error, eps)"
   ]
  },
  {
   "cell_type": "markdown",
   "metadata": {},
   "source": [
    "## Minimize priority_error(mat, *)\n",
    "**It is not all zeroes, it looks like we can get a smaller error!**"
   ]
  },
  {
   "cell_type": "code",
   "execution_count": 8,
   "metadata": {
    "collapsed": true
   },
   "outputs": [],
   "source": [
    "rval = minimize(my_error, leigen, bounds=[(.01, 1), (.01, 1), (.01, 1)])"
   ]
  },
  {
   "cell_type": "code",
   "execution_count": 9,
   "metadata": {
    "collapsed": false
   },
   "outputs": [
    {
     "data": {
      "text/plain": [
       "array([ 0.08367377,  0.23820359,  0.67812264])"
      ]
     },
     "execution_count": 9,
     "metadata": {},
     "output_type": "execute_result"
    }
   ],
   "source": [
    "newpv = rval.x / sum(rval.x)\n",
    "newpv"
   ]
  },
  {
   "cell_type": "code",
   "execution_count": 10,
   "metadata": {
    "collapsed": false
   },
   "outputs": [
    {
     "data": {
      "text/plain": [
       "(array([ 0.18598961,  0.30706208,  0.50694832]),\n",
       " array([ 0.08367377,  0.23820359,  0.67812264]))"
      ]
     },
     "execution_count": 10,
     "metadata": {},
     "output_type": "execute_result"
    }
   ],
   "source": [
    "# This is not the same, let's see them both together\n",
    "leigen, newpv"
   ]
  },
  {
   "cell_type": "code",
   "execution_count": 11,
   "metadata": {
    "collapsed": false
   },
   "outputs": [
    {
     "data": {
      "text/plain": [
       "(6.7801209182673734, 4.1537975084868064)"
      ]
     },
     "execution_count": 11,
     "metadata": {},
     "output_type": "execute_result"
    }
   ],
   "source": [
    "# Let's look at the error of the eigen vs newpv\n",
    "my_error(leigen), my_error(newpv)"
   ]
  },
  {
   "cell_type": "code",
   "execution_count": 12,
   "metadata": {
    "collapsed": false
   },
   "outputs": [
    {
     "data": {
      "text/plain": [
       "(array([[ 1.        ,  0.60570686,  0.36688081],\n",
       "        [ 1.65096362,  1.        ,  0.60570686],\n",
       "        [ 2.72568089,  1.65096362,  1.        ]]),\n",
       " None,\n",
       " array([[ 1.        ,  0.35127   ,  0.12339033],\n",
       "        [ 2.84681298,  1.        ,  0.35126919],\n",
       "        [ 8.10436291,  2.84681957,  1.        ]]))"
      ]
     },
     "execution_count": 12,
     "metadata": {},
     "output_type": "execute_result"
    }
   ],
   "source": [
    "# Well that is surprising, approximately a 10% decline in error\n",
    "# Let's consider the ratio matrix for both eigen and newpv\n",
    "ratio_mat(leigen), None, ratio_mat(newpv)"
   ]
  },
  {
   "cell_type": "code",
   "execution_count": 13,
   "metadata": {
    "collapsed": false
   },
   "outputs": [
    {
     "data": {
      "text/plain": [
       "array([[ 1.        ,  0.60570686,  0.36688081],\n",
       "       [ 1.65096362,  1.        ,  0.60570686],\n",
       "       [ 2.72568089,  1.65096362,  1.        ]])"
      ]
     },
     "execution_count": 13,
     "metadata": {},
     "output_type": "execute_result"
    }
   ],
   "source": [
    "ratio_mat(leigen)"
   ]
  },
  {
   "cell_type": "code",
   "execution_count": 14,
   "metadata": {
    "collapsed": false
   },
   "outputs": [
    {
     "data": {
      "text/plain": [
       "4.1537975084868064"
      ]
     },
     "execution_count": 14,
     "metadata": {},
     "output_type": "execute_result"
    }
   ],
   "source": [
    "my_error(rval.x)"
   ]
  },
  {
   "cell_type": "markdown",
   "metadata": {},
   "source": [
    "## Try doing a similar calculation with my new priority calculation"
   ]
  },
  {
   "cell_type": "code",
   "execution_count": 15,
   "metadata": {
    "collapsed": true
   },
   "outputs": [],
   "source": [
    "bpv=bpriorities(mat)"
   ]
  },
  {
   "cell_type": "code",
   "execution_count": 16,
   "metadata": {
    "collapsed": false
   },
   "outputs": [
    {
     "data": {
      "text/plain": [
       "(array([ 0.18598961,  0.30706208,  0.50694832]),\n",
       " array([ 0.18598961,  0.30706208,  0.50694832]),\n",
       " array([ 0.08367377,  0.23820359,  0.67812264]))"
      ]
     },
     "execution_count": 16,
     "metadata": {},
     "output_type": "execute_result"
    }
   ],
   "source": [
    "leigen, bpv, newpv"
   ]
  },
  {
   "cell_type": "markdown",
   "metadata": {},
   "source": [
    "Whoops, I forgot my new calculation agrees with the standard eigen for 3x3 matrices, let's just check for the transpose as well, for giggles"
   ]
  },
  {
   "cell_type": "code",
   "execution_count": 17,
   "metadata": {
    "collapsed": false
   },
   "outputs": [
    {
     "data": {
      "text/plain": [
       "(array([ 0.50694832,  0.30706208,  0.18598961]),\n",
       " array([ 0.50694832,  0.30706208,  0.18598961]))"
      ]
     },
     "execution_count": 17,
     "metadata": {},
     "output_type": "execute_result"
    }
   ],
   "source": [
    "tbpv = bpriorities(mat.transpose())\n",
    "ibpv = 1/bpv\n",
    "ibpv = ibpv / sum(ibpv)\n",
    "tbpv, ibpv"
   ]
  },
  {
   "cell_type": "code",
   "execution_count": 18,
   "metadata": {
    "collapsed": false
   },
   "outputs": [
    {
     "name": "stdout",
     "output_type": "stream",
     "text": [
      "[ 1.  1.  1.]\n"
     ]
    },
    {
     "data": {
      "text/plain": [
       "array([ 0.50694832,  0.30706208,  0.18598961])"
      ]
     },
     "execution_count": 18,
     "metadata": {},
     "output_type": "execute_result"
    }
   ],
   "source": [
    "largest_eigen(mat.transpose())"
   ]
  },
  {
   "cell_type": "markdown",
   "metadata": {},
   "source": [
    "## Trying a new idea for convergence"
   ]
  },
  {
   "cell_type": "code",
   "execution_count": 19,
   "metadata": {
    "collapsed": true
   },
   "outputs": [],
   "source": [
    "def bill_iter(mat, p):\n",
    "    rval = p/sum(p)\n",
    "    size = len(p)\n",
    "    for i in range(size):\n",
    "        c = 1\n",
    "        for j in range(size):\n",
    "            if mat[i,j] >= 1:\n",
    "                err = mat[i,j]/(p[i]/p[j])\n",
    "            else:\n",
    "                err = mat[j,i]/(p[j]/p[i])\n",
    "            c *= err\n",
    "        c = c ** (1/(2*(size-1)))\n",
    "        rval[i]*=c\n",
    "    rval=rval/sum(rval)\n",
    "    return rval"
   ]
  },
  {
   "cell_type": "code",
   "execution_count": 20,
   "metadata": {
    "collapsed": false
   },
   "outputs": [
    {
     "data": {
      "text/plain": [
       "[array([ 0.07469302,  0.31996727,  0.60533971]),\n",
       " array([ 0.07447814,  0.43346536,  0.4920565 ]),\n",
       " array([ 0.08331014,  0.5509117 ,  0.36577816]),\n",
       " array([ 0.1063368 ,  0.63085349,  0.26280971]),\n",
       " array([ 0.15685457,  0.64358611,  0.19955931]),\n",
       " array([ 0.25643088,  0.57251478,  0.17105434]),\n",
       " array([ 0.41191741,  0.42189191,  0.16619069]),\n",
       " array([ 0.56762398,  0.25202821,  0.18034781]),\n",
       " array([ 0.63755448,  0.13420867,  0.22823685]),\n",
       " array([ 0.57763266,  0.07374461,  0.34862272]),\n",
       " array([ 0.38421096,  0.0437701 ,  0.57201894]),\n",
       " array([ 0.16565286,  0.02721272,  0.80713443]),\n",
       " array([ 0.05194343,  0.02031331,  0.92774326]),\n",
       " array([ 0.01635334,  0.02346603,  0.96018063]),\n",
       " array([ 0.00696487,  0.04804052,  0.94499461]),\n",
       " array([ 0.00473132,  0.16104915,  0.83421954]),\n",
       " array([ 0.00417358,  0.53621238,  0.45961404]),\n",
       " array([ 0.0032528 ,  0.89437098,  0.10237622]),\n",
       " array([ 0.00376535,  0.97930676,  0.01692789]),\n",
       " array([ 0.01045061,  0.98530729,  0.0042421 ]),\n",
       " array([ 0.07008281,  0.92757865,  0.00233855]),\n",
       " array([ 0.53355546,  0.46435294,  0.0020916 ]),\n",
       " array([ 0.96173643,  0.03725236,  0.00101122]),\n",
       " array([  9.97102534e-01,   1.93822613e-03,   9.59239891e-04]),\n",
       " array([  9.95976272e-01,   1.96353224e-04,   3.82737437e-03]),\n",
       " array([  9.36142287e-01,   6.62912937e-05,   6.37914216e-02]),\n",
       " array([  1.94649107e-01,   2.69305653e-05,   8.05323962e-01]),\n",
       " array([  1.98944694e-03,   3.54432163e-06,   9.98007009e-01]),\n",
       " array([  1.77782944e-05,   2.37076307e-06,   9.99979851e-01]),\n",
       " array([  4.21566239e-07,   1.51482275e-05,   9.99984430e-01]),\n",
       " array([  6.43287188e-08,   9.98360701e-04,   9.99001575e-01]),\n",
       " array([  8.62987934e-08,   3.24671496e-01,   6.75328418e-01]),\n",
       " array([  6.08700879e-09,   9.98701105e-01,   1.29888914e-03]),\n",
       " array([  2.17492863e-09,   9.99999219e-01,   7.78734483e-07]),\n",
       " array([  2.45140423e-08,   9.99999974e-01,   1.78060710e-09]),\n",
       " array([  1.05872496e-05,   9.99989413e-01,   6.25074936e-11]),\n",
       " array([  1.00116522e-01,   8.99883478e-01,   9.48059936e-11]),\n",
       " array([  9.99890333e-01,   1.09666670e-04,   1.75196191e-12]),\n",
       " array([  9.99999999e-01,   9.74035376e-10,   1.92488247e-13]),\n",
       " array([  1.00000000e+00,   5.25206423e-14,   4.08524312e-12]),\n",
       " array([  9.99999975e-01,   1.52248610e-16,   2.53429612e-08]),\n",
       " array([  9.74739973e-01,   1.46025715e-16,   2.52600273e-02]),\n",
       " array([  1.17716807e-06,   1.76182711e-19,   9.99998823e-01]),\n",
       " array([  1.50006866e-14,   2.28418950e-21,   1.00000000e+00]),\n",
       " array([  2.04856345e-21,   8.85230695e-20,   1.00000000e+00]),\n",
       " array([  9.05973087e-26,   2.31628899e-14,   1.00000000e+00]),\n",
       " array([  2.51318172e-26,   2.06120506e-05,   9.99979388e-01]),\n",
       " array([  4.76427144e-29,   9.99999834e-01,   1.66248137e-07]),\n",
       " array([  1.41390558e-32,   1.00000000e+00,   8.27692573e-20]),\n",
       " array([  7.80538108e-31,   1.00000000e+00,   8.45113671e-31]),\n",
       " array([  3.67568431e-23,   1.00000000e+00,   3.58662961e-38])]"
      ]
     },
     "execution_count": 20,
     "metadata": {},
     "output_type": "execute_result"
    }
   ],
   "source": [
    "p1=bill_iter(mat, newpv)\n",
    "show_vals = [p1]\n",
    "for i in range(50):\n",
    "    show_vals.append(bill_iter(mat, show_vals[-1]))\n",
    "show_vals"
   ]
  },
  {
   "cell_type": "markdown",
   "metadata": {
    "collapsed": true
   },
   "source": [
    "Okay that was **STUPID**"
   ]
  },
  {
   "cell_type": "markdown",
   "metadata": {},
   "source": [
    "## Trying ratio_priority_error instead"
   ]
  },
  {
   "cell_type": "code",
   "execution_count": 21,
   "metadata": {
    "collapsed": false
   },
   "outputs": [
    {
     "data": {
      "text/plain": [
       "(2.3019272488946267, 3.1659260204051973)"
      ]
     },
     "execution_count": 21,
     "metadata": {},
     "output_type": "execute_result"
    }
   ],
   "source": [
    "ratio_priority_error(mat, leigen), ratio_priority_error(mat, newpv)"
   ]
  },
  {
   "cell_type": "markdown",
   "metadata": {},
   "source": [
    "Okay, so the newpv is not as good on this measurement, let's try to minimize again"
   ]
  },
  {
   "cell_type": "code",
   "execution_count": 22,
   "metadata": {
    "collapsed": true
   },
   "outputs": [],
   "source": [
    "my_error_ratio = lambda x: ratio_priority_error(mat, x)"
   ]
  },
  {
   "cell_type": "code",
   "execution_count": 23,
   "metadata": {
    "collapsed": true
   },
   "outputs": [],
   "source": [
    "rval_ratio = minimize(my_error_ratio, [10,1,1], bounds=[(.01, 1), (.01, 1), (.01, 1)])"
   ]
  },
  {
   "cell_type": "code",
   "execution_count": 24,
   "metadata": {
    "collapsed": false
   },
   "outputs": [
    {
     "data": {
      "text/plain": [
       "2.301927248894641"
      ]
     },
     "execution_count": 24,
     "metadata": {},
     "output_type": "execute_result"
    }
   ],
   "source": [
    "ratio_priority_error(mat, rval_ratio.x)"
   ]
  },
  {
   "cell_type": "code",
   "execution_count": 25,
   "metadata": {
    "collapsed": false
   },
   "outputs": [
    {
     "data": {
      "text/plain": [
       "array([ 0.18598962,  0.30706205,  0.50694833])"
      ]
     },
     "execution_count": 25,
     "metadata": {},
     "output_type": "execute_result"
    }
   ],
   "source": [
    "rval_ratio.x/sum(rval_ratio.x)"
   ]
  },
  {
   "cell_type": "code",
   "execution_count": 26,
   "metadata": {
    "collapsed": false
   },
   "outputs": [
    {
     "data": {
      "text/plain": [
       "array([ 0.18598961,  0.30706208,  0.50694832])"
      ]
     },
     "execution_count": 26,
     "metadata": {},
     "output_type": "execute_result"
    }
   ],
   "source": [
    "leigen"
   ]
  },
  {
   "cell_type": "markdown",
   "metadata": {},
   "source": [
    "It seems like the ratio priority error minimizing vector is leigen in this case.  This is weird, but I think it might be an artifact of the largest eigen having the doppelganger property for 3x3 matrices.\n",
    "\n",
    "Just for giggles, let's verify for this case that doppelganger error is the same as original"
   ]
  },
  {
   "cell_type": "code",
   "execution_count": 27,
   "metadata": {
    "collapsed": false
   },
   "outputs": [
    {
     "data": {
      "text/plain": [
       "(2.3019272488946267, 2.3019272488946263)"
      ]
     },
     "execution_count": 27,
     "metadata": {},
     "output_type": "execute_result"
    }
   ],
   "source": [
    "ratio_priority_error(mat, leigen), ratio_priority_error(mat.transpose(), 1/leigen)"
   ]
  },
  {
   "cell_type": "markdown",
   "metadata": {},
   "source": [
    "## Trying ratio priority error again, with a wildly inconsistent 4x4 instead"
   ]
  },
  {
   "cell_type": "code",
   "execution_count": 28,
   "metadata": {
    "collapsed": true
   },
   "outputs": [],
   "source": [
    "mat4 = np.array([\n",
    "    [1, 8, 1/10, 1/10],\n",
    "    [1/8, 1, 4, 1/10],\n",
    "    [10 , 1/4, 1, 5],\n",
    "    [10, 10, 1/5, 1]\n",
    "])"
   ]
  },
  {
   "cell_type": "code",
   "execution_count": 29,
   "metadata": {
    "collapsed": false
   },
   "outputs": [
    {
     "name": "stdout",
     "output_type": "stream",
     "text": [
      "[ 1.  1.  1.  1.]\n"
     ]
    }
   ],
   "source": [
    "leigen4 = largest_eigen(mat4)"
   ]
  },
  {
   "cell_type": "code",
   "execution_count": 30,
   "metadata": {
    "collapsed": true
   },
   "outputs": [],
   "source": [
    "my_error_ratio4 = lambda x: ratio_priority_error(mat4, x)"
   ]
  },
  {
   "cell_type": "code",
   "execution_count": 31,
   "metadata": {
    "collapsed": true
   },
   "outputs": [],
   "source": [
    "rval_ratio = minimize(my_error_ratio4, leigen4, bounds=[(.001, 1), (.001, 1), (.001, 1), (.001, 1)])"
   ]
  },
  {
   "cell_type": "code",
   "execution_count": 32,
   "metadata": {
    "collapsed": true
   },
   "outputs": [],
   "source": [
    "newpv4 = rval_ratio.x/sum(rval_ratio.x)"
   ]
  },
  {
   "cell_type": "code",
   "execution_count": 33,
   "metadata": {
    "collapsed": false
   },
   "outputs": [
    {
     "data": {
      "text/plain": [
       "(array([ 0.14684422,  0.15937263,  0.35162132,  0.34216183]),\n",
       " array([ 0.13517903,  0.12521498,  0.32696025,  0.41264574]))"
      ]
     },
     "execution_count": 33,
     "metadata": {},
     "output_type": "execute_result"
    }
   ],
   "source": [
    "leigen4, newpv4"
   ]
  },
  {
   "cell_type": "code",
   "execution_count": 34,
   "metadata": {
    "collapsed": false
   },
   "outputs": [
    {
     "data": {
      "text/plain": [
       "(4.9164739761337177, 4.7683649755766364)"
      ]
     },
     "execution_count": 34,
     "metadata": {},
     "output_type": "execute_result"
    }
   ],
   "source": [
    "ratio_priority_error(mat4, leigen4), ratio_priority_error(mat4, newpv4)"
   ]
  },
  {
   "cell_type": "markdown",
   "metadata": {},
   "source": [
    "Okay, we have an example where largest eigen disagrees with the new method.  Notice that they have different rankings of the alternatives as well\n",
    "\n",
    "* largest_eigen: 4, 3, 1, 2\n",
    "* new_idea     : 3, 4, 2, 1"
   ]
  },
  {
   "cell_type": "code",
   "execution_count": 35,
   "metadata": {
    "collapsed": false
   },
   "outputs": [
    {
     "data": {
      "text/plain": [
       "(array([ 0.14684422,  0.15937263,  0.35162132,  0.34216183]),\n",
       " array([ 0.13517903,  0.12521498,  0.32696025,  0.41264574]),\n",
       " array([ 0.10637135,  0.09457899,  0.37607953,  0.42297012]))"
      ]
     },
     "execution_count": 35,
     "metadata": {},
     "output_type": "execute_result"
    }
   ],
   "source": [
    "bpv4 = bpriorities(mat4)\n",
    "leigen4, newpv4, bpv4"
   ]
  },
  {
   "cell_type": "markdown",
   "metadata": {},
   "source": [
    "Notice that the `bpriorities()` are different than either the eigen or new method"
   ]
  },
  {
   "cell_type": "markdown",
   "metadata": {},
   "source": [
    "# Exploring eigenvalue as error measure"
   ]
  },
  {
   "cell_type": "code",
   "execution_count": 36,
   "metadata": {
    "collapsed": true
   },
   "outputs": [],
   "source": [
    "def perr_eigen(mat, vec):\n",
    "    size = np.sqrt(vec.dot(vec))\n",
    "    newvec = vec/size\n",
    "    nextv = np.matmul(mat, newvec)\n",
    "    return np.sqrt(nextv.dot(nextv))"
   ]
  },
  {
   "cell_type": "code",
   "execution_count": 37,
   "metadata": {
    "collapsed": false
   },
   "outputs": [
    {
     "data": {
      "text/plain": [
       "array([[  1.   ,   8.   ,   0.1  ,   0.1  ],\n",
       "       [  0.125,   1.   ,   4.   ,   0.1  ],\n",
       "       [ 10.   ,   0.25 ,   1.   ,   5.   ],\n",
       "       [ 10.   ,  10.   ,   0.2  ,   1.   ]])"
      ]
     },
     "execution_count": 37,
     "metadata": {},
     "output_type": "execute_result"
    }
   ],
   "source": [
    "mat4"
   ]
  },
  {
   "cell_type": "markdown",
   "metadata": {},
   "source": [
    "## Trying this new error"
   ]
  },
  {
   "cell_type": "code",
   "execution_count": 38,
   "metadata": {
    "collapsed": false
   },
   "outputs": [
    {
     "data": {
      "text/plain": [
       "10.155003605558392"
      ]
     },
     "execution_count": 38,
     "metadata": {},
     "output_type": "execute_result"
    }
   ],
   "source": [
    "perr_eigen(mat4, leigen4)"
   ]
  },
  {
   "cell_type": "code",
   "execution_count": 39,
   "metadata": {
    "collapsed": false
   },
   "outputs": [
    {
     "data": {
      "text/plain": [
       "8.1672004292642466"
      ]
     },
     "execution_count": 39,
     "metadata": {},
     "output_type": "execute_result"
    }
   ],
   "source": [
    "perr_eigen(mat4, bpv4)"
   ]
  },
  {
   "cell_type": "code",
   "execution_count": 40,
   "metadata": {
    "collapsed": false
   },
   "outputs": [
    {
     "data": {
      "text/plain": [
       "14.177997919311457"
      ]
     },
     "execution_count": 40,
     "metadata": {},
     "output_type": "execute_result"
    }
   ],
   "source": [
    "perr_eigen(mat4, np.array([1,0,0,0]))"
   ]
  },
  {
   "cell_type": "code",
   "execution_count": 41,
   "metadata": {
    "collapsed": false
   },
   "outputs": [
    {
     "data": {
      "text/plain": [
       "12.847665157529597"
      ]
     },
     "execution_count": 41,
     "metadata": {},
     "output_type": "execute_result"
    }
   ],
   "source": [
    "perr_eigen(mat4, np.array([0,1,0,0]))"
   ]
  },
  {
   "cell_type": "code",
   "execution_count": 42,
   "metadata": {
    "collapsed": false
   },
   "outputs": [
    {
     "data": {
      "text/plain": [
       "array([ 0.1,  4. ,  1. ,  0.2])"
      ]
     },
     "execution_count": 42,
     "metadata": {},
     "output_type": "execute_result"
    }
   ],
   "source": [
    "np.matmul(mat4, np.array([0, 0, 1,0]))"
   ]
  },
  {
   "cell_type": "code",
   "execution_count": 43,
   "metadata": {
    "collapsed": false
   },
   "outputs": [
    {
     "data": {
      "text/plain": [
       "4.1291645644125161"
      ]
     },
     "execution_count": 43,
     "metadata": {},
     "output_type": "execute_result"
    }
   ],
   "source": [
    "perr_eigen(mat4, np.array([0,0,1,0]))"
   ]
  },
  {
   "cell_type": "code",
   "execution_count": 44,
   "metadata": {
    "collapsed": false
   },
   "outputs": [
    {
     "data": {
      "text/plain": [
       "5.1009802979427397"
      ]
     },
     "execution_count": 44,
     "metadata": {},
     "output_type": "execute_result"
    }
   ],
   "source": [
    "perr_eigen(mat4, np.array([0,0,0,1]))"
   ]
  },
  {
   "cell_type": "code",
   "execution_count": 45,
   "metadata": {
    "collapsed": false
   },
   "outputs": [
    {
     "data": {
      "text/plain": [
       "9.38880716167135"
      ]
     },
     "execution_count": 45,
     "metadata": {},
     "output_type": "execute_result"
    }
   ],
   "source": [
    "perr_eigen(mat4, newpv4)"
   ]
  },
  {
   "cell_type": "code",
   "execution_count": 46,
   "metadata": {
    "collapsed": true
   },
   "outputs": [],
   "source": [
    "from scipy import linalg"
   ]
  },
  {
   "cell_type": "code",
   "execution_count": 47,
   "metadata": {
    "collapsed": false
   },
   "outputs": [
    {
     "data": {
      "text/plain": [
       "array([ 10.15500361+0.j       ,  -2.06739864+7.0623511j,\n",
       "        -2.06739864-7.0623511j,  -2.02020632+0.j       ])"
      ]
     },
     "execution_count": 47,
     "metadata": {},
     "output_type": "execute_result"
    }
   ],
   "source": [
    "linalg.eigvals(mat4)"
   ]
  },
  {
   "cell_type": "code",
   "execution_count": 48,
   "metadata": {
    "collapsed": true
   },
   "outputs": [],
   "source": [
    "a=mat4.dot(np.array([1, 0, 0, 0]))"
   ]
  },
  {
   "cell_type": "code",
   "execution_count": 49,
   "metadata": {
    "collapsed": false
   },
   "outputs": [
    {
     "data": {
      "text/plain": [
       "array([  1.   ,   0.125,  10.   ,  10.   ])"
      ]
     },
     "execution_count": 49,
     "metadata": {},
     "output_type": "execute_result"
    }
   ],
   "source": [
    "a"
   ]
  },
  {
   "cell_type": "code",
   "execution_count": 50,
   "metadata": {
    "collapsed": false
   },
   "outputs": [
    {
     "data": {
      "text/plain": [
       "201.015625"
      ]
     },
     "execution_count": 50,
     "metadata": {},
     "output_type": "execute_result"
    }
   ],
   "source": [
    "a.dot(a)"
   ]
  },
  {
   "cell_type": "code",
   "execution_count": 51,
   "metadata": {
    "collapsed": false
   },
   "outputs": [
    {
     "name": "stdout",
     "output_type": "stream",
     "text": [
      "[ 1.  1.  1.  1.]\n"
     ]
    },
    {
     "data": {
      "text/plain": [
       "array([ 0.14684422,  0.15937263,  0.35162132,  0.34216183])"
      ]
     },
     "execution_count": 51,
     "metadata": {},
     "output_type": "execute_result"
    }
   ],
   "source": [
    "largest_eigen(mat4)"
   ]
  },
  {
   "cell_type": "code",
   "execution_count": 52,
   "metadata": {
    "collapsed": false
   },
   "outputs": [
    {
     "name": "stdout",
     "output_type": "stream",
     "text": [
      "[0 0 0 1]\n"
     ]
    },
    {
     "data": {
      "text/plain": [
       "array([ 0.14684422,  0.15937263,  0.35162132,  0.34216183])"
      ]
     },
     "execution_count": 52,
     "metadata": {},
     "output_type": "execute_result"
    }
   ],
   "source": [
    "largest_eigen(mat4, initv=np.array([0,0,0,1]))"
   ]
  },
  {
   "cell_type": "code",
   "execution_count": 53,
   "metadata": {
    "collapsed": false
   },
   "outputs": [
    {
     "data": {
      "text/plain": [
       "array([[  1.   ,   8.   ,   0.1  ,   0.1  ],\n",
       "       [  0.125,   1.   ,   4.   ,   0.1  ],\n",
       "       [ 10.   ,   0.25 ,   1.   ,   5.   ],\n",
       "       [ 10.   ,  10.   ,   0.2  ,   1.   ]])"
      ]
     },
     "execution_count": 53,
     "metadata": {},
     "output_type": "execute_result"
    }
   ],
   "source": [
    "mat4"
   ]
  },
  {
   "cell_type": "code",
   "execution_count": 54,
   "metadata": {
    "collapsed": true
   },
   "outputs": [],
   "source": [
    "info = linalg.eig(mat4)\n",
    "evals = info[0]\n",
    "evecs = info[1]"
   ]
  },
  {
   "cell_type": "code",
   "execution_count": 55,
   "metadata": {
    "collapsed": false
   },
   "outputs": [
    {
     "data": {
      "text/plain": [
       "array([  8.56143852-7.29751524j,   1.10709688+3.98461127j,\n",
       "         2.33779808-1.54044531j, -12.06917842+6.00201815j])"
      ]
     },
     "execution_count": 55,
     "metadata": {},
     "output_type": "execute_result"
    }
   ],
   "source": [
    "mat4.dot(evecs[0])/evecs[0]"
   ]
  },
  {
   "cell_type": "code",
   "execution_count": 56,
   "metadata": {
    "collapsed": false
   },
   "outputs": [
    {
     "data": {
      "text/plain": [
       "array([ 0.27378251+0.j        ,  0.26067693-0.25290279j,\n",
       "        0.26067693+0.25290279j, -0.41293566+0.j        ])"
      ]
     },
     "execution_count": 56,
     "metadata": {},
     "output_type": "execute_result"
    }
   ],
   "source": [
    "evecs[0]"
   ]
  },
  {
   "cell_type": "code",
   "execution_count": 57,
   "metadata": {
    "collapsed": false
   },
   "outputs": [
    {
     "data": {
      "text/plain": [
       "array([ 10.15500361+0.j       ,  -2.06739864+7.0623511j,\n",
       "        -2.06739864-7.0623511j,  -2.02020632+0.j       ])"
      ]
     },
     "execution_count": 57,
     "metadata": {},
     "output_type": "execute_result"
    }
   ],
   "source": [
    "evals"
   ]
  },
  {
   "cell_type": "code",
   "execution_count": 58,
   "metadata": {
    "collapsed": true
   },
   "outputs": [],
   "source": [
    "?linalg.eig"
   ]
  },
  {
   "cell_type": "code",
   "execution_count": 59,
   "metadata": {
    "collapsed": false
   },
   "outputs": [
    {
     "data": {
      "text/plain": [
       "array([[ 0.27378251+0.j        ,  0.26067693-0.25290279j,\n",
       "         0.26067693+0.25290279j, -0.41293566+0.j        ],\n",
       "       [ 0.29714100+0.j        ,  0.13327516+0.33327178j,\n",
       "         0.13327516-0.33327178j,  0.14625482+0.j        ],\n",
       "       [ 0.65557751+0.j        , -0.69624664+0.j        ,\n",
       "        -0.69624664-0.j        , -0.11979874+0.j        ],\n",
       "       [ 0.63794083+0.j        , -0.10088442-0.49428566j,\n",
       "        -0.10088442+0.49428566j,  0.89092196+0.j        ]])"
      ]
     },
     "execution_count": 59,
     "metadata": {},
     "output_type": "execute_result"
    }
   ],
   "source": [
    "evecs"
   ]
  },
  {
   "cell_type": "markdown",
   "metadata": {
    "collapsed": true
   },
   "source": [
    "# Limit matrix calculations"
   ]
  },
  {
   "cell_type": "code",
   "execution_count": 62,
   "metadata": {
    "collapsed": true
   },
   "outputs": [],
   "source": [
    "mat = np.array([\n",
    "    [0.3, 0.2, 0.4],\n",
    "    [0.1, 0.5, 0.5],\n",
    "    [0.6, 0.3, 0.1]\n",
    "])"
   ]
  },
  {
   "cell_type": "code",
   "execution_count": 63,
   "metadata": {
    "collapsed": false
   },
   "outputs": [
    {
     "data": {
      "text/plain": [
       "1"
      ]
     },
     "execution_count": 63,
     "metadata": {},
     "output_type": "execute_result"
    }
   ],
   "source": [
    "int(np.ceil(np.log2(1.5)))"
   ]
  },
  {
   "cell_type": "code",
   "execution_count": 81,
   "metadata": {
    "collapsed": false
   },
   "outputs": [],
   "source": [
    "from copy import deepcopy\n",
    "def _mat_pow2(mat, power):\n",
    "    n = int(np.ceil(np.log2(power)))\n",
    "    last = deepcopy(mat)\n",
    "    count = 0\n",
    "    nextm = deepcopy(mat)\n",
    "    for i in range(n):\n",
    "        np.matmul(last, last, nextm)\n",
    "        tmp = last\n",
    "        last = nextm\n",
    "        nextm = tmp\n",
    "    return nextm"
   ]
  },
  {
   "cell_type": "code",
   "execution_count": 79,
   "metadata": {
    "collapsed": false
   },
   "outputs": [
    {
     "data": {
      "text/plain": [
       "array([[ 0.2991,  0.2936,  0.2902],\n",
       "       [ 0.3844,  0.3848,  0.3776],\n",
       "       [ 0.3165,  0.3216,  0.3322]])"
      ]
     },
     "execution_count": 79,
     "metadata": {},
     "output_type": "execute_result"
    }
   ],
   "source": [
    "a = np.matmul(mat, mat)\n",
    "np.matmul(a,a)"
   ]
  },
  {
   "cell_type": "code",
   "execution_count": 66,
   "metadata": {
    "collapsed": false
   },
   "outputs": [
    {
     "name": "stdout",
     "output_type": "stream",
     "text": [
      "3\n"
     ]
    },
    {
     "data": {
      "text/plain": [
       "array([[ 0.,  0.,  0.],\n",
       "       [ 0.,  0.,  0.],\n",
       "       [ 0.,  0.,  0.]])"
      ]
     },
     "execution_count": 66,
     "metadata": {},
     "output_type": "execute_result"
    }
   ],
   "source": [
    "_mat_pow2(mat, 5)"
   ]
  },
  {
   "cell_type": "code",
   "execution_count": 67,
   "metadata": {
    "collapsed": true
   },
   "outputs": [],
   "source": [
    "def calculus(mat, error=1e-10, max_iters=1000):\n",
    "    size = len(mat)\n",
    "    diff = 0.0\n",
    "    start_pow = 1\n",
    "    start = _mat_pow2(mat, start_pow)\n",
    "    tmp1 = deepcopy(mat)\n",
    "    tmp2 = deepcopy(mat)\n",
    "    tmp3 = deepcopy(mat)\n",
    "    #Now we need matrices to store the intermediate results\n",
    "    pows = [start]\n",
    "    for i in range(size-1):\n",
    "        #Add next one\n",
    "        pows.append(np.matmul(mat, pows[-1]))\n",
    "        diff = normalize_cols_dist(pows[-1], pows[-2], tmp1, tmp2, tmp3)\n",
    "        #print(diff)\n",
    "        if diff < error:\n",
    "            #Already converged, done\n",
    "            return pows[-1]\n",
    "    #print(pows)\n",
    "    for count in range(max_iters):\n",
    "        nextp = pows[0]\n",
    "        np.matmul(pows[-1], mat, nextp)\n",
    "        #print(pows)\n",
    "        for i in range(len(pows)-1):\n",
    "            pows[i]=pows[i+1]\n",
    "        pows[-1]=nextp\n",
    "        #print(pows)\n",
    "        #Check convergence\n",
    "        for i in range(len(pows)-1):\n",
    "            diff = normalize_cols_dist(pows[i], nextp, tmp1, tmp2, tmp3)\n",
    "            #print(pows[i])\n",
    "            #print(nextp)\n",
    "            #print(diff)\n",
    "            if diff < error:\n",
    "                return nextp / nextp.sum(axis=0)\n",
    "            \n",
    "\n",
    "def normalize_cols_dist(mat1, mat2, tmp1, tmp2, tmp3):\n",
    "    np.divide(mat1, mat1.max(axis=0), tmp1)\n",
    "    np.divide(mat2, mat2.max(axis=0), tmp2)\n",
    "    np.subtract(tmp1, tmp2, tmp3)\n",
    "    np.absolute(tmp3, tmp3)\n",
    "    return np.max(tmp3)"
   ]
  },
  {
   "cell_type": "code",
   "execution_count": 68,
   "metadata": {
    "collapsed": false
   },
   "outputs": [
    {
     "name": "stdout",
     "output_type": "stream",
     "text": [
      "0\n"
     ]
    },
    {
     "data": {
      "text/plain": [
       "array([[ 0.29411765,  0.29411765,  0.29411765],\n",
       "       [ 0.38235294,  0.38235294,  0.38235294],\n",
       "       [ 0.32352941,  0.32352941,  0.32352941]])"
      ]
     },
     "execution_count": 68,
     "metadata": {},
     "output_type": "execute_result"
    }
   ],
   "source": [
    "calculus(mat, error=1e-16)"
   ]
  },
  {
   "cell_type": "code",
   "execution_count": 69,
   "metadata": {
    "collapsed": false
   },
   "outputs": [
    {
     "name": "stdout",
     "output_type": "stream",
     "text": [
      "0\n"
     ]
    },
    {
     "data": {
      "text/plain": [
       "array([[ 0.29411765,  0.29411765,  0.29411765],\n",
       "       [ 0.38235294,  0.38235294,  0.38235294],\n",
       "       [ 0.32352941,  0.32352941,  0.32352941]])"
      ]
     },
     "execution_count": 69,
     "metadata": {},
     "output_type": "execute_result"
    }
   ],
   "source": [
    "calculus(mat, error=1e-8)"
   ]
  },
  {
   "cell_type": "code",
   "execution_count": 70,
   "metadata": {
    "collapsed": false
   },
   "outputs": [
    {
     "data": {
      "text/plain": [
       "array([[ 0.0164158 ,  0.16647807,  0.07340726,  0.13332282,  0.03430357,\n",
       "         0.14588821,  0.02403746,  0.13667474,  0.08926599,  0.10678425],\n",
       "       [ 0.15992233,  0.16211991,  0.10241658,  0.03875266,  0.0707179 ,\n",
       "         0.08979368,  0.18986215,  0.10343115,  0.049502  ,  0.08835696],\n",
       "       [ 0.09545074,  0.18201421,  0.05079827,  0.10428844,  0.20243491,\n",
       "         0.14704495,  0.10964769,  0.06247938,  0.10419825,  0.13905349],\n",
       "       [ 0.15400157,  0.01880858,  0.12973263,  0.15914768,  0.0095083 ,\n",
       "         0.12024423,  0.00272151,  0.12967683,  0.18089913,  0.04335349],\n",
       "       [ 0.07275198,  0.07580903,  0.14829212,  0.17720603,  0.08933466,\n",
       "         0.04296714,  0.1626025 ,  0.08597098,  0.071895  ,  0.09219052],\n",
       "       [ 0.03840237,  0.12245178,  0.09527248,  0.09295918,  0.05186789,\n",
       "         0.06844837,  0.10357168,  0.0534983 ,  0.06222093,  0.13765593],\n",
       "       [ 0.14883741,  0.11985546,  0.15087366,  0.13801914,  0.32903213,\n",
       "         0.0784559 ,  0.14003364,  0.07845363,  0.18078125,  0.11070309],\n",
       "       [ 0.15130748,  0.08007356,  0.1627251 ,  0.07662238,  0.1495244 ,\n",
       "         0.10560555,  0.02378531,  0.05986477,  0.09416505,  0.12895397],\n",
       "       [ 0.11741962,  0.0471465 ,  0.05234711,  0.01087366,  0.00407458,\n",
       "         0.16182857,  0.11614028,  0.14274426,  0.09148003,  0.05472401],\n",
       "       [ 0.0454907 ,  0.0252429 ,  0.03413479,  0.06880801,  0.05920167,\n",
       "         0.03972339,  0.12759779,  0.14720596,  0.07559237,  0.09822429]])"
      ]
     },
     "execution_count": 70,
     "metadata": {},
     "output_type": "execute_result"
    }
   ],
   "source": [
    "mat10 = np.random.random_sample((10,10))\n",
    "mat10 = mat10 / mat10.sum(axis=0)\n",
    "mat10"
   ]
  },
  {
   "cell_type": "code",
   "execution_count": 71,
   "metadata": {
    "collapsed": false
   },
   "outputs": [
    {
     "name": "stdout",
     "output_type": "stream",
     "text": [
      "0\n"
     ]
    },
    {
     "data": {
      "text/plain": [
       "array([ 0.08856738,  0.11214952,  0.11907798,  0.08711528,  0.10658461,\n",
       "        0.08376521,  0.14960254,  0.09974984,  0.07979819,  0.07358946])"
      ]
     },
     "execution_count": 71,
     "metadata": {},
     "output_type": "execute_result"
    }
   ],
   "source": [
    "calculus(mat10)[:,0]"
   ]
  },
  {
   "cell_type": "code",
   "execution_count": 86,
   "metadata": {
    "collapsed": false
   },
   "outputs": [
    {
     "name": "stdout",
     "output_type": "stream",
     "text": [
      "3\n"
     ]
    },
    {
     "data": {
      "text/plain": [
       "array([[8, 8],\n",
       "       [8, 8]])"
      ]
     },
     "execution_count": 86,
     "metadata": {},
     "output_type": "execute_result"
    }
   ],
   "source": [
    "mat2 = np.array([[1,1], [1,1]])\n",
    "_mat_pow2(mat2, 5)"
   ]
  },
  {
   "cell_type": "code",
   "execution_count": null,
   "metadata": {
    "collapsed": true
   },
   "outputs": [],
   "source": []
  }
 ],
 "metadata": {
  "kernelspec": {
   "display_name": "Python [Root]",
   "language": "python",
   "name": "Python [Root]"
  },
  "language_info": {
   "codemirror_mode": {
    "name": "ipython",
    "version": 3
   },
   "file_extension": ".py",
   "mimetype": "text/x-python",
   "name": "python",
   "nbconvert_exporter": "python",
   "pygments_lexer": "ipython3",
   "version": "3.5.2"
  },
  "toc": {
   "colors": {
    "hover_highlight": "#DAA520",
    "navigate_num": "#000000",
    "navigate_text": "#333333",
    "running_highlight": "#FF0000",
    "selected_highlight": "#FFD700",
    "sidebar_border": "#EEEEEE",
    "wrapper_background": "#FFFFFF"
   },
   "moveMenuLeft": true,
   "nav_menu": {
    "height": "138px",
    "width": "252px"
   },
   "navigate_menu": true,
   "number_sections": true,
   "sideBar": true,
   "threshold": 4.0,
   "toc_cell": false,
   "toc_section_display": "block",
   "toc_window_display": false,
   "widenNotebook": false
  }
 },
 "nbformat": 4,
 "nbformat_minor": 2
}
