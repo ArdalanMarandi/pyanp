{
 "cells": [
  {
   "cell_type": "markdown",
   "metadata": {
    "heading_collapsed": true
   },
   "source": [
    "# Initial calculation code"
   ]
  },
  {
   "cell_type": "code",
   "execution_count": 173,
   "metadata": {
    "hidden": true
   },
   "outputs": [],
   "source": [
    "import numpy as np\n",
    "\n",
    "def geom_avg(vals):\n",
    "    \"\"\"\n",
    "    Compute the geometric average of a list of values.\n",
    "    \n",
    "    The values need not be a list, but simply anything with a len() and []\n",
    "    \"\"\"\n",
    "    rval=1.0\n",
    "    count = 0\n",
    "    for val in vals:\n",
    "        val = vals[count]\n",
    "        if val != 0:\n",
    "            rval *= val\n",
    "            count+=1\n",
    "    if count != 0:\n",
    "        rval = pow(rval, 1.0/count)\n",
    "    return(rval)\n",
    "\n",
    "def geom_avg_mat(mat, coeffs = None):\n",
    "    '''\n",
    "    Computes the geometric average of the columns of a matrix.  Returns\n",
    "    an np.array of dimension [nRowsOfMat], i.e. a vector.  \n",
    "    \n",
    "    :param mat: Must be an numpy.array of shape [nRows, nCols]\n",
    "    :param coeffs:  If not None, it is a list like object with nColsOfMat elements.\n",
    "    We multiply column 0 of mat by coeffs[0], column 1 of mat by coeffs[1], etc\n",
    "    and then do the geometric average of the columns.  Essentially this weights the\n",
    "    columns.\n",
    "    '''\n",
    "    \"\"\"\n",
    "    \"\"\"\n",
    "    size = mat.shape[0]\n",
    "    rval = np.ones([size])\n",
    "    for row in range(size):\n",
    "        if np.any(coeffs):\n",
    "            theRow = mat[row,:] * np.array(coeffs)\n",
    "        else:\n",
    "            theRow = mat[row,:]\n",
    "        rval[row] = geom_avg(theRow)\n",
    "    return(rval)\n",
    "\n",
    "def bpriorities(mat, error = 1e-10):\n",
    "    \"\"\"\n",
    "    Calculates priorities using Bill's method\n",
    "    \"\"\"\n",
    "    size = mat.shape[0]\n",
    "    vec = np.ones([size])\n",
    "    diff = 1\n",
    "    count=0\n",
    "    while diff >= error and count < 100:\n",
    "        nextv = geom_avg_mat(mat, vec)\n",
    "        #nextv = nextv/max(nextv)\n",
    "        diff = max(abs(nextv - vec))\n",
    "        vec = nextv\n",
    "        count+=1\n",
    "    return(vec/sum(vec))\n",
    "\n",
    "def gm_priorities(mat):\n",
    "    '''\n",
    "    Calculates the priorities using the geometric mean method\n",
    "    :param mat: An numpy.array of dimension [size,size]\n",
    "    '''\n",
    "    rval = geom_avg_mat(mat)\n",
    "    rval = rval / sum(rval)\n",
    "    return(rval)\n",
    "\n",
    "def harker_fix(mat):\n",
    "    \"\"\"\n",
    "    Performs Harkers fix on the numpy matrix mat.  It returns a copy with the fix.\n",
    "    The function does not change the matrix mat.\n",
    "    :param mat:\n",
    "    :return:\n",
    "    \"\"\"\n",
    "    nrows = mat.shape[0]\n",
    "    ncols = mat.shape[1]\n",
    "    rval = mat.copy()\n",
    "    for row in range(nrows):\n",
    "        val = 1\n",
    "        for col in range(ncols):\n",
    "            if col != row and mat[row,col]==0:\n",
    "                val+=1\n",
    "        rval[row,row]=val\n",
    "    return(rval)\n",
    "\n",
    "def largest_eigen(mat, error = 1e-10, use_harker = False):\n",
    "    if use_harker:\n",
    "        mat = harker_fix(mat)\n",
    "    size = mat.shape[0]\n",
    "    vec = np.ones([size])\n",
    "    diff = 1\n",
    "    while diff > error:\n",
    "        nextv = np.matmul(mat, vec)\n",
    "        nextv = nextv/sum(nextv)\n",
    "        diff = max(abs(nextv - vec))\n",
    "        vec = nextv\n",
    "    return(vec)\n",
    "\n",
    "def priority_error(pwmat, privec):\n",
    "    rval = 0\n",
    "    diffsum = 0\n",
    "    count = 0\n",
    "    size = pwmat.shape[0]\n",
    "    for i in range(0, size):\n",
    "        for j in range (0, size):\n",
    "            if pwmat[i,j] != 0:\n",
    "                diffsum += (pwmat[i,j] - privec[i]/privec[j])**2\n",
    "                count += 1\n",
    "    if count == 0:\n",
    "        return 0\n",
    "    else:\n",
    "        return diffsum ** (1.0/count)\n",
    "    \n",
    "def ratio_mat(pv):\n",
    "    size = len(pv)\n",
    "    rval = np.identity(n=size)\n",
    "    for row in range(size):\n",
    "        for col in range(size):\n",
    "            rval[row,col]=pv[row]/pv[col]\n",
    "    return rval"
   ]
  },
  {
   "cell_type": "markdown",
   "metadata": {},
   "source": [
    "# First round of calculations"
   ]
  },
  {
   "cell_type": "markdown",
   "metadata": {},
   "source": [
    "## The matrix and largest eigen"
   ]
  },
  {
   "cell_type": "code",
   "execution_count": 174,
   "metadata": {},
   "outputs": [
    {
     "data": {
      "text/plain": [
       "array([[ 1.        ,  2.        ,  0.11111111],\n",
       "       [ 0.5       ,  1.        ,  2.        ],\n",
       "       [ 9.        ,  0.5       ,  1.        ]])"
      ]
     },
     "execution_count": 174,
     "metadata": {},
     "output_type": "execute_result"
    }
   ],
   "source": [
    "mat = np.array([[1, 2, 1/9], [1/2, 1, 2], [9, 1/2, 1]])\n",
    "mat"
   ]
  },
  {
   "cell_type": "code",
   "execution_count": 176,
   "metadata": {},
   "outputs": [
    {
     "data": {
      "text/plain": [
       "array([ 0.18598961,  0.30706208,  0.50694832])"
      ]
     },
     "execution_count": 176,
     "metadata": {},
     "output_type": "execute_result"
    }
   ],
   "source": [
    "leigen = largest_eigen(mat, error=1e-15)\n",
    "leigen"
   ]
  },
  {
   "cell_type": "markdown",
   "metadata": {},
   "source": [
    "## Calculate the mismatch of the priority vector vs the pairwise matrix"
   ]
  },
  {
   "cell_type": "code",
   "execution_count": 177,
   "metadata": {},
   "outputs": [
    {
     "data": {
      "text/plain": [
       "1.5300986463689501"
      ]
     },
     "execution_count": 177,
     "metadata": {},
     "output_type": "execute_result"
    }
   ],
   "source": [
    "priority_error(mat, leigen)"
   ]
  },
  {
   "cell_type": "markdown",
   "metadata": {},
   "source": [
    "## Check gradient of error function\n",
    "It should be all zeroes at `leigen` if that is a minimimum."
   ]
  },
  {
   "cell_type": "code",
   "execution_count": 181,
   "metadata": {
    "collapsed": true
   },
   "outputs": [],
   "source": [
    "my_error = lambda x: priority_error(mat, x)"
   ]
  },
  {
   "cell_type": "code",
   "execution_count": 182,
   "metadata": {
    "collapsed": true
   },
   "outputs": [],
   "source": [
    "from scipy.misc import derivative\n",
    "from scipy.optimize import approx_fprime, minimize"
   ]
  },
  {
   "cell_type": "code",
   "execution_count": 183,
   "metadata": {},
   "outputs": [
    {
     "data": {
      "text/plain": [
       "array([ 0.57731597,  0.        , -0.19984014])"
      ]
     },
     "execution_count": 183,
     "metadata": {},
     "output_type": "execute_result"
    }
   ],
   "source": [
    "eps = 1e-14\n",
    "approx_fprime(leigen, my_error, eps)"
   ]
  },
  {
   "cell_type": "markdown",
   "metadata": {},
   "source": [
    "## Minimize priority_error(mat, *)\n",
    "**It is not all zeroes, it looks like we can get a smaller error!**"
   ]
  },
  {
   "cell_type": "code",
   "execution_count": 102,
   "metadata": {},
   "outputs": [],
   "source": [
    "rval = minimize(my_error, leigen, bounds=[(.01, 1), (.01, 1), (.01, 1)])"
   ]
  },
  {
   "cell_type": "code",
   "execution_count": 106,
   "metadata": {},
   "outputs": [
    {
     "data": {
      "text/plain": [
       "array([ 0.08367381,  0.23820374,  0.67812245])"
      ]
     },
     "execution_count": 106,
     "metadata": {},
     "output_type": "execute_result"
    }
   ],
   "source": [
    "newpv = rval.x / sum(rval.x)\n",
    "newpv"
   ]
  },
  {
   "cell_type": "code",
   "execution_count": 186,
   "metadata": {},
   "outputs": [
    {
     "data": {
      "text/plain": [
       "(array([ 0.18598961,  0.30706208,  0.50694832]),\n",
       " array([ 0.08367381,  0.23820374,  0.67812245]))"
      ]
     },
     "execution_count": 186,
     "metadata": {},
     "output_type": "execute_result"
    }
   ],
   "source": [
    "# This is not the same, let's see them both together\n",
    "leigen, newpv"
   ]
  },
  {
   "cell_type": "code",
   "execution_count": 187,
   "metadata": {},
   "outputs": [
    {
     "data": {
      "text/plain": [
       "(1.5300986463689501, 1.3722470115776764)"
      ]
     },
     "execution_count": 187,
     "metadata": {},
     "output_type": "execute_result"
    }
   ],
   "source": [
    "# Let's look at the error of the eigen vs newpv\n",
    "my_error(leigen), my_error(newpv)"
   ]
  },
  {
   "cell_type": "code",
   "execution_count": 189,
   "metadata": {},
   "outputs": [
    {
     "data": {
      "text/plain": [
       "(array([[ 1.        ,  0.60570686,  0.36688081],\n",
       "        [ 1.65096362,  1.        ,  0.60570686],\n",
       "        [ 2.72568089,  1.65096362,  1.        ]]),\n",
       " None,\n",
       " array([[ 1.        ,  0.35126994,  0.12339042],\n",
       "        [ 2.84681345,  1.        ,  0.3512695 ],\n",
       "        [ 8.104357  ,  2.84681703,  1.        ]]))"
      ]
     },
     "execution_count": 189,
     "metadata": {},
     "output_type": "execute_result"
    }
   ],
   "source": [
    "# Well that is surprising, approximately a 10% decline in error\n",
    "# Let's consider the ratio matrix for both eigen and newpv\n",
    "ratio_mat(leigen), None, ratio_mat(newpv)"
   ]
  },
  {
   "cell_type": "code",
   "execution_count": 113,
   "metadata": {},
   "outputs": [
    {
     "data": {
      "text/plain": [
       "array([[ 1.        ,  0.60570686,  0.36688081],\n",
       "       [ 1.65096362,  1.        ,  0.60570686],\n",
       "       [ 2.72568089,  1.65096362,  1.        ]])"
      ]
     },
     "execution_count": 113,
     "metadata": {},
     "output_type": "execute_result"
    }
   ],
   "source": [
    "ratio_mat(pv)"
   ]
  },
  {
   "cell_type": "code",
   "execution_count": 114,
   "metadata": {},
   "outputs": [
    {
     "data": {
      "text/plain": [
       "1.3722470115776764"
      ]
     },
     "execution_count": 114,
     "metadata": {},
     "output_type": "execute_result"
    }
   ],
   "source": [
    "my_error(rval.x)"
   ]
  },
  {
   "cell_type": "markdown",
   "metadata": {},
   "source": [
    "## Try doing a similar calculation with my new priority calculation"
   ]
  },
  {
   "cell_type": "code",
   "execution_count": 120,
   "metadata": {},
   "outputs": [],
   "source": [
    "bpv=bpriorities(mat)"
   ]
  },
  {
   "cell_type": "code",
   "execution_count": 122,
   "metadata": {},
   "outputs": [
    {
     "data": {
      "text/plain": [
       "(array([ 0.18598961,  0.30706208,  0.50694832]),\n",
       " array([ 0.18598961,  0.30706208,  0.50694832]),\n",
       " array([ 0.08367381,  0.23820374,  0.67812245]))"
      ]
     },
     "execution_count": 122,
     "metadata": {},
     "output_type": "execute_result"
    }
   ],
   "source": [
    "pv, bpv, newpv"
   ]
  },
  {
   "cell_type": "markdown",
   "metadata": {},
   "source": [
    "Whoops, I forgot my new calculation agrees with the standard eigen for 3x3 matrices, let's just check for the transpose as well, for giggles"
   ]
  },
  {
   "cell_type": "code",
   "execution_count": 133,
   "metadata": {},
   "outputs": [
    {
     "data": {
      "text/plain": [
       "(array([ 0.50694832,  0.30706208,  0.18598961]),\n",
       " array([ 0.50694832,  0.30706208,  0.18598961]))"
      ]
     },
     "execution_count": 133,
     "metadata": {},
     "output_type": "execute_result"
    }
   ],
   "source": [
    "tbpv = bpriorities(mat.transpose())\n",
    "ibpv = 1/bpv\n",
    "ibpv = ibpv / sum(ibpv)\n",
    "tbpv, ibpv"
   ]
  },
  {
   "cell_type": "code",
   "execution_count": 134,
   "metadata": {},
   "outputs": [
    {
     "data": {
      "text/plain": [
       "array([ 0.50694832,  0.30706208,  0.18598961])"
      ]
     },
     "execution_count": 134,
     "metadata": {},
     "output_type": "execute_result"
    }
   ],
   "source": [
    "largest_eigen(mat.transpose())"
   ]
  },
  {
   "cell_type": "code",
   "execution_count": 160,
   "metadata": {
    "collapsed": true
   },
   "outputs": [],
   "source": [
    "def bill_iter(mat, p):\n",
    "    rval = p/sum(p)\n",
    "    size = len(p)\n",
    "    for i in range(size):\n",
    "        c = 1\n",
    "        for j in range(size):\n",
    "            if mat[i,j] >= 1:\n",
    "                err = mat[i,j]/(p[i]/p[j])\n",
    "            else:\n",
    "                err = mat[j,i]/(p[j]/p[i])\n",
    "            c *= err\n",
    "        c = c ** (1/(2*(size-1)))\n",
    "        rval[i]*=c\n",
    "    rval=rval/sum(rval)\n",
    "    return rval"
   ]
  },
  {
   "cell_type": "code",
   "execution_count": 165,
   "metadata": {},
   "outputs": [],
   "source": [
    "p1=bill_iter(mat, newpv)\n",
    "p2=bill_iter(mat, p1)\n",
    "p3=bill_iter(mat, p2)\n",
    "p4=bill_iter(mat, p3)"
   ]
  },
  {
   "cell_type": "code",
   "execution_count": 166,
   "metadata": {},
   "outputs": [
    {
     "data": {
      "text/plain": [
       "(array([ 0.08367381,  0.23820374,  0.67812245]),\n",
       " array([ 0.07469307,  0.3199674 ,  0.60533952]),\n",
       " array([ 0.0744782 ,  0.43346543,  0.49205637]),\n",
       " array([ 0.08331022,  0.55091165,  0.36577813]),\n",
       " array([ 0.10633691,  0.63085331,  0.26280978]))"
      ]
     },
     "execution_count": 166,
     "metadata": {},
     "output_type": "execute_result"
    }
   ],
   "source": [
    "newpv, p1, p2, p3, p4"
   ]
  },
  {
   "cell_type": "code",
   "execution_count": 170,
   "metadata": {},
   "outputs": [
    {
     "data": {
      "text/plain": [
       "1.4122226603944246"
      ]
     },
     "execution_count": 170,
     "metadata": {},
     "output_type": "execute_result"
    }
   ],
   "source": [
    "my_error(p1)"
   ]
  },
  {
   "cell_type": "code",
   "execution_count": null,
   "metadata": {
    "collapsed": true
   },
   "outputs": [],
   "source": []
  }
 ],
 "metadata": {
  "kernelspec": {
   "display_name": "Python 3",
   "language": "python",
   "name": "python3"
  },
  "language_info": {
   "codemirror_mode": {
    "name": "ipython",
    "version": 3
   },
   "file_extension": ".py",
   "mimetype": "text/x-python",
   "name": "python",
   "nbconvert_exporter": "python",
   "pygments_lexer": "ipython3",
   "version": "3.6.1"
  },
  "toc": {
   "colors": {
    "hover_highlight": "#DAA520",
    "navigate_num": "#000000",
    "navigate_text": "#333333",
    "running_highlight": "#FF0000",
    "selected_highlight": "#FFD700",
    "sidebar_border": "#EEEEEE",
    "wrapper_background": "#FFFFFF"
   },
   "moveMenuLeft": true,
   "nav_menu": {
    "height": "138px",
    "width": "252px"
   },
   "navigate_menu": true,
   "number_sections": true,
   "sideBar": true,
   "threshold": 4,
   "toc_cell": false,
   "toc_section_display": "block",
   "toc_window_display": false,
   "widenNotebook": false
  }
 },
 "nbformat": 4,
 "nbformat_minor": 2
}
