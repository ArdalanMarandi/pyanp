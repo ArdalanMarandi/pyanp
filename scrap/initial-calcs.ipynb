{
 "cells": [
  {
   "cell_type": "markdown",
   "metadata": {
    "heading_collapsed": true
   },
   "source": [
    "# Initial calculation code"
   ]
  },
  {
   "cell_type": "code",
   "execution_count": 2,
   "metadata": {
    "collapsed": true,
    "hidden": true
   },
   "outputs": [],
   "source": [
    "import numpy as np\n",
    "\n",
    "def geom_avg(vals):\n",
    "    \"\"\"\n",
    "    Compute the geometric average of a list of values.\n",
    "    \n",
    "    The values need not be a list, but simply anything with a len() and []\n",
    "    \"\"\"\n",
    "    rval=1.0\n",
    "    count = 0\n",
    "    for val in vals:\n",
    "        val = vals[count]\n",
    "        if val != 0:\n",
    "            rval *= val\n",
    "            count+=1\n",
    "    if count != 0:\n",
    "        rval = pow(rval, 1.0/count)\n",
    "    return(rval)\n",
    "\n",
    "def geom_avg_mat(mat, coeffs = None):\n",
    "    '''\n",
    "    Computes the geometric average of the columns of a matrix.  Returns\n",
    "    an np.array of dimension [nRowsOfMat], i.e. a vector.  \n",
    "    \n",
    "    :param mat: Must be an numpy.array of shape [nRows, nCols]\n",
    "    :param coeffs:  If not None, it is a list like object with nColsOfMat elements.\n",
    "    We multiply column 0 of mat by coeffs[0], column 1 of mat by coeffs[1], etc\n",
    "    and then do the geometric average of the columns.  Essentially this weights the\n",
    "    columns.\n",
    "    '''\n",
    "    \"\"\"\n",
    "    \"\"\"\n",
    "    size = mat.shape[0]\n",
    "    rval = np.ones([size])\n",
    "    for row in range(size):\n",
    "        if np.any(coeffs):\n",
    "            theRow = mat[row,:] * np.array(coeffs)\n",
    "        else:\n",
    "            theRow = mat[row,:]\n",
    "        rval[row] = geom_avg(theRow)\n",
    "    return(rval)\n",
    "\n",
    "def bpriorities(mat, error = 1e-10):\n",
    "    \"\"\"\n",
    "    Calculates priorities using Bill's method\n",
    "    \"\"\"\n",
    "    size = mat.shape[0]\n",
    "    vec = np.ones([size])\n",
    "    diff = 1\n",
    "    count=0\n",
    "    while diff >= error and count < 100:\n",
    "        nextv = geom_avg_mat(mat, vec)\n",
    "        #nextv = nextv/max(nextv)\n",
    "        diff = max(abs(nextv - vec))\n",
    "        vec = nextv\n",
    "        count+=1\n",
    "    return(vec/sum(vec))\n",
    "\n",
    "def gm_priorities(mat):\n",
    "    '''\n",
    "    Calculates the priorities using the geometric mean method\n",
    "    :param mat: An numpy.array of dimension [size,size]\n",
    "    '''\n",
    "    rval = geom_avg_mat(mat)\n",
    "    rval = rval / sum(rval)\n",
    "    return(rval)\n",
    "\n",
    "def harker_fix(mat):\n",
    "    \"\"\"\n",
    "    Performs Harkers fix on the numpy matrix mat.  It returns a copy with the fix.\n",
    "    The function does not change the matrix mat.\n",
    "    :param mat:\n",
    "    :return:\n",
    "    \"\"\"\n",
    "    nrows = mat.shape[0]\n",
    "    ncols = mat.shape[1]\n",
    "    rval = mat.copy()\n",
    "    for row in range(nrows):\n",
    "        val = 1\n",
    "        for col in range(ncols):\n",
    "            if col != row and mat[row,col]==0:\n",
    "                val+=1\n",
    "        rval[row,row]=val\n",
    "    return(rval)\n",
    "\n",
    "def largest_eigen(mat, error = 1e-10, use_harker = False):\n",
    "    if use_harker:\n",
    "        mat = harker_fix(mat)\n",
    "    size = mat.shape[0]\n",
    "    vec = np.ones([size])\n",
    "    diff = 1\n",
    "    while diff > error:\n",
    "        nextv = np.matmul(mat, vec)\n",
    "        nextv = nextv/sum(nextv)\n",
    "        diff = max(abs(nextv - vec))\n",
    "        vec = nextv\n",
    "    return(vec)\n",
    "\n",
    "def priority_error(pwmat, privec):\n",
    "    rval = 0\n",
    "    diffsum = 0\n",
    "    count = 0\n",
    "    size = pwmat.shape[0]\n",
    "    for i in range(0, size):\n",
    "        for j in range (0, size):\n",
    "            if pwmat[i,j] != 0:\n",
    "                diffsum += (pwmat[i,j] - privec[i]/privec[j])**2\n",
    "                count += 1\n",
    "    if count == 0:\n",
    "        return 0\n",
    "    else:\n",
    "        return diffsum ** (1.0/count)\n",
    "    \n",
    "def ratio_mat(pv):\n",
    "    size = len(pv)\n",
    "    rval = np.identity(n=size)\n",
    "    for row in range(size):\n",
    "        for col in range(size):\n",
    "            rval[row,col]=pv[row]/pv[col]\n",
    "    return rval"
   ]
  },
  {
   "cell_type": "markdown",
   "metadata": {},
   "source": [
    "# First round of calculations"
   ]
  },
  {
   "cell_type": "markdown",
   "metadata": {},
   "source": [
    "## The matrix and largest eigen"
   ]
  },
  {
   "cell_type": "code",
   "execution_count": 3,
   "metadata": {},
   "outputs": [
    {
     "data": {
      "text/plain": [
       "array([[ 1.        ,  2.        ,  0.11111111],\n",
       "       [ 0.5       ,  1.        ,  2.        ],\n",
       "       [ 9.        ,  0.5       ,  1.        ]])"
      ]
     },
     "execution_count": 3,
     "metadata": {},
     "output_type": "execute_result"
    }
   ],
   "source": [
    "mat = np.array([[1, 2, 1/9], [1/2, 1, 2], [9, 1/2, 1]])\n",
    "mat"
   ]
  },
  {
   "cell_type": "code",
   "execution_count": 4,
   "metadata": {},
   "outputs": [
    {
     "data": {
      "text/plain": [
       "array([ 0.18598961,  0.30706208,  0.50694832])"
      ]
     },
     "execution_count": 4,
     "metadata": {},
     "output_type": "execute_result"
    }
   ],
   "source": [
    "leigen = largest_eigen(mat, error=1e-15)\n",
    "leigen"
   ]
  },
  {
   "cell_type": "markdown",
   "metadata": {},
   "source": [
    "## Calculate the mismatch of the priority vector vs the pairwise matrix"
   ]
  },
  {
   "cell_type": "code",
   "execution_count": 5,
   "metadata": {},
   "outputs": [
    {
     "data": {
      "text/plain": [
       "1.5300986463689501"
      ]
     },
     "execution_count": 5,
     "metadata": {},
     "output_type": "execute_result"
    }
   ],
   "source": [
    "priority_error(mat, leigen)"
   ]
  },
  {
   "cell_type": "markdown",
   "metadata": {},
   "source": [
    "## Check gradient of error function\n",
    "It should be all zeroes at `leigen` if that is a minimimum."
   ]
  },
  {
   "cell_type": "code",
   "execution_count": 6,
   "metadata": {
    "collapsed": true
   },
   "outputs": [],
   "source": [
    "my_error = lambda x: priority_error(mat, x)"
   ]
  },
  {
   "cell_type": "code",
   "execution_count": 7,
   "metadata": {
    "collapsed": true
   },
   "outputs": [],
   "source": [
    "from scipy.misc import derivative\n",
    "from scipy.optimize import approx_fprime, minimize"
   ]
  },
  {
   "cell_type": "code",
   "execution_count": 8,
   "metadata": {},
   "outputs": [
    {
     "data": {
      "text/plain": [
       "array([ 0.57731597,  0.        , -0.19984014])"
      ]
     },
     "execution_count": 8,
     "metadata": {},
     "output_type": "execute_result"
    }
   ],
   "source": [
    "eps = 1e-14\n",
    "approx_fprime(leigen, my_error, eps)"
   ]
  },
  {
   "cell_type": "markdown",
   "metadata": {},
   "source": [
    "## Minimize priority_error(mat, *)\n",
    "**It is not all zeroes, it looks like we can get a smaller error!**"
   ]
  },
  {
   "cell_type": "code",
   "execution_count": 9,
   "metadata": {
    "collapsed": true
   },
   "outputs": [],
   "source": [
    "rval = minimize(my_error, leigen, bounds=[(.01, 1), (.01, 1), (.01, 1)])"
   ]
  },
  {
   "cell_type": "code",
   "execution_count": 10,
   "metadata": {},
   "outputs": [
    {
     "data": {
      "text/plain": [
       "array([ 0.08367381,  0.23820374,  0.67812245])"
      ]
     },
     "execution_count": 10,
     "metadata": {},
     "output_type": "execute_result"
    }
   ],
   "source": [
    "newpv = rval.x / sum(rval.x)\n",
    "newpv"
   ]
  },
  {
   "cell_type": "code",
   "execution_count": 11,
   "metadata": {},
   "outputs": [
    {
     "data": {
      "text/plain": [
       "(array([ 0.18598961,  0.30706208,  0.50694832]),\n",
       " array([ 0.08367381,  0.23820374,  0.67812245]))"
      ]
     },
     "execution_count": 11,
     "metadata": {},
     "output_type": "execute_result"
    }
   ],
   "source": [
    "# This is not the same, let's see them both together\n",
    "leigen, newpv"
   ]
  },
  {
   "cell_type": "code",
   "execution_count": 12,
   "metadata": {},
   "outputs": [
    {
     "data": {
      "text/plain": [
       "(1.5300986463689501, 1.3722470115776764)"
      ]
     },
     "execution_count": 12,
     "metadata": {},
     "output_type": "execute_result"
    }
   ],
   "source": [
    "# Let's look at the error of the eigen vs newpv\n",
    "my_error(leigen), my_error(newpv)"
   ]
  },
  {
   "cell_type": "code",
   "execution_count": 13,
   "metadata": {},
   "outputs": [
    {
     "data": {
      "text/plain": [
       "(array([[ 1.        ,  0.60570686,  0.36688081],\n",
       "        [ 1.65096362,  1.        ,  0.60570686],\n",
       "        [ 2.72568089,  1.65096362,  1.        ]]),\n",
       " None,\n",
       " array([[ 1.        ,  0.35126994,  0.12339042],\n",
       "        [ 2.84681345,  1.        ,  0.3512695 ],\n",
       "        [ 8.104357  ,  2.84681703,  1.        ]]))"
      ]
     },
     "execution_count": 13,
     "metadata": {},
     "output_type": "execute_result"
    }
   ],
   "source": [
    "# Well that is surprising, approximately a 10% decline in error\n",
    "# Let's consider the ratio matrix for both eigen and newpv\n",
    "ratio_mat(leigen), None, ratio_mat(newpv)"
   ]
  },
  {
   "cell_type": "code",
   "execution_count": 15,
   "metadata": {},
   "outputs": [
    {
     "data": {
      "text/plain": [
       "array([[ 1.        ,  0.60570686,  0.36688081],\n",
       "       [ 1.65096362,  1.        ,  0.60570686],\n",
       "       [ 2.72568089,  1.65096362,  1.        ]])"
      ]
     },
     "execution_count": 15,
     "metadata": {},
     "output_type": "execute_result"
    }
   ],
   "source": [
    "ratio_mat(leigen)"
   ]
  },
  {
   "cell_type": "code",
   "execution_count": 16,
   "metadata": {},
   "outputs": [
    {
     "data": {
      "text/plain": [
       "1.3722470115776764"
      ]
     },
     "execution_count": 16,
     "metadata": {},
     "output_type": "execute_result"
    }
   ],
   "source": [
    "my_error(rval.x)"
   ]
  },
  {
   "cell_type": "markdown",
   "metadata": {},
   "source": [
    "## Try doing a similar calculation with my new priority calculation"
   ]
  },
  {
   "cell_type": "code",
   "execution_count": 17,
   "metadata": {
    "collapsed": true
   },
   "outputs": [],
   "source": [
    "bpv=bpriorities(mat)"
   ]
  },
  {
   "cell_type": "code",
   "execution_count": 19,
   "metadata": {},
   "outputs": [
    {
     "data": {
      "text/plain": [
       "(array([ 0.18598961,  0.30706208,  0.50694832]),\n",
       " array([ 0.18598961,  0.30706208,  0.50694832]),\n",
       " array([ 0.08367381,  0.23820374,  0.67812245]))"
      ]
     },
     "execution_count": 19,
     "metadata": {},
     "output_type": "execute_result"
    }
   ],
   "source": [
    "leigen, bpv, newpv"
   ]
  },
  {
   "cell_type": "markdown",
   "metadata": {},
   "source": [
    "Whoops, I forgot my new calculation agrees with the standard eigen for 3x3 matrices, let's just check for the transpose as well, for giggles"
   ]
  },
  {
   "cell_type": "code",
   "execution_count": 20,
   "metadata": {},
   "outputs": [
    {
     "data": {
      "text/plain": [
       "(array([ 0.50694832,  0.30706208,  0.18598961]),\n",
       " array([ 0.50694832,  0.30706208,  0.18598961]))"
      ]
     },
     "execution_count": 20,
     "metadata": {},
     "output_type": "execute_result"
    }
   ],
   "source": [
    "tbpv = bpriorities(mat.transpose())\n",
    "ibpv = 1/bpv\n",
    "ibpv = ibpv / sum(ibpv)\n",
    "tbpv, ibpv"
   ]
  },
  {
   "cell_type": "code",
   "execution_count": 21,
   "metadata": {},
   "outputs": [
    {
     "data": {
      "text/plain": [
       "array([ 0.50694832,  0.30706208,  0.18598961])"
      ]
     },
     "execution_count": 21,
     "metadata": {},
     "output_type": "execute_result"
    }
   ],
   "source": [
    "largest_eigen(mat.transpose())"
   ]
  },
  {
   "cell_type": "markdown",
   "metadata": {},
   "source": [
    "## Trying a new idea for convergence"
   ]
  },
  {
   "cell_type": "code",
   "execution_count": 22,
   "metadata": {
    "collapsed": true
   },
   "outputs": [],
   "source": [
    "def bill_iter(mat, p):\n",
    "    rval = p/sum(p)\n",
    "    size = len(p)\n",
    "    for i in range(size):\n",
    "        c = 1\n",
    "        for j in range(size):\n",
    "            if mat[i,j] >= 1:\n",
    "                err = mat[i,j]/(p[i]/p[j])\n",
    "            else:\n",
    "                err = mat[j,i]/(p[j]/p[i])\n",
    "            c *= err\n",
    "        c = c ** (1/(2*(size-1)))\n",
    "        rval[i]*=c\n",
    "    rval=rval/sum(rval)\n",
    "    return rval"
   ]
  },
  {
   "cell_type": "code",
   "execution_count": 26,
   "metadata": {},
   "outputs": [
    {
     "data": {
      "text/plain": [
       "[array([ 0.07469307,  0.3199674 ,  0.60533952]),\n",
       " array([ 0.0744782 ,  0.43346543,  0.49205637]),\n",
       " array([ 0.08331022,  0.55091165,  0.36577813]),\n",
       " array([ 0.10633691,  0.63085331,  0.26280978]),\n",
       " array([ 0.15685473,  0.64358583,  0.19955944]),\n",
       " array([ 0.25643104,  0.57251446,  0.1710545 ]),\n",
       " array([ 0.41191747,  0.42189166,  0.16619087]),\n",
       " array([ 0.56762383,  0.25202812,  0.18034805]),\n",
       " array([ 0.63755412,  0.13420869,  0.22823719]),\n",
       " array([ 0.57763216,  0.07374466,  0.34862318]),\n",
       " array([ 0.3842105 ,  0.04377014,  0.57201936]),\n",
       " array([ 0.16565267,  0.02721276,  0.80713457]),\n",
       " array([ 0.05194341,  0.02031336,  0.92774323]),\n",
       " array([ 0.01635336,  0.0234661 ,  0.96018055]),\n",
       " array([ 0.00696488,  0.04804067,  0.94499444]),\n",
       " array([ 0.00473133,  0.16104956,  0.83421911]),\n",
       " array([ 0.00417359,  0.53621291,  0.4596135 ]),\n",
       " array([ 0.00325281,  0.89437103,  0.10237616]),\n",
       " array([ 0.00376537,  0.97930672,  0.01692791]),\n",
       " array([ 0.01045066,  0.98530722,  0.00424212]),\n",
       " array([ 0.07008312,  0.92757832,  0.00233856]),\n",
       " array([ 0.53355635,  0.46435205,  0.00209161]),\n",
       " array([ 0.96173647,  0.03725231,  0.00101122]),\n",
       " array([  9.97102524e-01,   1.93822913e-03,   9.59246701e-04]),\n",
       " array([  9.95976241e-01,   1.96354146e-04,   3.82740527e-03]),\n",
       " array([  9.36141823e-01,   6.62917644e-05,   6.37918857e-02]),\n",
       " array([  1.94648180e-01,   2.69306951e-05,   8.05324890e-01]),\n",
       " array([  1.98944177e-03,   3.54434838e-06,   9.98007014e-01]),\n",
       " array([  1.77783267e-05,   2.37078851e-06,   9.99979851e-01]),\n",
       " array([  4.21569076e-07,   1.51484169e-05,   9.99984430e-01]),\n",
       " array([  6.43294448e-08,   9.98372931e-04,   9.99001563e-01]),\n",
       " array([  8.62997826e-08,   3.24673619e-01,   6.75326295e-01]),\n",
       " array([  6.08707577e-09,   9.98701111e-01,   1.29888292e-03]),\n",
       " array([  2.17496374e-09,   9.99999219e-01,   7.78735963e-07]),\n",
       " array([  2.45145137e-08,   9.99999974e-01,   1.78062401e-09]),\n",
       " array([  1.05874538e-05,   9.99989412e-01,   6.25085399e-11]),\n",
       " array([  1.00117940e-01,   8.99882060e-01,   9.48079488e-11]),\n",
       " array([  9.99890334e-01,   1.09665729e-04,   1.75198984e-12]),\n",
       " array([  9.99999999e-01,   9.74036873e-10,   1.92492908e-13]),\n",
       " array([  1.00000000e+00,   5.25213388e-14,   4.08536364e-12]),\n",
       " array([  9.99999975e-01,   1.52252370e-16,   2.53437278e-08]),\n",
       " array([  9.74739346e-01,   1.46030535e-16,   2.52606542e-02]),\n",
       " array([  1.17715041e-06,   1.76186757e-19,   9.99998823e-01]),\n",
       " array([  1.50006901e-14,   2.28427219e-21,   1.00000000e+00]),\n",
       " array([  2.04860088e-21,   8.85270655e-20,   1.00000000e+00]),\n",
       " array([  9.06005951e-26,   2.31639852e-14,   1.00000000e+00]),\n",
       " array([  2.51330952e-26,   2.06128951e-05,   9.99979387e-01]),\n",
       " array([  4.76442787e-29,   9.99999834e-01,   1.66243850e-07]),\n",
       " array([  1.41398185e-32,   1.00000000e+00,   8.27690152e-20]),\n",
       " array([  7.80591876e-31,   1.00000000e+00,   8.45134608e-31]),\n",
       " array([  3.67595528e-23,   1.00000000e+00,   3.58681979e-38])]"
      ]
     },
     "execution_count": 26,
     "metadata": {},
     "output_type": "execute_result"
    }
   ],
   "source": [
    "p1=bill_iter(mat, newpv)\n",
    "show_vals = [p1]\n",
    "for i in range(50):\n",
    "    show_vals.append(bill_iter(mat, show_vals[-1]))\n",
    "show_vals"
   ]
  },
  {
   "cell_type": "markdown",
   "metadata": {
    "collapsed": true
   },
   "source": [
    "Okay that was **STUPID**"
   ]
  },
  {
   "cell_type": "code",
   "execution_count": null,
   "metadata": {
    "collapsed": true
   },
   "outputs": [],
   "source": []
  }
 ],
 "metadata": {
  "kernelspec": {
   "display_name": "Python 3",
   "language": "python",
   "name": "python3"
  },
  "toc": {
   "colors": {
    "hover_highlight": "#DAA520",
    "navigate_num": "#000000",
    "navigate_text": "#333333",
    "running_highlight": "#FF0000",
    "selected_highlight": "#FFD700",
    "sidebar_border": "#EEEEEE",
    "wrapper_background": "#FFFFFF"
   },
   "moveMenuLeft": true,
   "nav_menu": {
    "height": "138px",
    "width": "252px"
   },
   "navigate_menu": true,
   "number_sections": true,
   "sideBar": true,
   "threshold": 4,
   "toc_cell": false,
   "toc_section_display": "block",
   "toc_window_display": false,
   "widenNotebook": false
  }
 },
 "nbformat": 4,
 "nbformat_minor": 2
}
