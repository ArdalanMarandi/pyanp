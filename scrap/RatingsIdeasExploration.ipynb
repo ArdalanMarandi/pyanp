{
 "cells": [
  {
   "cell_type": "markdown",
   "metadata": {},
   "source": [
    "# Attempt to work on Ratings"
   ]
  },
  {
   "cell_type": "markdown",
   "metadata": {},
   "source": [
    "# Trying to define a word evaluator"
   ]
  },
  {
   "cell_type": "code",
   "execution_count": 88,
   "metadata": {},
   "outputs": [],
   "source": [
    "import re\n",
    "from enum import Enum\n",
    "\n",
    "__CLEANER = re.compile('\\\\s+')\n",
    "\n",
    "def clean_word(word):\n",
    "    word = word.strip().lower()\n",
    "    word = __CLEANER.sub(string=word, repl=' ')\n",
    "    return word\n",
    "\n",
    "class WordEvalType(Enum):\n",
    "    LINEAR = 1\n",
    "    EXPONENTIAL = 2\n",
    "    MANUAL = 3\n",
    "    \n",
    "class WordEval:\n",
    "    def __init__(self, vals):\n",
    "        self.names_to_synonyms = vals\n",
    "        self.keys = list(vals.keys())\n",
    "        self.lookup_synonym = {}\n",
    "        self.base = 0.9\n",
    "        self.type = WordEvalType.LINEAR\n",
    "        for key, synonyms in vals.items():\n",
    "            self.lookup_synonym[key]=key\n",
    "            for synonym in synonyms:\n",
    "                self.lookup_synonym[synonym]=key\n",
    "    \n",
    "    def get_key(self, word):\n",
    "        if word in self.lookup_synonym:\n",
    "            return self.lookup_synonym[word]\n",
    "        else:\n",
    "            return None\n",
    "    \n",
    "    def keys_match_score(self, word_list):\n",
    "        keys_used = set()\n",
    "        none_count=0\n",
    "        for word in word_list:\n",
    "            if word is not None and len(word) > 0:\n",
    "                key = self.get_key(word)\n",
    "                if key is not None:\n",
    "                    keys_used.add(key)\n",
    "                else:\n",
    "                    none_count += 1\n",
    "        percent = len(keys_used) / len(self.keys)\n",
    "        rval = percent - none_count\n",
    "        return rval\n",
    "        \n",
    "    def eval(self, word):\n",
    "        word = clean_word(word)\n",
    "        key = self.get_key(word)\n",
    "        if key is None:\n",
    "            return None\n",
    "        nitems = len(self.names_to_synonyms)\n",
    "        if self.type is WordEvalType.LINEAR:\n",
    "            index = self.keys.index(key)\n",
    "            #print(index)\n",
    "            if nitems <= 1:\n",
    "                return nitems\n",
    "            else:\n",
    "                return (nitems-1-index)/(nitems-1)\n",
    "        elif self.type is WordEvalType.EXPONENTIAL:\n",
    "            index = self.keys.index\n",
    "            if nitems <= 1:\n",
    "                return nitems\n",
    "            else:\n",
    "                return self.base ** index\n",
    "        else:\n",
    "            raise ValueError(\"Have not done manual case yet\")\n",
    "            \n",
    "        pass"
   ]
  },
  {
   "cell_type": "code",
   "execution_count": 81,
   "metadata": {},
   "outputs": [],
   "source": [
    "hml = WordEval({\n",
    "    'high':('h', 'hi'),\n",
    "    'medium':('medi', 'med', 'me', 'm'),\n",
    "    'low':('lowe', 'lo', 'l')\n",
    "})\n",
    "vhhmlvl = WordEval({\n",
    "    'very high':('ver high', 'vy high', 'v high', 'vhigh', 'very hi', 'very h', 'v h', 'vh'),\n",
    "    'high':('hig', 'hi', 'h'),\n",
    "    'medium':('mediu', 'med', 'me', 'm', 'okay', 'ok', 'o', 'average', 'aver', 'avg'),\n",
    "    'low':('lo', 'l', 'lw', 'bad', 'bd', 'not high', 'not hi', 'not h'),\n",
    "    'very low':('ver low', 'vy low', 'v low', 'vlow', 'vlo', 'vl', 'v lo')\n",
    "})\n",
    "abcdf = WordEval({\n",
    "    'a':(),\n",
    "    'b':(),\n",
    "    'c':(),\n",
    "    'd':(),\n",
    "    'f':('e')\n",
    "})"
   ]
  },
  {
   "cell_type": "code",
   "execution_count": 82,
   "metadata": {},
   "outputs": [
    {
     "data": {
      "text/plain": [
       "0.0"
      ]
     },
     "execution_count": 82,
     "metadata": {},
     "output_type": "execute_result"
    }
   ],
   "source": [
    "hml.eval('l')"
   ]
  },
  {
   "cell_type": "code",
   "execution_count": 83,
   "metadata": {},
   "outputs": [
    {
     "data": {
      "text/plain": [
       "(0.25, 0.5)"
      ]
     },
     "execution_count": 83,
     "metadata": {},
     "output_type": "execute_result"
    }
   ],
   "source": [
    "vhhmlvl.eval('l'), vhhmlvl.eval('oK')"
   ]
  },
  {
   "cell_type": "code",
   "execution_count": 84,
   "metadata": {},
   "outputs": [
    {
     "data": {
      "text/plain": [
       "0.6666666666666666"
      ]
     },
     "execution_count": 84,
     "metadata": {},
     "output_type": "execute_result"
    }
   ],
   "source": [
    "hml.keys_match_score(['high', 'hi', 'm', ''])"
   ]
  },
  {
   "cell_type": "code",
   "execution_count": 86,
   "metadata": {},
   "outputs": [
    {
     "data": {
      "text/plain": [
       "0.6666666666666666"
      ]
     },
     "execution_count": 86,
     "metadata": {},
     "output_type": "execute_result"
    }
   ],
   "source": [
    "hml.keys_match_score(['high', 'hi', 'm', '', None])"
   ]
  },
  {
   "cell_type": "code",
   "execution_count": 87,
   "metadata": {},
   "outputs": [
    {
     "data": {
      "text/plain": [
       "-0.33333333333333337"
      ]
     },
     "execution_count": 87,
     "metadata": {},
     "output_type": "execute_result"
    }
   ],
   "source": [
    "hml.keys_match_score(['high', 'hi', 'm', '', None, \"biL\"])"
   ]
  },
  {
   "cell_type": "code",
   "execution_count": null,
   "metadata": {},
   "outputs": [],
   "source": []
  }
 ],
 "metadata": {
  "kernelspec": {
   "display_name": "Python 3",
   "language": "python",
   "name": "python3"
  },
  "language_info": {
   "codemirror_mode": {
    "name": "ipython",
    "version": 3
   },
   "file_extension": ".py",
   "mimetype": "text/x-python",
   "name": "python",
   "nbconvert_exporter": "python",
   "pygments_lexer": "ipython3",
   "version": "3.6.5"
  },
  "toc": {
   "base_numbering": 1,
   "nav_menu": {},
   "number_sections": true,
   "sideBar": true,
   "skip_h1_title": false,
   "title_cell": "Table of Contents",
   "title_sidebar": "Contents",
   "toc_cell": false,
   "toc_position": {},
   "toc_section_display": true,
   "toc_window_display": false
  }
 },
 "nbformat": 4,
 "nbformat_minor": 2
}
