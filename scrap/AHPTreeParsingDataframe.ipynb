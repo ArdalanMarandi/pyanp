{
 "cells": [
  {
   "cell_type": "markdown",
   "metadata": {},
   "source": [
    "# Experimenting with AHP Tree parsing"
   ]
  },
  {
   "cell_type": "code",
   "execution_count": 1,
   "metadata": {},
   "outputs": [],
   "source": [
    "import pandas as pd\n",
    "import re\n",
    "import sys \n",
    "import os\n",
    "sys.path.insert(0, os.path.abspath(\"../\"))\n",
    "from pyanp.ahptree import AHPTree"
   ]
  },
  {
   "cell_type": "code",
   "execution_count": 2,
   "metadata": {},
   "outputs": [],
   "source": [
    "df = pd.read_excel(\"../tests/data/AHPTreeData.xlsx\")"
   ]
  },
  {
   "cell_type": "code",
   "execution_count": 3,
   "metadata": {},
   "outputs": [],
   "source": [
    "cols = df.columns.values"
   ]
  },
  {
   "cell_type": "code",
   "execution_count": 4,
   "metadata": {},
   "outputs": [
    {
     "data": {
      "text/plain": [
       "array(['Age', 'Eyes', 'A vs B', 'B vs C', 'A vs C', 'A1 vs A2 wrt A',\n",
       "       'A1 vs A3 wrt A', 'A2 vs A3 wrt A', 'B1 vs B2 wrt B',\n",
       "       'C1 vs C2 wrt C', 'Alt1 wrt A1', 'Alt1 wrt A2', 'Alt1 wrt A3',\n",
       "       'Alt1 wrt B1', 'Alt1 wrt B2', 'Alt1 wrt C1', 'Alt1 wrt C2',\n",
       "       'Alt2 wrt A1', 'Alt2 wrt A2', 'Alt2 wrt A3', 'Alt2 wrt B1',\n",
       "       'Alt2 wrt B2', 'Alt2 wrt C1', 'Alt2 wrt C2', 'Alt3 wrt A1',\n",
       "       'Alt3 wrt A2', 'Alt3 wrt A3', 'Alt3 wrt B1', 'Alt3 wrt B2',\n",
       "       'Alt3 wrt C1', 'Alt3 wrt C2'], dtype=object)"
      ]
     },
     "execution_count": 4,
     "metadata": {},
     "output_type": "execute_result"
    }
   ],
   "source": [
    "cols"
   ]
  },
  {
   "cell_type": "code",
   "execution_count": 5,
   "metadata": {},
   "outputs": [],
   "source": [
    "__wrtre = re.compile(\"^(.+)\\s+vs\\s+(.+)\\s+wrt\\s+(.+)$\")\n",
    "__avsb = re.compile(\"^(.+)\\s+vs\\s+(.+)$\")\n",
    "__directre = re.compile(\"^(.+)\\s+wrt\\s+(.+)$\")\n",
    "def col_parse(col, theGoalNode=\"Goal\"):\n",
    "    #print(\"For col=\"+col)\n",
    "    minfo = __wrtre.match(col)\n",
    "    dom, rec, wrt = [None]*3\n",
    "    if minfo is not None:\n",
    "        dom, rec, wrt = minfo.groups()\n",
    "        return \"pw\", dom, rec, wrt\n",
    "    else:\n",
    "        # We do not have wrt, try a vs b\n",
    "        minfo = __avsb.match(col)\n",
    "        if minfo is not None:\n",
    "            wrt = theGoalNode\n",
    "            dom, rec = minfo.groups() \n",
    "            return \"pw\", dom, rec, wrt\n",
    "    #If we made it here, it is not pairwise, try direct\n",
    "    minfo = __directre.match(col)\n",
    "    if minfo is not None:\n",
    "        node, wrt = minfo.groups()\n",
    "        return \"direct\", node, wrt\n",
    "    # If we made it here, it has to be demographic\n",
    "    return \"demo\", col\n",
    "\n",
    "def info_ispw(info):\n",
    "    return info[0] == \"pw\"\n",
    "\n",
    "def info_isdirect(info):\n",
    "    return info[0] == \"direct\"\n",
    "\n",
    "def info_wrt(info):\n",
    "    if info_ispw(info) or info_isdirect(info):\n",
    "        return info[-1]\n",
    "    else:\n",
    "        return None\n",
    "\n",
    "def info_compares(info, node):\n",
    "    if info_ispw(info):\n",
    "        return (info[1]==node) or (info[2] == node)\n",
    "    elif info_isdirect(info):\n",
    "        return (info[1]==node)\n",
    "    else:\n",
    "        return False\n",
    "    \n",
    "def get_nodes_from_parsed(infos):\n",
    "    nodes = []\n",
    "    for info in infos:\n",
    "        if info_ispw(info):\n",
    "            nodes.append(info[1])\n",
    "            nodes.append(info[2])\n",
    "            nodes.append(info[3])\n",
    "        elif info_isdirect(info):\n",
    "            nodes.append(info[1])\n",
    "            nodes.append(info[2])\n",
    "    rval = list(dict.fromkeys(nodes))\n",
    "    return rval\n",
    "\n",
    "def node_parents(infos, node):\n",
    "    rval = []\n",
    "    for info in infos:\n",
    "        if info_compares(info, node):\n",
    "            rval.append(info_wrt(info))\n",
    "    rval = list(dict.fromkeys(rval))\n",
    "    return rval\n",
    "\n",
    "def node_alts(infos, nodes):\n",
    "    rval = [node for node in nodes if len(node_parents(infos, node))>1]\n",
    "    return rval\n",
    "\n",
    "def node_root(infos, nodes):\n",
    "    rval = [node for node in nodes if len(node_parents(infos, node))<=0]\n",
    "    return rval\n",
    "\n",
    "def node_children(infos, node):\n",
    "    rval = []\n",
    "    for info in infos:\n",
    "        if info_wrt(info) == node:\n",
    "            if info_ispw(info):\n",
    "                rval.append(info[1])\n",
    "                rval.append(info[2])\n",
    "            elif info_isdirect(info):\n",
    "                rval.append(info[1])\n",
    "    rval = list(dict.fromkeys(rval))\n",
    "    return rval\n",
    "\n",
    "def create_ahptree(infos, currentAHPTree=None, currentNode=None):\n",
    "    nodes = get_nodes_from_parsed(infos)\n",
    "    alts = node_alts(infos, nodes)\n",
    "    print(alts)\n",
    "    root = node_root(infos, nodes)\n",
    "    if len(root)>1:\n",
    "        raise ValueError(\"Too many root nodes, needs exactly1, had \"+str(root))\n",
    "    root = root[0]\n",
    "    isToplevel = False\n",
    "    if currentAHPTree is None:\n",
    "        isToplevel=True\n",
    "        currentAHPTree = AHPTree(root)\n",
    "        currentNode = root\n",
    "    for kid in node_children(infos, currentNode):\n",
    "        if kid not in alts:\n",
    "            print(\"Adding node=\"+kid+\" under=\"+currentNode)\n",
    "            currentAHPTree.add_child(kid, currentNode)\n",
    "            create_ahptree(infos, currentAHPTree, kid)\n",
    "    # Finally add alts, but only if in top-level\n",
    "    if isToplevel:\n",
    "        for alt in alts:\n",
    "            currentAHPTree.add_alt(alt)\n",
    "    return currentAHPTree"
   ]
  },
  {
   "cell_type": "code",
   "execution_count": 6,
   "metadata": {},
   "outputs": [],
   "source": [
    "\n",
    "infos = [col_parse(col) for col in cols]\n",
    "nodes = get_nodes_from_parsed(infos)\n",
    "parents = {node:node_parents(infos, node) for node in nodes}\n",
    "alts = node_alts(infos, nodes)\n",
    "root = node_root(infos, nodes)\n",
    "if len(root)>1:\n",
    "    raise ValueError(\"Too many root nodes, needs exactly 1, had \"+str(root))\n",
    "root = root[0]\n",
    "tree = AHPTree(root_name=root)\n"
   ]
  },
  {
   "cell_type": "code",
   "execution_count": 7,
   "metadata": {},
   "outputs": [
    {
     "name": "stdout",
     "output_type": "stream",
     "text": [
      "['Alt1', 'Alt2', 'Alt3']\n",
      "Adding node=A under=Goal\n",
      "['Alt1', 'Alt2', 'Alt3']\n",
      "Adding node=A1 under=A\n",
      "['Alt1', 'Alt2', 'Alt3']\n",
      "Adding node=A2 under=A\n",
      "['Alt1', 'Alt2', 'Alt3']\n",
      "Adding node=A3 under=A\n",
      "['Alt1', 'Alt2', 'Alt3']\n",
      "Adding node=B under=Goal\n",
      "['Alt1', 'Alt2', 'Alt3']\n",
      "Adding node=B1 under=B\n",
      "['Alt1', 'Alt2', 'Alt3']\n",
      "Adding node=B2 under=B\n",
      "['Alt1', 'Alt2', 'Alt3']\n",
      "Adding node=C under=Goal\n",
      "['Alt1', 'Alt2', 'Alt3']\n",
      "Adding node=C1 under=C\n",
      "['Alt1', 'Alt2', 'Alt3']\n",
      "Adding node=C2 under=C\n",
      "['Alt1', 'Alt2', 'Alt3']\n"
     ]
    }
   ],
   "source": [
    "tree=create_ahptree(infos)"
   ]
  },
  {
   "cell_type": "code",
   "execution_count": 8,
   "metadata": {},
   "outputs": [
    {
     "data": {
      "text/plain": [
       "['Alt1', 'Alt2', 'Alt3']"
      ]
     },
     "execution_count": 8,
     "metadata": {},
     "output_type": "execute_result"
    }
   ],
   "source": [
    "tree.alt_names"
   ]
  },
  {
   "cell_type": "code",
   "execution_count": 9,
   "metadata": {},
   "outputs": [
    {
     "data": {
      "text/plain": [
       "'Goal'"
      ]
     },
     "execution_count": 9,
     "metadata": {},
     "output_type": "execute_result"
    }
   ],
   "source": [
    "root"
   ]
  }
 ],
 "metadata": {
  "kernelspec": {
   "display_name": "Python 3",
   "language": "python",
   "name": "python3"
  },
  "language_info": {
   "codemirror_mode": {
    "name": "ipython",
    "version": 3
   },
   "file_extension": ".py",
   "mimetype": "text/x-python",
   "name": "python",
   "nbconvert_exporter": "python",
   "pygments_lexer": "ipython3",
   "version": "3.6.5"
  },
  "toc": {
   "base_numbering": 1,
   "nav_menu": {},
   "number_sections": true,
   "sideBar": true,
   "skip_h1_title": false,
   "title_cell": "Table of Contents",
   "title_sidebar": "Contents",
   "toc_cell": false,
   "toc_position": {},
   "toc_section_display": true,
   "toc_window_display": false
  }
 },
 "nbformat": 4,
 "nbformat_minor": 2
}
