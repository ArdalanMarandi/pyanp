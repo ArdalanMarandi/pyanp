{
 "cells": [
  {
   "cell_type": "markdown",
   "metadata": {},
   "source": [
    "# Using AHPTree from `pyanp`"
   ]
  },
  {
   "cell_type": "markdown",
   "metadata": {},
   "source": [
    "## First we import"
   ]
  },
  {
   "cell_type": "code",
   "execution_count": 1,
   "metadata": {},
   "outputs": [],
   "source": [
    "import pandas as pd\n",
    "import re\n",
    "import sys \n",
    "import os\n",
    "sys.path.insert(0, os.path.abspath(\"../\"))\n",
    "from pyanp.ahptree import AHPTree, create_ahptree"
   ]
  },
  {
   "cell_type": "code",
   "execution_count": 2,
   "metadata": {},
   "outputs": [
    {
     "name": "stdout",
     "output_type": "stream",
     "text": [
      "Populating the interactive namespace from numpy and matplotlib\n"
     ]
    }
   ],
   "source": [
    "%pylab inline"
   ]
  },
  {
   "cell_type": "code",
   "execution_count": 3,
   "metadata": {},
   "outputs": [],
   "source": [
    "pylab.rcParams['figure.figsize'] = (12, 7.5)"
   ]
  },
  {
   "cell_type": "markdown",
   "metadata": {},
   "source": [
    "# Example model "
   ]
  },
  {
   "cell_type": "markdown",
   "metadata": {},
   "source": [
    "## Read in the data and verify it looks right"
   ]
  },
  {
   "cell_type": "code",
   "execution_count": 4,
   "metadata": {},
   "outputs": [],
   "source": [
    "excel_file = '../tests/AHPTreeData.xlsx'\n",
    "ahp = create_ahptree(excel_file)"
   ]
  },
  {
   "cell_type": "code",
   "execution_count": 5,
   "metadata": {},
   "outputs": [
    {
     "data": {
      "text/html": [
       "<ul>\n",
       "\t<li><b>Node:</b>Goal\n",
       "\t\t<ul>\n",
       "\t\t\t<li>Bill\n",
       "\t\t\t[[1.         8.         0.11111111]\n",
       "\t\t\t [0.125      1.         0.16666667]\n",
       "\t\t\t [9.         6.         1.        ]]\n",
       "\t\t\t<li>John\n",
       "\t\t\t[[1.         0.33333333 4.        ]\n",
       "\t\t\t [3.         1.         0.125     ]\n",
       "\t\t\t [0.25       8.         1.        ]]\n",
       "\t\t\t<li>Joseph\n",
       "\t\t\t[[1.         0.2        1.        ]\n",
       "\t\t\t [5.         1.         0.11111111]\n",
       "\t\t\t [1.         9.         1.        ]]\n",
       "\t\t\t<li>Ronald\n",
       "\t\t\t[[1.         0.14285714 0.16666667]\n",
       "\t\t\t [7.         1.         4.        ]\n",
       "\t\t\t [6.         0.25       1.        ]]\n",
       "\t\t\t<li>Leanne\n",
       "\t\t\t[[1.         0.11111111 0.33333333]\n",
       "\t\t\t [9.         1.         4.        ]\n",
       "\t\t\t [3.         0.25       1.        ]]\n",
       "\t\t\t<li>Fireworks\n",
       "\t\t\t[[1.  5.  5. ]\n",
       "\t\t\t [0.2 1.  1. ]\n",
       "\t\t\t [0.2 1.  1. ]]\n",
       "\t\t</ul>\t<ul>\n",
       "\t\t<li><b>Node:</b>A\n",
       "\t\t\t<ul>\n",
       "\t\t\t\t<li>Bill\n",
       "\t\t\t\t[[1.         0.14285714 0.16666667]\n",
       "\t\t\t\t [7.         1.         0.125     ]\n",
       "\t\t\t\t [6.         8.         1.        ]]\n",
       "\t\t\t\t<li>John\n",
       "\t\t\t\t[[1.   0.5  4.  ]\n",
       "\t\t\t\t [2.   1.   1.  ]\n",
       "\t\t\t\t [0.25 1.   1.  ]]\n",
       "\t\t\t\t<li>Joseph\n",
       "\t\t\t\t[[1.         2.         0.5       ]\n",
       "\t\t\t\t [0.5        1.         0.11111111]\n",
       "\t\t\t\t [2.         9.         1.        ]]\n",
       "\t\t\t\t<li>Ronald\n",
       "\t\t\t\t[[1.  0.2 0.5]\n",
       "\t\t\t\t [5.  1.  1. ]\n",
       "\t\t\t\t [2.  1.  1. ]]\n",
       "\t\t\t\t<li>Leanne\n",
       "\t\t\t\t[[1.         0.11111111 2.        ]\n",
       "\t\t\t\t [9.         1.         7.        ]\n",
       "\t\t\t\t [0.5        0.14285714 1.        ]]\n",
       "\t\t\t\t<li>Fireworks\n",
       "\t\t\t\t[[1.         4.         3.        ]\n",
       "\t\t\t\t [0.25       1.         0.11111111]\n",
       "\t\t\t\t [0.33333333 9.         1.        ]]\n",
       "\t\t\t</ul>\t\t<ul>\n",
       "\t\t\t<li><b>Node:</b>A1\n",
       "\t\t\t\t<ul><li>AltScores=\n",
       "\t\t\t\t\tAlt1    0.869\n",
       "\t\t\t\t\tAlt2    0.956\n",
       "\t\t\t\t\tAlt3    0.754\n",
       "\t\t\t\t\tdtype: float64\n",
       "\t\t\t\t</ul>\n",
       "\t\t\t<li><b>Node:</b>A2\n",
       "\t\t\t\t<ul><li>AltScores=\n",
       "\t\t\t\t\tAlt1    0.768\n",
       "\t\t\t\t\tAlt2    0.993\n",
       "\t\t\t\t\tAlt3    0.283\n",
       "\t\t\t\t\tdtype: float64\n",
       "\t\t\t\t</ul>\n",
       "\t\t\t<li><b>Node:</b>A3\n",
       "\t\t\t\t<ul><li>AltScores=\n",
       "\t\t\t\t\tAlt1    0.143\n",
       "\t\t\t\t\tAlt2    0.906\n",
       "\t\t\t\t\tAlt3    0.917\n",
       "\t\t\t\t\tdtype: float64\n",
       "\t\t\t\t</ul>\n",
       "</ul>\n",
       "\t\t<li><b>Node:</b>B\n",
       "\t\t\t<ul>\n",
       "\t\t\t\t<li>Bill\n",
       "\t\t\t\t[[1.  0.2]\n",
       "\t\t\t\t [5.  1. ]]\n",
       "\t\t\t\t<li>John\n",
       "\t\t\t\t[[1.         0.16666667]\n",
       "\t\t\t\t [6.         1.        ]]\n",
       "\t\t\t\t<li>Joseph\n",
       "\t\t\t\t[[1.  0.2]\n",
       "\t\t\t\t [5.  1. ]]\n",
       "\t\t\t\t<li>Ronald\n",
       "\t\t\t\t[[1.         3.        ]\n",
       "\t\t\t\t [0.33333333 1.        ]]\n",
       "\t\t\t\t<li>Leanne\n",
       "\t\t\t\t[[1.    8.   ]\n",
       "\t\t\t\t [0.125 1.   ]]\n",
       "\t\t\t\t<li>Fireworks\n",
       "\t\t\t\t[[1.   4.  ]\n",
       "\t\t\t\t [0.25 1.  ]]\n",
       "\t\t\t</ul>\t\t<ul>\n",
       "\t\t\t<li><b>Node:</b>B1\n",
       "\t\t\t\t<ul><li>AltScores=\n",
       "\t\t\t\t\tAlt1    0.128\n",
       "\t\t\t\t\tAlt2    0.827\n",
       "\t\t\t\t\tAlt3    0.508\n",
       "\t\t\t\t\tdtype: float64\n",
       "\t\t\t\t</ul>\n",
       "\t\t\t<li><b>Node:</b>B2\n",
       "\t\t\t\t<ul><li>AltScores=\n",
       "\t\t\t\t\tAlt1    0.114\n",
       "\t\t\t\t\tAlt2    0.361\n",
       "\t\t\t\t\tAlt3    0.989\n",
       "\t\t\t\t\tdtype: float64\n",
       "\t\t\t\t</ul>\n",
       "</ul>\n",
       "\t\t<li><b>Node:</b>C\n",
       "\t\t\t<ul>\n",
       "\t\t\t\t<li>Bill\n",
       "\t\t\t\t[[1.  0.5]\n",
       "\t\t\t\t [2.  1. ]]\n",
       "\t\t\t\t<li>John\n",
       "\t\t\t\t[[1.    0.125]\n",
       "\t\t\t\t [8.    1.   ]]\n",
       "\t\t\t\t<li>Joseph\n",
       "\t\t\t\t[[1.         0.14285714]\n",
       "\t\t\t\t [7.         1.        ]]\n",
       "\t\t\t\t<li>Ronald\n",
       "\t\t\t\t[[1.         7.        ]\n",
       "\t\t\t\t [0.14285714 1.        ]]\n",
       "\t\t\t\t<li>Leanne\n",
       "\t\t\t\t[[1.         0.11111111]\n",
       "\t\t\t\t [9.         1.        ]]\n",
       "\t\t\t\t<li>Fireworks\n",
       "\t\t\t\t[[1.         0.33333333]\n",
       "\t\t\t\t [3.         1.        ]]\n",
       "\t\t\t</ul>\t\t<ul>\n",
       "\t\t\t<li><b>Node:</b>C1\n",
       "\t\t\t\t<ul><li>AltScores=\n",
       "\t\t\t\t\tAlt1    0.553\n",
       "\t\t\t\t\tAlt2    0.660\n",
       "\t\t\t\t\tAlt3    0.716\n",
       "\t\t\t\t\tdtype: float64\n",
       "\t\t\t\t</ul>\n",
       "\t\t\t<li><b>Node:</b>C2\n",
       "\t\t\t\t<ul><li>AltScores=\n",
       "\t\t\t\t\tAlt1    0.391\n",
       "\t\t\t\t\tAlt2    0.472\n",
       "\t\t\t\t\tAlt3    0.140\n",
       "\t\t\t\t\tdtype: float64\n",
       "\t\t\t\t</ul>\n",
       "</ul>\n",
       "</ul>\n",
       "\n",
       "</ul>"
      ],
      "text/plain": [
       "<pyanp.ahptree.AHPTree at 0x111d51978>"
      ]
     },
     "execution_count": 5,
     "metadata": {},
     "output_type": "execute_result"
    }
   ],
   "source": [
    "ahp"
   ]
  },
  {
   "cell_type": "markdown",
   "metadata": {},
   "source": [
    "## Look at global priorities"
   ]
  },
  {
   "cell_type": "code",
   "execution_count": 6,
   "metadata": {},
   "outputs": [
    {
     "data": {
      "text/plain": [
       "<matplotlib.axes._subplots.AxesSubplot at 0x1155b0780>"
      ]
     },
     "execution_count": 6,
     "metadata": {},
     "output_type": "execute_result"
    },
    {
     "data": {
      "image/png": "[encoded data removed]",
      "text/plain": [
       "<matplotlib.figure.Figure at 0x115596da0>"
      ]
     },
     "metadata": {},
     "output_type": "display_data"
    }
   ],
   "source": [
    "gs = ahp.global_priority_table()\n",
    "gs.plot(kind=\"bar\")"
   ]
  },
  {
   "cell_type": "code",
   "execution_count": 7,
   "metadata": {},
   "outputs": [
    {
     "data": {
      "text/plain": [
       "<matplotlib.axes._subplots.AxesSubplot at 0x11e6c3e80>"
      ]
     },
     "execution_count": 7,
     "metadata": {},
     "output_type": "execute_result"
    },
    {
     "data": {
      "image/png": "[encoded data removed]",
      "text/plain": [
       "<matplotlib.figure.Figure at 0x11e6b3ac8>"
      ]
     },
     "metadata": {},
     "output_type": "display_data"
    }
   ],
   "source": [
    "altscores = ahp.priority_table()\n",
    "altscores.plot(kind=\"bar\")"
   ]
  },
  {
   "cell_type": "code",
   "execution_count": 10,
   "metadata": {},
   "outputs": [
    {
     "data": {
      "text/html": [
       "<div>\n",
       "<style scoped>\n",
       "    .dataframe tbody tr th:only-of-type {\n",
       "        vertical-align: middle;\n",
       "    }\n",
       "\n",
       "    .dataframe tbody tr th {\n",
       "        vertical-align: top;\n",
       "    }\n",
       "\n",
       "    .dataframe thead th {\n",
       "        text-align: right;\n",
       "    }\n",
       "</style>\n",
       "<table border=\"1\" class=\"dataframe\">\n",
       "  <thead>\n",
       "    <tr style=\"text-align: right;\">\n",
       "      <th></th>\n",
       "      <th>Group</th>\n",
       "      <th>Bill</th>\n",
       "      <th>John</th>\n",
       "      <th>Joseph</th>\n",
       "      <th>Ronald</th>\n",
       "      <th>Leanne</th>\n",
       "      <th>Fireworks</th>\n",
       "    </tr>\n",
       "  </thead>\n",
       "  <tbody>\n",
       "    <tr>\n",
       "      <th>Goal</th>\n",
       "      <td>0.056856</td>\n",
       "      <td>6.982872e-01</td>\n",
       "      <td>2.689665</td>\n",
       "      <td>1.767344e+00</td>\n",
       "      <td>0.164491</td>\n",
       "      <td>0.008849</td>\n",
       "      <td>-8.540177e-16</td>\n",
       "    </tr>\n",
       "    <tr>\n",
       "      <th>A</th>\n",
       "      <td>0.239585</td>\n",
       "      <td>5.580869e-01</td>\n",
       "      <td>0.480769</td>\n",
       "      <td>7.068608e-02</td>\n",
       "      <td>0.090399</td>\n",
       "      <td>0.096090</td>\n",
       "      <td>4.028993e-01</td>\n",
       "    </tr>\n",
       "    <tr>\n",
       "      <th>B</th>\n",
       "      <td>0.000000</td>\n",
       "      <td>4.440892e-16</td>\n",
       "      <td>0.000000</td>\n",
       "      <td>4.440892e-16</td>\n",
       "      <td>0.000000</td>\n",
       "      <td>0.000000</td>\n",
       "      <td>0.000000e+00</td>\n",
       "    </tr>\n",
       "    <tr>\n",
       "      <th>C</th>\n",
       "      <td>0.000000</td>\n",
       "      <td>0.000000e+00</td>\n",
       "      <td>0.000000</td>\n",
       "      <td>0.000000e+00</td>\n",
       "      <td>0.000000</td>\n",
       "      <td>0.000000</td>\n",
       "      <td>0.000000e+00</td>\n",
       "    </tr>\n",
       "  </tbody>\n",
       "</table>\n",
       "</div>"
      ],
      "text/plain": [
       "         Group          Bill      John        Joseph    Ronald    Leanne  \\\n",
       "Goal  0.056856  6.982872e-01  2.689665  1.767344e+00  0.164491  0.008849   \n",
       "A     0.239585  5.580869e-01  0.480769  7.068608e-02  0.090399  0.096090   \n",
       "B     0.000000  4.440892e-16  0.000000  4.440892e-16  0.000000  0.000000   \n",
       "C     0.000000  0.000000e+00  0.000000  0.000000e+00  0.000000  0.000000   \n",
       "\n",
       "         Fireworks  \n",
       "Goal -8.540177e-16  \n",
       "A     4.028993e-01  \n",
       "B     0.000000e+00  \n",
       "C     0.000000e+00  "
      ]
     },
     "metadata": {},
     "output_type": "display_data"
    },
    {
     "data": {
      "text/plain": [
       "<matplotlib.axes._subplots.AxesSubplot at 0x11eee5a90>"
      ]
     },
     "execution_count": 10,
     "metadata": {},
     "output_type": "execute_result"
    },
    {
     "data": {
      "image/png": "[encoded data removed]",
      "text/plain": [
       "<matplotlib.figure.Figure at 0x11edc1dd8>"
      ]
     },
     "metadata": {},
     "output_type": "display_data"
    }
   ],
   "source": [
    "allincons = ahp.incond_std_table()\n",
    "display(allincons)\n",
    "allincons.plot(kind=\"bar\")"
   ]
  },
  {
   "cell_type": "code",
   "execution_count": null,
   "metadata": {},
   "outputs": [],
   "source": []
  }
 ],
 "metadata": {
  "kernelspec": {
   "display_name": "Python 3",
   "language": "python",
   "name": "python3"
  },
  "language_info": {
   "codemirror_mode": {
    "name": "ipython",
    "version": 3
   },
   "file_extension": ".py",
   "mimetype": "text/x-python",
   "name": "python",
   "nbconvert_exporter": "python",
   "pygments_lexer": "ipython3",
   "version": "3.6.4"
  },
  "toc": {
   "base_numbering": 1,
   "nav_menu": {},
   "number_sections": true,
   "sideBar": true,
   "skip_h1_title": false,
   "title_cell": "Table of Contents",
   "title_sidebar": "Contents",
   "toc_cell": false,
   "toc_position": {},
   "toc_section_display": true,
   "toc_window_display": false
  }
 },
 "nbformat": 4,
 "nbformat_minor": 2
}
