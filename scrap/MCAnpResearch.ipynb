{
 "cells": [
  {
   "cell_type": "markdown",
   "metadata": {},
   "source": [
    "# Another attempt at MC Simulation on AHP/ANP"
   ]
  },
  {
   "cell_type": "markdown",
   "metadata": {},
   "source": [
    "The ideas are the following:\n",
    "\n",
    "1. There is a class MCAnp that has a sim() method that will simulate any Prioritizer\n",
    "2. MCAnp also has a sim_fill() function that does fills in the data needed for a single simulation"
   ]
  },
  {
   "cell_type": "markdown",
   "metadata": {},
   "source": [
    "## Import needed libs"
   ]
  },
  {
   "cell_type": "code",
   "execution_count": 1,
   "metadata": {},
   "outputs": [],
   "source": [
    "import pandas as pd\n",
    "import sys \n",
    "import os\n",
    "sys.path.insert(0, os.path.abspath(\"../\"))\n",
    "import numpy as np\n",
    "from scipy.stats import triang\n",
    "from copy import deepcopy\n",
    "from pyanp.priority import pri_eigen\n",
    "from pyanp.pairwise import Pairwise\n",
    "from pyanp.ahptree import AHPTree\n",
    "from pyanp.direct import Direct"
   ]
  },
  {
   "cell_type": "markdown",
   "metadata": {},
   "source": [
    "# MCAnp class"
   ]
  },
  {
   "cell_type": "code",
   "execution_count": 2,
   "metadata": {},
   "outputs": [],
   "source": [
    "def ascale_mscale(val:(float,int))->float:\n",
    "    if val is None:\n",
    "        return 0\n",
    "    elif val < 0:\n",
    "        val = -val\n",
    "        val += 1\n",
    "        val = 1.0/val\n",
    "        return val\n",
    "    else:\n",
    "        return val+1\n",
    "    \n",
    "def mscale_ascale(val:(float,int))->float:\n",
    "    if val == 0:\n",
    "        return None\n",
    "    elif val >= 1:\n",
    "        return val - 1\n",
    "    else:\n",
    "        val = 1/val\n",
    "        val = val-1\n",
    "        return -val"
   ]
  },
  {
   "cell_type": "code",
   "execution_count": 33,
   "metadata": {},
   "outputs": [],
   "source": [
    "DEFAULT_DISTRIB = triang(c=0.5, loc=-1.5, scale=3.0)\n",
    "def avote_random(avote):\n",
    "    \"\"\"\n",
    "    Returns a random additive vote in the neighborhood of the additive vote avote\n",
    "    according to the default disribution DEFAULT_DISTRIB\n",
    "    \"\"\"\n",
    "    if avote is None:\n",
    "        return None\n",
    "    raw_val = DEFAULT_DISTRIB.rvs(size=1)[0]\n",
    "    return avote+raw_val\n",
    "\n",
    "\n",
    "def mvote_random(mvote):\n",
    "    \"\"\"\n",
    "    Returns a random multiplicative vote in the neighborhhod of the multiplicative vote mvote\n",
    "    according to the default distribution DEFAULT_DISTRIB.  This is handled by converting\n",
    "    the multiplicative vote to an additive vote, calling avote_random() and converting the\n",
    "    result back to an additive vote\n",
    "    \"\"\"\n",
    "    avote = mscale_ascale(mvote)\n",
    "    rval_a = avote_random(avote)\n",
    "    rval = ascale_mscale(rval_a)\n",
    "    return rval\n",
    "\n",
    "def direct_random(direct, max_percent_chg=0.2)->float:\n",
    "    \"\"\"\n",
    "    Returns a random direct data value near the value `direct'.  This function\n",
    "    creates a random percent change, between -max_percent_chg and +max_percent_chg, and\n",
    "    then changes the direct value by that factor, and returns it.\n",
    "    \"\"\"\n",
    "    pchg = np.random.uniform(low=-max_percent_chg, high=max_percent_chg)\n",
    "    return direct * (1 + pchg)\n",
    "    \n",
    "class MCAnp:\n",
    "    def __init__(self):\n",
    "        # Setup the random pairwise vote generator\n",
    "        self.pwvote_random = mvote_random\n",
    "        # Setup the random direct vote generator\n",
    "        self.directvote_random = direct_random\n",
    "        # Set the default user to use across the simulation\n",
    "        # follows the standard from Pairwise class, i.e. it can be a list\n",
    "        # of usernames, a single username, or None (which means total group average)\n",
    "        self.username = None\n",
    "        # What is the pairwise priority calculation?\n",
    "        self.pwprioritycalc = pri_eigen\n",
    "        \n",
    "    def sim_fill(self, src, dest):\n",
    "        \"\"\"\n",
    "        Fills in data on a structure prior to doing the simulation calculations.\n",
    "        This function calls sim_NAME_fill depending on the class of the src object.\n",
    "        If the dest object is None, we create a dest object by calling deepcopy().\n",
    "        In either case, we always return the allocated dest object\n",
    "        \"\"\"\n",
    "        if dest is None:\n",
    "            dest = deepcopy(src)\n",
    "        # Which kind of src do we have\n",
    "        if isinstance(src, np.ndarray):\n",
    "            # We are simulating on a pairwise comparison matrix\n",
    "            return sim_pwmat_fill(src, dest)\n",
    "        elif isinstance(src, Pairwise):\n",
    "            # We are simulating on a multi-user pairwise comparison object\n",
    "            return sim_pw_fill(src, dest)\n",
    "        elif isinstance(src, AHPTree):\n",
    "            # We are simulating on an ahp tree object\n",
    "            return sim_ahptree_fill(src, dest)\n",
    "        else:\n",
    "            raise ValueError(\"Src class is not handled, it is \")\n",
    "    \n",
    "    def sim_pwmat_fill(self, pwsrc:np.ndarray, pwdest:np.ndarray=None)->np.ndarray:\n",
    "        \"\"\"\n",
    "        Fills in a pairwise comparison matrix with noisy votes based on pwsrc\n",
    "        If pwsrc is None, we create a new matrix, otherwise we fill in pwdest\n",
    "        with noisy values based on pwsrc and the self.pwvote_random parameter.\n",
    "        In either case, we return the resulting noisy matrix\n",
    "        \"\"\"\n",
    "        if pwdest is None:\n",
    "            pwdest = deepcopy(pwsrc)\n",
    "        size = len(pwsrc)\n",
    "        for row in range(size):\n",
    "            pwdest[row,row] = 1.0\n",
    "            for col in range(row+1, size):\n",
    "                val = pwsrc[row,col]\n",
    "                if val >= 1:\n",
    "                    nvote = self.pwvote_random(val)\n",
    "                    pwdest[row, col]=nvote\n",
    "                    pwdest[col, row]=1/nvote\n",
    "                elif val!= 0:\n",
    "                    nvote = self.pwvote_random(1/val)\n",
    "                    pwdest[col, row] = nvote\n",
    "                    pwdest[row, col] = 1/nvote\n",
    "                else:\n",
    "                    pwdest[row, col] = nvote\n",
    "                    pwdest[col, row] = nvote\n",
    "        return pwdest\n",
    "    \n",
    "    def sim_pwmat(self, pwsrc:np.ndarray, pwdest:np.ndarray=None)->np.ndarray:\n",
    "        \"\"\"\n",
    "        creates a noisy pw comparison matrix from pwsrc, stores the matrix in pwdest (which\n",
    "        is created if pwdest is None) calculates the resulting priority and returns that\n",
    "        \"\"\"\n",
    "        pwdest = self.sim_pwmat_fill(pwsrc, pwdest)\n",
    "        rval = self.pwprioritycalc(pwdest)\n",
    "        return rval\n",
    "    \n",
    "    def sim_pw(self, pwsrc:Pairwise, pwdest:Pairwise)->np.ndarray:\n",
    "        \"\"\"\n",
    "        Performs a simulation on a pairwise comparison matrix object and returns the\n",
    "        resulting priorities\n",
    "        \"\"\"\n",
    "        pwdest = self.sim_pw_fill(pwsrc, pwdest)\n",
    "        mat = pwdest.matrix(self.username)\n",
    "        rval = self.pwprioritycalc(mat)\n",
    "        return rval\n",
    "        \n",
    "    \n",
    "    def sim_pw_fill(self, pwsrc:Pairwise, pwdest:Pairwise=None)->Pairwise:\n",
    "        \"\"\"\n",
    "        Fills in the pairwise comparison structure of pwdest with noisy pairwise data from pwsrc.\n",
    "        If pwdest is None, we create one first, then fill in.  In either case, we return the pwdest\n",
    "        object with new noisy data in it.\n",
    "        \"\"\"\n",
    "        if pwdest is None:\n",
    "            pwdest = deepcopy(pwsrc)\n",
    "        for user in pwsrc.usernames():\n",
    "            srcmat = pwsrc.matrix(user)\n",
    "            destmat = pwdest.matrix(user)\n",
    "            self.sim_pwmat_fill(srcmat, destmat)\n",
    "        return pwdest\n",
    "    \n",
    "    def sim_direct_fill(self, directsrc:Direct, directdest:Direct=None)->Direct:\n",
    "        \"\"\"\n",
    "        Fills in the direct data structure of directdest with noisy data from directsrc.\n",
    "        If directdest is None, we create on as a deep copy of directsrc, then fill in.\n",
    "        In either case, we return the directdest object with new noisy data in it.\n",
    "        \"\"\"\n",
    "        if directdest is None:\n",
    "            directdest = deepcopy(directsrc)\n",
    "        for altpos in range(len(directdest)):\n",
    "            orig = directsrc[altpos]\n",
    "            newvote = self.directvote_random(orig)\n",
    "            directdest.data[altpos] = newvote\n",
    "        return directdest\n",
    "        \n",
    "    def sim_ahptree_fill(self, ahpsrc:AHPTree, ahpdest:AHPTree)->AHPTree:\n",
    "        \"\"\"\n",
    "        Fills in the ahp tree structure of ahpdest with noisy data from ahpsrc.\n",
    "        If ahpdest is None, we create one as a deepcopy of ahpsrc, then fill in.\n",
    "        In either case, we return the ahpdest object with new noisy data in it.\n",
    "        \"\"\"\n",
    "        pass"
   ]
  },
  {
   "cell_type": "code",
   "execution_count": 34,
   "metadata": {},
   "outputs": [],
   "source": [
    "mc = MCAnp()"
   ]
  },
  {
   "cell_type": "code",
   "execution_count": 35,
   "metadata": {},
   "outputs": [
    {
     "data": {
      "text/plain": [
       "array([[1.        , 0.37051142, 3.33842281],\n",
       "       [2.69897217, 1.        , 5.80183993],\n",
       "       [0.29954265, 0.17235912, 1.        ]])"
      ]
     },
     "execution_count": 35,
     "metadata": {},
     "output_type": "execute_result"
    }
   ],
   "source": [
    "pw = np.array([\n",
    "    [1, 1/2, 3],\n",
    "    [2, 1, 5],\n",
    "    [1/3, 1/5, 1]\n",
    "])\n",
    "rpw= mc.sim_pwmat_fill(pw)\n",
    "rpw"
   ]
  },
  {
   "cell_type": "code",
   "execution_count": 36,
   "metadata": {},
   "outputs": [
    {
     "data": {
      "text/plain": [
       "[array([0.27096634, 0.6243696 , 0.10466406]),\n",
       " array([0.30053369, 0.6140516 , 0.0854147 ]),\n",
       " array([0.27060148, 0.61894665, 0.11045187]),\n",
       " array([0.30726993, 0.5940259 , 0.09870417]),\n",
       " array([0.35503492, 0.50633442, 0.13863066]),\n",
       " array([0.4268226 , 0.46644976, 0.10672764]),\n",
       " array([0.29151253, 0.59072901, 0.11775846]),\n",
       " array([0.35685006, 0.53412795, 0.10902199]),\n",
       " array([0.29312101, 0.60557346, 0.10130553]),\n",
       " array([0.29723375, 0.59655076, 0.10621549]),\n",
       " array([0.31288256, 0.58281427, 0.10430317]),\n",
       " array([0.29374678, 0.58335089, 0.12290234]),\n",
       " array([0.36008121, 0.52188087, 0.11803791]),\n",
       " array([0.27858529, 0.60907088, 0.11234383]),\n",
       " array([0.35254206, 0.53844782, 0.10901012]),\n",
       " array([0.31278362, 0.58495631, 0.10226007]),\n",
       " array([0.28857276, 0.60663839, 0.10478885]),\n",
       " array([0.35274742, 0.53920847, 0.1080441 ]),\n",
       " array([0.3353495 , 0.54748455, 0.11716595]),\n",
       " array([0.29354446, 0.55889581, 0.14755973])]"
      ]
     },
     "execution_count": 36,
     "metadata": {},
     "output_type": "execute_result"
    }
   ],
   "source": [
    "[mc.sim_pwmat(pw) for i in range(20)]"
   ]
  },
  {
   "cell_type": "code",
   "execution_count": 37,
   "metadata": {},
   "outputs": [],
   "source": [
    "pwobj = Pairwise(alts=['alt '+str(i) for i in range(3)])\n",
    "pwobj.vote_matrix(user_name='u1', val=pw)"
   ]
  },
  {
   "cell_type": "markdown",
   "metadata": {},
   "source": [
    "## Checking that the deep copy is actually a deep copy\n",
    "For some reason deepcopy was not copying the matrix, I had to overwrite\n",
    "__deepcopy__ in Pairwise"
   ]
  },
  {
   "cell_type": "code",
   "execution_count": 38,
   "metadata": {},
   "outputs": [
    {
     "data": {
      "text/plain": [
       "array([[1.        , 0.5       , 3.        ],\n",
       "       [2.        , 1.        , 5.        ],\n",
       "       [0.33333333, 0.2       , 1.        ]])"
      ]
     },
     "execution_count": 38,
     "metadata": {},
     "output_type": "execute_result"
    }
   ],
   "source": [
    "pwobj.matrix('u1')"
   ]
  },
  {
   "cell_type": "code",
   "execution_count": 39,
   "metadata": {},
   "outputs": [],
   "source": [
    "rpwobj = pwobj.__deepcopy__()"
   ]
  },
  {
   "cell_type": "code",
   "execution_count": 40,
   "metadata": {},
   "outputs": [
    {
     "data": {
      "text/html": [
       "<div>\n",
       "<style scoped>\n",
       "    .dataframe tbody tr th:only-of-type {\n",
       "        vertical-align: middle;\n",
       "    }\n",
       "\n",
       "    .dataframe tbody tr th {\n",
       "        vertical-align: top;\n",
       "    }\n",
       "\n",
       "    .dataframe thead th {\n",
       "        text-align: right;\n",
       "    }\n",
       "</style>\n",
       "<table border=\"1\" class=\"dataframe\">\n",
       "  <thead>\n",
       "    <tr style=\"text-align: right;\">\n",
       "      <th></th>\n",
       "      <th>Name</th>\n",
       "      <th>Age</th>\n",
       "      <th>Matrix</th>\n",
       "    </tr>\n",
       "  </thead>\n",
       "  <tbody>\n",
       "    <tr>\n",
       "      <th>u1</th>\n",
       "      <td>None</td>\n",
       "      <td>None</td>\n",
       "      <td>[[1.0, 0.5, 3.0], [2.0, 1.0, 5.0], [0.33333333...</td>\n",
       "    </tr>\n",
       "  </tbody>\n",
       "</table>\n",
       "</div>"
      ],
      "text/plain": [
       "    Name   Age                                             Matrix\n",
       "u1  None  None  [[1.0, 0.5, 3.0], [2.0, 1.0, 5.0], [0.33333333..."
      ]
     },
     "execution_count": 40,
     "metadata": {},
     "output_type": "execute_result"
    }
   ],
   "source": [
    "a=rpwobj\n",
    "b=pwobj\n",
    "a.df"
   ]
  },
  {
   "cell_type": "code",
   "execution_count": 41,
   "metadata": {},
   "outputs": [
    {
     "data": {
      "text/plain": [
       "array([[1.        , 0.5       , 3.        ],\n",
       "       [2.        , 1.        , 5.        ],\n",
       "       [0.33333333, 0.2       , 1.        ]])"
      ]
     },
     "metadata": {},
     "output_type": "display_data"
    },
    {
     "data": {
      "text/plain": [
       "array([[1.        , 0.5       , 3.        ],\n",
       "       [2.        , 1.        , 5.        ],\n",
       "       [0.33333333, 0.2       , 1.        ]])"
      ]
     },
     "metadata": {},
     "output_type": "display_data"
    }
   ],
   "source": [
    "display(a.df.loc['u1', 'Matrix']) \n",
    "display(b.df.loc['u1', 'Matrix'])"
   ]
  },
  {
   "cell_type": "code",
   "execution_count": 42,
   "metadata": {},
   "outputs": [
    {
     "data": {
      "text/plain": [
       "False"
      ]
     },
     "metadata": {},
     "output_type": "display_data"
    },
    {
     "data": {
      "text/plain": [
       "array([[ True,  True,  True],\n",
       "       [ True,  True,  True],\n",
       "       [ True,  True,  True]])"
      ]
     },
     "metadata": {},
     "output_type": "display_data"
    }
   ],
   "source": [
    "display(a.matrix('u1') is b.matrix('u1'))\n",
    "display(a.matrix('u1') == b.matrix('u1'))"
   ]
  },
  {
   "cell_type": "markdown",
   "metadata": {},
   "source": [
    "## Now let's try to simulate"
   ]
  },
  {
   "cell_type": "code",
   "execution_count": 43,
   "metadata": {},
   "outputs": [
    {
     "data": {
      "text/plain": [
       "[array([0.32769651, 0.57816026, 0.09414324]),\n",
       " array([0.25376675, 0.62931466, 0.11691859]),\n",
       " array([0.27883567, 0.58449588, 0.13666844]),\n",
       " array([0.45477241, 0.4270347 , 0.11819289]),\n",
       " array([0.26431129, 0.6355023 , 0.10018641]),\n",
       " array([0.29876401, 0.59962489, 0.10161109]),\n",
       " array([0.34550038, 0.55380804, 0.10069158]),\n",
       " array([0.30459242, 0.60605887, 0.08934872]),\n",
       " array([0.36884984, 0.53198076, 0.0991694 ]),\n",
       " array([0.29668052, 0.60784341, 0.09547606]),\n",
       " array([0.33241561, 0.55768566, 0.10989873]),\n",
       " array([0.34673935, 0.52480519, 0.12845546]),\n",
       " array([0.32134548, 0.57229042, 0.1063641 ]),\n",
       " array([0.24228032, 0.6293006 , 0.12841908]),\n",
       " array([0.35238749, 0.53553539, 0.11207712]),\n",
       " array([0.22048779, 0.65273267, 0.12677954]),\n",
       " array([0.35894768, 0.51985835, 0.12119397]),\n",
       " array([0.3002224, 0.5978758, 0.1019018]),\n",
       " array([0.29763988, 0.59458002, 0.10778011]),\n",
       " array([0.34731638, 0.54556302, 0.10712059])]"
      ]
     },
     "execution_count": 43,
     "metadata": {},
     "output_type": "execute_result"
    }
   ],
   "source": [
    "[mc.sim_pw(pwobj, rpwobj) for i in range(20)]"
   ]
  },
  {
   "cell_type": "code",
   "execution_count": 44,
   "metadata": {},
   "outputs": [
    {
     "data": {
      "text/plain": [
       "array([[1.        , 0.5       , 3.        ],\n",
       "       [2.        , 1.        , 5.        ],\n",
       "       [0.33333333, 0.2       , 1.        ]])"
      ]
     },
     "execution_count": 44,
     "metadata": {},
     "output_type": "execute_result"
    }
   ],
   "source": [
    "pwobj.matrix('u1')"
   ]
  },
  {
   "cell_type": "markdown",
   "metadata": {},
   "source": [
    "## Try to simulate a direct data"
   ]
  },
  {
   "cell_type": "code",
   "execution_count": 45,
   "metadata": {},
   "outputs": [],
   "source": [
    "dd = Direct(alt_names=['a1', 'a2', 'a3'])\n",
    "dd.data[0]=0.5\n",
    "dd.data[1]=0.3\n",
    "dd.data[2]=0.2"
   ]
  },
  {
   "cell_type": "code",
   "execution_count": 51,
   "metadata": {},
   "outputs": [
    {
     "data": {
      "text/plain": [
       "a1    0.447397\n",
       "a2    0.309603\n",
       "a3    0.231653\n",
       "dtype: float64"
      ]
     },
     "execution_count": 51,
     "metadata": {},
     "output_type": "execute_result"
    }
   ],
   "source": [
    "rdd=mc.sim_direct_fill(dd)\n",
    "rdd.data"
   ]
  },
  {
   "cell_type": "code",
   "execution_count": null,
   "metadata": {},
   "outputs": [],
   "source": []
  }
 ],
 "metadata": {
  "kernelspec": {
   "display_name": "Python 3",
   "language": "python",
   "name": "python3"
  },
  "language_info": {
   "codemirror_mode": {
    "name": "ipython",
    "version": 3
   },
   "file_extension": ".py",
   "mimetype": "text/x-python",
   "name": "python",
   "nbconvert_exporter": "python",
   "pygments_lexer": "ipython3",
   "version": "3.6.5"
  },
  "toc": {
   "base_numbering": 1,
   "nav_menu": {},
   "number_sections": true,
   "sideBar": true,
   "skip_h1_title": false,
   "title_cell": "Table of Contents",
   "title_sidebar": "Contents",
   "toc_cell": false,
   "toc_position": {},
   "toc_section_display": true,
   "toc_window_display": false
  }
 },
 "nbformat": 4,
 "nbformat_minor": 2
}
