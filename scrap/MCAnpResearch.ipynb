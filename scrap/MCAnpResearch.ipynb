{
 "cells": [
  {
   "cell_type": "markdown",
   "metadata": {},
   "source": [
    "# Another attempt at MC Simulation on AHP/ANP"
   ]
  },
  {
   "cell_type": "markdown",
   "metadata": {},
   "source": [
    "The ideas are the following:\n",
    "\n",
    "1. There is a class MCAnp that has a sim() method that will simulate any Prioritizer\n",
    "2. MCAnp also has a sim_fill() function that does fills in the data needed for a single simulation"
   ]
  },
  {
   "cell_type": "markdown",
   "metadata": {},
   "source": [
    "## Import needed libs"
   ]
  },
  {
   "cell_type": "code",
   "execution_count": 1,
   "metadata": {},
   "outputs": [],
   "source": [
    "import pandas as pd\n",
    "import sys \n",
    "import os\n",
    "sys.path.insert(0, os.path.abspath(\"../\"))\n",
    "import numpy as np\n",
    "from scipy.stats import triang\n",
    "from copy import deepcopy\n",
    "from pyanp.priority import pri_eigen\n",
    "from pyanp.pairwise import Pairwise\n",
    "from pyanp.ahptree import AHPTree, AHPTreeNode\n",
    "from pyanp.direct import Direct"
   ]
  },
  {
   "cell_type": "markdown",
   "metadata": {},
   "source": [
    "# MCAnp class"
   ]
  },
  {
   "cell_type": "code",
   "execution_count": 2,
   "metadata": {},
   "outputs": [],
   "source": [
    "def ascale_mscale(val:(float,int))->float:\n",
    "    if val is None:\n",
    "        return 0\n",
    "    elif val < 0:\n",
    "        val = -val\n",
    "        val += 1\n",
    "        val = 1.0/val\n",
    "        return val\n",
    "    else:\n",
    "        return val+1\n",
    "    \n",
    "def mscale_ascale(val:(float,int))->float:\n",
    "    if val == 0:\n",
    "        return None\n",
    "    elif val >= 1:\n",
    "        return val - 1\n",
    "    else:\n",
    "        val = 1/val\n",
    "        val = val-1\n",
    "        return -val"
   ]
  },
  {
   "cell_type": "code",
   "execution_count": 87,
   "metadata": {},
   "outputs": [],
   "source": [
    "DEFAULT_DISTRIB = triang(c=0.5, loc=-1.5, scale=3.0)\n",
    "def avote_random(avote):\n",
    "    \"\"\"\n",
    "    Returns a random additive vote in the neighborhood of the additive vote avote\n",
    "    according to the default disribution DEFAULT_DISTRIB\n",
    "    \"\"\"\n",
    "    if avote is None:\n",
    "        return None\n",
    "    raw_val = DEFAULT_DISTRIB.rvs(size=1)[0]\n",
    "    return avote+raw_val\n",
    "\n",
    "\n",
    "def mvote_random(mvote):\n",
    "    \"\"\"\n",
    "    Returns a random multiplicative vote in the neighborhhod of the multiplicative vote mvote\n",
    "    according to the default distribution DEFAULT_DISTRIB.  This is handled by converting\n",
    "    the multiplicative vote to an additive vote, calling avote_random() and converting the\n",
    "    result back to an additive vote\n",
    "    \"\"\"\n",
    "    avote = mscale_ascale(mvote)\n",
    "    rval_a = avote_random(avote)\n",
    "    rval = ascale_mscale(rval_a)\n",
    "    return rval\n",
    "\n",
    "def direct_random(direct, max_percent_chg=0.2)->float:\n",
    "    \"\"\"\n",
    "    Returns a random direct data value near the value `direct'.  This function\n",
    "    creates a random percent change, between -max_percent_chg and +max_percent_chg, and\n",
    "    then changes the direct value by that factor, and returns it.\n",
    "    \"\"\"\n",
    "    pchg = np.random.uniform(low=-max_percent_chg, high=max_percent_chg)\n",
    "    return direct * (1 + pchg)\n",
    "    \n",
    "class MCAnp:\n",
    "    def __init__(self):\n",
    "        # Setup the random pairwise vote generator\n",
    "        self.pwvote_random = mvote_random\n",
    "        # Setup the random direct vote generator\n",
    "        self.directvote_random = direct_random\n",
    "        # Set the default user to use across the simulation\n",
    "        # follows the standard from Pairwise class, i.e. it can be a list\n",
    "        # of usernames, a single username, or None (which means total group average)\n",
    "        self.username = None\n",
    "        # What is the pairwise priority calculation?\n",
    "        self.pwprioritycalc = pri_eigen\n",
    "        \n",
    "    def sim_fill(self, src, dest):\n",
    "        \"\"\"\n",
    "        Fills in data on a structure prior to doing the simulation calculations.\n",
    "        This function calls sim_NAME_fill depending on the class of the src object.\n",
    "        If the dest object is None, we create a dest object by calling deepcopy().\n",
    "        In either case, we always return the allocated dest object\n",
    "        \"\"\"\n",
    "        if dest is None:\n",
    "            dest = deepcopy(src)\n",
    "        # Which kind of src do we have\n",
    "        if isinstance(src, np.ndarray):\n",
    "            # We are simulating on a pairwise comparison matrix\n",
    "            return self.sim_pwmat_fill(src, dest)\n",
    "        elif isinstance(src, Pairwise):\n",
    "            # We are simulating on a multi-user pairwise comparison object\n",
    "            return self.sim_pw_fill(src, dest)\n",
    "        elif isinstance(src, AHPTree):\n",
    "            # We are simulating on an ahp tree object\n",
    "            return self.sim_ahptree_fill(src, dest)\n",
    "        elif isinstance(src, Direct):\n",
    "            # We are simulating on an ahp direct data\n",
    "            return self.sim_direct_fill(src, dest)\n",
    "        else:\n",
    "            raise ValueError(\"Src class is not handled, it is \"+type(src).__name__)\n",
    "    \n",
    "    def sim_pwmat_fill(self, pwsrc:np.ndarray, pwdest:np.ndarray=None)->np.ndarray:\n",
    "        \"\"\"\n",
    "        Fills in a pairwise comparison matrix with noisy votes based on pwsrc\n",
    "        If pwsrc is None, we create a new matrix, otherwise we fill in pwdest\n",
    "        with noisy values based on pwsrc and the self.pwvote_random parameter.\n",
    "        In either case, we return the resulting noisy matrix\n",
    "        \"\"\"\n",
    "        if pwdest is None:\n",
    "            pwdest = deepcopy(pwsrc)\n",
    "        size = len(pwsrc)\n",
    "        for row in range(size):\n",
    "            pwdest[row,row] = 1.0\n",
    "            for col in range(row+1, size):\n",
    "                val = pwsrc[row,col]\n",
    "                if val >= 1:\n",
    "                    nvote = self.pwvote_random(val)\n",
    "                    pwdest[row, col]=nvote\n",
    "                    pwdest[col, row]=1/nvote\n",
    "                elif val!= 0:\n",
    "                    nvote = self.pwvote_random(1/val)\n",
    "                    pwdest[col, row] = nvote\n",
    "                    pwdest[row, col] = 1/nvote\n",
    "                else:\n",
    "                    pwdest[row, col] = nvote\n",
    "                    pwdest[col, row] = nvote\n",
    "        return pwdest\n",
    "    \n",
    "    def sim_pwmat(self, pwsrc:np.ndarray, pwdest:np.ndarray=None)->np.ndarray:\n",
    "        \"\"\"\n",
    "        creates a noisy pw comparison matrix from pwsrc, stores the matrix in pwdest (which\n",
    "        is created if pwdest is None) calculates the resulting priority and returns that\n",
    "        \"\"\"\n",
    "        pwdest = self.sim_pwmat_fill(pwsrc, pwdest)\n",
    "        rval = self.pwprioritycalc(pwdest)\n",
    "        return rval\n",
    "    \n",
    "    def sim_pw(self, pwsrc:Pairwise, pwdest:Pairwise)->np.ndarray:\n",
    "        \"\"\"\n",
    "        Performs a simulation on a pairwise comparison matrix object and returns the\n",
    "        resulting priorities\n",
    "        \"\"\"\n",
    "        pwdest = self.sim_pw_fill(pwsrc, pwdest)\n",
    "        mat = pwdest.matrix(self.username)\n",
    "        rval = self.pwprioritycalc(mat)\n",
    "        return rval\n",
    "        \n",
    "    \n",
    "    def sim_pw_fill(self, pwsrc:Pairwise, pwdest:Pairwise=None)->Pairwise:\n",
    "        \"\"\"\n",
    "        Fills in the pairwise comparison structure of pwdest with noisy pairwise data from pwsrc.\n",
    "        If pwdest is None, we create one first, then fill in.  In either case, we return the pwdest\n",
    "        object with new noisy data in it.\n",
    "        \"\"\"\n",
    "        if pwdest is None:\n",
    "            pwdest = deepcopy(pwsrc)\n",
    "        for user in pwsrc.usernames():\n",
    "            srcmat = pwsrc.matrix(user)\n",
    "            destmat = pwdest.matrix(user)\n",
    "            self.sim_pwmat_fill(srcmat, destmat)\n",
    "        return pwdest\n",
    "    \n",
    "    def sim_direct_fill(self, directsrc:Direct, directdest:Direct=None)->Direct:\n",
    "        \"\"\"\n",
    "        Fills in the direct data structure of directdest with noisy data from directsrc.\n",
    "        If directdest is None, we create on as a deep copy of directsrc, then fill in.\n",
    "        In either case, we return the directdest object with new noisy data in it.\n",
    "        \"\"\"\n",
    "        if directdest is None:\n",
    "            directdest = deepcopy(directsrc)\n",
    "        for altpos in range(len(directdest)):\n",
    "            orig = directsrc[altpos]\n",
    "            newvote = self.directvote_random(orig)\n",
    "            directdest.data[altpos] = newvote\n",
    "        return directdest\n",
    "        \n",
    "    def sim_direct(self, directsrc:Direct, directdest:Direct=None)->np.ndarray:\n",
    "        \"\"\"\n",
    "        Simulates for direct data\n",
    "        \"\"\"\n",
    "        directdest = self.sim_direct_fill(directsrc, directdest)\n",
    "        return directdest.priority()\n",
    "    \n",
    "    def sim_ahptree_fill(self, ahpsrc:AHPTree, ahpdest:AHPTree)->AHPTree:\n",
    "        \"\"\"\n",
    "        Fills in the ahp tree structure of ahpdest with noisy data from ahpsrc.\n",
    "        If ahpdest is None, we create one as a deepcopy of ahpsrc, then fill in.\n",
    "        In either case, we return the ahpdest object with new noisy data in it.\n",
    "        \"\"\"\n",
    "        if ahpdest is None:\n",
    "            ahpdest = deepcopy(ahpsrc)\n",
    "        self.sim_ahptreenode_fill(ahpsrc.root, ahpdest.root)\n",
    "        return ahpdest\n",
    "    \n",
    "    def sim_ahptreenode_fill(self, nodesrc:AHPTreeNode, nodedest:AHPTreeNode)->AHPTreeNode:\n",
    "        \"\"\"\n",
    "        Fills in data in an AHPTree\n",
    "        \"\"\"\n",
    "        #Okay, first we fill in for the alt_prioritizer\n",
    "        if nodesrc.alt_prioritizer is not None:\n",
    "            self.sim_fill(nodesrc.alt_prioritizer, nodedest.alt_prioritizer)\n",
    "        #Now wefill in the child prioritizer\n",
    "        if nodesrc.child_prioritizer is not None:\n",
    "            self.sim_fill(nodesrc.child_prioritizer, nodedest.child_prioritizer)\n",
    "        #Now for each child, fill in\n",
    "        for childsrc, childdest in zip(nodesrc.children, nodedest.children):\n",
    "            self.sim_ahptreenode_fill(childsrc, childdest)\n",
    "        #We are done, return the dest\n",
    "        return nodedest\n",
    "    \n",
    "    def sim_ahptree(self, ahpsrc:AHPTree, ahpdest:AHPTree)->np.ndarray:\n",
    "        \"\"\"\n",
    "        Perform the actual simulation\n",
    "        \"\"\"\n",
    "        ahpdest = self.sim_ahptree_fill(ahpsrc, ahpdest)\n",
    "        return ahpdest.priority()"
   ]
  },
  {
   "cell_type": "code",
   "execution_count": 88,
   "metadata": {},
   "outputs": [],
   "source": [
    "mc = MCAnp()"
   ]
  },
  {
   "cell_type": "code",
   "execution_count": 89,
   "metadata": {},
   "outputs": [
    {
     "data": {
      "text/plain": [
       "array([[1.        , 0.54012281, 2.23788435],\n",
       "       [1.85143078, 1.        , 4.82623154],\n",
       "       [0.44685062, 0.207201  , 1.        ]])"
      ]
     },
     "execution_count": 89,
     "metadata": {},
     "output_type": "execute_result"
    }
   ],
   "source": [
    "pw = np.array([\n",
    "    [1, 1/2, 3],\n",
    "    [2, 1, 5],\n",
    "    [1/3, 1/5, 1]\n",
    "])\n",
    "rpw= mc.sim_pwmat_fill(pw)\n",
    "rpw"
   ]
  },
  {
   "cell_type": "code",
   "execution_count": 90,
   "metadata": {},
   "outputs": [
    {
     "data": {
      "text/plain": [
       "[array([0.26249346, 0.63754787, 0.09995867]),\n",
       " array([0.31198057, 0.58650765, 0.10151178]),\n",
       " array([0.37505849, 0.51450444, 0.11043707]),\n",
       " array([0.3292281 , 0.56572839, 0.10504351]),\n",
       " array([0.3483477 , 0.53085788, 0.12079442]),\n",
       " array([0.26655757, 0.62765525, 0.10578719]),\n",
       " array([0.28788247, 0.59649657, 0.11562096]),\n",
       " array([0.2472799 , 0.66451076, 0.08820934]),\n",
       " array([0.250429  , 0.63557177, 0.11399923]),\n",
       " array([0.4589622 , 0.43678513, 0.10425268]),\n",
       " array([0.30966134, 0.58805155, 0.10228711]),\n",
       " array([0.29917877, 0.59350961, 0.10731162]),\n",
       " array([0.30957021, 0.58310374, 0.10732605]),\n",
       " array([0.34758191, 0.52954871, 0.12286938]),\n",
       " array([0.3309997, 0.5610149, 0.1079854]),\n",
       " array([0.27348453, 0.62040941, 0.10610606]),\n",
       " array([0.323606  , 0.56773161, 0.10866239]),\n",
       " array([0.37073211, 0.52072318, 0.10854471]),\n",
       " array([0.33180072, 0.54282838, 0.1253709 ]),\n",
       " array([0.35241972, 0.54535137, 0.10222891])]"
      ]
     },
     "execution_count": 90,
     "metadata": {},
     "output_type": "execute_result"
    }
   ],
   "source": [
    "[mc.sim_pwmat(pw) for i in range(20)]"
   ]
  },
  {
   "cell_type": "code",
   "execution_count": 91,
   "metadata": {},
   "outputs": [],
   "source": [
    "pwobj = Pairwise(alts=['alt '+str(i) for i in range(3)])\n",
    "pwobj.vote_matrix(user_name='u1', val=pw)"
   ]
  },
  {
   "cell_type": "markdown",
   "metadata": {},
   "source": [
    "## Checking that the deep copy is actually a deep copy\n",
    "For some reason deepcopy was not copying the matrix, I had to overwrite\n",
    "__deepcopy__ in Pairwise"
   ]
  },
  {
   "cell_type": "code",
   "execution_count": 92,
   "metadata": {},
   "outputs": [
    {
     "data": {
      "text/plain": [
       "array([[1.        , 0.5       , 3.        ],\n",
       "       [2.        , 1.        , 5.        ],\n",
       "       [0.33333333, 0.2       , 1.        ]])"
      ]
     },
     "execution_count": 92,
     "metadata": {},
     "output_type": "execute_result"
    }
   ],
   "source": [
    "pwobj.matrix('u1')"
   ]
  },
  {
   "cell_type": "code",
   "execution_count": 93,
   "metadata": {},
   "outputs": [],
   "source": [
    "rpwobj = pwobj.__deepcopy__()"
   ]
  },
  {
   "cell_type": "code",
   "execution_count": 94,
   "metadata": {},
   "outputs": [
    {
     "data": {
      "text/html": [
       "<div>\n",
       "<style scoped>\n",
       "    .dataframe tbody tr th:only-of-type {\n",
       "        vertical-align: middle;\n",
       "    }\n",
       "\n",
       "    .dataframe tbody tr th {\n",
       "        vertical-align: top;\n",
       "    }\n",
       "\n",
       "    .dataframe thead th {\n",
       "        text-align: right;\n",
       "    }\n",
       "</style>\n",
       "<table border=\"1\" class=\"dataframe\">\n",
       "  <thead>\n",
       "    <tr style=\"text-align: right;\">\n",
       "      <th></th>\n",
       "      <th>Name</th>\n",
       "      <th>Age</th>\n",
       "      <th>Matrix</th>\n",
       "    </tr>\n",
       "  </thead>\n",
       "  <tbody>\n",
       "    <tr>\n",
       "      <th>u1</th>\n",
       "      <td>None</td>\n",
       "      <td>None</td>\n",
       "      <td>[[1.0, 0.5, 3.0], [2.0, 1.0, 5.0], [0.33333333...</td>\n",
       "    </tr>\n",
       "  </tbody>\n",
       "</table>\n",
       "</div>"
      ],
      "text/plain": [
       "    Name   Age                                             Matrix\n",
       "u1  None  None  [[1.0, 0.5, 3.0], [2.0, 1.0, 5.0], [0.33333333..."
      ]
     },
     "execution_count": 94,
     "metadata": {},
     "output_type": "execute_result"
    }
   ],
   "source": [
    "a=rpwobj\n",
    "b=pwobj\n",
    "a.df"
   ]
  },
  {
   "cell_type": "code",
   "execution_count": 95,
   "metadata": {},
   "outputs": [
    {
     "data": {
      "text/plain": [
       "array([[1.        , 0.5       , 3.        ],\n",
       "       [2.        , 1.        , 5.        ],\n",
       "       [0.33333333, 0.2       , 1.        ]])"
      ]
     },
     "metadata": {},
     "output_type": "display_data"
    },
    {
     "data": {
      "text/plain": [
       "array([[1.        , 0.5       , 3.        ],\n",
       "       [2.        , 1.        , 5.        ],\n",
       "       [0.33333333, 0.2       , 1.        ]])"
      ]
     },
     "metadata": {},
     "output_type": "display_data"
    }
   ],
   "source": [
    "display(a.df.loc['u1', 'Matrix']) \n",
    "display(b.df.loc['u1', 'Matrix'])"
   ]
  },
  {
   "cell_type": "code",
   "execution_count": 96,
   "metadata": {},
   "outputs": [
    {
     "data": {
      "text/plain": [
       "False"
      ]
     },
     "metadata": {},
     "output_type": "display_data"
    },
    {
     "data": {
      "text/plain": [
       "array([[ True,  True,  True],\n",
       "       [ True,  True,  True],\n",
       "       [ True,  True,  True]])"
      ]
     },
     "metadata": {},
     "output_type": "display_data"
    }
   ],
   "source": [
    "display(a.matrix('u1') is b.matrix('u1'))\n",
    "display(a.matrix('u1') == b.matrix('u1'))"
   ]
  },
  {
   "cell_type": "markdown",
   "metadata": {},
   "source": [
    "## Now let's try to simulate"
   ]
  },
  {
   "cell_type": "code",
   "execution_count": 97,
   "metadata": {},
   "outputs": [
    {
     "data": {
      "text/plain": [
       "[array([0.3251892 , 0.56276057, 0.11205023]),\n",
       " array([0.41421788, 0.49254641, 0.09323571]),\n",
       " array([0.31487743, 0.55204376, 0.13307881]),\n",
       " array([0.28670449, 0.61124979, 0.10204571]),\n",
       " array([0.26998622, 0.60994123, 0.12007255]),\n",
       " array([0.31938507, 0.56124654, 0.11936839]),\n",
       " array([0.35447313, 0.51837345, 0.12715341]),\n",
       " array([0.41775525, 0.48012645, 0.1021183 ]),\n",
       " array([0.4302707 , 0.42907299, 0.14065631]),\n",
       " array([0.29128787, 0.60630827, 0.10240385]),\n",
       " array([0.27895485, 0.62133799, 0.09970717]),\n",
       " array([0.31514403, 0.54466222, 0.14019375]),\n",
       " array([0.31087064, 0.58334495, 0.10578441]),\n",
       " array([0.38209868, 0.50084884, 0.11705248]),\n",
       " array([0.30181485, 0.59125145, 0.1069337 ]),\n",
       " array([0.29521383, 0.59334821, 0.11143796]),\n",
       " array([0.38398711, 0.50812623, 0.10788667]),\n",
       " array([0.37948772, 0.49619075, 0.12432153]),\n",
       " array([0.26183954, 0.60592893, 0.13223153]),\n",
       " array([0.44653312, 0.43223428, 0.1212326 ])]"
      ]
     },
     "execution_count": 97,
     "metadata": {},
     "output_type": "execute_result"
    }
   ],
   "source": [
    "[mc.sim_pw(pwobj, rpwobj) for i in range(20)]"
   ]
  },
  {
   "cell_type": "code",
   "execution_count": 98,
   "metadata": {},
   "outputs": [
    {
     "data": {
      "text/plain": [
       "array([[1.        , 0.5       , 3.        ],\n",
       "       [2.        , 1.        , 5.        ],\n",
       "       [0.33333333, 0.2       , 1.        ]])"
      ]
     },
     "execution_count": 98,
     "metadata": {},
     "output_type": "execute_result"
    }
   ],
   "source": [
    "pwobj.matrix('u1')"
   ]
  },
  {
   "cell_type": "markdown",
   "metadata": {},
   "source": [
    "## Try to simulate a direct data"
   ]
  },
  {
   "cell_type": "code",
   "execution_count": 99,
   "metadata": {},
   "outputs": [],
   "source": [
    "dd = Direct(alt_names=['a1', 'a2', 'a3'])\n",
    "dd.data[0]=0.5\n",
    "dd.data[1]=0.3\n",
    "dd.data[2]=0.2"
   ]
  },
  {
   "cell_type": "code",
   "execution_count": 100,
   "metadata": {},
   "outputs": [
    {
     "data": {
      "text/plain": [
       "a1    0.519515\n",
       "a2    0.299819\n",
       "a3    0.217881\n",
       "dtype: float64"
      ]
     },
     "execution_count": 100,
     "metadata": {},
     "output_type": "execute_result"
    }
   ],
   "source": [
    "rdd=mc.sim_direct_fill(dd)\n",
    "rdd.data"
   ]
  },
  {
   "cell_type": "markdown",
   "metadata": {},
   "source": [
    "## Simulate an ahptree"
   ]
  },
  {
   "cell_type": "code",
   "execution_count": 101,
   "metadata": {},
   "outputs": [],
   "source": [
    "alts=['alt '+str(i) for i in range(3)]\n",
    "tree = AHPTree(alt_names=alts)\n",
    "kids = ['crit '+str(i) for i in range(4)]\n",
    "for kid in kids:\n",
    "    tree.add_child(kid)\n",
    "    node  = tree.get_node(kid)\n",
    "    direct = node.alt_prioritizer\n",
    "    s = 0\n",
    "    for alt in alts:\n",
    "        direct[alt] = np.random.uniform()\n",
    "        s += direct[alt]\n",
    "    if s != 0:\n",
    "        for alt in alts:\n",
    "            direct[alt] /= s\n",
    "            "
   ]
  },
  {
   "cell_type": "code",
   "execution_count": 102,
   "metadata": {},
   "outputs": [
    {
     "data": {
      "text/plain": [
       "alt 0    0.403956\n",
       "alt 1    0.293827\n",
       "alt 2    0.302217\n",
       "dtype: float64"
      ]
     },
     "execution_count": 102,
     "metadata": {},
     "output_type": "execute_result"
    }
   ],
   "source": [
    "tree.priority()"
   ]
  },
  {
   "cell_type": "code",
   "execution_count": 109,
   "metadata": {},
   "outputs": [
    {
     "data": {
      "text/plain": [
       "alt 0    0.417154\n",
       "alt 1    0.327032\n",
       "alt 2    0.320193\n",
       "dtype: float64"
      ]
     },
     "execution_count": 109,
     "metadata": {},
     "output_type": "execute_result"
    }
   ],
   "source": [
    "mc.sim_ahptree(tree, None)"
   ]
  },
  {
   "cell_type": "code",
   "execution_count": 104,
   "metadata": {},
   "outputs": [
    {
     "data": {
      "text/plain": [
       "alt 0    0.403956\n",
       "alt 1    0.293827\n",
       "alt 2    0.302217\n",
       "dtype: float64"
      ]
     },
     "execution_count": 104,
     "metadata": {},
     "output_type": "execute_result"
    }
   ],
   "source": [
    "tree.priority()"
   ]
  },
  {
   "cell_type": "code",
   "execution_count": null,
   "metadata": {},
   "outputs": [],
   "source": []
  }
 ],
 "metadata": {
  "kernelspec": {
   "display_name": "Python 3",
   "language": "python",
   "name": "python3"
  },
  "language_info": {
   "codemirror_mode": {
    "name": "ipython",
    "version": 3
   },
   "file_extension": ".py",
   "mimetype": "text/x-python",
   "name": "python",
   "nbconvert_exporter": "python",
   "pygments_lexer": "ipython3",
   "version": "3.6.5"
  },
  "toc": {
   "base_numbering": 1,
   "nav_menu": {},
   "number_sections": true,
   "sideBar": true,
   "skip_h1_title": false,
   "title_cell": "Table of Contents",
   "title_sidebar": "Contents",
   "toc_cell": false,
   "toc_position": {},
   "toc_section_display": true,
   "toc_window_display": false
  }
 },
 "nbformat": 4,
 "nbformat_minor": 2
}
