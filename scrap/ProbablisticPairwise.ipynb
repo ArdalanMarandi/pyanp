{
 "cells": [
  {
   "cell_type": "markdown",
   "metadata": {},
   "source": [
    "# Working on probabilistic pairwise"
   ]
  },
  {
   "cell_type": "code",
   "execution_count": 1,
   "metadata": {},
   "outputs": [],
   "source": [
    "import pandas as pd\n",
    "import re\n",
    "import sys \n",
    "import os\n",
    "sys.path.insert(0, os.path.abspath(\"../\"))\n",
    "from pyanp.pairwise import Pairwise\n",
    "import pyanp.priority as priority\n",
    "from numpy import log, exp\n",
    "import numpy as np\n",
    "import matplotlib.pyplot as plt\n",
    "%matplotlib inline"
   ]
  },
  {
   "cell_type": "code",
   "execution_count": 2,
   "metadata": {},
   "outputs": [],
   "source": [
    "from scipy.stats import triang,truncnorm"
   ]
  },
  {
   "cell_type": "code",
   "execution_count": 3,
   "metadata": {},
   "outputs": [],
   "source": [
    "?triang"
   ]
  },
  {
   "cell_type": "code",
   "execution_count": 4,
   "metadata": {},
   "outputs": [],
   "source": [
    "rv = triang(c=0.5, loc=.1, scale=10)"
   ]
  },
  {
   "cell_type": "code",
   "execution_count": 7,
   "metadata": {},
   "outputs": [],
   "source": [
    "def make_log_triang(lower=1, mid=2, upper=3):\n",
    "    loc = log(lower)\n",
    "    scale = log(upper) - log(lower)\n",
    "    c = (log(mid)-log(lower))/(log(upper)-log(lower))\n",
    "    return triang(c=c, loc=loc, scale=scale)"
   ]
  },
  {
   "cell_type": "code",
   "execution_count": 8,
   "metadata": {},
   "outputs": [],
   "source": [
    "tb = make_log_triang(1, 30, 100)"
   ]
  },
  {
   "cell_type": "code",
   "execution_count": 9,
   "metadata": {},
   "outputs": [
    {
     "data": {
      "text/plain": [
       "[[29.979306676879666,\n",
       "  12.10353406499426,\n",
       "  9.466240085691904,\n",
       "  2.7071862428073032,\n",
       "  21.44920309732095,\n",
       "  12.728816607164271,\n",
       "  12.765447838546406,\n",
       "  59.273920662682784,\n",
       "  7.437114671947961,\n",
       "  5.4660204955746075,\n",
       "  37.115332292117074,\n",
       "  26.839557849337563,\n",
       "  3.5296504645620232,\n",
       "  1.5812556247266094,\n",
       "  7.8383687545386,\n",
       "  24.009454323094214,\n",
       "  79.640060578791,\n",
       "  26.29256106507376,\n",
       "  49.277953428277534,\n",
       "  46.330581084652025],\n",
       " array([3.40050737, 2.49349748, 2.24773179, 0.99590981, 3.06568749,\n",
       "        2.54386845, 2.54674213, 4.08216942, 2.00648296, 1.69855084,\n",
       "        3.61403015, 3.28987684, 1.26119885, 0.45821923, 2.05903075,\n",
       "        3.17844768, 4.37751724, 3.26928605, 3.89747679, 3.83580224])]"
      ]
     },
     "metadata": {},
     "output_type": "display_data"
    }
   ],
   "source": [
    "vals = tb.rvs(20)\n",
    "evals = [exp(v) for v in vals]\n",
    "display([evals, vals])"
   ]
  },
  {
   "cell_type": "code",
   "execution_count": 10,
   "metadata": {},
   "outputs": [
    {
     "data": {
      "text/plain": [
       "2.6687891892167492"
      ]
     },
     "execution_count": 10,
     "metadata": {},
     "output_type": "execute_result"
    }
   ],
   "source": [
    "tb.mean()"
   ]
  },
  {
   "cell_type": "code",
   "execution_count": 11,
   "metadata": {},
   "outputs": [
    {
     "data": {
      "text/plain": [
       "3.4011973816621555"
      ]
     },
     "execution_count": 11,
     "metadata": {},
     "output_type": "execute_result"
    }
   ],
   "source": [
    "log(30)"
   ]
  },
  {
   "cell_type": "code",
   "execution_count": 12,
   "metadata": {},
   "outputs": [],
   "source": [
    "def make_tnorm(myclip_a, myclip_b, my_mean, my_std):\n",
    "    a, b = (myclip_a - my_mean) / my_std, (myclip_b - my_mean) / my_std\n",
    "    return truncnorm(a=a, b=b, loc=my_mean, scale=my_std)\n",
    "\n",
    "def make_tnorm_log(my_mean, my_max):\n",
    "    delta = log(my_max) - log(my_mean)\n",
    "    myclip_a = log(my_mean)-delta\n",
    "    myclip_b = log(my_max)\n",
    "    return make_tnorm(myclip_a, myclip_b, log(my_mean), 0.5*delta)"
   ]
  },
  {
   "cell_type": "code",
   "execution_count": 13,
   "metadata": {},
   "outputs": [],
   "source": [
    "tl = make_tnorm(1, 5, 3, 2)"
   ]
  },
  {
   "cell_type": "code",
   "execution_count": 14,
   "metadata": {},
   "outputs": [
    {
     "data": {
      "text/plain": [
       "array([4.626727  , 4.20351139, 4.33349252, 1.14665295, 1.39528508,\n",
       "       2.90039139, 4.95054783, 2.59732597, 3.16892354, 2.16964349])"
      ]
     },
     "execution_count": 14,
     "metadata": {},
     "output_type": "execute_result"
    }
   ],
   "source": [
    "tl.rvs(10)"
   ]
  },
  {
   "cell_type": "code",
   "execution_count": 15,
   "metadata": {},
   "outputs": [],
   "source": [
    "ltl = make_tnorm_log(3, 4.5)"
   ]
  },
  {
   "cell_type": "code",
   "execution_count": 16,
   "metadata": {},
   "outputs": [
    {
     "data": {
      "text/plain": [
       "[3.0169564353489253,\n",
       " 2.0887025085734154,\n",
       " 2.3889224927049195,\n",
       " 2.8663742954211595,\n",
       " 3.596227514021629,\n",
       " 2.7657769324328796,\n",
       " 3.520895440924603,\n",
       " 2.469433721923167,\n",
       " 3.164528017657171,\n",
       " 2.0120801962836823]"
      ]
     },
     "execution_count": 16,
     "metadata": {},
     "output_type": "execute_result"
    }
   ],
   "source": [
    "[exp(v) for v in ltl.rvs(10)]"
   ]
  },
  {
   "cell_type": "markdown",
   "metadata": {},
   "source": [
    "## Try another idea"
   ]
  },
  {
   "cell_type": "markdown",
   "metadata": {},
   "source": [
    "Let's change our vote world from 1/9 - 9 (or -9...,-2, 1,2,3,...9) into something easier to randomly work with.\n",
    "\n",
    "Let's [-8, 8] and then if value is < 0, multiply by -1, add 1, and then invert.\n",
    "\n",
    "Otherwise we just add 1.\n",
    "\n",
    "We call this L-scale (for linear) and M-scale is the standard multiplication.  We need a converter"
   ]
  },
  {
   "cell_type": "code",
   "execution_count": 17,
   "metadata": {},
   "outputs": [],
   "source": [
    "def lscale_mscale(val):\n",
    "    if val < 0:\n",
    "        val = -val\n",
    "        val += 1\n",
    "        val = 1.0/val\n",
    "        return val\n",
    "    else:\n",
    "        return val+1"
   ]
  },
  {
   "cell_type": "code",
   "execution_count": 18,
   "metadata": {},
   "outputs": [
    {
     "data": {
      "text/plain": [
       "0.5"
      ]
     },
     "execution_count": 18,
     "metadata": {},
     "output_type": "execute_result"
    }
   ],
   "source": [
    "lscale_mscale(-1)"
   ]
  },
  {
   "cell_type": "code",
   "execution_count": 72,
   "metadata": {},
   "outputs": [],
   "source": [
    "class LScaleToMScaleDist:\n",
    "    def __init__(self, distrib, name):\n",
    "        self.distrib = distrib\n",
    "        self.name = name\n",
    "    \n",
    "    def rvs(self, size=0):\n",
    "        rval = self.distrib.rvs(size=size)\n",
    "        for i in range(len(rval)):\n",
    "            rval[i] = lscale_mscale(rval[i])\n",
    "        return rval\n",
    "    \n",
    "    def mean(self):\n",
    "        return lscale_mscale(self.distrib.mean())\n",
    "    \n",
    "    def __str__(self):\n",
    "        return self.name\n",
    "\n",
    "def plot_sim(rval, alt_names, idealize=False):\n",
    "    if len(rval.shape) == 1:\n",
    "        if idealize:\n",
    "            rval = rval / max(rval)\n",
    "        df = pd.DataFrame({'alts': alt_names, 'val':rval})\n",
    "        return  df.plot.bar(x='alts', y='val', rot=0)\n",
    "    else:\n",
    "        if idealize:\n",
    "            rval = (rval.transpose() / rval.max(axis=1)).transpose()\n",
    "        prisdf = pd.DataFrame(data=rval, columns=alt_names)\n",
    "        prismean = rval.mean(axis=0)\n",
    "        print(prismean)\n",
    "        meandf = pd.DataFrame({'alts':alt_names, 'val':prismean})\n",
    "        fig, ax = plt.subplots()\n",
    "        ax2=ax.twiny()\n",
    "        meandf.plot.bar(x='alts', y='val', alpha=0.6, ax=ax2)\n",
    "        prisdf.boxplot(ax=ax)\n",
    "        plt.show()\n",
    "    \n",
    "class RPairwiseMatrix:\n",
    "    def __init__(self, size):\n",
    "        self.VOTES = [TRI_1, TRI_2,TRI_3, TRI_4, TRI_5, TRI_6, TRI_7, TRI_8, TRI_9]\n",
    "        self.size = size\n",
    "        self.matrix = np.empty([size, size], dtype=object)\n",
    "        for i in range(size):\n",
    "            self.matrix[i,i] = 1.0\n",
    "            \n",
    "    @staticmethod\n",
    "    def from_lscale_nparray(arr):\n",
    "        size=len(arr)\n",
    "        rval = RPairwiseMatrix(size)\n",
    "        for row in range(size):\n",
    "            for col in range(row+1, size):\n",
    "                if arr[row,col] != 0:\n",
    "                    rval.set_lscale(row, col, arr[row, col])\n",
    "        return rval\n",
    "    \n",
    "    @staticmethod\n",
    "    def from_mscale_nparray(arr):\n",
    "        size=len(arr)\n",
    "        rval = RPairwiseMatrix(size)\n",
    "        for row in range(size):\n",
    "            for col in range(row+1, size):\n",
    "                if arr[row,col] != 0:\n",
    "                    if arr[row,col] >= 1:\n",
    "                        rval.set_lscale(row, col, int(np.round(arr[row, col])-1))\n",
    "                    else:\n",
    "                        val = 1/arr[row,col]\n",
    "                        rval.set_lscale(col, row, int(-(np.round(val)-1)))\n",
    "        return rval\n",
    "    \n",
    "    def set_lscale(self, row, col, val):\n",
    "        if isinstance(val, (int, np.int, np.int16, np.int32, np.int64)):\n",
    "            if val < 0:\n",
    "                tmp = row\n",
    "                row = col\n",
    "                col = tmp\n",
    "                val = -val\n",
    "            data = self.VOTES[val - 1]\n",
    "            self.matrix[row,col]=data\n",
    "            self.matrix[col,row] = None\n",
    "        elif isinstance(val, (float, np.float, np.float16, np.float32, np.float64, np.float128)):\n",
    "            if val < 0:\n",
    "                tmp = row\n",
    "                row = col\n",
    "                col = tmp\n",
    "                val = -val\n",
    "            self.matrix[row, col] = triang(c=0.5, loc=(val-1.5), scale=3)\n",
    "            self.matrix[col,row] = None\n",
    "        else:\n",
    "            raise Exception(\"Unknown type \"+type(val))\n",
    "        \n",
    "    def sim(self, size=1):\n",
    "        if size > 1:\n",
    "            # We want a list of these things\n",
    "            return [self.sim(size=1) for i in range(size)]\n",
    "        rval = np.identity(self.size)\n",
    "        for row in range(self.size):\n",
    "            for col in range(row+1, self.size):\n",
    "                data = 0\n",
    "                if self.matrix[row, col] is not None:\n",
    "                    data = self.matrix[row, col].rvs(size=1)[0]\n",
    "                    if data >= 0:\n",
    "                        data = data + 1\n",
    "                    else:\n",
    "                        data = 1.0/(-data+1)\n",
    "                    rval[row, col] = data\n",
    "                    if data != 0:\n",
    "                        rval[col, row]=1.0/data\n",
    "                elif self.matrix[col, row] is not None:\n",
    "                    data = self.matrix[col, row].rvs(size=1)[0]\n",
    "                    rval[col, row] = data\n",
    "                    if data != 0:\n",
    "                        rval[row, col]=1.0/data\n",
    "        return rval\n",
    "    \n",
    "    def alt_names(self):\n",
    "        return ['alt '+str(i) for i in range(1, self.size+1)]\n",
    "    \n",
    "    def sim_priority(self, size=1):\n",
    "        mats = self.sim(size)\n",
    "        if size == 1:\n",
    "            rval = priority.pri_eigen(mats)\n",
    "            return rval\n",
    "        else:\n",
    "            rval = np.array([priority.pri_eigen(mat) for mat in mats])\n",
    "            return rval\n",
    "                \n",
    "                \n",
    "\n",
    "        "
   ]
  },
  {
   "cell_type": "code",
   "execution_count": 73,
   "metadata": {},
   "outputs": [],
   "source": [
    "TRI_1=LScaleToMScaleDist(triang(c=0.5, loc=-1, scale=2), \"triangular 1\")\n",
    "TRI_2=LScaleToMScaleDist(triang(c=0.5, loc=-0.25, scale=2.5), \"triangular 2\")\n",
    "TRI_3=LScaleToMScaleDist(triang(c=0.5, loc=0.5, scale=3), \"triangular 3\")\n",
    "TRI_4=LScaleToMScaleDist(triang(c=0.5, loc=1.5, scale=3), \"triangular 4\")\n",
    "TRI_5=LScaleToMScaleDist(triang(c=0.5, loc=2.5, scale=3), \"triangular 5\")\n",
    "TRI_6=LScaleToMScaleDist(triang(c=0.5, loc=3.5, scale=3), \"triangular 6\")\n",
    "TRI_7=LScaleToMScaleDist(triang(c=0.5, loc=4.5, scale=3), \"triangular 7\")\n",
    "TRI_8=LScaleToMScaleDist(triang(c=0.5, loc=5.5, scale=3), \"triangular 8\")\n",
    "TRI_9=LScaleToMScaleDist(triang(c=0.5, loc=6.5, scale=3), \"triangular 9\")"
   ]
  },
  {
   "cell_type": "code",
   "execution_count": 74,
   "metadata": {},
   "outputs": [
    {
     "data": {
      "text/plain": [
       "array([0.81533084, 0.95734453, 0.79917094, 1.29799669, 0.88870097,\n",
       "       1.13096235, 0.97157964, 1.09975331, 0.79287431, 0.55775399])"
      ]
     },
     "execution_count": 74,
     "metadata": {},
     "output_type": "execute_result"
    }
   ],
   "source": [
    "TRI_1.rvs(10)"
   ]
  },
  {
   "cell_type": "code",
   "execution_count": 75,
   "metadata": {},
   "outputs": [
    {
     "data": {
      "text/plain": [
       "array([3.19037323, 1.58183204, 1.94119961, 1.43740033, 2.29965624,\n",
       "       1.83839902, 1.22152216, 1.23142497, 2.29533837, 1.83937121])"
      ]
     },
     "execution_count": 75,
     "metadata": {},
     "output_type": "execute_result"
    }
   ],
   "source": [
    "TRI_2.rvs(10)"
   ]
  },
  {
   "cell_type": "code",
   "execution_count": 76,
   "metadata": {},
   "outputs": [],
   "source": [
    "pw = RPairwiseMatrix(4)"
   ]
  },
  {
   "cell_type": "code",
   "execution_count": 77,
   "metadata": {},
   "outputs": [
    {
     "data": {
      "text/plain": [
       "array([[1.0, None, None, None],\n",
       "       [None, 1.0, None, None],\n",
       "       [None, None, 1.0, None],\n",
       "       [None, None, None, 1.0]], dtype=object)"
      ]
     },
     "execution_count": 77,
     "metadata": {},
     "output_type": "execute_result"
    }
   ],
   "source": [
    "pw.matrix"
   ]
  },
  {
   "cell_type": "code",
   "execution_count": 78,
   "metadata": {},
   "outputs": [],
   "source": [
    "pw.set_lscale(0,1, 2)\n",
    "pw.set_lscale(1,2, 3)\n",
    "pw.set_lscale(2,3, 4)\n",
    "pw.set_lscale(0, 2, 4)\n",
    "pw.set_lscale(1, 3, 5)"
   ]
  },
  {
   "cell_type": "code",
   "execution_count": 79,
   "metadata": {},
   "outputs": [
    {
     "data": {
      "text/plain": [
       "[array([[1.        , 2.83811909, 5.66078678, 0.        ],\n",
       "        [0.35234603, 1.        , 3.92952733, 6.82878193],\n",
       "        [0.17665389, 0.25448353, 1.        , 5.32613353],\n",
       "        [0.        , 0.146439  , 0.18775346, 1.        ]]),\n",
       " array([[1.        , 3.71663447, 5.32473578, 0.        ],\n",
       "        [0.26906063, 1.        , 3.53845647, 5.16162431],\n",
       "        [0.18780275, 0.2826091 , 1.        , 4.42971751],\n",
       "        [0.        , 0.19373746, 0.22574803, 1.        ]]),\n",
       " array([[1.        , 2.88639095, 5.82701862, 0.        ],\n",
       "        [0.34645341, 1.        , 3.72607874, 6.01796202],\n",
       "        [0.17161435, 0.26837865, 1.        , 5.08824853],\n",
       "        [0.        , 0.16616921, 0.19653128, 1.        ]]),\n",
       " array([[1.        , 2.31196351, 4.62262241, 0.        ],\n",
       "        [0.43253278, 1.        , 3.4017032 , 6.23495542],\n",
       "        [0.21632742, 0.29397039, 1.        , 4.42795994],\n",
       "        [0.        , 0.16038607, 0.22583763, 1.        ]]),\n",
       " array([[1.        , 3.01997671, 3.85576739, 0.        ],\n",
       "        [0.33112838, 1.        , 4.31361063, 6.11321921],\n",
       "        [0.25935174, 0.23182435, 1.        , 5.28819458],\n",
       "        [0.        , 0.16357993, 0.18910045, 1.        ]])]"
      ]
     },
     "execution_count": 79,
     "metadata": {},
     "output_type": "execute_result"
    }
   ],
   "source": [
    "pw.sim(size=5)"
   ]
  },
  {
   "cell_type": "code",
   "execution_count": 80,
   "metadata": {},
   "outputs": [],
   "source": [
    "m=pw.sim()"
   ]
  },
  {
   "cell_type": "code",
   "execution_count": 81,
   "metadata": {},
   "outputs": [
    {
     "data": {
      "text/plain": [
       "array([[1.        , 2.25491909, 4.05483771, 0.        ],\n",
       "       [0.44347489, 1.        , 4.07014548, 6.18249128],\n",
       "       [0.24661899, 0.24569146, 1.        , 5.91315757],\n",
       "       [0.        , 0.16174709, 0.16911438, 1.        ]])"
      ]
     },
     "metadata": {},
     "output_type": "display_data"
    },
    {
     "data": {
      "text/plain": [
       "array([1.        , 2.25491909, 4.07014548, 6.18249128])"
      ]
     },
     "execution_count": 81,
     "metadata": {},
     "output_type": "execute_result"
    }
   ],
   "source": [
    "display(m)\n",
    "m.max(axis=0)"
   ]
  },
  {
   "cell_type": "code",
   "execution_count": 82,
   "metadata": {},
   "outputs": [
    {
     "data": {
      "text/plain": [
       "array([0.5364257 , 0.31219778, 0.12238133, 0.02899519])"
      ]
     },
     "execution_count": 82,
     "metadata": {},
     "output_type": "execute_result"
    }
   ],
   "source": [
    "pw.sim_priority()"
   ]
  },
  {
   "cell_type": "code",
   "execution_count": 83,
   "metadata": {},
   "outputs": [
    {
     "data": {
      "text/plain": [
       "<matplotlib.axes._subplots.AxesSubplot at 0x7f4643e1bb70>"
      ]
     },
     "execution_count": 83,
     "metadata": {},
     "output_type": "execute_result"
    },
    {
     "data": {
      "image/png": "[encoded data removed]",
      "text/plain": [
       "<Figure size 432x288 with 1 Axes>"
      ]
     },
     "metadata": {},
     "output_type": "display_data"
    }
   ],
   "source": [
    "pris = pw.sim_priority(10)\n",
    "prisdf = pd.DataFrame(data=pris, columns=[\"A1\", \"A2\", \"A3\", \"A4\"])\n",
    "prisdf.boxplot()"
   ]
  },
  {
   "cell_type": "code",
   "execution_count": 84,
   "metadata": {},
   "outputs": [
    {
     "data": {
      "text/plain": [
       "array([0.57018284, 0.28470598, 0.11949622, 0.02561496])"
      ]
     },
     "execution_count": 84,
     "metadata": {},
     "output_type": "execute_result"
    }
   ],
   "source": [
    "pw.sim_priority(1)"
   ]
  },
  {
   "cell_type": "code",
   "execution_count": 85,
   "metadata": {},
   "outputs": [
    {
     "data": {
      "text/plain": [
       "<matplotlib.axes._subplots.AxesSubplot at 0x7f4643da0470>"
      ]
     },
     "execution_count": 85,
     "metadata": {},
     "output_type": "execute_result"
    },
    {
     "data": {
      "image/png": "[encoded data removed]",
      "text/plain": [
       "<Figure size 432x288 with 1 Axes>"
      ]
     },
     "metadata": {},
     "output_type": "display_data"
    }
   ],
   "source": [
    "v=pw.sim_priority(1)\n",
    "plot_sim(v, pw.alt_names())"
   ]
  },
  {
   "cell_type": "code",
   "execution_count": 86,
   "metadata": {},
   "outputs": [
    {
     "name": "stdout",
     "output_type": "stream",
     "text": [
      "[0.54725231 0.30404629 0.12094649 0.02775491]\n"
     ]
    },
    {
     "data": {
      "image/png": "[encoded data removed]",
      "text/plain": [
       "<Figure size 432x288 with 2 Axes>"
      ]
     },
     "metadata": {},
     "output_type": "display_data"
    }
   ],
   "source": [
    "v=pw.sim_priority(size=200)\n",
    "plot_sim(v, pw.alt_names())"
   ]
  },
  {
   "cell_type": "code",
   "execution_count": 87,
   "metadata": {},
   "outputs": [
    {
     "name": "stdout",
     "output_type": "stream",
     "text": [
      "[1.         0.55927169 0.22202898 0.05104681]\n"
     ]
    },
    {
     "data": {
      "image/png": "[encoded data removed]",
      "text/plain": [
       "<Figure size 432x288 with 2 Axes>"
      ]
     },
     "metadata": {},
     "output_type": "display_data"
    }
   ],
   "source": [
    "plot_sim(v, pw.alt_names(), idealize=True)"
   ]
  },
  {
   "cell_type": "code",
   "execution_count": 88,
   "metadata": {
    "scrolled": true
   },
   "outputs": [
    {
     "data": {
      "text/plain": [
       "array([[0.34318465, 0.53944545, 0.11736991],\n",
       "       [0.31000794, 0.57186974, 0.11812232],\n",
       "       [0.41084809, 0.47752377, 0.11162814],\n",
       "       [0.37769489, 0.51973397, 0.10257114],\n",
       "       [0.45044632, 0.44344528, 0.1061084 ],\n",
       "       [0.35027952, 0.54498754, 0.10473294],\n",
       "       [0.42791499, 0.47281937, 0.09926564],\n",
       "       [0.40640233, 0.47550708, 0.11809059],\n",
       "       [0.46523455, 0.41520659, 0.11955886],\n",
       "       [0.47064681, 0.40805593, 0.12129726],\n",
       "       [0.45275139, 0.42753052, 0.11971809],\n",
       "       [0.40144109, 0.46977787, 0.12878104],\n",
       "       [0.39898566, 0.46526724, 0.1357471 ],\n",
       "       [0.41020261, 0.45905074, 0.13074665],\n",
       "       [0.41536715, 0.44901042, 0.13562243],\n",
       "       [0.50191863, 0.38182416, 0.11625721],\n",
       "       [0.45370601, 0.42171421, 0.12457978],\n",
       "       [0.41488604, 0.47319741, 0.11191655],\n",
       "       [0.38672353, 0.51016186, 0.10311461],\n",
       "       [0.44278949, 0.43810175, 0.11910876]])"
      ]
     },
     "execution_count": 88,
     "metadata": {},
     "output_type": "execute_result"
    }
   ],
   "source": [
    "apw = np.array([\n",
    "    [0, -1, 2],\n",
    "    [-1., 0, 4],\n",
    "    [-2, -4., 0]\n",
    "], dtype=int)\n",
    "arpw = RPairwiseMatrix.from_lscale_nparray(apw)\n",
    "arpw.sim_priority(20)"
   ]
  },
  {
   "cell_type": "code",
   "execution_count": 89,
   "metadata": {},
   "outputs": [],
   "source": [
    "mpw = np.array([\n",
    "    [1, 2, 3],\n",
    "    [1/2, 1, 5],\n",
    "    [1/3, 1/5, 1]\n",
    "])\n",
    "mrpw = RPairwiseMatrix.from_mscale_nparray(mpw)"
   ]
  },
  {
   "cell_type": "code",
   "execution_count": 90,
   "metadata": {},
   "outputs": [
    {
     "data": {
      "text/plain": [
       "array([[1.        , 2.57527176, 3.23294238],\n",
       "       [0.38830853, 1.        , 5.43236752],\n",
       "       [0.30931575, 0.1840818 , 1.        ]])"
      ]
     },
     "execution_count": 90,
     "metadata": {},
     "output_type": "execute_result"
    }
   ],
   "source": [
    "mrpw.sim()"
   ]
  },
  {
   "cell_type": "code",
   "execution_count": 91,
   "metadata": {},
   "outputs": [
    {
     "ename": "AttributeError",
     "evalue": "'RPairwiseMatrix' object has no attribute 'set'",
     "output_type": "error",
     "traceback": [
      "\u001b[0;31m---------------------------------------------------------------------------\u001b[0m",
      "\u001b[0;31mAttributeError\u001b[0m                            Traceback (most recent call last)",
      "\u001b[0;32m<ipython-input-91-34216086a2bd>\u001b[0m in \u001b[0;36m<module>\u001b[0;34m()\u001b[0m\n\u001b[0;32m----> 1\u001b[0;31m \u001b[0mmrpw\u001b[0m\u001b[0;34m.\u001b[0m\u001b[0mset\u001b[0m\u001b[0;34m(\u001b[0m\u001b[0;36m0\u001b[0m\u001b[0;34m,\u001b[0m\u001b[0;36m1\u001b[0m\u001b[0;34m,\u001b[0m \u001b[0;34m-\u001b[0m\u001b[0;36m6.5\u001b[0m\u001b[0;34m)\u001b[0m\u001b[0;34m\u001b[0m\u001b[0m\n\u001b[0m",
      "\u001b[0;31mAttributeError\u001b[0m: 'RPairwiseMatrix' object has no attribute 'set'"
     ]
    }
   ],
   "source": [
    "mrpw.set(0,1, -6.5)"
   ]
  },
  {
   "cell_type": "code",
   "execution_count": null,
   "metadata": {},
   "outputs": [],
   "source": [
    "mrpw.sim_priority(20)"
   ]
  }
 ],
 "metadata": {
  "kernelspec": {
   "display_name": "Python 3",
   "language": "python",
   "name": "python3"
  },
  "language_info": {
   "codemirror_mode": {
    "name": "ipython",
    "version": 3
   },
   "file_extension": ".py",
   "mimetype": "text/x-python",
   "name": "python",
   "nbconvert_exporter": "python",
   "pygments_lexer": "ipython3",
   "version": "3.6.5"
  },
  "toc": {
   "base_numbering": 1,
   "nav_menu": {},
   "number_sections": true,
   "sideBar": true,
   "skip_h1_title": false,
   "title_cell": "Table of Contents",
   "title_sidebar": "Contents",
   "toc_cell": false,
   "toc_position": {},
   "toc_section_display": true,
   "toc_window_display": false
  }
 },
 "nbformat": 4,
 "nbformat_minor": 2
}
