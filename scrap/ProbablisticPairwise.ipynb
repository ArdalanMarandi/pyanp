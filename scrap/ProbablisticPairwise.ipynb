{
 "cells": [
  {
   "cell_type": "markdown",
   "metadata": {},
   "source": [
    "# Working on probabilistic pairwise"
   ]
  },
  {
   "cell_type": "code",
   "execution_count": 1,
   "metadata": {},
   "outputs": [],
   "source": [
    "import pandas as pd\n",
    "import re\n",
    "import sys \n",
    "import os\n",
    "sys.path.insert(0, os.path.abspath(\"../\"))\n",
    "from pyanp.pairwise import Pairwise\n",
    "import pyanp.priority as priority\n",
    "from numpy import log, exp\n",
    "import numpy as np\n",
    "import matplotlib.pyplot as plt\n",
    "%matplotlib inline"
   ]
  },
  {
   "cell_type": "code",
   "execution_count": 2,
   "metadata": {},
   "outputs": [],
   "source": [
    "from scipy.stats import triang,truncnorm"
   ]
  },
  {
   "cell_type": "code",
   "execution_count": 3,
   "metadata": {},
   "outputs": [],
   "source": [
    "?triang"
   ]
  },
  {
   "cell_type": "code",
   "execution_count": 4,
   "metadata": {},
   "outputs": [],
   "source": [
    "rv = triang(c=0.5, loc=.1, scale=10)"
   ]
  },
  {
   "cell_type": "code",
   "execution_count": 5,
   "metadata": {},
   "outputs": [],
   "source": [
    "def make_log_triang(lower=1, mid=2, upper=3):\n",
    "    loc = log(lower)\n",
    "    scale = log(upper) - log(lower)\n",
    "    c = (log(mid)-log(lower))/(log(upper)-log(lower))\n",
    "    return triang(c=c, loc=loc, scale=scale)"
   ]
  },
  {
   "cell_type": "code",
   "execution_count": 6,
   "metadata": {},
   "outputs": [],
   "source": [
    "tb = make_log_triang(1, 30, 100)"
   ]
  },
  {
   "cell_type": "code",
   "execution_count": 7,
   "metadata": {},
   "outputs": [
    {
     "data": {
      "text/plain": [
       "[[14.002717739775418,\n",
       "  35.382967400675575,\n",
       "  3.2614492195259674,\n",
       "  4.243163288660086,\n",
       "  35.44857834333355,\n",
       "  2.653910709467683,\n",
       "  3.8305099388330945,\n",
       "  16.780634253755252,\n",
       "  76.20042965879695,\n",
       "  25.491559067152814,\n",
       "  68.02015558745492,\n",
       "  7.413541703348968,\n",
       "  18.371206769752845,\n",
       "  47.33744617253401,\n",
       "  2.7422133839229623,\n",
       "  3.3094905011704627,\n",
       "  16.404797816826477,\n",
       "  33.7687805128923,\n",
       "  11.945395947146721,\n",
       "  6.432872475286006],\n",
       " array([2.63925144, 3.56623056, 1.18217164, 1.44530905, 3.56808315,\n",
       "        0.97603429, 1.34299794, 2.8202255 , 4.3333671 , 3.23834738,\n",
       "        4.21980407, 2.00330829, 2.91078459, 3.85730166, 1.0087654 ,\n",
       "        1.19679425, 2.79757384, 3.51953672, 2.48034593, 1.86142117])]"
      ]
     },
     "metadata": {},
     "output_type": "display_data"
    }
   ],
   "source": [
    "vals = tb.rvs(20)\n",
    "evals = [exp(v) for v in vals]\n",
    "display([evals, vals])"
   ]
  },
  {
   "cell_type": "code",
   "execution_count": 8,
   "metadata": {},
   "outputs": [
    {
     "data": {
      "text/plain": [
       "2.6687891892167492"
      ]
     },
     "execution_count": 8,
     "metadata": {},
     "output_type": "execute_result"
    }
   ],
   "source": [
    "tb.mean()"
   ]
  },
  {
   "cell_type": "code",
   "execution_count": 9,
   "metadata": {},
   "outputs": [
    {
     "data": {
      "text/plain": [
       "3.4011973816621555"
      ]
     },
     "execution_count": 9,
     "metadata": {},
     "output_type": "execute_result"
    }
   ],
   "source": [
    "log(30)"
   ]
  },
  {
   "cell_type": "code",
   "execution_count": 10,
   "metadata": {},
   "outputs": [],
   "source": [
    "def make_tnorm(myclip_a, myclip_b, my_mean, my_std):\n",
    "    a, b = (myclip_a - my_mean) / my_std, (myclip_b - my_mean) / my_std\n",
    "    return truncnorm(a=a, b=b, loc=my_mean, scale=my_std)\n",
    "\n",
    "def make_tnorm_log(my_mean, my_max):\n",
    "    delta = log(my_max) - log(my_mean)\n",
    "    myclip_a = log(my_mean)-delta\n",
    "    myclip_b = log(my_max)\n",
    "    return make_tnorm(myclip_a, myclip_b, log(my_mean), 0.5*delta)"
   ]
  },
  {
   "cell_type": "code",
   "execution_count": 11,
   "metadata": {},
   "outputs": [],
   "source": [
    "tl = make_tnorm(1, 5, 3, 2)"
   ]
  },
  {
   "cell_type": "code",
   "execution_count": 12,
   "metadata": {},
   "outputs": [
    {
     "data": {
      "text/plain": [
       "array([2.88737527, 1.43735166, 3.50150168, 3.61561583, 1.64577454,\n",
       "       2.93285268, 2.42382193, 4.63872516, 2.70691309, 2.47428528])"
      ]
     },
     "execution_count": 12,
     "metadata": {},
     "output_type": "execute_result"
    }
   ],
   "source": [
    "tl.rvs(10)"
   ]
  },
  {
   "cell_type": "code",
   "execution_count": 13,
   "metadata": {},
   "outputs": [],
   "source": [
    "ltl = make_tnorm_log(3, 4.5)"
   ]
  },
  {
   "cell_type": "code",
   "execution_count": 14,
   "metadata": {},
   "outputs": [
    {
     "data": {
      "text/plain": [
       "[3.715779056757969,\n",
       " 3.1179341878916245,\n",
       " 2.0619557024914434,\n",
       " 4.464855013130548,\n",
       " 2.3613394647570467,\n",
       " 3.1940903722973397,\n",
       " 3.7537089438664295,\n",
       " 2.6898498238644764,\n",
       " 3.1881056358127333,\n",
       " 2.326825728288157]"
      ]
     },
     "execution_count": 14,
     "metadata": {},
     "output_type": "execute_result"
    }
   ],
   "source": [
    "[exp(v) for v in ltl.rvs(10)]"
   ]
  },
  {
   "cell_type": "markdown",
   "metadata": {},
   "source": [
    "## Try another idea"
   ]
  },
  {
   "cell_type": "markdown",
   "metadata": {},
   "source": [
    "Let's change our vote world from 1/9 - 9 (or -9...,-2, 1,2,3,...9) into something easier to randomly work with.\n",
    "\n",
    "Let's [-8, 8] and then if value is < 0, multiply by -1, add 1, and then invert.\n",
    "\n",
    "Otherwise we just add 1.\n",
    "\n",
    "We call this L-scale (for linear) and M-scale is the standard multiplication.  We need a converter"
   ]
  },
  {
   "cell_type": "code",
   "execution_count": 106,
   "metadata": {},
   "outputs": [],
   "source": [
    "def ascale_mscale(val):\n",
    "    if val < 0:\n",
    "        val = -val\n",
    "        val += 1\n",
    "        val = 1.0/val\n",
    "        return val\n",
    "    else:\n",
    "        return val+1\n",
    "    \n",
    "def mscale_ascale(val):\n",
    "    if val == 0:\n",
    "        return None\n",
    "    elif val >= 1:\n",
    "        return val - 1\n",
    "    else:\n",
    "        val = 1/val\n",
    "        val = val-1\n",
    "        return -val"
   ]
  },
  {
   "cell_type": "code",
   "execution_count": 107,
   "metadata": {},
   "outputs": [
    {
     "data": {
      "text/plain": [
       "0.5"
      ]
     },
     "execution_count": 107,
     "metadata": {},
     "output_type": "execute_result"
    }
   ],
   "source": [
    "ascale_mscale(-1)"
   ]
  },
  {
   "cell_type": "code",
   "execution_count": 108,
   "metadata": {},
   "outputs": [],
   "source": [
    "class LScaleToMScaleDist:\n",
    "    def __init__(self, distrib, name):\n",
    "        self.distrib = distrib\n",
    "        self.name = name\n",
    "    \n",
    "    def rvs(self, size=0):\n",
    "        rval = self.distrib.rvs(size=size)\n",
    "        for i in range(len(rval)):\n",
    "            rval[i] = ascale_mscale(rval[i])\n",
    "        return rval\n",
    "    \n",
    "    def mean(self):\n",
    "        return lscale_mscale(self.distrib.mean())\n",
    "    \n",
    "    def __str__(self):\n",
    "        return self.name\n",
    "\n",
    "def plot_sim(rval, alt_names, idealize=False):\n",
    "    if len(rval.shape) == 1:\n",
    "        if idealize:\n",
    "            rval = rval / max(rval)\n",
    "        df = pd.DataFrame({'alts': alt_names, 'val':rval})\n",
    "        return  df.plot.bar(x='alts', y='val', rot=0)\n",
    "    else:\n",
    "        if idealize:\n",
    "            rval = (rval.transpose() / rval.max(axis=1)).transpose()\n",
    "        prisdf = pd.DataFrame(data=rval, columns=alt_names)\n",
    "        prismean = rval.mean(axis=0)\n",
    "        print(prismean)\n",
    "        meandf = pd.DataFrame({'alts':alt_names, 'val':prismean})\n",
    "        fig, ax = plt.subplots()\n",
    "        ax2=ax.twiny()\n",
    "        meandf.plot.bar(x='alts', y='val', alpha=0.6, ax=ax2)\n",
    "        prisdf.boxplot(ax=ax)\n",
    "        plt.show()\n",
    "    \n",
    "class RPairwiseMatrix:\n",
    "    def __init__(self, size):\n",
    "        self.VOTES = [TRI_1, TRI_2,TRI_3, TRI_4, TRI_5, TRI_6, TRI_7, TRI_8, TRI_9]\n",
    "        self.size = size\n",
    "        self.matrix = np.empty([size, size], dtype=object)\n",
    "        for i in range(size):\n",
    "            self.matrix[i,i] = 1.0\n",
    "            \n",
    "    @staticmethod\n",
    "    def from_lscale_nparray(arr):\n",
    "        size=len(arr)\n",
    "        rval = RPairwiseMatrix(size)\n",
    "        for row in range(size):\n",
    "            for col in range(row+1, size):\n",
    "                if arr[row,col] != 0:\n",
    "                    rval.set_lscale(row, col, arr[row, col])\n",
    "        return rval\n",
    "    \n",
    "    @staticmethod\n",
    "    def from_mscale_nparray(arr):\n",
    "        size=len(arr)\n",
    "        rval = RPairwiseMatrix(size)\n",
    "        for row in range(size):\n",
    "            for col in range(row+1, size):\n",
    "                if arr[row,col] != 0:\n",
    "                    if arr[row,col] >= 1:\n",
    "                        rval.set_lscale(row, col, int(np.round(arr[row, col])-1))\n",
    "                    else:\n",
    "                        val = 1/arr[row,col]\n",
    "                        rval.set_lscale(col, row, int(-(np.round(val)-1)))\n",
    "        return rval\n",
    "    \n",
    "    def set_lscale(self, row, col, val):\n",
    "        if isinstance(val, (int, np.int, np.int16, np.int32, np.int64)):\n",
    "            if val < 0:\n",
    "                tmp = row\n",
    "                row = col\n",
    "                col = tmp\n",
    "                val = -val\n",
    "            data = self.VOTES[val - 1]\n",
    "            self.matrix[row,col]=data\n",
    "            self.matrix[col,row] = None\n",
    "        elif isinstance(val, (float, np.float, np.float16, np.float32, np.float64, np.float128)):\n",
    "            if val < 0:\n",
    "                tmp = row\n",
    "                row = col\n",
    "                col = tmp\n",
    "                val = -val\n",
    "            self.matrix[row, col] = triang(c=0.5, loc=(val-1.5), scale=3)\n",
    "            self.matrix[col,row] = None\n",
    "        else:\n",
    "            raise Exception(\"Unknown type \"+type(val))\n",
    "        \n",
    "    def sim(self, size=1):\n",
    "        if size > 1:\n",
    "            # We want a list of these things\n",
    "            return [self.sim(size=1) for i in range(size)]\n",
    "        rval = np.identity(self.size)\n",
    "        for row in range(self.size):\n",
    "            for col in range(row+1, self.size):\n",
    "                data = 0\n",
    "                if self.matrix[row, col] is not None:\n",
    "                    data = self.matrix[row, col].rvs(size=1)[0]\n",
    "                    if data >= 0:\n",
    "                        data = data + 1\n",
    "                    else:\n",
    "                        data = 1.0/(-data+1)\n",
    "                    rval[row, col] = data\n",
    "                    if data != 0:\n",
    "                        rval[col, row]=1.0/data\n",
    "                elif self.matrix[col, row] is not None:\n",
    "                    data = self.matrix[col, row].rvs(size=1)[0]\n",
    "                    rval[col, row] = data\n",
    "                    if data != 0:\n",
    "                        rval[row, col]=1.0/data\n",
    "        return rval\n",
    "    \n",
    "    def alt_names(self):\n",
    "        return ['alt '+str(i) for i in range(1, self.size+1)]\n",
    "    \n",
    "    def sim_priority(self, size=1):\n",
    "        mats = self.sim(size)\n",
    "        if size == 1:\n",
    "            rval = priority.pri_eigen(mats)\n",
    "            return rval\n",
    "        else:\n",
    "            rval = np.array([priority.pri_eigen(mat) for mat in mats])\n",
    "            return rval\n",
    "                \n",
    "                \n",
    "\n",
    "        "
   ]
  },
  {
   "cell_type": "code",
   "execution_count": 109,
   "metadata": {},
   "outputs": [],
   "source": [
    "TRI_1=LScaleToMScaleDist(triang(c=0.5, loc=-1, scale=2), \"triangular 1\")\n",
    "TRI_2=LScaleToMScaleDist(triang(c=0.5, loc=-0.25, scale=2.5), \"triangular 2\")\n",
    "TRI_3=LScaleToMScaleDist(triang(c=0.5, loc=0.5, scale=3), \"triangular 3\")\n",
    "TRI_4=LScaleToMScaleDist(triang(c=0.5, loc=1.5, scale=3), \"triangular 4\")\n",
    "TRI_5=LScaleToMScaleDist(triang(c=0.5, loc=2.5, scale=3), \"triangular 5\")\n",
    "TRI_6=LScaleToMScaleDist(triang(c=0.5, loc=3.5, scale=3), \"triangular 6\")\n",
    "TRI_7=LScaleToMScaleDist(triang(c=0.5, loc=4.5, scale=3), \"triangular 7\")\n",
    "TRI_8=LScaleToMScaleDist(triang(c=0.5, loc=5.5, scale=3), \"triangular 8\")\n",
    "TRI_9=LScaleToMScaleDist(triang(c=0.5, loc=6.5, scale=3), \"triangular 9\")"
   ]
  },
  {
   "cell_type": "code",
   "execution_count": 110,
   "metadata": {},
   "outputs": [
    {
     "data": {
      "text/plain": [
       "array([1.64008792, 0.54506494, 0.78504424, 1.25364871, 1.15016461,\n",
       "       0.88073772, 1.02072829, 1.16622579, 1.71168682, 1.66786271])"
      ]
     },
     "execution_count": 110,
     "metadata": {},
     "output_type": "execute_result"
    }
   ],
   "source": [
    "TRI_1.rvs(10)"
   ]
  },
  {
   "cell_type": "code",
   "execution_count": 111,
   "metadata": {},
   "outputs": [
    {
     "data": {
      "text/plain": [
       "array([1.96583205, 2.9531089 , 2.55153408, 2.01574672, 2.48278594,\n",
       "       1.42938877, 1.24081662, 1.89575763, 2.13437602, 1.78137461])"
      ]
     },
     "execution_count": 111,
     "metadata": {},
     "output_type": "execute_result"
    }
   ],
   "source": [
    "TRI_2.rvs(10)"
   ]
  },
  {
   "cell_type": "code",
   "execution_count": 112,
   "metadata": {},
   "outputs": [],
   "source": [
    "pw = RPairwiseMatrix(4)"
   ]
  },
  {
   "cell_type": "code",
   "execution_count": 113,
   "metadata": {},
   "outputs": [
    {
     "data": {
      "text/plain": [
       "array([[1.0, None, None, None],\n",
       "       [None, 1.0, None, None],\n",
       "       [None, None, 1.0, None],\n",
       "       [None, None, None, 1.0]], dtype=object)"
      ]
     },
     "execution_count": 113,
     "metadata": {},
     "output_type": "execute_result"
    }
   ],
   "source": [
    "pw.matrix"
   ]
  },
  {
   "cell_type": "code",
   "execution_count": 114,
   "metadata": {},
   "outputs": [],
   "source": [
    "pw.set_lscale(0,1, 2)\n",
    "pw.set_lscale(1,2, 3)\n",
    "pw.set_lscale(2,3, 4)\n",
    "pw.set_lscale(0, 2, 4)\n",
    "pw.set_lscale(1, 3, 5)"
   ]
  },
  {
   "cell_type": "code",
   "execution_count": 115,
   "metadata": {},
   "outputs": [
    {
     "data": {
      "text/plain": [
       "[array([[1.        , 2.30873307, 5.23769642, 0.        ],\n",
       "        [0.43313799, 1.        , 3.218262  , 5.86119181],\n",
       "        [0.19092363, 0.31072672, 1.        , 3.86249291],\n",
       "        [0.        , 0.17061376, 0.25890015, 1.        ]]),\n",
       " array([[1.        , 3.52265568, 3.91695689, 0.        ],\n",
       "        [0.28387674, 1.        , 3.39130767, 5.74193282],\n",
       "        [0.25530023, 0.29487151, 1.        , 4.25833129],\n",
       "        [0.        , 0.17415738, 0.23483377, 1.        ]]),\n",
       " array([[1.        , 2.90597803, 5.40586291, 0.        ],\n",
       "        [0.34411822, 1.        , 4.3519924 , 5.40166405],\n",
       "        [0.18498434, 0.22977981, 1.        , 4.67627815],\n",
       "        [0.        , 0.18512814, 0.21384528, 1.        ]]),\n",
       " array([[1.        , 2.03742543, 5.1493918 , 0.        ],\n",
       "        [0.49081551, 1.        , 3.53823576, 5.86282027],\n",
       "        [0.19419769, 0.28262673, 1.        , 4.98151705],\n",
       "        [0.        , 0.17056637, 0.20074206, 1.        ]]),\n",
       " array([[1.        , 2.31920964, 4.56854478, 0.        ],\n",
       "        [0.43118137, 1.        , 3.50261766, 5.92975884],\n",
       "        [0.21888808, 0.28550076, 1.        , 4.76701896],\n",
       "        [0.        , 0.16864092, 0.20977471, 1.        ]])]"
      ]
     },
     "execution_count": 115,
     "metadata": {},
     "output_type": "execute_result"
    }
   ],
   "source": [
    "pw.sim(size=5)"
   ]
  },
  {
   "cell_type": "code",
   "execution_count": 116,
   "metadata": {},
   "outputs": [],
   "source": [
    "m=pw.sim()"
   ]
  },
  {
   "cell_type": "code",
   "execution_count": 117,
   "metadata": {},
   "outputs": [
    {
     "data": {
      "text/plain": [
       "array([[1.        , 2.57147899, 5.95873093, 0.        ],\n",
       "       [0.38888126, 1.        , 4.67683425, 7.10616145],\n",
       "       [0.16782097, 0.21381985, 1.        , 4.9357134 ],\n",
       "       [0.        , 0.14072295, 0.20260496, 1.        ]])"
      ]
     },
     "metadata": {},
     "output_type": "display_data"
    },
    {
     "data": {
      "text/plain": [
       "array([1.        , 2.57147899, 5.95873093, 7.10616145])"
      ]
     },
     "execution_count": 117,
     "metadata": {},
     "output_type": "execute_result"
    }
   ],
   "source": [
    "display(m)\n",
    "m.max(axis=0)"
   ]
  },
  {
   "cell_type": "code",
   "execution_count": 118,
   "metadata": {},
   "outputs": [
    {
     "data": {
      "text/plain": [
       "array([0.53492717, 0.3175266 , 0.11940171, 0.02814452])"
      ]
     },
     "execution_count": 118,
     "metadata": {},
     "output_type": "execute_result"
    }
   ],
   "source": [
    "pw.sim_priority()"
   ]
  },
  {
   "cell_type": "code",
   "execution_count": 119,
   "metadata": {},
   "outputs": [
    {
     "data": {
      "text/plain": [
       "<matplotlib.axes._subplots.AxesSubplot at 0x7fdcdcfbeef0>"
      ]
     },
     "execution_count": 119,
     "metadata": {},
     "output_type": "execute_result"
    },
    {
     "data": {
      "image/png": "[encoded data removed]",
      "text/plain": [
       "<Figure size 432x288 with 1 Axes>"
      ]
     },
     "metadata": {},
     "output_type": "display_data"
    }
   ],
   "source": [
    "pris = pw.sim_priority(10)\n",
    "prisdf = pd.DataFrame(data=pris, columns=[\"A1\", \"A2\", \"A3\", \"A4\"])\n",
    "prisdf.boxplot()"
   ]
  },
  {
   "cell_type": "code",
   "execution_count": 120,
   "metadata": {},
   "outputs": [
    {
     "data": {
      "text/plain": [
       "array([0.60241291, 0.26723692, 0.10642109, 0.02392909])"
      ]
     },
     "execution_count": 120,
     "metadata": {},
     "output_type": "execute_result"
    }
   ],
   "source": [
    "pw.sim_priority(1)"
   ]
  },
  {
   "cell_type": "code",
   "execution_count": 121,
   "metadata": {},
   "outputs": [
    {
     "data": {
      "text/plain": [
       "<matplotlib.axes._subplots.AxesSubplot at 0x7fdcdceea550>"
      ]
     },
     "execution_count": 121,
     "metadata": {},
     "output_type": "execute_result"
    },
    {
     "data": {
      "image/png": "[encoded data removed]",
      "text/plain": [
       "<Figure size 432x288 with 1 Axes>"
      ]
     },
     "metadata": {},
     "output_type": "display_data"
    }
   ],
   "source": [
    "v=pw.sim_priority(1)\n",
    "plot_sim(v, pw.alt_names())"
   ]
  },
  {
   "cell_type": "code",
   "execution_count": 122,
   "metadata": {},
   "outputs": [
    {
     "name": "stdout",
     "output_type": "stream",
     "text": [
      "[0.55048372 0.30256294 0.11953505 0.02741829]\n"
     ]
    },
    {
     "data": {
      "image/png": "[encoded data removed]",
      "text/plain": [
       "<Figure size 432x288 with 2 Axes>"
      ]
     },
     "metadata": {},
     "output_type": "display_data"
    }
   ],
   "source": [
    "v=pw.sim_priority(size=200)\n",
    "plot_sim(v, pw.alt_names())"
   ]
  },
  {
   "cell_type": "code",
   "execution_count": 123,
   "metadata": {},
   "outputs": [
    {
     "name": "stdout",
     "output_type": "stream",
     "text": [
      "[1.         0.55400268 0.21835994 0.05017552]\n"
     ]
    },
    {
     "data": {
      "image/png": "[encoded data removed]",
      "text/plain": [
       "<Figure size 432x288 with 2 Axes>"
      ]
     },
     "metadata": {},
     "output_type": "display_data"
    }
   ],
   "source": [
    "plot_sim(v, pw.alt_names(), idealize=True)"
   ]
  },
  {
   "cell_type": "code",
   "execution_count": 124,
   "metadata": {
    "scrolled": true
   },
   "outputs": [
    {
     "data": {
      "text/plain": [
       "array([[0.38238447, 0.51595579, 0.10165974],\n",
       "       [0.48016281, 0.40182234, 0.11801485],\n",
       "       [0.40691899, 0.47673485, 0.11634616],\n",
       "       [0.40191788, 0.4651922 , 0.13288992],\n",
       "       [0.43832477, 0.4192393 , 0.14243594],\n",
       "       [0.42597319, 0.4313559 , 0.14267092],\n",
       "       [0.34989528, 0.54882422, 0.1012805 ],\n",
       "       [0.44142208, 0.45524379, 0.10333413],\n",
       "       [0.34870576, 0.54615464, 0.1051396 ],\n",
       "       [0.47219602, 0.41361209, 0.11419189],\n",
       "       [0.407214  , 0.45175667, 0.14102932],\n",
       "       [0.39808744, 0.47592705, 0.12598551],\n",
       "       [0.32840135, 0.54894198, 0.12265667],\n",
       "       [0.32183414, 0.55562488, 0.12254098],\n",
       "       [0.46386183, 0.42894136, 0.10719682],\n",
       "       [0.40473856, 0.46620738, 0.12905406],\n",
       "       [0.3245833 , 0.56307959, 0.1123371 ],\n",
       "       [0.45862156, 0.43855895, 0.10281949],\n",
       "       [0.42046799, 0.46735842, 0.11217359],\n",
       "       [0.39418194, 0.48952265, 0.11629542]])"
      ]
     },
     "execution_count": 124,
     "metadata": {},
     "output_type": "execute_result"
    }
   ],
   "source": [
    "apw = np.array([\n",
    "    [0, -1, 2],\n",
    "    [-1., 0, 4],\n",
    "    [-2, -4., 0]\n",
    "], dtype=int)\n",
    "arpw = RPairwiseMatrix.from_lscale_nparray(apw)\n",
    "arpw.sim_priority(20)"
   ]
  },
  {
   "cell_type": "code",
   "execution_count": 125,
   "metadata": {},
   "outputs": [],
   "source": [
    "mpw = np.array([\n",
    "    [1, 2, 3],\n",
    "    [1/2, 1, 5],\n",
    "    [1/3, 1/5, 1]\n",
    "])\n",
    "mrpw = RPairwiseMatrix.from_mscale_nparray(mpw)"
   ]
  },
  {
   "cell_type": "code",
   "execution_count": 126,
   "metadata": {},
   "outputs": [
    {
     "data": {
      "text/plain": [
       "array([[1.        , 1.74679192, 2.41133025],\n",
       "       [0.57247803, 1.        , 5.72258369],\n",
       "       [0.41470885, 0.17474624, 1.        ]])"
      ]
     },
     "execution_count": 126,
     "metadata": {},
     "output_type": "execute_result"
    }
   ],
   "source": [
    "mrpw.sim()"
   ]
  },
  {
   "cell_type": "code",
   "execution_count": 127,
   "metadata": {},
   "outputs": [
    {
     "ename": "AttributeError",
     "evalue": "'RPairwiseMatrix' object has no attribute 'set'",
     "output_type": "error",
     "traceback": [
      "\u001b[0;31m---------------------------------------------------------------------------\u001b[0m",
      "\u001b[0;31mAttributeError\u001b[0m                            Traceback (most recent call last)",
      "\u001b[0;32m<ipython-input-127-34216086a2bd>\u001b[0m in \u001b[0;36m<module>\u001b[0;34m()\u001b[0m\n\u001b[0;32m----> 1\u001b[0;31m \u001b[0mmrpw\u001b[0m\u001b[0;34m.\u001b[0m\u001b[0mset\u001b[0m\u001b[0;34m(\u001b[0m\u001b[0;36m0\u001b[0m\u001b[0;34m,\u001b[0m\u001b[0;36m1\u001b[0m\u001b[0;34m,\u001b[0m \u001b[0;34m-\u001b[0m\u001b[0;36m6.5\u001b[0m\u001b[0;34m)\u001b[0m\u001b[0;34m\u001b[0m\u001b[0m\n\u001b[0m",
      "\u001b[0;31mAttributeError\u001b[0m: 'RPairwiseMatrix' object has no attribute 'set'"
     ]
    }
   ],
   "source": [
    "mrpw.set(0,1, -6.5)"
   ]
  },
  {
   "cell_type": "code",
   "execution_count": 128,
   "metadata": {},
   "outputs": [
    {
     "data": {
      "text/plain": [
       "array([[0.54943038, 0.34946652, 0.1011031 ],\n",
       "       [0.53879184, 0.35743725, 0.10377091],\n",
       "       [0.52627447, 0.35520285, 0.11852268],\n",
       "       [0.49306105, 0.37655851, 0.13038044],\n",
       "       [0.51422197, 0.36130569, 0.12447234],\n",
       "       [0.50561547, 0.37282784, 0.12155669],\n",
       "       [0.52492565, 0.35004828, 0.12502608],\n",
       "       [0.50465045, 0.37630463, 0.11904492],\n",
       "       [0.50097954, 0.39412973, 0.10489074],\n",
       "       [0.50677131, 0.3925486 , 0.10068008],\n",
       "       [0.44028775, 0.42344629, 0.13626597],\n",
       "       [0.5308053 , 0.35845887, 0.11073583],\n",
       "       [0.5242096 , 0.3798893 , 0.0959011 ],\n",
       "       [0.49692383, 0.39578553, 0.10729064],\n",
       "       [0.46208478, 0.43141671, 0.10649851],\n",
       "       [0.43128421, 0.42741161, 0.14130417],\n",
       "       [0.47494292, 0.40175977, 0.12329731],\n",
       "       [0.56634081, 0.32539266, 0.10826654],\n",
       "       [0.48678102, 0.40336868, 0.10985029],\n",
       "       [0.46347121, 0.41586715, 0.12066164]])"
      ]
     },
     "execution_count": 128,
     "metadata": {},
     "output_type": "execute_result"
    }
   ],
   "source": [
    "mrpw.sim_priority(20)"
   ]
  },
  {
   "cell_type": "markdown",
   "metadata": {},
   "source": [
    "# Another idea\n",
    "Here we have the pariwise comparison matrix class storing everything in LinearScale and only converting to ExponentialScale when we do the simulation"
   ]
  },
  {
   "cell_type": "code",
   "execution_count": 142,
   "metadata": {},
   "outputs": [],
   "source": [
    "class RandLScalePwMatrix:\n",
    "    VOTES = [\n",
    "        triang(c=0.5, loc=-1, scale=2), #Triangle about 0\n",
    "        triang(c=0.5, loc=-0.25, scale=2.5), #Triangle about 1\n",
    "        triang(c=0.5, loc=0.5, scale=3), #Triangle about 2\n",
    "        triang(c=0.5, loc=1.5, scale=3), #Triangle about 3\n",
    "        triang(c=0.5, loc=2.5, scale=3), #Triangle about 4\n",
    "        triang(c=0.5, loc=3.5, scale=3), #Triangle about 5\n",
    "        triang(c=0.5, loc=4.5, scale=3), #Triangle about 6\n",
    "        triang(c=0.5, loc=5.5, scale=3), #Triangle about 7\n",
    "        triang(c=0.5, loc=6.5, scale=3), #Triangle about 8\n",
    "        triang(c=0.5, loc=7.5, scale=3), #Triangle about 9\n",
    "    ]\n",
    "    \n",
    "    def __init__(self, size):\n",
    "        self.size = size\n",
    "        self.matrix = np.empty([size, size], dtype=object)\n",
    "        for i in range(size):\n",
    "            self.matrix[i,i] = 1.0\n",
    "            \n",
    "    @staticmethod\n",
    "    def from_nparray(arr):\n",
    "        size=len(arr)\n",
    "        rval = RandLScalePwMatrix(size)\n",
    "        for row in range(size):\n",
    "            for col in range(row+1, size):\n",
    "                if arr[row,col] != 0:\n",
    "                    rval.set(row, col, arr[row, col])\n",
    "        return rval\n",
    "    \n",
    "    @staticmethod\n",
    "    def from_mscale_nparray(arr):\n",
    "        size=len(arr)\n",
    "        rval = RandLScalePwMatrix(size)\n",
    "        for row in range(size):\n",
    "            for col in range(row+1, size):\n",
    "                if arr[row, col]!=0:\n",
    "                    rval.setm(row, col, arr[row, col])\n",
    "        return rval\n",
    "    \n",
    "    def setm(self, row, col, multiplicative_value):\n",
    "        val = mscale_ascale(multiplicative_value)\n",
    "        print(\"mval=\"+str(multiplicative_value)+\" addval=\"+str(val))\n",
    "        self.set(row, col, val)\n",
    "        \n",
    "    def set(self, row, col, val):\n",
    "        rnd_val = int(np.round(val))\n",
    "        if (np.abs(rnd_val - val) < 1e-10):\n",
    "            #We have essentially an integer vote\n",
    "            if val < 0:\n",
    "                tmp = row\n",
    "                row = col\n",
    "                col = tmp\n",
    "                rnd_val = -rnd_val\n",
    "            data = RandLScalePwMatrix.VOTES[rnd_val]\n",
    "            self.matrix[row,col]=data\n",
    "            self.matrix[col,row] = None\n",
    "        else:\n",
    "            #Floating point vote\n",
    "            if val < 0:\n",
    "                tmp = row\n",
    "                row = col\n",
    "                col = tmp\n",
    "                val = -val\n",
    "            self.matrix[row, col] = triang(c=0.5, loc=(val-1.5), scale=3)\n",
    "            self.matrix[col,row] = None\n",
    "        \n",
    "    def sim(self, size=1):\n",
    "        if size > 1:\n",
    "            # We want a list of these things\n",
    "            return [self.sim(size=1) for i in range(size)]\n",
    "        rval = np.identity(self.size)\n",
    "        for row in range(self.size):\n",
    "            for col in range(row+1, self.size):\n",
    "                data = 0\n",
    "                if self.matrix[row, col] is not None:\n",
    "                    data = self.matrix[row, col].rvs(size=1)[0]\n",
    "                    data = ascale_mscale(data)\n",
    "                    rval[row, col] = data\n",
    "                    if data != 0:\n",
    "                        rval[col, row]=1.0/data\n",
    "                elif self.matrix[col, row] is not None:\n",
    "                    data = self.matrix[col, row].rvs(size=1)[0]\n",
    "                    data = ascale_mscale(data)\n",
    "                    rval[col, row] = data\n",
    "                    if data != 0:\n",
    "                        rval[row, col]=1.0/data\n",
    "        return rval\n",
    "    \n",
    "    def alt_names(self):\n",
    "        return ['alt '+str(i) for i in range(1, self.size+1)]\n",
    "    \n",
    "    def sim_priority(self, size=1):\n",
    "        mats = self.sim(size)\n",
    "        if size == 1:\n",
    "            rval = priority.pri_eigen(mats)\n",
    "            return rval\n",
    "        else:\n",
    "            rval = np.array([priority.pri_eigen(mat) for mat in mats])\n",
    "            return rval\n",
    "                "
   ]
  },
  {
   "cell_type": "code",
   "execution_count": 143,
   "metadata": {},
   "outputs": [],
   "source": [
    "rmls = RandLScalePwMatrix(3)"
   ]
  },
  {
   "cell_type": "code",
   "execution_count": 144,
   "metadata": {},
   "outputs": [],
   "source": [
    "rmls.set(0,1, 1)\n",
    "rmls.set(1,2, 2)\n",
    "rmls.set(0,2, 3)"
   ]
  },
  {
   "cell_type": "code",
   "execution_count": 145,
   "metadata": {},
   "outputs": [
    {
     "name": "stdout",
     "output_type": "stream",
     "text": [
      "[0.99934024 0.60045912 0.22698941]\n"
     ]
    },
    {
     "data": {
      "image/png": "[encoded data removed]",
      "text/plain": [
       "<Figure size 432x288 with 2 Axes>"
      ]
     },
     "metadata": {},
     "output_type": "display_data"
    }
   ],
   "source": [
    "pris = rmls.sim_priority(1000)\n",
    "plot_sim(pris, rmls.alt_names(), idealize=True)"
   ]
  },
  {
   "cell_type": "code",
   "execution_count": 149,
   "metadata": {},
   "outputs": [
    {
     "name": "stdout",
     "output_type": "stream",
     "text": [
      "mval=2.0 addval=1.0\n",
      "mval=0.3333333333333333 addval=-2.0\n",
      "mval=3.0 addval=2.0\n"
     ]
    }
   ],
   "source": [
    "r2 = RandLScalePwMatrix.from_mscale_nparray(np.array([\n",
    "    [1, 2, 1/3.],\n",
    "    [1/2, 1, 3],\n",
    "    [3, 1/3, 1]\n",
    "]))"
   ]
  },
  {
   "cell_type": "code",
   "execution_count": 152,
   "metadata": {},
   "outputs": [
    {
     "name": "stdout",
     "output_type": "stream",
     "text": [
      "[0.7675513  0.98033543 0.85397601]\n"
     ]
    },
    {
     "data": {
      "image/png": "[encoded data removed]",
      "text/plain": [
       "<Figure size 432x288 with 2 Axes>"
      ]
     },
     "metadata": {},
     "output_type": "display_data"
    }
   ],
   "source": [
    "plot_sim(r2.sim_priority(200), r2.alt_names(), idealize=True)"
   ]
  },
  {
   "cell_type": "code",
   "execution_count": 153,
   "metadata": {},
   "outputs": [
    {
     "data": {
      "text/plain": [
       "2.0"
      ]
     },
     "execution_count": 153,
     "metadata": {},
     "output_type": "execute_result"
    }
   ],
   "source": [
    "r2.matrix[2,0].median()"
   ]
  },
  {
   "cell_type": "code",
   "execution_count": 95,
   "metadata": {},
   "outputs": [
    {
     "data": {
      "text/plain": [
       "array([[1.0,\n",
       "        <scipy.stats._distn_infrastructure.rv_frozen object at 0x7fdcdd3694e0>,\n",
       "        <scipy.stats._distn_infrastructure.rv_frozen object at 0x7fdcdd62a4a8>],\n",
       "       [None, 1.0,\n",
       "        <scipy.stats._distn_infrastructure.rv_frozen object at 0x7fdcdd369080>],\n",
       "       [None, None, 1.0]], dtype=object)"
      ]
     },
     "execution_count": 95,
     "metadata": {},
     "output_type": "execute_result"
    }
   ],
   "source": [
    "r2.matrix"
   ]
  },
  {
   "cell_type": "code",
   "execution_count": null,
   "metadata": {},
   "outputs": [],
   "source": []
  }
 ],
 "metadata": {
  "kernelspec": {
   "display_name": "Python 3",
   "language": "python",
   "name": "python3"
  },
  "language_info": {
   "codemirror_mode": {
    "name": "ipython",
    "version": 3
   },
   "file_extension": ".py",
   "mimetype": "text/x-python",
   "name": "python",
   "nbconvert_exporter": "python",
   "pygments_lexer": "ipython3",
   "version": "3.6.5"
  },
  "toc": {
   "base_numbering": 1,
   "nav_menu": {},
   "number_sections": true,
   "sideBar": true,
   "skip_h1_title": false,
   "title_cell": "Table of Contents",
   "title_sidebar": "Contents",
   "toc_cell": false,
   "toc_position": {},
   "toc_section_display": true,
   "toc_window_display": false
  }
 },
 "nbformat": 4,
 "nbformat_minor": 2
}
