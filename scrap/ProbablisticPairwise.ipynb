{
 "cells": [
  {
   "cell_type": "markdown",
   "metadata": {},
   "source": [
    "# Working on probabilistic pairwise"
   ]
  },
  {
   "cell_type": "code",
   "execution_count": 1,
   "metadata": {},
   "outputs": [],
   "source": [
    "import pandas as pd\n",
    "import re\n",
    "import sys \n",
    "import os\n",
    "sys.path.insert(0, os.path.abspath(\"../\"))\n",
    "from pyanp.pairwise import Pairwise\n",
    "import pyanp.priority as priority\n",
    "from numpy import log, exp\n",
    "import numpy as np\n",
    "import matplotlib.pyplot as plt\n",
    "%matplotlib inline"
   ]
  },
  {
   "cell_type": "code",
   "execution_count": 334,
   "metadata": {},
   "outputs": [],
   "source": [
    "plt.rcParams[\"figure.figsize\"] = (10,6)"
   ]
  },
  {
   "cell_type": "code",
   "execution_count": 335,
   "metadata": {},
   "outputs": [],
   "source": [
    "from scipy.stats import triang,truncnorm"
   ]
  },
  {
   "cell_type": "code",
   "execution_count": 336,
   "metadata": {},
   "outputs": [],
   "source": [
    "?triang"
   ]
  },
  {
   "cell_type": "code",
   "execution_count": 337,
   "metadata": {},
   "outputs": [],
   "source": [
    "rv = triang(c=0.5, loc=.1, scale=10)"
   ]
  },
  {
   "cell_type": "code",
   "execution_count": 338,
   "metadata": {},
   "outputs": [],
   "source": [
    "def make_log_triang(lower=1, mid=2, upper=3):\n",
    "    loc = log(lower)\n",
    "    scale = log(upper) - log(lower)\n",
    "    c = (log(mid)-log(lower))/(log(upper)-log(lower))\n",
    "    return triang(c=c, loc=loc, scale=scale)"
   ]
  },
  {
   "cell_type": "code",
   "execution_count": 339,
   "metadata": {},
   "outputs": [],
   "source": [
    "tb = make_log_triang(1, 30, 100)"
   ]
  },
  {
   "cell_type": "code",
   "execution_count": 340,
   "metadata": {},
   "outputs": [
    {
     "data": {
      "text/plain": [
       "[[39.550721157037685,\n",
       "  2.6935614825289167,\n",
       "  28.304424243327446,\n",
       "  24.30909424060482,\n",
       "  6.910740820092,\n",
       "  52.869715025100014,\n",
       "  13.510065153995825,\n",
       "  9.372316987011208,\n",
       "  32.63415377221846,\n",
       "  15.96629713886223,\n",
       "  7.8512820686678575,\n",
       "  30.97300435172597,\n",
       "  5.7015151583578865,\n",
       "  4.4855945520961695,\n",
       "  41.47723209556793,\n",
       "  49.231358587985376,\n",
       "  18.33192248742198,\n",
       "  37.865278623681746,\n",
       "  69.31424868613735,\n",
       "  14.384057599789566],\n",
       " array([3.67758393, 0.99086429, 3.34301813, 3.19085053, 1.93307684,\n",
       "        3.96783068, 2.60343497, 2.23776034, 3.4853594 , 2.77048007,\n",
       "        2.06067684, 3.433116  , 1.74073196, 1.50087105, 3.72514465,\n",
       "        3.89653079, 2.90864394, 3.63403456, 4.23865049, 2.66612048])]"
      ]
     },
     "metadata": {},
     "output_type": "display_data"
    }
   ],
   "source": [
    "vals = tb.rvs(20)\n",
    "evals = [exp(v) for v in vals]\n",
    "display([evals, vals])"
   ]
  },
  {
   "cell_type": "code",
   "execution_count": 341,
   "metadata": {},
   "outputs": [
    {
     "data": {
      "text/plain": [
       "2.6687891892167492"
      ]
     },
     "execution_count": 341,
     "metadata": {},
     "output_type": "execute_result"
    }
   ],
   "source": [
    "tb.mean()"
   ]
  },
  {
   "cell_type": "code",
   "execution_count": 342,
   "metadata": {},
   "outputs": [
    {
     "data": {
      "text/plain": [
       "3.4011973816621555"
      ]
     },
     "execution_count": 342,
     "metadata": {},
     "output_type": "execute_result"
    }
   ],
   "source": [
    "log(30)"
   ]
  },
  {
   "cell_type": "code",
   "execution_count": 343,
   "metadata": {},
   "outputs": [],
   "source": [
    "def make_tnorm(myclip_a, myclip_b, my_mean, my_std):\n",
    "    a, b = (myclip_a - my_mean) / my_std, (myclip_b - my_mean) / my_std\n",
    "    return truncnorm(a=a, b=b, loc=my_mean, scale=my_std)\n",
    "\n",
    "def make_tnorm_log(my_mean, my_max):\n",
    "    delta = log(my_max) - log(my_mean)\n",
    "    myclip_a = log(my_mean)-delta\n",
    "    myclip_b = log(my_max)\n",
    "    return make_tnorm(myclip_a, myclip_b, log(my_mean), 0.5*delta)"
   ]
  },
  {
   "cell_type": "code",
   "execution_count": 344,
   "metadata": {},
   "outputs": [],
   "source": [
    "tl = make_tnorm(1, 5, 3, 2)"
   ]
  },
  {
   "cell_type": "code",
   "execution_count": 345,
   "metadata": {},
   "outputs": [
    {
     "data": {
      "text/plain": [
       "array([3.72020966, 3.0451699 , 2.26841417, 3.40730278, 1.3966677 ,\n",
       "       3.00675933, 2.69727153, 4.87776765, 4.9834819 , 3.50225924])"
      ]
     },
     "execution_count": 345,
     "metadata": {},
     "output_type": "execute_result"
    }
   ],
   "source": [
    "tl.rvs(10)"
   ]
  },
  {
   "cell_type": "code",
   "execution_count": 346,
   "metadata": {},
   "outputs": [],
   "source": [
    "ltl = make_tnorm_log(3, 4.5)"
   ]
  },
  {
   "cell_type": "code",
   "execution_count": 347,
   "metadata": {},
   "outputs": [
    {
     "data": {
      "text/plain": [
       "[3.679009214055215,\n",
       " 3.882277129006833,\n",
       " 3.6567346885792933,\n",
       " 2.5300517542673773,\n",
       " 3.5919560927166274,\n",
       " 3.318513173423832,\n",
       " 2.285994509292854,\n",
       " 2.5615517093657583,\n",
       " 2.598158204949849,\n",
       " 2.208518562683808]"
      ]
     },
     "execution_count": 347,
     "metadata": {},
     "output_type": "execute_result"
    }
   ],
   "source": [
    "[exp(v) for v in ltl.rvs(10)]"
   ]
  },
  {
   "cell_type": "markdown",
   "metadata": {},
   "source": [
    "## Try another idea"
   ]
  },
  {
   "cell_type": "markdown",
   "metadata": {},
   "source": [
    "Let's change our vote world from 1/9 - 9 (or -9...,-2, 1,2,3,...9) into something easier to randomly work with.\n",
    "\n",
    "Let's [-8, 8] and then if value is < 0, multiply by -1, add 1, and then invert.\n",
    "\n",
    "Otherwise we just add 1.\n",
    "\n",
    "We call this L-scale (for linear) and M-scale is the standard multiplication.  We need a converter"
   ]
  },
  {
   "cell_type": "code",
   "execution_count": 348,
   "metadata": {},
   "outputs": [],
   "source": [
    "def ascale_mscale(val):\n",
    "    if val < 0:\n",
    "        val = -val\n",
    "        val += 1\n",
    "        val = 1.0/val\n",
    "        return val\n",
    "    else:\n",
    "        return val+1\n",
    "    \n",
    "def mscale_ascale(val):\n",
    "    if val == 0:\n",
    "        return None\n",
    "    elif val >= 1:\n",
    "        return val - 1\n",
    "    else:\n",
    "        val = 1/val\n",
    "        val = val-1\n",
    "        return -val"
   ]
  },
  {
   "cell_type": "code",
   "execution_count": 349,
   "metadata": {},
   "outputs": [
    {
     "data": {
      "text/plain": [
       "0.5"
      ]
     },
     "execution_count": 349,
     "metadata": {},
     "output_type": "execute_result"
    }
   ],
   "source": [
    "ascale_mscale(-1)"
   ]
  },
  {
   "cell_type": "code",
   "execution_count": 350,
   "metadata": {},
   "outputs": [],
   "source": [
    "class LScaleToMScaleDist:\n",
    "    def __init__(self, distrib, name):\n",
    "        self.distrib = distrib\n",
    "        self.name = name\n",
    "    \n",
    "    def rvs(self, size=0):\n",
    "        rval = self.distrib.rvs(size=size)\n",
    "        for i in range(len(rval)):\n",
    "            rval[i] = ascale_mscale(rval[i])\n",
    "        return rval\n",
    "    \n",
    "    def mean(self):\n",
    "        return lscale_mscale(self.distrib.mean())\n",
    "    \n",
    "    def __str__(self):\n",
    "        return self.name\n",
    "\n",
    "def plot_sim(rval, alt_names, idealize=False):\n",
    "    if len(rval.shape) == 1:\n",
    "        if idealize:\n",
    "            rval = rval / max(rval)\n",
    "        df = pd.DataFrame({'alts': alt_names, 'val':rval})\n",
    "        return  df.plot.bar(x='alts', y='val', rot=0)\n",
    "    else:\n",
    "        if idealize:\n",
    "            rval = (rval.transpose() / rval.max(axis=1)).transpose()\n",
    "        prisdf = pd.DataFrame(data=rval, columns=alt_names)\n",
    "        prismean = rval.mean(axis=0)\n",
    "        #print(prismean)\n",
    "        meandf = pd.DataFrame({'alts':alt_names, 'val':prismean})\n",
    "        fig, ax = plt.subplots()\n",
    "        ax2=ax.twiny()\n",
    "        ax2.set_xticks([])\n",
    "        ax.set_xticks([])\n",
    "        meandf.plot.bar(x='alts', y='val', alpha=0.6, ax=ax)\n",
    "        #meandf.plot.bar(x='alts', y='val', alpha=0.6)\n",
    "        prisdf.boxplot(ax=ax2)\n",
    "        #prisdf.boxplot()\n",
    "        plt.show()\n",
    "    \n",
    "class RPairwiseMatrix:\n",
    "    def __init__(self, size):\n",
    "        self.VOTES = [TRI_1, TRI_2,TRI_3, TRI_4, TRI_5, TRI_6, TRI_7, TRI_8, TRI_9]\n",
    "        self.size = size\n",
    "        self.matrix = np.empty([size, size], dtype=object)\n",
    "        for i in range(size):\n",
    "            self.matrix[i,i] = 1.0\n",
    "            \n",
    "    @staticmethod\n",
    "    def from_lscale_nparray(arr):\n",
    "        size=len(arr)\n",
    "        rval = RPairwiseMatrix(size)\n",
    "        for row in range(size):\n",
    "            for col in range(row+1, size):\n",
    "                if arr[row,col] != 0:\n",
    "                    rval.set_lscale(row, col, arr[row, col])\n",
    "        return rval\n",
    "    \n",
    "    @staticmethod\n",
    "    def from_mscale_nparray(arr):\n",
    "        size=len(arr)\n",
    "        rval = RPairwiseMatrix(size)\n",
    "        for row in range(size):\n",
    "            for col in range(row+1, size):\n",
    "                if arr[row,col] != 0:\n",
    "                    if arr[row,col] >= 1:\n",
    "                        rval.set_lscale(row, col, int(np.round(arr[row, col])-1))\n",
    "                    else:\n",
    "                        val = 1/arr[row,col]\n",
    "                        rval.set_lscale(col, row, int(-(np.round(val)-1)))\n",
    "        return rval\n",
    "    \n",
    "    def set_lscale(self, row, col, val):\n",
    "        if isinstance(val, (int, np.int, np.int16, np.int32, np.int64)):\n",
    "            if val < 0:\n",
    "                tmp = row\n",
    "                row = col\n",
    "                col = tmp\n",
    "                val = -val\n",
    "            data = self.VOTES[val - 1]\n",
    "            self.matrix[row,col]=data\n",
    "            self.matrix[col,row] = None\n",
    "        elif isinstance(val, (float, np.float, np.float16, np.float32, np.float64, np.float128)):\n",
    "            if val < 0:\n",
    "                tmp = row\n",
    "                row = col\n",
    "                col = tmp\n",
    "                val = -val\n",
    "            self.matrix[row, col] = triang(c=0.5, loc=(val-1.5), scale=3)\n",
    "            self.matrix[col,row] = None\n",
    "        else:\n",
    "            raise Exception(\"Unknown type \"+type(val))\n",
    "        \n",
    "    def sim(self, size=1):\n",
    "        if size > 1:\n",
    "            # We want a list of these things\n",
    "            return [self.sim(size=1) for i in range(size)]\n",
    "        rval = np.identity(self.size)\n",
    "        for row in range(self.size):\n",
    "            for col in range(row+1, self.size):\n",
    "                data = 0\n",
    "                if self.matrix[row, col] is not None:\n",
    "                    data = self.matrix[row, col].rvs(size=1)[0]\n",
    "                    if data >= 0:\n",
    "                        data = data + 1\n",
    "                    else:\n",
    "                        data = 1.0/(-data+1)\n",
    "                    rval[row, col] = data\n",
    "                    if data != 0:\n",
    "                        rval[col, row]=1.0/data\n",
    "                elif self.matrix[col, row] is not None:\n",
    "                    data = self.matrix[col, row].rvs(size=1)[0]\n",
    "                    rval[col, row] = data\n",
    "                    if data != 0:\n",
    "                        rval[row, col]=1.0/data\n",
    "        return rval\n",
    "    \n",
    "    def alt_names(self):\n",
    "        return ['alt '+str(i) for i in range(1, self.size+1)]\n",
    "    \n",
    "    def sim_priority(self, size=1):\n",
    "        mats = self.sim(size)\n",
    "        if size == 1:\n",
    "            rval = priority.pri_eigen(mats)\n",
    "            return rval\n",
    "        else:\n",
    "            rval = np.array([priority.pri_eigen(mat) for mat in mats])\n",
    "            return rval\n",
    "                \n",
    "                \n",
    "\n",
    "        "
   ]
  },
  {
   "cell_type": "code",
   "execution_count": 351,
   "metadata": {},
   "outputs": [],
   "source": [
    "TRI_1=LScaleToMScaleDist(triang(c=0.5, loc=-1, scale=2), \"triangular 1\")\n",
    "TRI_2=LScaleToMScaleDist(triang(c=0.5, loc=-0.25, scale=2.5), \"triangular 2\")\n",
    "TRI_3=LScaleToMScaleDist(triang(c=0.5, loc=0.5, scale=3), \"triangular 3\")\n",
    "TRI_4=LScaleToMScaleDist(triang(c=0.5, loc=1.5, scale=3), \"triangular 4\")\n",
    "TRI_5=LScaleToMScaleDist(triang(c=0.5, loc=2.5, scale=3), \"triangular 5\")\n",
    "TRI_6=LScaleToMScaleDist(triang(c=0.5, loc=3.5, scale=3), \"triangular 6\")\n",
    "TRI_7=LScaleToMScaleDist(triang(c=0.5, loc=4.5, scale=3), \"triangular 7\")\n",
    "TRI_8=LScaleToMScaleDist(triang(c=0.5, loc=5.5, scale=3), \"triangular 8\")\n",
    "TRI_9=LScaleToMScaleDist(triang(c=0.5, loc=6.5, scale=3), \"triangular 9\")"
   ]
  },
  {
   "cell_type": "code",
   "execution_count": 352,
   "metadata": {},
   "outputs": [
    {
     "data": {
      "text/plain": [
       "array([1.44510626, 0.67091036, 1.81535958, 1.45594819, 0.9320103 ,\n",
       "       0.58299207, 0.85554791, 1.87254428, 0.69373567, 0.72225536])"
      ]
     },
     "execution_count": 352,
     "metadata": {},
     "output_type": "execute_result"
    }
   ],
   "source": [
    "TRI_1.rvs(10)"
   ]
  },
  {
   "cell_type": "code",
   "execution_count": 353,
   "metadata": {},
   "outputs": [
    {
     "data": {
      "text/plain": [
       "array([1.28447839, 2.6007304 , 2.90507383, 2.21664017, 1.65507776,\n",
       "       1.30847552, 1.40821655, 2.03084268, 1.82599626, 1.77851232])"
      ]
     },
     "execution_count": 353,
     "metadata": {},
     "output_type": "execute_result"
    }
   ],
   "source": [
    "TRI_2.rvs(10)"
   ]
  },
  {
   "cell_type": "code",
   "execution_count": 354,
   "metadata": {},
   "outputs": [],
   "source": [
    "pw = RPairwiseMatrix(4)"
   ]
  },
  {
   "cell_type": "code",
   "execution_count": 355,
   "metadata": {},
   "outputs": [
    {
     "data": {
      "text/plain": [
       "array([[1.0, None, None, None],\n",
       "       [None, 1.0, None, None],\n",
       "       [None, None, 1.0, None],\n",
       "       [None, None, None, 1.0]], dtype=object)"
      ]
     },
     "execution_count": 355,
     "metadata": {},
     "output_type": "execute_result"
    }
   ],
   "source": [
    "pw.matrix"
   ]
  },
  {
   "cell_type": "code",
   "execution_count": 356,
   "metadata": {},
   "outputs": [],
   "source": [
    "pw.set_lscale(0,1, 2)\n",
    "pw.set_lscale(1,2, 3)\n",
    "pw.set_lscale(2,3, 4)\n",
    "pw.set_lscale(0, 2, 4)\n",
    "pw.set_lscale(1, 3, 5)"
   ]
  },
  {
   "cell_type": "code",
   "execution_count": 357,
   "metadata": {},
   "outputs": [
    {
     "data": {
      "text/plain": [
       "[array([[1.        , 2.79503504, 4.89779364, 0.        ],\n",
       "        [0.35777727, 1.        , 4.00345762, 5.70824228],\n",
       "        [0.20417357, 0.24978409, 1.        , 4.18725997],\n",
       "        [0.        , 0.17518528, 0.23881966, 1.        ]]),\n",
       " array([[1.        , 3.41494295, 5.15416869, 0.        ],\n",
       "        [0.29283066, 1.        , 3.95394643, 5.51742324],\n",
       "        [0.19401771, 0.25291187, 1.        , 5.76136506],\n",
       "        [0.        , 0.18124403, 0.17356998, 1.        ]]),\n",
       " array([[1.        , 3.62997907, 4.2335175 , 0.        ],\n",
       "        [0.27548368, 1.        , 4.05127059, 5.77531961],\n",
       "        [0.2362102 , 0.24683614, 1.        , 4.86684908],\n",
       "        [0.        , 0.17315059, 0.20547175, 1.        ]]),\n",
       " array([[1.        , 2.5396615 , 4.74712904, 0.        ],\n",
       "        [0.39375326, 1.        , 4.44099105, 7.27227339],\n",
       "        [0.21065364, 0.22517496, 1.        , 4.65583801],\n",
       "        [0.        , 0.13750858, 0.2147841 , 1.        ]]),\n",
       " array([[1.        , 2.91434066, 5.61851693, 0.        ],\n",
       "        [0.34313079, 1.        , 4.10475978, 4.69423804],\n",
       "        [0.17798291, 0.24361962, 1.        , 4.66385533],\n",
       "        [0.        , 0.21302712, 0.21441488, 1.        ]])]"
      ]
     },
     "execution_count": 357,
     "metadata": {},
     "output_type": "execute_result"
    }
   ],
   "source": [
    "pw.sim(size=5)"
   ]
  },
  {
   "cell_type": "code",
   "execution_count": 358,
   "metadata": {},
   "outputs": [],
   "source": [
    "m=pw.sim()"
   ]
  },
  {
   "cell_type": "code",
   "execution_count": 359,
   "metadata": {},
   "outputs": [
    {
     "data": {
      "text/plain": [
       "array([[1.        , 3.14289931, 4.50200377, 0.        ],\n",
       "       [0.31817755, 1.        , 4.817158  , 5.56121306],\n",
       "       [0.22212331, 0.20759128, 1.        , 5.45207335],\n",
       "       [0.        , 0.17981688, 0.18341646, 1.        ]])"
      ]
     },
     "metadata": {},
     "output_type": "display_data"
    },
    {
     "data": {
      "text/plain": [
       "array([1.        , 3.14289931, 4.817158  , 5.56121306])"
      ]
     },
     "execution_count": 359,
     "metadata": {},
     "output_type": "execute_result"
    }
   ],
   "source": [
    "display(m)\n",
    "m.max(axis=0)"
   ]
  },
  {
   "cell_type": "code",
   "execution_count": 360,
   "metadata": {},
   "outputs": [
    {
     "data": {
      "text/plain": [
       "array([0.48279228, 0.36642345, 0.11929416, 0.03149011])"
      ]
     },
     "execution_count": 360,
     "metadata": {},
     "output_type": "execute_result"
    }
   ],
   "source": [
    "pw.sim_priority()"
   ]
  },
  {
   "cell_type": "code",
   "execution_count": 361,
   "metadata": {},
   "outputs": [
    {
     "data": {
      "text/plain": [
       "<matplotlib.axes._subplots.AxesSubplot at 0x7f1f77b7d4a8>"
      ]
     },
     "execution_count": 361,
     "metadata": {},
     "output_type": "execute_result"
    },
    {
     "data": {
      "image/png": "[encoded data removed]",
      "text/plain": [
       "<Figure size 720x432 with 1 Axes>"
      ]
     },
     "metadata": {},
     "output_type": "display_data"
    }
   ],
   "source": [
    "pris = pw.sim_priority(10)\n",
    "prisdf = pd.DataFrame(data=pris, columns=[\"A1\", \"A2\", \"A3\", \"A4\"])\n",
    "prisdf.boxplot()"
   ]
  },
  {
   "cell_type": "code",
   "execution_count": 362,
   "metadata": {},
   "outputs": [
    {
     "data": {
      "text/plain": [
       "array([0.55847163, 0.29828358, 0.1201798 , 0.02306499])"
      ]
     },
     "execution_count": 362,
     "metadata": {},
     "output_type": "execute_result"
    }
   ],
   "source": [
    "pw.sim_priority(1)"
   ]
  },
  {
   "cell_type": "code",
   "execution_count": 363,
   "metadata": {},
   "outputs": [
    {
     "data": {
      "text/plain": [
       "<matplotlib.axes._subplots.AxesSubplot at 0x7f1f77ee6828>"
      ]
     },
     "execution_count": 363,
     "metadata": {},
     "output_type": "execute_result"
    },
    {
     "data": {
      "image/png": "[encoded data removed]",
      "text/plain": [
       "<Figure size 720x432 with 1 Axes>"
      ]
     },
     "metadata": {},
     "output_type": "display_data"
    }
   ],
   "source": [
    "v=pw.sim_priority(1)\n",
    "plot_sim(v, pw.alt_names())"
   ]
  },
  {
   "cell_type": "code",
   "execution_count": 364,
   "metadata": {},
   "outputs": [
    {
     "data": {
      "image/png": "[encoded data removed]",
      "text/plain": [
       "<Figure size 720x432 with 2 Axes>"
      ]
     },
     "metadata": {},
     "output_type": "display_data"
    }
   ],
   "source": [
    "v=pw.sim_priority(size=200)\n",
    "plot_sim(v, pw.alt_names())"
   ]
  },
  {
   "cell_type": "code",
   "execution_count": 365,
   "metadata": {},
   "outputs": [
    {
     "data": {
      "image/png": "[encoded data removed]",
      "text/plain": [
       "<Figure size 720x432 with 2 Axes>"
      ]
     },
     "metadata": {},
     "output_type": "display_data"
    }
   ],
   "source": [
    "plot_sim(v, pw.alt_names(), idealize=True)"
   ]
  },
  {
   "cell_type": "code",
   "execution_count": 366,
   "metadata": {
    "scrolled": true
   },
   "outputs": [
    {
     "data": {
      "text/plain": [
       "array([[0.3877937 , 0.47488371, 0.13732258],\n",
       "       [0.41909134, 0.45123762, 0.12967104],\n",
       "       [0.44568694, 0.44490282, 0.10941024],\n",
       "       [0.4905813 , 0.39739165, 0.11202705],\n",
       "       [0.40173575, 0.46232048, 0.13594378],\n",
       "       [0.34497848, 0.54814877, 0.10687275],\n",
       "       [0.38913914, 0.48758017, 0.1232807 ],\n",
       "       [0.42152183, 0.47301944, 0.10545873],\n",
       "       [0.39543154, 0.47317723, 0.13139122],\n",
       "       [0.33079407, 0.54779685, 0.12140908],\n",
       "       [0.34468245, 0.54196846, 0.11334909],\n",
       "       [0.4332779 , 0.46031938, 0.10640271],\n",
       "       [0.43739745, 0.44543372, 0.11716882],\n",
       "       [0.44171176, 0.43558546, 0.12270278],\n",
       "       [0.32308963, 0.53633179, 0.14057858],\n",
       "       [0.36705842, 0.51639944, 0.11654214],\n",
       "       [0.39424054, 0.48204137, 0.12371809],\n",
       "       [0.42599027, 0.45662754, 0.11738219],\n",
       "       [0.3184981 , 0.57473792, 0.10676398],\n",
       "       [0.46800781, 0.41512313, 0.11686906]])"
      ]
     },
     "execution_count": 366,
     "metadata": {},
     "output_type": "execute_result"
    }
   ],
   "source": [
    "apw = np.array([\n",
    "    [0, -1, 2],\n",
    "    [-1., 0, 4],\n",
    "    [-2, -4., 0]\n",
    "], dtype=int)\n",
    "arpw = RPairwiseMatrix.from_lscale_nparray(apw)\n",
    "arpw.sim_priority(20)"
   ]
  },
  {
   "cell_type": "code",
   "execution_count": 367,
   "metadata": {},
   "outputs": [],
   "source": [
    "mpw = np.array([\n",
    "    [1, 2, 3],\n",
    "    [1/2, 1, 5],\n",
    "    [1/3, 1/5, 1]\n",
    "])\n",
    "mrpw = RPairwiseMatrix.from_mscale_nparray(mpw)"
   ]
  },
  {
   "cell_type": "code",
   "execution_count": 368,
   "metadata": {},
   "outputs": [
    {
     "data": {
      "text/plain": [
       "array([[1.        , 2.23353078, 3.44749215],\n",
       "       [0.44772161, 1.        , 5.36430265],\n",
       "       [0.29006593, 0.18641752, 1.        ]])"
      ]
     },
     "execution_count": 368,
     "metadata": {},
     "output_type": "execute_result"
    }
   ],
   "source": [
    "mrpw.sim()"
   ]
  },
  {
   "cell_type": "code",
   "execution_count": 369,
   "metadata": {},
   "outputs": [
    {
     "data": {
      "text/plain": [
       "array([[0.53125667, 0.36879107, 0.09995226],\n",
       "       [0.44705906, 0.44131146, 0.11162948],\n",
       "       [0.48796163, 0.38866168, 0.12337669],\n",
       "       [0.47004243, 0.40138575, 0.12857182],\n",
       "       [0.55015411, 0.33983347, 0.11001242],\n",
       "       [0.53987557, 0.33998258, 0.12014186],\n",
       "       [0.49999967, 0.3849579 , 0.11504243],\n",
       "       [0.49197965, 0.41295417, 0.09506619],\n",
       "       [0.50217205, 0.36975502, 0.12807293],\n",
       "       [0.47731506, 0.4100473 , 0.11263764],\n",
       "       [0.4807085 , 0.39875432, 0.12053718],\n",
       "       [0.45430379, 0.40643695, 0.13925926],\n",
       "       [0.48090958, 0.41412979, 0.10496063],\n",
       "       [0.51590265, 0.34742812, 0.13666923],\n",
       "       [0.49033187, 0.38054494, 0.12912319],\n",
       "       [0.51592001, 0.38117452, 0.10290546],\n",
       "       [0.49992086, 0.38167872, 0.11840042],\n",
       "       [0.49575333, 0.38298241, 0.12126426],\n",
       "       [0.50287129, 0.3887302 , 0.10839852],\n",
       "       [0.51221446, 0.37989353, 0.10789201]])"
      ]
     },
     "execution_count": 369,
     "metadata": {},
     "output_type": "execute_result"
    }
   ],
   "source": [
    "mrpw.sim_priority(20)"
   ]
  },
  {
   "cell_type": "markdown",
   "metadata": {},
   "source": [
    "# Another idea\n",
    "Here we have the pariwise comparison matrix class storing everything in LinearScale and only converting to ExponentialScale when we do the simulation"
   ]
  },
  {
   "cell_type": "code",
   "execution_count": 370,
   "metadata": {},
   "outputs": [],
   "source": [
    "class RandLScalePwMatrix:\n",
    "    VOTES = [\n",
    "        triang(c=0.5, loc=-1, scale=2), #Triangle about 0\n",
    "        triang(c=0.5, loc=-0.25, scale=2.5), #Triangle about 1\n",
    "        triang(c=0.5, loc=0.5, scale=3), #Triangle about 2\n",
    "        triang(c=0.5, loc=1.5, scale=3), #Triangle about 3\n",
    "        triang(c=0.5, loc=2.5, scale=3), #Triangle about 4\n",
    "        triang(c=0.5, loc=3.5, scale=3), #Triangle about 5\n",
    "        triang(c=0.5, loc=4.5, scale=3), #Triangle about 6\n",
    "        triang(c=0.5, loc=5.5, scale=3), #Triangle about 7\n",
    "        triang(c=0.5, loc=6.5, scale=3), #Triangle about 8\n",
    "        triang(c=0.5, loc=7.5, scale=3), #Triangle about 9\n",
    "    ]\n",
    "    \n",
    "    def __init__(self, size):\n",
    "        self.size = size\n",
    "        self.matrix = np.empty([size, size], dtype=object)\n",
    "        for i in range(size):\n",
    "            self.matrix[i,i] = 1.0\n",
    "            \n",
    "    @staticmethod\n",
    "    def from_nparray(arr):\n",
    "        size=len(arr)\n",
    "        rval = RandLScalePwMatrix(size)\n",
    "        for row in range(size):\n",
    "            for col in range(row+1, size):\n",
    "                if arr[row,col] != 0:\n",
    "                    rval.set(row, col, arr[row, col])\n",
    "        return rval\n",
    "    \n",
    "    @staticmethod\n",
    "    def from_mscale_nparray(arr):\n",
    "        size=len(arr)\n",
    "        rval = RandLScalePwMatrix(size)\n",
    "        for row in range(size):\n",
    "            for col in range(row+1, size):\n",
    "                if arr[row, col]!=0:\n",
    "                    rval.setm(row, col, arr[row, col])\n",
    "        return rval\n",
    "    \n",
    "    def setm(self, row, col, multiplicative_value):\n",
    "        val = mscale_ascale(multiplicative_value)\n",
    "        print(\"mval=\"+str(multiplicative_value)+\" addval=\"+str(val))\n",
    "        self.set(row, col, val)\n",
    "        \n",
    "    def set(self, row, col, val):\n",
    "        rnd_val = int(np.round(val))\n",
    "        if (np.abs(rnd_val - val) < 1e-10):\n",
    "            #We have essentially an integer vote\n",
    "            if val < 0:\n",
    "                tmp = row\n",
    "                row = col\n",
    "                col = tmp\n",
    "                rnd_val = -rnd_val\n",
    "            data = RandLScalePwMatrix.VOTES[rnd_val]\n",
    "            self.matrix[row,col]=data\n",
    "            self.matrix[col,row] = None\n",
    "        else:\n",
    "            #Floating point vote\n",
    "            if val < 0:\n",
    "                tmp = row\n",
    "                row = col\n",
    "                col = tmp\n",
    "                val = -val\n",
    "            self.matrix[row, col] = triang(c=0.5, loc=(val-1.5), scale=3)\n",
    "            self.matrix[col,row] = None\n",
    "        \n",
    "    def sim(self, size=1):\n",
    "        if size > 1:\n",
    "            # We want a list of these things\n",
    "            return [self.sim(size=1) for i in range(size)]\n",
    "        rval = np.identity(self.size)\n",
    "        for row in range(self.size):\n",
    "            for col in range(row+1, self.size):\n",
    "                data = 0\n",
    "                if self.matrix[row, col] is not None:\n",
    "                    data = self.matrix[row, col].rvs(size=1)[0]\n",
    "                    data = ascale_mscale(data)\n",
    "                    rval[row, col] = data\n",
    "                    if data != 0:\n",
    "                        rval[col, row]=1.0/data\n",
    "                elif self.matrix[col, row] is not None:\n",
    "                    data = self.matrix[col, row].rvs(size=1)[0]\n",
    "                    data = ascale_mscale(data)\n",
    "                    rval[col, row] = data\n",
    "                    if data != 0:\n",
    "                        rval[row, col]=1.0/data\n",
    "        return rval\n",
    "    \n",
    "    def alt_names(self):\n",
    "        return ['alt '+str(i) for i in range(1, self.size+1)]\n",
    "    \n",
    "    def sim_priority(self, size=1):\n",
    "        mats = self.sim(size)\n",
    "        if size == 1:\n",
    "            rval = priority.pri_eigen(mats)\n",
    "            return rval\n",
    "        else:\n",
    "            rval = np.array([priority.pri_eigen(mat) for mat in mats])\n",
    "            return rval\n",
    "                "
   ]
  },
  {
   "cell_type": "code",
   "execution_count": 371,
   "metadata": {},
   "outputs": [],
   "source": [
    "rmls = RandLScalePwMatrix(3)"
   ]
  },
  {
   "cell_type": "code",
   "execution_count": 372,
   "metadata": {},
   "outputs": [],
   "source": [
    "rmls.set(0,1, 1)\n",
    "rmls.set(1,2, 2)\n",
    "rmls.set(0,2, 3)"
   ]
  },
  {
   "cell_type": "code",
   "execution_count": 373,
   "metadata": {},
   "outputs": [
    {
     "data": {
      "image/png": "[encoded data removed]",
      "text/plain": [
       "<Figure size 720x432 with 2 Axes>"
      ]
     },
     "metadata": {},
     "output_type": "display_data"
    }
   ],
   "source": [
    "pris = rmls.sim_priority(1000)\n",
    "plot_sim(pris, ['Observation', 'Hemi-thyroidectomy', 'Thyroidectomy'], idealize=True)"
   ]
  },
  {
   "cell_type": "code",
   "execution_count": 374,
   "metadata": {},
   "outputs": [
    {
     "name": "stdout",
     "output_type": "stream",
     "text": [
      "mval=2.0 addval=1.0\n",
      "mval=0.3333333333333333 addval=-2.0\n",
      "mval=3.0 addval=2.0\n"
     ]
    }
   ],
   "source": [
    "r2 = RandLScalePwMatrix.from_mscale_nparray(np.array([\n",
    "    [1, 2, 1/3.],\n",
    "    [1/2, 1, 3],\n",
    "    [3, 1/3, 1]\n",
    "]))"
   ]
  },
  {
   "cell_type": "code",
   "execution_count": 42,
   "metadata": {},
   "outputs": [
    {
     "name": "stdout",
     "output_type": "stream",
     "text": [
      "[0.7412372  0.9753208  0.85076374]\n"
     ]
    },
    {
     "data": {
      "image/png": "[encoded data removed]",
      "text/plain": [
       "<Figure size 432x288 with 3 Axes>"
      ]
     },
     "metadata": {},
     "output_type": "display_data"
    }
   ],
   "source": [
    "plot_sim(r2.sim_priority(200), r2.alt_names(), idealize=True)"
   ]
  },
  {
   "cell_type": "code",
   "execution_count": 43,
   "metadata": {},
   "outputs": [
    {
     "data": {
      "text/plain": [
       "2.0"
      ]
     },
     "execution_count": 43,
     "metadata": {},
     "output_type": "execute_result"
    }
   ],
   "source": [
    "r2.matrix[2,0].median()"
   ]
  },
  {
   "cell_type": "code",
   "execution_count": 44,
   "metadata": {},
   "outputs": [
    {
     "data": {
      "text/plain": [
       "array([[1.0,\n",
       "        <scipy.stats._distn_infrastructure.rv_frozen object at 0x7f1f788c77f0>,\n",
       "        None],\n",
       "       [None, 1.0,\n",
       "        <scipy.stats._distn_infrastructure.rv_frozen object at 0x7f1f788c7908>],\n",
       "       [<scipy.stats._distn_infrastructure.rv_frozen object at 0x7f1f788c7908>,\n",
       "        None, 1.0]], dtype=object)"
      ]
     },
     "execution_count": 44,
     "metadata": {},
     "output_type": "execute_result"
    }
   ],
   "source": [
    "r2.matrix"
   ]
  },
  {
   "cell_type": "code",
   "execution_count": 45,
   "metadata": {},
   "outputs": [],
   "source": [
    "'''\n",
    "Group pairwise object and calculations.  See :py:mod:`pyanp.priority` for\n",
    "all methods of calculating priorities from a pairwise comparison matrix\n",
    "in addition to inconsistency calculations.\n",
    "'''\n",
    "\n",
    "import numpy as np\n",
    "import pandas as pd\n",
    "from pyanp.priority import incon_std\n",
    "from pyanp.general import islist, matrix_as_df\n",
    "from pyanp.prioritizer import Prioritizer, PriorityType\n",
    "from pyanp.priority import pri_eigen\n",
    "from copy import deepcopy\n",
    "import re\n",
    "\n"
   ]
  }
 ],
 "metadata": {
  "kernelspec": {
   "display_name": "Python 3",
   "language": "python",
   "name": "python3"
  },
  "language_info": {
   "codemirror_mode": {
    "name": "ipython",
    "version": 3
   },
   "file_extension": ".py",
   "mimetype": "text/x-python",
   "name": "python",
   "nbconvert_exporter": "python",
   "pygments_lexer": "ipython3",
   "version": "3.6.5"
  },
  "toc": {
   "base_numbering": 1,
   "nav_menu": {},
   "number_sections": true,
   "sideBar": true,
   "skip_h1_title": false,
   "title_cell": "Table of Contents",
   "title_sidebar": "Contents",
   "toc_cell": false,
   "toc_position": {},
   "toc_section_display": true,
   "toc_window_display": false
  }
 },
 "nbformat": 4,
 "nbformat_minor": 2
}
